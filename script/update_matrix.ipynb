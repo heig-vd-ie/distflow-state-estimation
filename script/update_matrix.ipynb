{
 "cells": [
  {
   "cell_type": "code",
   "execution_count": 1,
   "metadata": {},
   "outputs": [],
   "source": [
    "import polars as pl\n",
    "from polars import col as c\n",
    "\n",
    "from state_estimation.matrix_generators import generate_full_jacobian_matrix\n",
    "from distflow_schema import DistFlowSchema"
   ]
  },
  {
   "cell_type": "code",
   "execution_count": 2,
   "metadata": {},
   "outputs": [],
   "source": [
    "edge_data = pl.read_csv(\"../data/lineData.csv\").with_columns(\n",
    "    pl.lit(\"branch\").alias(\"type\"),\n",
    "    (-c(\"b_pu\")).alias(\"b_pu\"),\n",
    "    pl.lit(0.0).alias(\"g_pu\"),\n",
    "    pl.lit(1.0).alias(\"n_transfo\"),\n",
    ")\n",
    "\n",
    "distflow_schema:DistFlowSchema = DistFlowSchema()\n",
    "\n",
    "distflow_schema = distflow_schema.add_table(edge_data=edge_data)\n",
    "\n",
    "h = generate_full_jacobian_matrix(distflow_schema=distflow_schema, slack_node_id=0)"
   ]
  },
  {
   "cell_type": "markdown",
   "metadata": {},
   "source": [
    "line_data"
   ]
  }
 ],
 "metadata": {
  "kernelspec": {
   "display_name": ".venv",
   "language": "python",
   "name": "python3"
  },
  "language_info": {
   "codemirror_mode": {
    "name": "ipython",
    "version": 3
   },
   "file_extension": ".py",
   "mimetype": "text/x-python",
   "name": "python",
   "nbconvert_exporter": "python",
   "pygments_lexer": "ipython3",
   "version": "3.12.7"
  }
 },
 "nbformat": 4,
 "nbformat_minor": 2
}
