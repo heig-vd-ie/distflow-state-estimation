{
 "cells": [
  {
   "cell_type": "code",
   "execution_count": 1,
   "metadata": {},
   "outputs": [],
   "source": [
    "import json\n",
    "from config import settings\n",
    "import os\n",
    "\n",
    "\n",
    "import polars as pl\n",
    "from polars import col as c\n",
    "from polars import selectors as cs\n",
    "import networkx as nx\n",
    "from networkx_function import generate_nx_edge\n",
    "from typing_extensions import Union\n",
    "import numpy as np\n",
    "import scipy as sp\n",
    "\n",
    "# from distflow_algorithm import DistFlow\n",
    "import time\n",
    "import pandapower as pp\n",
    "import pandapower.networks as pn\n",
    "from polars_function import (\n",
    "    get_transfo_admittance,\n",
    "    get_transfo_impedance,\n",
    "    get_transfo_conductance,\n",
    "    get_transfo_imaginary_component,\n",
    ")\n",
    "\n",
    "from data_connector import pandapower_to_distflow\n",
    "from general_function import duckdb_to_dict, dict_to_duckdb, pl_to_dict\n",
    "from networkx_function import get_all_edge_data, generate_shortest_path_length_matrix\n",
    "import graphblas as gb\n",
    "from utility.parser_utility import duckdb_to_changes_schema\n",
    "\n",
    "\n",
    "# Useless outside jupiternotebook because in settings.py a line that changes the directory to src for ipynb\n",
    "os.chdir(os.getcwd().replace(\"/src\", \"\"))"
   ]
  },
  {
   "cell_type": "markdown",
   "metadata": {},
   "source": [
    "## Import Schema from duckdb"
   ]
  },
  {
   "cell_type": "code",
   "execution_count": 2,
   "metadata": {},
   "outputs": [
    {
     "name": "stderr",
     "output_type": "stream",
     "text": [
      "Read and validate tables from matlab_grid.db file: 100%|████████████████████████████████████████████████████████████████| 1/1 [00:01<00:00,  1.08s/it]\n"
     ]
    },
    {
     "data": {
      "text/plain": [
       "['heartbeat',\n",
       " 'resource',\n",
       " 'equipment',\n",
       " 'terminal',\n",
       " 'busbar_section',\n",
       " 'branch',\n",
       " 'branch_parameter_event',\n",
       " 'geo_event',\n",
       " 'switch',\n",
       " 'switch_event',\n",
       " 'transformer',\n",
       " 'transformer_end',\n",
       " 'transformer_parameter_event',\n",
       " 'tap',\n",
       " 'tap_event',\n",
       " 'bess',\n",
       " 'energy_consumer',\n",
       " 'external_network',\n",
       " 'generating_unit',\n",
       " 'container',\n",
       " 'client',\n",
       " 'substation',\n",
       " 'base_voltage',\n",
       " 'connectivity_node',\n",
       " 'connectivity',\n",
       " 'measurement',\n",
       " 'measurement_point',\n",
       " 'measurement_span']"
      ]
     },
     "execution_count": 2,
     "metadata": {},
     "output_type": "execute_result"
    }
   ],
   "source": [
    "file_names: dict[str, str] = json.load(open(settings.INPUT_FILE_NAMES))\n",
    "changes_schema = duckdb_to_changes_schema(file_path=file_names[\"duckdb_output\"])\n",
    "list(changes_schema.__dict__.keys())"
   ]
  },
  {
   "cell_type": "code",
   "execution_count": 3,
   "metadata": {},
   "outputs": [
    {
     "data": {
      "text/html": [
       "<div><style>\n",
       ".dataframe > thead > tr,\n",
       ".dataframe > tbody > tr {\n",
       "  text-align: right;\n",
       "  white-space: pre-wrap;\n",
       "}\n",
       "</style>\n",
       "<small>shape: (1, 4)</small><table border=\"1\" class=\"dataframe\"><thead><tr><th>diff</th><th>uuid</th><th>r_eq</th><th>x_eq</th></tr><tr><td>str</td><td>str</td><td>f64</td><td>f64</td></tr></thead><tbody><tr><td>&quot;+&quot;</td><td>&quot;0ca10b42-0d56-5938-ad8e-cfa99b…</td><td>0.0</td><td>0.0</td></tr></tbody></table></div>"
      ],
      "text/plain": [
       "shape: (1, 4)\n",
       "┌──────┬─────────────────────────────────┬──────┬──────┐\n",
       "│ diff ┆ uuid                            ┆ r_eq ┆ x_eq │\n",
       "│ ---  ┆ ---                             ┆ ---  ┆ ---  │\n",
       "│ str  ┆ str                             ┆ f64  ┆ f64  │\n",
       "╞══════╪═════════════════════════════════╪══════╪══════╡\n",
       "│ +    ┆ 0ca10b42-0d56-5938-ad8e-cfa99b… ┆ 0.0  ┆ 0.0  │\n",
       "└──────┴─────────────────────────────────┴──────┴──────┘"
      ]
     },
     "execution_count": 3,
     "metadata": {},
     "output_type": "execute_result"
    }
   ],
   "source": [
    "changes_schema.external_network"
   ]
  },
  {
   "cell_type": "markdown",
   "metadata": {},
   "source": [
    "## Filter data and create line_data"
   ]
  },
  {
   "cell_type": "markdown",
   "metadata": {},
   "source": [
    "switch\n",
    "\n",
    "branch\n",
    "\n",
    "branch_parameter_event"
   ]
  },
  {
   "cell_type": "code",
   "execution_count": 4,
   "metadata": {},
   "outputs": [],
   "source": [
    "line_data = changes_schema.resource.filter(\n",
    "    (c(\"concrete_class\") == \"branch\") | (c(\"concrete_class\") == \"switch\")\n",
    ").select(c(\"uuid\"), c(\"dso_code\").alias(\"line_id\"), c(\"concrete_class\").alias(\"type\"))\n",
    "\n",
    "cn_mapping = pl_to_dict(\n",
    "    changes_schema.connectivity.select(\n",
    "        pl.concat_str(\"eq_fk\", \"side\").alias(\"id\"), \"uuid\"\n",
    "    )\n",
    ")\n",
    "## Add uuid of t1 and t2 for resource\n",
    "line_data = line_data.with_columns(\n",
    "    (c(\"uuid\") + \"t1\")\n",
    "    .replace_strict(cn_mapping, default=None)\n",
    "    .alias(\"u_of_edge\"),  # Replace eq_fk with uuid from connectivity for branch\n",
    "    (c(\"uuid\") + \"t2\").replace_strict(cn_mapping, default=None).alias(\"v_of_edge\"),\n",
    ")\n",
    "\n",
    "# Add branch parameter\n",
    "branch = changes_schema.branch_parameter_event[[\"uuid\", \"eq_fk\", \"r\", \"x\", \"b\", \"g\"]]\n",
    "# changes_schema.branch_parameter_event.select(\n",
    "#     c(\"uuid\"),\n",
    "#     # c(\"source_fk\"),\n",
    "#     c(\"eq_fk\"),\n",
    "#     c(\"r\"),\n",
    "#     c(\"r0\"),\n",
    "#     c(\"x\"),\n",
    "#     c(\"x0\"),\n",
    "#     c(\"b\"),\n",
    "#     c(\"b0\"),\n",
    "#     c(\"g\"),\n",
    "#     c(\"g0\"),\n",
    "# )\n",
    "# Add branch parameter to line_data\n",
    "line_data = line_data.join(branch, left_on=\"uuid\", right_on=\"eq_fk\", how=\"left\").drop(\n",
    "    \"uuid_right\"\n",
    ")"
   ]
  },
  {
   "cell_type": "code",
   "execution_count": 5,
   "metadata": {},
   "outputs": [],
   "source": [
    "node_id_list = (\n",
    "    line_data.unpivot(on=[\"u_of_edge\", \"v_of_edge\"], value_name=\"node_id\")\n",
    "    .unique(\"node_id\", keep=\"first\")[\"node_id\"]\n",
    "    .to_list()\n",
    ")\n",
    "node_id_to_nb_mapping = dict(zip(node_id_list, range(len(node_id_list))))\n",
    "node_nb_to_id_mapping = dict(zip(range(len(node_id_list)), node_id_list))\n",
    "\n",
    "line_data = line_data.with_columns(\n",
    "    c(col).replace_strict(node_id_to_nb_mapping, default=None).alias(col)\n",
    "    for col in [\"u_of_edge\", \"v_of_edge\"]\n",
    ")\n",
    "# ext_grid_nb = node_id_to_nb_mapping[ext_grid_id]"
   ]
  },
  {
   "cell_type": "code",
   "execution_count": 6,
   "metadata": {},
   "outputs": [
    {
     "data": {
      "text/html": [
       "<div><style>\n",
       ".dataframe > thead > tr,\n",
       ".dataframe > tbody > tr {\n",
       "  text-align: right;\n",
       "  white-space: pre-wrap;\n",
       "}\n",
       "</style>\n",
       "<small>shape: (57, 9)</small><table border=\"1\" class=\"dataframe\"><thead><tr><th>uuid</th><th>line_id</th><th>type</th><th>u_of_edge</th><th>v_of_edge</th><th>r</th><th>x</th><th>b</th><th>g</th></tr><tr><td>str</td><td>str</td><td>str</td><td>i64</td><td>i64</td><td>f64</td><td>f64</td><td>f64</td><td>f64</td></tr></thead><tbody><tr><td>&quot;b4fdf239-cfe2-5453-91c3-84c1b2…</td><td>&quot;line_1&quot;</td><td>&quot;branch&quot;</td><td>38</td><td>21</td><td>0.0031</td><td>0.0018075</td><td>0.000005</td><td>0.0</td></tr><tr><td>&quot;3edce6fc-e164-5b3e-9b0d-8a1c86…</td><td>&quot;line_2&quot;</td><td>&quot;branch&quot;</td><td>33</td><td>47</td><td>0.03275</td><td>0.01834</td><td>0.000056</td><td>0.0</td></tr><tr><td>&quot;c173d7f3-f7ca-5f44-98d8-63c1aa…</td><td>&quot;line_4&quot;</td><td>&quot;branch&quot;</td><td>55</td><td>94</td><td>0.04848</td><td>0.0014576</td><td>0.000001</td><td>0.0</td></tr><tr><td>&quot;c33afba9-0379-5d6a-9ca1-743cf7…</td><td>&quot;line_5&quot;</td><td>&quot;branch&quot;</td><td>87</td><td>28</td><td>0.00124</td><td>0.000723</td><td>0.000002</td><td>0.0</td></tr><tr><td>&quot;020bd95c-9320-5560-9627-4bbe19…</td><td>&quot;line_6&quot;</td><td>&quot;branch&quot;</td><td>77</td><td>20</td><td>0.006625</td><td>0.00371</td><td>0.000011</td><td>0.0</td></tr><tr><td>&hellip;</td><td>&hellip;</td><td>&hellip;</td><td>&hellip;</td><td>&hellip;</td><td>&hellip;</td><td>&hellip;</td><td>&hellip;</td><td>&hellip;</td></tr><tr><td>&quot;34edd04e-a827-5cf8-b233-43d285…</td><td>&quot;line_55&quot;</td><td>&quot;branch&quot;</td><td>74</td><td>82</td><td>0.000868</td><td>0.0005061</td><td>0.000001</td><td>0.0</td></tr><tr><td>&quot;9b34c19a-8b3e-54c6-9cd9-834bb5…</td><td>&quot;line_56&quot;</td><td>&quot;branch&quot;</td><td>14</td><td>9</td><td>0.05151</td><td>0.0015487</td><td>0.000002</td><td>0.0</td></tr><tr><td>&quot;ec28307e-8860-52db-9611-713cad…</td><td>&quot;line_57&quot;</td><td>&quot;branch&quot;</td><td>29</td><td>50</td><td>0.03939</td><td>0.0011843</td><td>0.000001</td><td>0.0</td></tr><tr><td>&quot;c8a03e72-a228-5007-ad70-3cc3ab…</td><td>&quot;line_3&quot;</td><td>&quot;switch&quot;</td><td>18</td><td>75</td><td>null</td><td>null</td><td>null</td><td>null</td></tr><tr><td>&quot;4f44a759-906d-568d-95b7-a57f77…</td><td>&quot;line_9&quot;</td><td>&quot;switch&quot;</td><td>99</td><td>22</td><td>null</td><td>null</td><td>null</td><td>null</td></tr></tbody></table></div>"
      ],
      "text/plain": [
       "shape: (57, 9)\n",
       "┌──────────────────────┬─────────┬────────┬───────────┬───┬──────────┬───────────┬──────────┬──────┐\n",
       "│ uuid                 ┆ line_id ┆ type   ┆ u_of_edge ┆ … ┆ r        ┆ x         ┆ b        ┆ g    │\n",
       "│ ---                  ┆ ---     ┆ ---    ┆ ---       ┆   ┆ ---      ┆ ---       ┆ ---      ┆ ---  │\n",
       "│ str                  ┆ str     ┆ str    ┆ i64       ┆   ┆ f64      ┆ f64       ┆ f64      ┆ f64  │\n",
       "╞══════════════════════╪═════════╪════════╪═══════════╪═══╪══════════╪═══════════╪══════════╪══════╡\n",
       "│ b4fdf239-cfe2-5453-9 ┆ line_1  ┆ branch ┆ 38        ┆ … ┆ 0.0031   ┆ 0.0018075 ┆ 0.000005 ┆ 0.0  │\n",
       "│ 1c3-84c1b2…          ┆         ┆        ┆           ┆   ┆          ┆           ┆          ┆      │\n",
       "│ 3edce6fc-e164-5b3e-9 ┆ line_2  ┆ branch ┆ 33        ┆ … ┆ 0.03275  ┆ 0.01834   ┆ 0.000056 ┆ 0.0  │\n",
       "│ b0d-8a1c86…          ┆         ┆        ┆           ┆   ┆          ┆           ┆          ┆      │\n",
       "│ c173d7f3-f7ca-5f44-9 ┆ line_4  ┆ branch ┆ 55        ┆ … ┆ 0.04848  ┆ 0.0014576 ┆ 0.000001 ┆ 0.0  │\n",
       "│ 8d8-63c1aa…          ┆         ┆        ┆           ┆   ┆          ┆           ┆          ┆      │\n",
       "│ c33afba9-0379-5d6a-9 ┆ line_5  ┆ branch ┆ 87        ┆ … ┆ 0.00124  ┆ 0.000723  ┆ 0.000002 ┆ 0.0  │\n",
       "│ ca1-743cf7…          ┆         ┆        ┆           ┆   ┆          ┆           ┆          ┆      │\n",
       "│ 020bd95c-9320-5560-9 ┆ line_6  ┆ branch ┆ 77        ┆ … ┆ 0.006625 ┆ 0.00371   ┆ 0.000011 ┆ 0.0  │\n",
       "│ 627-4bbe19…          ┆         ┆        ┆           ┆   ┆          ┆           ┆          ┆      │\n",
       "│ …                    ┆ …       ┆ …      ┆ …         ┆ … ┆ …        ┆ …         ┆ …        ┆ …    │\n",
       "│ 34edd04e-a827-5cf8-b ┆ line_55 ┆ branch ┆ 74        ┆ … ┆ 0.000868 ┆ 0.0005061 ┆ 0.000001 ┆ 0.0  │\n",
       "│ 233-43d285…          ┆         ┆        ┆           ┆   ┆          ┆           ┆          ┆      │\n",
       "│ 9b34c19a-8b3e-54c6-9 ┆ line_56 ┆ branch ┆ 14        ┆ … ┆ 0.05151  ┆ 0.0015487 ┆ 0.000002 ┆ 0.0  │\n",
       "│ cd9-834bb5…          ┆         ┆        ┆           ┆   ┆          ┆           ┆          ┆      │\n",
       "│ ec28307e-8860-52db-9 ┆ line_57 ┆ branch ┆ 29        ┆ … ┆ 0.03939  ┆ 0.0011843 ┆ 0.000001 ┆ 0.0  │\n",
       "│ 611-713cad…          ┆         ┆        ┆           ┆   ┆          ┆           ┆          ┆      │\n",
       "│ c8a03e72-a228-5007-a ┆ line_3  ┆ switch ┆ 18        ┆ … ┆ null     ┆ null      ┆ null     ┆ null │\n",
       "│ d70-3cc3ab…          ┆         ┆        ┆           ┆   ┆          ┆           ┆          ┆      │\n",
       "│ 4f44a759-906d-568d-9 ┆ line_9  ┆ switch ┆ 99        ┆ … ┆ null     ┆ null      ┆ null     ┆ null │\n",
       "│ 5b7-a57f77…          ┆         ┆        ┆           ┆   ┆          ┆           ┆          ┆      │\n",
       "└──────────────────────┴─────────┴────────┴───────────┴───┴──────────┴───────────┴──────────┴──────┘"
      ]
     },
     "execution_count": 6,
     "metadata": {},
     "output_type": "execute_result"
    }
   ],
   "source": [
    "line_data"
   ]
  },
  {
   "cell_type": "code",
   "execution_count": 7,
   "metadata": {},
   "outputs": [],
   "source": [
    "# # from state_estimation_algorithm import StateEstimationData\n",
    "\n",
    "\n",
    "# class StateEstimationData:\n",
    "#     def __init__(self, changes_schema: dict):\n",
    "#         self.line_data: pl.DataFrame\n",
    "#         self.node_data: pl.DataFrame\n",
    "#         self.changes_schema = changes_schema\n",
    "\n",
    "#         self.generate_line_data()\n",
    "#     ### TODO when code is ok\n",
    "#     def generate_line_data(self):\n",
    "#         self.line_data = self.changes_schema.resource.filter(\n",
    "#             (c(\"concrete_class\") == \"branch\") | (c(\"concrete_class\") == \"switch\")\n",
    "#         ).select(\n",
    "#             c(\"uuid\"), c(\"dso_code\").alias(\"line_id\"), c(\"concrete_class\").alias(\"type\")\n",
    "#         )\n",
    "# stateestimationdata = StateEstimationData(changes_schema=changes_schema)"
   ]
  },
  {
   "cell_type": "code",
   "execution_count": 8,
   "metadata": {},
   "outputs": [
    {
     "ename": "NameError",
     "evalue": "name 'DistFlow' is not defined",
     "output_type": "error",
     "traceback": [
      "\u001b[0;31m---------------------------------------------------------------------------\u001b[0m",
      "\u001b[0;31mNameError\u001b[0m                                 Traceback (most recent call last)",
      "Cell \u001b[0;32mIn[8], line 30\u001b[0m\n\u001b[1;32m     19\u001b[0m node_data: pl\u001b[38;5;241m.\u001b[39mDataFrame \u001b[38;5;241m=\u001b[39m pl\u001b[38;5;241m.\u001b[39mDataFrame(\n\u001b[1;32m     20\u001b[0m     {\n\u001b[1;32m     21\u001b[0m         \u001b[38;5;124m\"\u001b[39m\u001b[38;5;124mnode_id\u001b[39m\u001b[38;5;124m\"\u001b[39m: np\u001b[38;5;241m.\u001b[39marange(\u001b[38;5;241m1\u001b[39m, \u001b[38;5;241m14\u001b[39m)\u001b[38;5;241m.\u001b[39mastype(\u001b[38;5;28mstr\u001b[39m),\n\u001b[0;32m   (...)\u001b[0m\n\u001b[1;32m     26\u001b[0m     strict\u001b[38;5;241m=\u001b[39m\u001b[38;5;28;01mFalse\u001b[39;00m,\n\u001b[1;32m     27\u001b[0m )\n\u001b[1;32m     29\u001b[0m np\u001b[38;5;241m.\u001b[39mset_printoptions(linewidth\u001b[38;5;241m=\u001b[39m\u001b[38;5;241m200\u001b[39m)\n\u001b[0;32m---> 30\u001b[0m distflow \u001b[38;5;241m=\u001b[39m \u001b[43mDistFlow\u001b[49m(line_data\u001b[38;5;241m=\u001b[39mline_data, ext_grid_id\u001b[38;5;241m=\u001b[39mext_grid_id)\n\u001b[1;32m     31\u001b[0m node_data \u001b[38;5;241m=\u001b[39m node_data\u001b[38;5;241m.\u001b[39mwith_columns(\n\u001b[1;32m     32\u001b[0m     c(\u001b[38;5;124m\"\u001b[39m\u001b[38;5;124mnode_id\u001b[39m\u001b[38;5;124m\"\u001b[39m)\n\u001b[1;32m     33\u001b[0m     \u001b[38;5;241m.\u001b[39mreplace_strict(distflow\u001b[38;5;241m.\u001b[39mnode_id_to_nb_mapping, default\u001b[38;5;241m=\u001b[39m\u001b[38;5;28;01mNone\u001b[39;00m)\n\u001b[1;32m     34\u001b[0m     \u001b[38;5;241m.\u001b[39malias(\u001b[38;5;124m\"\u001b[39m\u001b[38;5;124midx\u001b[39m\u001b[38;5;124m\"\u001b[39m)\n\u001b[1;32m     35\u001b[0m )\u001b[38;5;241m.\u001b[39msort(\u001b[38;5;124m\"\u001b[39m\u001b[38;5;124midx\u001b[39m\u001b[38;5;124m\"\u001b[39m)\n\u001b[1;32m     36\u001b[0m v0_sq \u001b[38;5;241m=\u001b[39m distflow\u001b[38;5;241m.\u001b[39mv_in_sq_np \u001b[38;5;241m*\u001b[39m v_ext_grid_sq\n",
      "\u001b[0;31mNameError\u001b[0m: name 'DistFlow' is not defined"
     ]
    }
   ],
   "source": [
    "ext_grid_id = \"1\"\n",
    "n = 0.95\n",
    "v_ext_grid_sq = 1.05\n",
    "\n",
    "line_data: pl.DataFrame = pl.DataFrame(\n",
    "    {\n",
    "        \"line_id\": np.arange(1, 13).astype(str),\n",
    "        \"type\": [\"branch\"] * 10 + [\"transformer\"] * 2,\n",
    "        \"u_of_edge\": [\"2\", \"2\", \"2\", \"4\", \"5\", \"6\", \"7\", \"10\", \"12\", \"13\", \"8\", \"9\"],\n",
    "        \"v_of_edge\": [\"11\", \"1\", \"3\", \"1\", \"4\", \"4\", \"8\", \"9\", \"11\", \"11\", \"4\", \"8\"],\n",
    "        \"n_transfo\": [1.0] * 10 + [n**2, n**2],\n",
    "        \"x_pu\": np.arange(1, 13) * 2e-3,\n",
    "        \"r_pu\": np.arange(1, 13) * 1e-3,\n",
    "        \"b_pu\": list(np.arange(1, 11) * -1e-3) + [0.001, 0.001],\n",
    "        \"g_pu\": [0.0] * 10 + [0.001, 0.001],\n",
    "    }\n",
    ")\n",
    "\n",
    "node_data: pl.DataFrame = pl.DataFrame(\n",
    "    {\n",
    "        \"node_id\": np.arange(1, 14).astype(str),\n",
    "        \"v_base\": [400.0] * 7 + [200.0, 400.0, 400.0, 200.0, 100.0, 100.0],\n",
    "        \"p_node_pu\": np.array([0, 10, 2, 0, 0, -2, 0, 7, 25, 0, 100, 0.5, 10]) * 1e-2,\n",
    "        \"q_node_pu\": np.array([0, 0, 0.2, 2, 0, -0.2, 0, 0.7, 0, 0, 0, 0.5, 1]) * 1e-2,\n",
    "    },\n",
    "    strict=False,\n",
    ")\n",
    "\n",
    "np.set_printoptions(linewidth=200)\n",
    "distflow = DistFlow(line_data=line_data, ext_grid_id=ext_grid_id)\n",
    "node_data = node_data.with_columns(\n",
    "    c(\"node_id\")\n",
    "    .replace_strict(distflow.node_id_to_nb_mapping, default=None)\n",
    "    .alias(\"idx\")\n",
    ").sort(\"idx\")\n",
    "v0_sq = distflow.v_in_sq_np * v_ext_grid_sq\n",
    "\n",
    "s_node = node_data[\"p_node_pu\"].to_numpy() + 1j * node_data[\"q_node_pu\"].to_numpy()\n",
    "\n",
    "tic = time.time()\n",
    "s_flow, v, i = distflow.distflow_algorithm(s_node=s_node, v0_sq=v0_sq, engine=\"numpy\")\n",
    "print(\"numpy:\", time.time() - tic)\n",
    "\n",
    "tic = time.time()\n",
    "s_flow, v, i = distflow.distflow_algorithm(\n",
    "    s_node=s_node, v0_sq=v0_sq, engine=\"graphblas\"\n",
    ")\n",
    "print(\"graphblas:\", time.time() - tic)"
   ]
  },
  {
   "cell_type": "code",
   "execution_count": 16,
   "metadata": {},
   "outputs": [
    {
     "name": "stdout",
     "output_type": "stream",
     "text": [
      "f: 0.012090921401977539\n"
     ]
    }
   ],
   "source": [
    "s_base = 1e6\n",
    "net: pp.pandapowerNet = pp.from_pickle(\"data/input_grid/modified_cigre_network_lv.p\")\n",
    "tic = time.time()\n",
    "pp.runpp(net)\n",
    "print(\"f:\", time.time() - tic)"
   ]
  },
  {
   "cell_type": "code",
   "execution_count": 6,
   "metadata": {},
   "outputs": [],
   "source": [
    "ext_grid_id: str = str(net.ext_grid[\"bus\"][0])\n",
    "v_ext_grid_sq: float = net.ext_grid[\"vm_pu\"][0] ** 2\n",
    "node_data, line_data = pandapower_to_distflow(net=net, s_base=s_base)\n",
    "distflow: DistFlow = DistFlow(line_data=line_data, ext_grid_id=ext_grid_id)"
   ]
  },
  {
   "cell_type": "code",
   "execution_count": 17,
   "metadata": {},
   "outputs": [
    {
     "name": "stdout",
     "output_type": "stream",
     "text": [
      "numpy: 5.9482645988464355\n",
      "graphblas: 0.09949016571044922\n"
     ]
    }
   ],
   "source": [
    "node_data = node_data.with_columns(\n",
    "    c(\"node_id\")\n",
    "    .replace_strict(distflow.node_id_to_nb_mapping, default=None)\n",
    "    .alias(\"idx\")\n",
    ").sort(\"idx\")\n",
    "v0_sq = distflow.v_in_sq_np * v_ext_grid_sq\n",
    "s_node = node_data[\"p_node_pu\"].to_numpy() + 1j * node_data[\"q_node_pu\"].to_numpy()\n",
    "\n",
    "tic = time.time()\n",
    "s_flow, v, i = distflow.distflow_algorithm(s_node=s_node, v0_sq=v0_sq, engine=\"numpy\")\n",
    "print(\"numpy:\", time.time() - tic)\n",
    "\n",
    "tic = time.time()\n",
    "s_flow, v, i = distflow.distflow_algorithm(\n",
    "    s_node=s_node, v0_sq=v0_sq, engine=\"graphblas\"\n",
    ")\n",
    "print(\"graphblas:\", time.time() - tic)"
   ]
  },
  {
   "cell_type": "code",
   "execution_count": 8,
   "metadata": {},
   "outputs": [
    {
     "name": "stdout",
     "output_type": "stream",
     "text": [
      "shape: (1, 3)\n",
      "┌──────────┬──────────┬──────────┐\n",
      "│ diff_v   ┆ diff_p   ┆ diff_q   │\n",
      "│ ---      ┆ ---      ┆ ---      │\n",
      "│ f64      ┆ f64      ┆ f64      │\n",
      "╞══════════╪══════════╪══════════╡\n",
      "│ 0.000392 ┆ 0.000182 ┆ 0.010306 │\n",
      "└──────────┴──────────┴──────────┘\n"
     ]
    }
   ],
   "source": [
    "line_res_pp = pl.DataFrame(\n",
    "    {\n",
    "        \"node_id\": list(net.line[\"to_bus\"].astype(str)),\n",
    "        \"p_pp\": list(net.res_line[\"p_from_mw\"]),\n",
    "        \"q_pp\": list(net.res_line[\"q_from_mvar\"]),\n",
    "    }\n",
    ")\n",
    "\n",
    "node_res_pp = pl.from_pandas(net.res_bus[\"vm_pu\"], include_index=True).select(\n",
    "    c(\"index\").cast(pl.Utf8).alias(\"node_id\"), \"vm_pu\"\n",
    ")\n",
    "\n",
    "result = (\n",
    "    pl.DataFrame(\n",
    "        {\n",
    "            \"v\": np.sqrt(v),\n",
    "            \"p\": np.real(s_flow),\n",
    "            \"q\": np.imag(s_flow),\n",
    "        }\n",
    "    )\n",
    "    .with_row_index(name=\"node_id\")\n",
    "    .with_columns(\n",
    "        c(\"node_id\")\n",
    "        .replace_strict(distflow.node_nb_to_id_mapping, default=None)\n",
    "        .alias(\"node_id\")\n",
    "    )\n",
    "    .join(line_res_pp, on=\"node_id\", how=\"left\")\n",
    "    .join(node_res_pp, on=\"node_id\", how=\"left\")\n",
    "    .with_columns(\n",
    "        ((c(\"v\") - c(\"vm_pu\")) / c(\"vm_pu\")).abs().alias(\"diff_v\"),\n",
    "        ((c(\"p\") - c(\"p_pp\")) / c(\"p_pp\")).abs().alias(\"diff_p\"),\n",
    "        ((c(\"q\") - c(\"q_pp\")) / c(\"p_pp\")).abs().alias(\"diff_q\"),\n",
    "    )\n",
    ")\n",
    "print(result[\"diff_v\", \"diff_p\", \"diff_q\"].max())"
   ]
  },
  {
   "cell_type": "code",
   "execution_count": 11,
   "metadata": {},
   "outputs": [
    {
     "name": "stdout",
     "output_type": "stream",
     "text": [
      "f: 0.5935556888580322\n"
     ]
    }
   ],
   "source": [
    "net: pp.pandapowerNet = pp.from_pickle(\"data/input_grid/synthesized_grid.p\")\n",
    "net.trafo[\"i0_percent\"] = 2\n",
    "tic = time.time()\n",
    "pp.runpp(net)\n",
    "print(\"f:\", time.time() - tic)"
   ]
  },
  {
   "cell_type": "code",
   "execution_count": 12,
   "metadata": {},
   "outputs": [],
   "source": [
    "s_base = 1e6\n",
    "ext_grid_id: str = str(net.ext_grid[\"bus\"][0])\n",
    "v_ext_grid_sq: float = net.ext_grid[\"vm_pu\"][0] ** 2\n",
    "\n",
    "node_data, line_data = pandapower_to_distflow(net=net, s_base=s_base)\n",
    "distflow = DistFlow(line_data=line_data, ext_grid_id=ext_grid_id)"
   ]
  },
  {
   "cell_type": "code",
   "execution_count": 13,
   "metadata": {},
   "outputs": [
    {
     "name": "stdout",
     "output_type": "stream",
     "text": [
      "numpy: 9.821000337600708\n",
      "graphblas: 0.08703160285949707\n"
     ]
    }
   ],
   "source": [
    "node_data = node_data.with_columns(\n",
    "    c(\"node_id\")\n",
    "    .replace_strict(distflow.node_id_to_nb_mapping, default=None)\n",
    "    .alias(\"idx\")\n",
    ").sort(\"idx\")\n",
    "v0_sq = distflow.v_in_sq_np * v_ext_grid_sq\n",
    "s_node = node_data[\"p_node_pu\"].to_numpy() + 1j * node_data[\"q_node_pu\"].to_numpy()\n",
    "\n",
    "tic = time.time()\n",
    "s_flow, v, i = distflow.distflow_algorithm(s_node=s_node, v0_sq=v0_sq, engine=\"numpy\")\n",
    "print(\"numpy:\", time.time() - tic)\n",
    "\n",
    "tic = time.time()\n",
    "s_flow, v, i = distflow.distflow_algorithm(\n",
    "    s_node=s_node, v0_sq=v0_sq, engine=\"graphblas\"\n",
    ")\n",
    "print(\"graphblas:\", time.time() - tic)"
   ]
  },
  {
   "cell_type": "code",
   "execution_count": 58,
   "metadata": {},
   "outputs": [],
   "source": [
    "line_data = line_data.group_by(\"u_of_edge\", \"v_of_edge\").agg(\n",
    "    c(\"name\", \"n_transfo\", \"type\").first(),\n",
    "    c(\"r_pu\", \"x_pu\").first() / c(\"r_pu\", \"x_pu\").count(),\n",
    "    c(\"g_pu\", \"b_pu\").first() * c(\"g_pu\", \"b_pu\").count(),\n",
    ")"
   ]
  }
 ],
 "metadata": {
  "kernelspec": {
   "display_name": ".venv",
   "language": "python",
   "name": "python3"
  },
  "language_info": {
   "codemirror_mode": {
    "name": "ipython",
    "version": 3
   },
   "file_extension": ".py",
   "mimetype": "text/x-python",
   "name": "python",
   "nbconvert_exporter": "python",
   "pygments_lexer": "ipython3",
   "version": "3.12.7"
  }
 },
 "nbformat": 4,
 "nbformat_minor": 2
}
