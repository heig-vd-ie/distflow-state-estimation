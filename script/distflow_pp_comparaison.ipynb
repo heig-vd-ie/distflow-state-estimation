{
 "cells": [
  {
   "cell_type": "code",
   "execution_count": 1,
   "metadata": {},
   "outputs": [],
   "source": [
    "import json\n",
    "from config import settings\n",
    "import os\n",
    "\n",
    "\n",
    "\n",
    "import polars as pl\n",
    "from polars import col as c\n",
    "from polars import selectors as cs\n",
    "import networkx as nx\n",
    "from networkx_function import generate_nx_edge\n",
    "from typing_extensions import Union\n",
    "import numpy as np\n",
    "import scipy as sp\n",
    "from distflow_algorithm import DistFlow\n",
    "import time\n",
    "import pandapower as pp\n",
    "import pandapower.networks as pn\n",
    "from polars_function import (\n",
    "    get_transfo_admittance,\n",
    "    get_transfo_impedance,\n",
    "    get_transfo_conductance,\n",
    "    get_transfo_imaginary_component,\n",
    ")\n",
    "\n",
    "from data_connector import pandapower_to_distflow\n",
    "from general_function import duckdb_to_dict, dict_to_duckdb, pl_to_dict\n",
    "from networkx_function import get_all_edge_data, generate_shortest_path_length_matrix\n",
    "import graphblas as gb\n",
    "from utility.parser_utility import duckdb_to_changes_schema\n",
    "\n",
    "\n",
    "# Useless outside jupiternotebook because in settings.py a line that changes the directory to src for ipynb\n",
    "os.chdir(os.getcwd().replace(\"/src\", \"\"))"
   ]
  },
  {
   "cell_type": "markdown",
   "metadata": {},
   "source": [
    "## Import Schema from duckdb"
   ]
  },
  {
   "cell_type": "code",
   "execution_count": 2,
   "metadata": {},
   "outputs": [
    {
     "name": "stderr",
     "output_type": "stream",
     "text": [
      "Read and validate tables from matlab_grid.db file:   0%|                                                                        | 0/1 [00:00<?, ?it/s]\n"
     ]
    },
    {
     "ename": "IOException",
     "evalue": "IO Error: Cannot open file \"/home/ltomasini/git/distflow-state-estimation/.cache/output/duckdb/matlab_grid.db\": No such file or directory",
     "output_type": "error",
     "traceback": [
      "\u001b[0;31m---------------------------------------------------------------------------\u001b[0m",
      "\u001b[0;31mIOException\u001b[0m                               Traceback (most recent call last)",
      "Cell \u001b[0;32mIn[2], line 2\u001b[0m\n\u001b[1;32m      1\u001b[0m file_names: \u001b[38;5;28mdict\u001b[39m[\u001b[38;5;28mstr\u001b[39m, \u001b[38;5;28mstr\u001b[39m] \u001b[38;5;241m=\u001b[39m json\u001b[38;5;241m.\u001b[39mload(\u001b[38;5;28mopen\u001b[39m(settings\u001b[38;5;241m.\u001b[39mINPUT_FILE_NAMES))\n\u001b[0;32m----> 2\u001b[0m changes_schema \u001b[38;5;241m=\u001b[39m \u001b[43mduckdb_to_changes_schema\u001b[49m\u001b[43m(\u001b[49m\u001b[43mfile_path\u001b[49m\u001b[38;5;241;43m=\u001b[39;49m\u001b[43mfile_names\u001b[49m\u001b[43m[\u001b[49m\u001b[38;5;124;43m\"\u001b[39;49m\u001b[38;5;124;43mduckdb_output\u001b[39;49m\u001b[38;5;124;43m\"\u001b[39;49m\u001b[43m]\u001b[49m\u001b[43m)\u001b[49m\n\u001b[1;32m      3\u001b[0m \u001b[38;5;28mlist\u001b[39m(changes_schema\u001b[38;5;241m.\u001b[39m\u001b[38;5;18m__dict__\u001b[39m\u001b[38;5;241m.\u001b[39mkeys())\n",
      "File \u001b[0;32m~/git/distflow-state-estimation/src/utility/parser_utility.py:232\u001b[0m, in \u001b[0;36mduckdb_to_changes_schema\u001b[0;34m(file_path)\u001b[0m\n\u001b[1;32m    228\u001b[0m pbar \u001b[38;5;241m=\u001b[39m tqdm\u001b[38;5;241m.\u001b[39mtqdm(\n\u001b[1;32m    229\u001b[0m     total\u001b[38;5;241m=\u001b[39m\u001b[38;5;241m1\u001b[39m, ncols\u001b[38;5;241m=\u001b[39m\u001b[38;5;241m150\u001b[39m, desc\u001b[38;5;241m=\u001b[39m\u001b[38;5;124m\"\u001b[39m\u001b[38;5;124mRead and validate tables from \u001b[39m\u001b[38;5;132;01m{}\u001b[39;00m\u001b[38;5;124m file\u001b[39m\u001b[38;5;124m\"\u001b[39m\u001b[38;5;241m.\u001b[39mformat(os\u001b[38;5;241m.\u001b[39mpath\u001b[38;5;241m.\u001b[39mbasename(file_path)))\n\u001b[1;32m    231\u001b[0m \u001b[38;5;28;01mwith\u001b[39;00m pbar:\n\u001b[0;32m--> 232\u001b[0m     \u001b[38;5;28;01mwith\u001b[39;00m \u001b[43mduckdb\u001b[49m\u001b[38;5;241;43m.\u001b[39;49m\u001b[43mconnect\u001b[49m\u001b[43m(\u001b[49m\u001b[43mdatabase\u001b[49m\u001b[38;5;241;43m=\u001b[39;49m\u001b[43mfile_path\u001b[49m\u001b[43m)\u001b[49m \u001b[38;5;28;01mas\u001b[39;00m con:\n\u001b[1;32m    233\u001b[0m         query \u001b[38;5;241m=\u001b[39m \u001b[38;5;124m\"\u001b[39m\u001b[38;5;124mSELECT table_name FROM information_schema.tables WHERE table_schema = \u001b[39m\u001b[38;5;124m'\u001b[39m\u001b[38;5;124mmain\u001b[39m\u001b[38;5;124m'\u001b[39m\u001b[38;5;124m\"\u001b[39m\n\u001b[1;32m    234\u001b[0m         \u001b[38;5;28;01mfor\u001b[39;00m table_name \u001b[38;5;129;01min\u001b[39;00m con\u001b[38;5;241m.\u001b[39mexecute(query)\u001b[38;5;241m.\u001b[39mfetchall():\n",
      "\u001b[0;31mIOException\u001b[0m: IO Error: Cannot open file \"/home/ltomasini/git/distflow-state-estimation/.cache/output/duckdb/matlab_grid.db\": No such file or directory"
     ]
    }
   ],
   "source": [
    "file_names: dict[str, str] = json.load(open(settings.INPUT_FILE_NAMES))\n",
    "changes_schema = duckdb_to_changes_schema(file_path=file_names[\"duckdb_output\"])\n",
    "list(changes_schema.__dict__.keys())"
   ]
  },
  {
   "cell_type": "markdown",
   "metadata": {},
   "source": [
    "## Filter data and create line_data"
   ]
  },
  {
   "cell_type": "markdown",
   "metadata": {},
   "source": [
    "switch\n",
    "\n",
    "branch\n",
    "\n",
    "branch_parameter_event"
   ]
  },
  {
   "cell_type": "code",
   "execution_count": null,
   "metadata": {},
   "outputs": [
    {
     "ename": "NameError",
     "evalue": "name 'changes_schema' is not defined",
     "output_type": "error",
     "traceback": [
      "\u001b[0;31m---------------------------------------------------------------------------\u001b[0m",
      "\u001b[0;31mNameError\u001b[0m                                 Traceback (most recent call last)",
      "Cell \u001b[0;32mIn[2], line 1\u001b[0m\n\u001b[0;32m----> 1\u001b[0m line_data \u001b[38;5;241m=\u001b[39m \u001b[43mchanges_schema\u001b[49m\u001b[38;5;241m.\u001b[39mresource\u001b[38;5;241m.\u001b[39mfilter(\n\u001b[1;32m      2\u001b[0m     (c(\u001b[38;5;124m\"\u001b[39m\u001b[38;5;124mconcrete_class\u001b[39m\u001b[38;5;124m\"\u001b[39m) \u001b[38;5;241m==\u001b[39m \u001b[38;5;124m\"\u001b[39m\u001b[38;5;124mbranch\u001b[39m\u001b[38;5;124m\"\u001b[39m) \u001b[38;5;241m|\u001b[39m (c(\u001b[38;5;124m\"\u001b[39m\u001b[38;5;124mconcrete_class\u001b[39m\u001b[38;5;124m\"\u001b[39m) \u001b[38;5;241m==\u001b[39m \u001b[38;5;124m\"\u001b[39m\u001b[38;5;124mswitch\u001b[39m\u001b[38;5;124m\"\u001b[39m)\n\u001b[1;32m      3\u001b[0m )\u001b[38;5;241m.\u001b[39mselect(c(\u001b[38;5;124m\"\u001b[39m\u001b[38;5;124muuid\u001b[39m\u001b[38;5;124m\"\u001b[39m), c(\u001b[38;5;124m\"\u001b[39m\u001b[38;5;124mdso_code\u001b[39m\u001b[38;5;124m\"\u001b[39m)\u001b[38;5;241m.\u001b[39malias(\u001b[38;5;124m\"\u001b[39m\u001b[38;5;124mline_id\u001b[39m\u001b[38;5;124m\"\u001b[39m), c(\u001b[38;5;124m\"\u001b[39m\u001b[38;5;124mconcrete_class\u001b[39m\u001b[38;5;124m\"\u001b[39m)\u001b[38;5;241m.\u001b[39malias(\u001b[38;5;124m\"\u001b[39m\u001b[38;5;124mtype\u001b[39m\u001b[38;5;124m\"\u001b[39m))\n\u001b[1;32m      5\u001b[0m cn_mapping \u001b[38;5;241m=\u001b[39m pl_to_dict(\n\u001b[1;32m      6\u001b[0m     changes_schema\u001b[38;5;241m.\u001b[39mconnectivity\u001b[38;5;241m.\u001b[39mselect(\n\u001b[1;32m      7\u001b[0m         pl\u001b[38;5;241m.\u001b[39mconcat_str(\u001b[38;5;124m\"\u001b[39m\u001b[38;5;124meq_fk\u001b[39m\u001b[38;5;124m\"\u001b[39m, \u001b[38;5;124m\"\u001b[39m\u001b[38;5;124mside\u001b[39m\u001b[38;5;124m\"\u001b[39m)\u001b[38;5;241m.\u001b[39malias(\u001b[38;5;124m\"\u001b[39m\u001b[38;5;124mid\u001b[39m\u001b[38;5;124m\"\u001b[39m), \u001b[38;5;124m\"\u001b[39m\u001b[38;5;124muuid\u001b[39m\u001b[38;5;124m\"\u001b[39m\n\u001b[1;32m      8\u001b[0m     )\n\u001b[1;32m      9\u001b[0m )\n\u001b[1;32m     10\u001b[0m \u001b[38;5;66;03m## Add uuid of t1 and t2 for resource\u001b[39;00m\n",
      "\u001b[0;31mNameError\u001b[0m: name 'changes_schema' is not defined"
     ]
    }
   ],
   "source": [
    "line_data = changes_schema.resource.filter(\n",
    "    (c(\"concrete_class\") == \"branch\") | (c(\"concrete_class\") == \"switch\")\n",
    ").select(c(\"uuid\"), c(\"dso_code\").alias(\"line_id\"), c(\"concrete_class\").alias(\"type\"))\n",
    "\n",
    "cn_mapping = pl_to_dict(\n",
    "    changes_schema.connectivity.select(\n",
    "        pl.concat_str(\"eq_fk\", \"side\").alias(\"id\"), \"uuid\"\n",
    "    )\n",
    ")\n",
    "## Add uuid of t1 and t2 for resource\n",
    "line_data = line_data.with_columns(\n",
    "    (c(\"uuid\") + \"t1\")\n",
    "    .replace_strict(cn_mapping, default=None)\n",
    "    .alias(\"u_of_edge\"),  # Replace eq_fk with uuid from connectivity for branch\n",
    "    (c(\"uuid\") + \"t2\").replace_strict(cn_mapping, default=None).alias(\"v_of_edge\"),\n",
    ")\n",
    "\n",
    "# Add branch parameter\n",
    "branch = changes_schema.branch_parameter_event.select(\n",
    "    c(\"uuid\"),\n",
    "    # c(\"source_fk\"),\n",
    "    c(\"eq_fk\"),\n",
    "    c(\"r\"),\n",
    "    c(\"r0\"),\n",
    "    c(\"x\"),\n",
    "    c(\"x0\"),\n",
    "    c(\"b\"),\n",
    "    c(\"b0\"),\n",
    "    c(\"g\"),\n",
    "    c(\"g0\"),\n",
    ")\n",
    "# Add branch parameter to line_data\n",
    "line_data = line_data.join(branch, left_on=\"uuid\", right_on=\"eq_fk\", how=\"left\").drop(\n",
    "    \"uuid_right\"\n",
    ")"
   ]
  },
  {
   "cell_type": "code",
   "execution_count": 23,
   "metadata": {},
   "outputs": [],
   "source": [
    "node_id_list = (\n",
    "    line_data.unpivot(on=[\"u_of_edge\", \"v_of_edge\"], value_name=\"node_id\")\n",
    "    .unique(\"node_id\", keep=\"first\")[\"node_id\"]\n",
    "    .to_list()\n",
    ")\n",
    "node_id_to_nb_mapping = dict(zip(node_id_list, range(len(node_id_list))))\n",
    "node_nb_to_id_mapping = dict(zip(range(len(node_id_list)), node_id_list))\n",
    "\n",
    "line_data = line_data.with_columns(\n",
    "    c(col).replace_strict(node_id_to_nb_mapping, default=None).alias(col)\n",
    "    for col in [\"u_of_edge\", \"v_of_edge\"]\n",
    ")\n",
    "# ext_grid_nb = node_id_to_nb_mapping[ext_grid_id]"
   ]
  },
  {
   "cell_type": "code",
   "execution_count": null,
   "metadata": {},
   "outputs": [],
   "source": [
    "# # from state_estimation_algorithm import StateEstimationData\n",
    "\n",
    "\n",
    "# class StateEstimationData:\n",
    "#     def __init__(self, changes_schema: dict):\n",
    "#         self.line_data: pl.DataFrame\n",
    "#         self.node_data: pl.DataFrame\n",
    "#         self.changes_schema = changes_schema\n",
    "\n",
    "#         self.generate_line_data()\n",
    "#     ### TODO when code is ok\n",
    "#     def generate_line_data(self):\n",
    "#         self.line_data = self.changes_schema.resource.filter(\n",
    "#             (c(\"concrete_class\") == \"branch\") | (c(\"concrete_class\") == \"switch\")\n",
    "#         ).select(\n",
    "#             c(\"uuid\"), c(\"dso_code\").alias(\"line_id\"), c(\"concrete_class\").alias(\"type\")\n",
    "#         )\n",
    "# stateestimationdata = StateEstimationData(changes_schema=changes_schema)"
   ]
  },
  {
   "cell_type": "code",
   "execution_count": 3,
   "metadata": {},
   "outputs": [
    {
     "name": "stdout",
     "output_type": "stream",
     "text": [
      "numpy: 0.0031206607818603516\n",
      "graphblas: 0.014765739440917969\n"
     ]
    }
   ],
   "source": [
    "ext_grid_id = \"1\"\n",
    "n = 0.95\n",
    "v_ext_grid_sq = 1.05\n",
    "\n",
    "line_data: pl.DataFrame = pl.DataFrame(\n",
    "    {\n",
    "        \"line_id\": np.arange(1, 13).astype(str),\n",
    "        \"type\": [\"branch\"] * 10 + [\"transformer\"] * 2,\n",
    "        \"u_of_edge\": [\"2\", \"2\", \"2\", \"4\", \"5\", \"6\", \"7\", \"10\", \"12\", \"13\", \"8\", \"9\"],\n",
    "        \"v_of_edge\": [\"11\", \"1\", \"3\", \"1\", \"4\", \"4\", \"8\", \"9\", \"11\", \"11\", \"4\", \"8\"],\n",
    "        \"n_transfo\": [1.0] * 10 + [n**2, n**2],\n",
    "        \"x_pu\": np.arange(1, 13) * 2e-3,\n",
    "        \"r_pu\": np.arange(1, 13) * 1e-3,\n",
    "        \"b_pu\": list(np.arange(1, 11) * -1e-3) + [0.001, 0.001],\n",
    "        \"g_pu\": [0.0] * 10 + [0.001, 0.001],\n",
    "    }\n",
    ")\n",
    "\n",
    "node_data: pl.DataFrame = pl.DataFrame(\n",
    "    {\n",
    "        \"node_id\": np.arange(1, 14).astype(str),\n",
    "        \"v_base\": [400.0] * 7 + [200.0, 400.0, 400.0, 200.0, 100.0, 100.0],\n",
    "        \"p_node_pu\": np.array([0, 10, 2, 0, 0, -2, 0, 7, 25, 0, 100, 0.5, 10]) * 1e-2,\n",
    "        \"q_node_pu\": np.array([0, 0, 0.2, 2, 0, -0.2, 0, 0.7, 0, 0, 0, 0.5, 1]) * 1e-2,\n",
    "    },\n",
    "    strict=False,\n",
    ")\n",
    "\n",
    "np.set_printoptions(linewidth=200)\n",
    "distflow = DistFlow(line_data=line_data, ext_grid_id=ext_grid_id)\n",
    "node_data = node_data.with_columns(\n",
    "    c(\"node_id\")\n",
    "    .replace_strict(distflow.node_id_to_nb_mapping, default=None)\n",
    "    .alias(\"idx\")\n",
    ").sort(\"idx\")\n",
    "v0_sq = distflow.v_in_sq_np * v_ext_grid_sq\n",
    "\n",
    "s_node = node_data[\"p_node_pu\"].to_numpy() + 1j * node_data[\"q_node_pu\"].to_numpy()\n",
    "\n",
    "tic = time.time()\n",
    "s_flow, v, i = distflow.distflow_algorithm(s_node=s_node, v0_sq=v0_sq, engine=\"numpy\")\n",
    "print(\"numpy:\", time.time() - tic)\n",
    "\n",
    "tic = time.time()\n",
    "s_flow, v, i = distflow.distflow_algorithm(\n",
    "    s_node=s_node, v0_sq=v0_sq, engine=\"graphblas\"\n",
    ")\n",
    "print(\"graphblas:\", time.time() - tic)"
   ]
  },
  {
   "cell_type": "code",
   "execution_count": 16,
   "metadata": {},
   "outputs": [
    {
     "name": "stdout",
     "output_type": "stream",
     "text": [
      "f: 0.012090921401977539\n"
     ]
    }
   ],
   "source": [
    "s_base = 1e6\n",
    "net: pp.pandapowerNet = pp.from_pickle(\"data/input_grid/modified_cigre_network_lv.p\")\n",
    "tic = time.time()\n",
    "pp.runpp(net)\n",
    "print(\"f:\", time.time() - tic)"
   ]
  },
  {
   "cell_type": "code",
   "execution_count": 6,
   "metadata": {},
   "outputs": [],
   "source": [
    "ext_grid_id: str = str(net.ext_grid[\"bus\"][0])\n",
    "v_ext_grid_sq: float = net.ext_grid[\"vm_pu\"][0] ** 2\n",
    "node_data, line_data = pandapower_to_distflow(net=net, s_base=s_base)\n",
    "distflow: DistFlow = DistFlow(line_data=line_data, ext_grid_id=ext_grid_id)"
   ]
  },
  {
   "cell_type": "code",
   "execution_count": 17,
   "metadata": {},
   "outputs": [
    {
     "name": "stdout",
     "output_type": "stream",
     "text": [
      "numpy: 5.9482645988464355\n",
      "graphblas: 0.09949016571044922\n"
     ]
    }
   ],
   "source": [
    "node_data = node_data.with_columns(\n",
    "    c(\"node_id\")\n",
    "    .replace_strict(distflow.node_id_to_nb_mapping, default=None)\n",
    "    .alias(\"idx\")\n",
    ").sort(\"idx\")\n",
    "v0_sq = distflow.v_in_sq_np * v_ext_grid_sq\n",
    "s_node = node_data[\"p_node_pu\"].to_numpy() + 1j * node_data[\"q_node_pu\"].to_numpy()\n",
    "\n",
    "tic = time.time()\n",
    "s_flow, v, i = distflow.distflow_algorithm(s_node=s_node, v0_sq=v0_sq, engine=\"numpy\")\n",
    "print(\"numpy:\", time.time() - tic)\n",
    "\n",
    "tic = time.time()\n",
    "s_flow, v, i = distflow.distflow_algorithm(\n",
    "    s_node=s_node, v0_sq=v0_sq, engine=\"graphblas\"\n",
    ")\n",
    "print(\"graphblas:\", time.time() - tic)"
   ]
  },
  {
   "cell_type": "code",
   "execution_count": 8,
   "metadata": {},
   "outputs": [
    {
     "name": "stdout",
     "output_type": "stream",
     "text": [
      "shape: (1, 3)\n",
      "┌──────────┬──────────┬──────────┐\n",
      "│ diff_v   ┆ diff_p   ┆ diff_q   │\n",
      "│ ---      ┆ ---      ┆ ---      │\n",
      "│ f64      ┆ f64      ┆ f64      │\n",
      "╞══════════╪══════════╪══════════╡\n",
      "│ 0.000392 ┆ 0.000182 ┆ 0.010306 │\n",
      "└──────────┴──────────┴──────────┘\n"
     ]
    }
   ],
   "source": [
    "line_res_pp = pl.DataFrame(\n",
    "    {\n",
    "        \"node_id\": list(net.line[\"to_bus\"].astype(str)),\n",
    "        \"p_pp\": list(net.res_line[\"p_from_mw\"]),\n",
    "        \"q_pp\": list(net.res_line[\"q_from_mvar\"]),\n",
    "    }\n",
    ")\n",
    "\n",
    "node_res_pp = pl.from_pandas(net.res_bus[\"vm_pu\"], include_index=True).select(\n",
    "    c(\"index\").cast(pl.Utf8).alias(\"node_id\"), \"vm_pu\"\n",
    ")\n",
    "\n",
    "result = (\n",
    "    pl.DataFrame(\n",
    "        {\n",
    "            \"v\": np.sqrt(v),\n",
    "            \"p\": np.real(s_flow),\n",
    "            \"q\": np.imag(s_flow),\n",
    "        }\n",
    "    )\n",
    "    .with_row_index(name=\"node_id\")\n",
    "    .with_columns(\n",
    "        c(\"node_id\")\n",
    "        .replace_strict(distflow.node_nb_to_id_mapping, default=None)\n",
    "        .alias(\"node_id\")\n",
    "    )\n",
    "    .join(line_res_pp, on=\"node_id\", how=\"left\")\n",
    "    .join(node_res_pp, on=\"node_id\", how=\"left\")\n",
    "    .with_columns(\n",
    "        ((c(\"v\") - c(\"vm_pu\")) / c(\"vm_pu\")).abs().alias(\"diff_v\"),\n",
    "        ((c(\"p\") - c(\"p_pp\")) / c(\"p_pp\")).abs().alias(\"diff_p\"),\n",
    "        ((c(\"q\") - c(\"q_pp\")) / c(\"p_pp\")).abs().alias(\"diff_q\"),\n",
    "    )\n",
    ")\n",
    "print(result[\"diff_v\", \"diff_p\", \"diff_q\"].max())"
   ]
  },
  {
   "cell_type": "code",
   "execution_count": 11,
   "metadata": {},
   "outputs": [
    {
     "name": "stdout",
     "output_type": "stream",
     "text": [
      "f: 0.5935556888580322\n"
     ]
    }
   ],
   "source": [
    "net: pp.pandapowerNet = pp.from_pickle(\"data/input_grid/synthesized_grid.p\")\n",
    "net.trafo[\"i0_percent\"] = 2\n",
    "tic = time.time()\n",
    "pp.runpp(net)\n",
    "print(\"f:\", time.time() - tic)"
   ]
  },
  {
   "cell_type": "code",
   "execution_count": 12,
   "metadata": {},
   "outputs": [],
   "source": [
    "s_base = 1e6\n",
    "ext_grid_id: str = str(net.ext_grid[\"bus\"][0])\n",
    "v_ext_grid_sq: float = net.ext_grid[\"vm_pu\"][0] ** 2\n",
    "\n",
    "node_data, line_data = pandapower_to_distflow(net=net, s_base=s_base)\n",
    "distflow = DistFlow(line_data=line_data, ext_grid_id=ext_grid_id)"
   ]
  },
  {
   "cell_type": "code",
   "execution_count": 13,
   "metadata": {},
   "outputs": [
    {
     "name": "stdout",
     "output_type": "stream",
     "text": [
      "numpy: 9.821000337600708\n",
      "graphblas: 0.08703160285949707\n"
     ]
    }
   ],
   "source": [
    "node_data = node_data.with_columns(\n",
    "    c(\"node_id\")\n",
    "    .replace_strict(distflow.node_id_to_nb_mapping, default=None)\n",
    "    .alias(\"idx\")\n",
    ").sort(\"idx\")\n",
    "v0_sq = distflow.v_in_sq_np * v_ext_grid_sq\n",
    "s_node = node_data[\"p_node_pu\"].to_numpy() + 1j * node_data[\"q_node_pu\"].to_numpy()\n",
    "\n",
    "tic = time.time()\n",
    "s_flow, v, i = distflow.distflow_algorithm(s_node=s_node, v0_sq=v0_sq, engine=\"numpy\")\n",
    "print(\"numpy:\", time.time() - tic)\n",
    "\n",
    "tic = time.time()\n",
    "s_flow, v, i = distflow.distflow_algorithm(\n",
    "    s_node=s_node, v0_sq=v0_sq, engine=\"graphblas\"\n",
    ")\n",
    "print(\"graphblas:\", time.time() - tic)"
   ]
  },
  {
   "cell_type": "code",
   "execution_count": 58,
   "metadata": {},
   "outputs": [],
   "source": [
    "line_data = line_data.group_by(\"u_of_edge\", \"v_of_edge\").agg(\n",
    "    c(\"name\", \"n_transfo\", \"type\").first(),\n",
    "    c(\"r_pu\", \"x_pu\").first() / c(\"r_pu\", \"x_pu\").count(),\n",
    "    c(\"g_pu\", \"b_pu\").first() * c(\"g_pu\", \"b_pu\").count(),\n",
    ")"
   ]
  }
 ],
 "metadata": {
  "kernelspec": {
   "display_name": ".venv",
   "language": "python",
   "name": "python3"
  },
  "language_info": {
   "codemirror_mode": {
    "name": "ipython",
    "version": 3
   },
   "file_extension": ".py",
   "mimetype": "text/x-python",
   "name": "python",
   "nbconvert_exporter": "python",
   "pygments_lexer": "ipython3",
   "version": "3.12.7"
  }
 },
 "nbformat": 4,
 "nbformat_minor": 2
}
