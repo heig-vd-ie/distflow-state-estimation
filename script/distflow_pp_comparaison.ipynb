{
 "cells": [
  {
   "cell_type": "code",
   "execution_count": 56,
   "metadata": {},
   "outputs": [],
   "source": [
    "import json\n",
    "from config import settings\n",
    "import os\n",
    "\n",
    "\n",
    "import polars as pl\n",
    "from polars import col as c\n",
    "from polars import selectors as cs\n",
    "import networkx as nx\n",
    "from networkx_function import generate_nx_edge\n",
    "from typing_extensions import Union\n",
    "import numpy as np\n",
    "import scipy as sp\n",
    "\n",
    "# from distflow_algorithm import DistFlow\n",
    "import time\n",
    "import pandapower as pp\n",
    "import pandapower.networks as pn\n",
    "from polars_function import (\n",
    "    get_transfo_admittance,\n",
    "    get_transfo_impedance,\n",
    "    get_transfo_conductance,\n",
    "    get_transfo_imaginary_component,\n",
    ")\n",
    "\n",
    "from data_connector import pandapower_to_distflow\n",
    "from general_function import duckdb_to_dict, dict_to_duckdb, pl_to_dict\n",
    "from networkx_function import get_all_edge_data, generate_shortest_path_length_matrix\n",
    "import graphblas as gb\n",
    "from utility.parser_utility import duckdb_to_changes_schema\n",
    "\n",
    "from distflow_schema import DistFlowSchema\n",
    "\n",
    "# Useless outside jupiternotebook because in settings.py a line that changes the directory to src for ipynb\n",
    "os.chdir(os.getcwd().replace(\"/src\", \"\"))"
   ]
  },
  {
   "cell_type": "markdown",
   "metadata": {},
   "source": [
    "## Import Schema from duckdb"
   ]
  },
  {
   "cell_type": "code",
   "execution_count": 57,
   "metadata": {},
   "outputs": [
    {
     "name": "stderr",
     "output_type": "stream",
     "text": [
      "Read and validate tables from matlab_grid.db file: 100%|████████████████████████████████████████████████████████████████| 1/1 [00:00<00:00,  1.22it/s]\n"
     ]
    },
    {
     "data": {
      "text/plain": [
       "['heartbeat',\n",
       " 'resource',\n",
       " 'equipment',\n",
       " 'terminal',\n",
       " 'busbar_section',\n",
       " 'branch',\n",
       " 'branch_parameter_event',\n",
       " 'geo_event',\n",
       " 'switch',\n",
       " 'switch_event',\n",
       " 'transformer',\n",
       " 'transformer_end',\n",
       " 'transformer_parameter_event',\n",
       " 'tap',\n",
       " 'tap_event',\n",
       " 'bess',\n",
       " 'energy_consumer',\n",
       " 'external_network',\n",
       " 'generating_unit',\n",
       " 'container',\n",
       " 'client',\n",
       " 'substation',\n",
       " 'base_voltage',\n",
       " 'connectivity_node',\n",
       " 'connectivity',\n",
       " 'measurement',\n",
       " 'measurement_point',\n",
       " 'measurement_span']"
      ]
     },
     "execution_count": 57,
     "metadata": {},
     "output_type": "execute_result"
    }
   ],
   "source": [
    "file_names: dict[str, str] = json.load(open(settings.INPUT_FILE_NAMES))\n",
    "changes_schema = duckdb_to_changes_schema(file_path=file_names[\"duckdb_output\"])\n",
    "list(changes_schema.__dict__.keys())"
   ]
  },
  {
   "cell_type": "code",
   "execution_count": 165,
   "metadata": {},
   "outputs": [],
   "source": [
    "resource_data = changes_schema.resource.filter(\n",
    "    (c(\"concrete_class\") == \"branch\")\n",
    "    | (c(\"concrete_class\") == \"switch\")\n",
    "    | (c(\"concrete_class\") == \"tranfsormer\")\n",
    "    | (c(\"concrete_class\") == \"external_network\")\n",
    ").select(\n",
    "    c(\"uuid\"), c(\"dso_code\").alias(\"element_id\"), c(\"concrete_class\").alias(\"type\")\n",
    ")\n",
    "\n",
    "## Add row index to connectivity_node to give the number of node\n",
    "## Join connectivity_node with connectivity to get the eq_fk\n",
    "## Create the connectivity_node dictionnary with side+eq_fk as key and node index as value\n",
    "connectivity_node: dict[float, str] = pl_to_dict(\n",
    "    changes_schema.connectivity_node.with_row_index()\n",
    "    .join(changes_schema.connectivity, left_on=\"uuid\", right_on=\"cn_fk\", how=\"left\")\n",
    "    .select((c(\"side\") + c(\"eq_fk\")).alias(\"eq_fk_side\"), c(\"index\"))\n",
    ")\n",
    "\n",
    "## Add node from and node to for each edge with side+eq_fk\n",
    "resource_data = resource_data.with_columns(\n",
    "    (\"t1\" + c(\"uuid\"))\n",
    "    .replace_strict(connectivity_node, default=None)\n",
    "    .alias(\n",
    "        \"u_of_edge\"\n",
    "    ),  # Replace side+eq_fk with node number from connectivity for equipment\n",
    "    (\"t2\" + c(\"uuid\"))\n",
    "    .replace_strict(connectivity_node, default=None)\n",
    "    .alias(\"v_of_edge\"),\n",
    ")\n",
    "# Add branch parameter\n",
    "branch = changes_schema.branch_parameter_event[[\"uuid\", \"eq_fk\", \"r\", \"x\", \"b\", \"g\"]]\n",
    "\n",
    "# Add branch parameter to line_data\n",
    "resource_data = resource_data.join(\n",
    "    branch, left_on=\"uuid\", right_on=\"eq_fk\", how=\"left\"\n",
    ").drop(\"uuid_right\")\n",
    "## Add n_tranfo to 1, useless, because automatically added by add_table from class DistFlowSchema and by default value is 1\n",
    "# resource_data = resource_data.with_columns(pl.lit(1).alias(\"n_tranfo\"))"
   ]
  },
  {
   "cell_type": "code",
   "execution_count": 161,
   "metadata": {},
   "outputs": [],
   "source": [
    "## Transfo in pu\n",
    "s_base = 1e6  # 1 MVA for distribution"
   ]
  },
  {
   "cell_type": "code",
   "execution_count": null,
   "metadata": {},
   "outputs": [],
   "source": [
    "test = DistFlowSchema()\n",
    "test.add_table(edge_data=resource_data)"
   ]
  },
  {
   "cell_type": "code",
   "execution_count": 86,
   "metadata": {},
   "outputs": [
    {
     "ename": "ColumnNotFoundError",
     "evalue": "cn_fk\n\nResolved plan until failure:\n\n\t---> FAILED HERE RESOLVING 'with_columns' <---\nDF [\"uuid\", \"element_id\", \"type\", \"u_of_edge\"]; PROJECT */9 COLUMNS",
     "output_type": "error",
     "traceback": [
      "\u001b[0;31m---------------------------------------------------------------------------\u001b[0m",
      "\u001b[0;31mColumnNotFoundError\u001b[0m                       Traceback (most recent call last)",
      "Cell \u001b[0;32mIn[86], line 9\u001b[0m\n\u001b[1;32m      2\u001b[0m connectivity_node: \u001b[38;5;28mdict\u001b[39m[\u001b[38;5;28mfloat\u001b[39m, \u001b[38;5;28mstr\u001b[39m] \u001b[38;5;241m=\u001b[39m pl_to_dict(\n\u001b[1;32m      3\u001b[0m     changes_schema\u001b[38;5;241m.\u001b[39mconnectivity_node\u001b[38;5;241m.\u001b[39mwith_row_index()\u001b[38;5;241m.\u001b[39mselect(\n\u001b[1;32m      4\u001b[0m         c(\u001b[38;5;124m\"\u001b[39m\u001b[38;5;124muuid\u001b[39m\u001b[38;5;124m\"\u001b[39m)\u001b[38;5;241m.\u001b[39malias(\u001b[38;5;124m\"\u001b[39m\u001b[38;5;124mcn_fk\u001b[39m\u001b[38;5;124m\"\u001b[39m), c(\u001b[38;5;124m\"\u001b[39m\u001b[38;5;124mindex\u001b[39m\u001b[38;5;124m\"\u001b[39m)\u001b[38;5;241m.\u001b[39malias(\u001b[38;5;124m\"\u001b[39m\u001b[38;5;124mnode_number\u001b[39m\u001b[38;5;124m\"\u001b[39m)\n\u001b[1;32m      5\u001b[0m     )\n\u001b[1;32m      6\u001b[0m )\n\u001b[1;32m      8\u001b[0m \u001b[38;5;66;03m## Generate the node number from the connectivity table with the cn_fk uuid\u001b[39;00m\n\u001b[0;32m----> 9\u001b[0m test \u001b[38;5;241m=\u001b[39m \u001b[43mline_data\u001b[49m\u001b[38;5;241;43m.\u001b[39;49m\u001b[43mwith_columns\u001b[49m\u001b[43m(\u001b[49m\n\u001b[1;32m     10\u001b[0m \u001b[43m    \u001b[49m\u001b[43mc\u001b[49m\u001b[43m(\u001b[49m\u001b[38;5;124;43m\"\u001b[39;49m\u001b[38;5;124;43mcn_fk\u001b[39;49m\u001b[38;5;124;43m\"\u001b[39;49m\u001b[43m)\u001b[49m\u001b[38;5;241;43m.\u001b[39;49m\u001b[43mreplace_strict\u001b[49m\u001b[43m(\u001b[49m\u001b[43mconnectivity_node\u001b[49m\u001b[43m,\u001b[49m\u001b[43m \u001b[49m\u001b[43mdefault\u001b[49m\u001b[38;5;241;43m=\u001b[39;49m\u001b[38;5;28;43;01mNone\u001b[39;49;00m\u001b[43m)\u001b[49m\u001b[38;5;241;43m.\u001b[39;49m\u001b[43malias\u001b[49m\u001b[43m(\u001b[49m\u001b[38;5;124;43m\"\u001b[39;49m\u001b[38;5;124;43mnode_number\u001b[39;49m\u001b[38;5;124;43m\"\u001b[39;49m\u001b[43m)\u001b[49m\n\u001b[1;32m     11\u001b[0m \u001b[43m)\u001b[49m\n",
      "File \u001b[0;32m~/github/pro/distflow-state-estimation/.venv/lib/python3.12/site-packages/patito/polars.py:911\u001b[0m, in \u001b[0;36mDataFrame.with_columns\u001b[0;34m(self, *exprs, **named_exprs)\u001b[0m\n\u001b[1;32m    906\u001b[0m \u001b[38;5;28;01mdef\u001b[39;00m\u001b[38;5;250m \u001b[39m\u001b[38;5;21mwith_columns\u001b[39m(  \u001b[38;5;66;03m# noqa: D102\u001b[39;00m\n\u001b[1;32m    907\u001b[0m     \u001b[38;5;28mself\u001b[39m: DF,\n\u001b[1;32m    908\u001b[0m     \u001b[38;5;241m*\u001b[39mexprs: Union[IntoExpr, Iterable[IntoExpr]],\n\u001b[1;32m    909\u001b[0m     \u001b[38;5;241m*\u001b[39m\u001b[38;5;241m*\u001b[39mnamed_exprs: IntoExpr,\n\u001b[1;32m    910\u001b[0m ) \u001b[38;5;241m-\u001b[39m\u001b[38;5;241m>\u001b[39m DF:\n\u001b[0;32m--> 911\u001b[0m     \u001b[38;5;28;01mreturn\u001b[39;00m cast(DF, \u001b[38;5;28;43msuper\u001b[39;49m\u001b[43m(\u001b[49m\u001b[43m)\u001b[49m\u001b[38;5;241;43m.\u001b[39;49m\u001b[43mwith_columns\u001b[49m\u001b[43m(\u001b[49m\u001b[38;5;241;43m*\u001b[39;49m\u001b[43mexprs\u001b[49m\u001b[43m,\u001b[49m\u001b[43m \u001b[49m\u001b[38;5;241;43m*\u001b[39;49m\u001b[38;5;241;43m*\u001b[39;49m\u001b[43mnamed_exprs\u001b[49m\u001b[43m)\u001b[49m)\n",
      "File \u001b[0;32m~/github/pro/distflow-state-estimation/.venv/lib/python3.12/site-packages/polars/dataframe/frame.py:9537\u001b[0m, in \u001b[0;36mDataFrame.with_columns\u001b[0;34m(self, *exprs, **named_exprs)\u001b[0m\n\u001b[1;32m   9391\u001b[0m \u001b[38;5;28;01mdef\u001b[39;00m\u001b[38;5;250m \u001b[39m\u001b[38;5;21mwith_columns\u001b[39m(\n\u001b[1;32m   9392\u001b[0m     \u001b[38;5;28mself\u001b[39m,\n\u001b[1;32m   9393\u001b[0m     \u001b[38;5;241m*\u001b[39mexprs: IntoExpr \u001b[38;5;241m|\u001b[39m Iterable[IntoExpr],\n\u001b[1;32m   9394\u001b[0m     \u001b[38;5;241m*\u001b[39m\u001b[38;5;241m*\u001b[39mnamed_exprs: IntoExpr,\n\u001b[1;32m   9395\u001b[0m ) \u001b[38;5;241m-\u001b[39m\u001b[38;5;241m>\u001b[39m DataFrame:\n\u001b[1;32m   9396\u001b[0m \u001b[38;5;250m    \u001b[39m\u001b[38;5;124;03m\"\"\"\u001b[39;00m\n\u001b[1;32m   9397\u001b[0m \u001b[38;5;124;03m    Add columns to this DataFrame.\u001b[39;00m\n\u001b[1;32m   9398\u001b[0m \n\u001b[0;32m   (...)\u001b[0m\n\u001b[1;32m   9535\u001b[0m \u001b[38;5;124;03m    └─────┴──────┴─────────────┘\u001b[39;00m\n\u001b[1;32m   9536\u001b[0m \u001b[38;5;124;03m    \"\"\"\u001b[39;00m\n\u001b[0;32m-> 9537\u001b[0m     \u001b[38;5;28;01mreturn\u001b[39;00m \u001b[38;5;28;43mself\u001b[39;49m\u001b[38;5;241;43m.\u001b[39;49m\u001b[43mlazy\u001b[49m\u001b[43m(\u001b[49m\u001b[43m)\u001b[49m\u001b[38;5;241;43m.\u001b[39;49m\u001b[43mwith_columns\u001b[49m\u001b[43m(\u001b[49m\u001b[38;5;241;43m*\u001b[39;49m\u001b[43mexprs\u001b[49m\u001b[43m,\u001b[49m\u001b[43m \u001b[49m\u001b[38;5;241;43m*\u001b[39;49m\u001b[38;5;241;43m*\u001b[39;49m\u001b[43mnamed_exprs\u001b[49m\u001b[43m)\u001b[49m\u001b[38;5;241;43m.\u001b[39;49m\u001b[43mcollect\u001b[49m\u001b[43m(\u001b[49m\u001b[43m_eager\u001b[49m\u001b[38;5;241;43m=\u001b[39;49m\u001b[38;5;28;43;01mTrue\u001b[39;49;00m\u001b[43m)\u001b[49m\n",
      "File \u001b[0;32m~/github/pro/distflow-state-estimation/.venv/lib/python3.12/site-packages/patito/polars.py:85\u001b[0m, in \u001b[0;36mLazyFrame.collect\u001b[0;34m(self, *args, **kwargs)\u001b[0m\n\u001b[1;32m     79\u001b[0m \u001b[38;5;250m\u001b[39m\u001b[38;5;124;03m\"\"\"Collect into a DataFrame.\u001b[39;00m\n\u001b[1;32m     80\u001b[0m \n\u001b[1;32m     81\u001b[0m \u001b[38;5;124;03mSee documentation of polars.DataFrame.collect for full description of\u001b[39;00m\n\u001b[1;32m     82\u001b[0m \u001b[38;5;124;03mparameters.\u001b[39;00m\n\u001b[1;32m     83\u001b[0m \u001b[38;5;124;03m\"\"\"\u001b[39;00m\n\u001b[1;32m     84\u001b[0m background \u001b[38;5;241m=\u001b[39m kwargs\u001b[38;5;241m.\u001b[39mpop(\u001b[38;5;124m\"\u001b[39m\u001b[38;5;124mbackground\u001b[39m\u001b[38;5;124m\"\u001b[39m, \u001b[38;5;28;01mFalse\u001b[39;00m)\n\u001b[0;32m---> 85\u001b[0m df \u001b[38;5;241m=\u001b[39m \u001b[38;5;28;43msuper\u001b[39;49m\u001b[43m(\u001b[49m\u001b[43m)\u001b[49m\u001b[38;5;241;43m.\u001b[39;49m\u001b[43mcollect\u001b[49m\u001b[43m(\u001b[49m\u001b[38;5;241;43m*\u001b[39;49m\u001b[43margs\u001b[49m\u001b[43m,\u001b[49m\u001b[43m \u001b[49m\u001b[43mbackground\u001b[49m\u001b[38;5;241;43m=\u001b[39;49m\u001b[43mbackground\u001b[49m\u001b[43m,\u001b[49m\u001b[43m \u001b[49m\u001b[38;5;241;43m*\u001b[39;49m\u001b[38;5;241;43m*\u001b[39;49m\u001b[43mkwargs\u001b[49m\u001b[43m)\u001b[49m\n\u001b[1;32m     86\u001b[0m \u001b[38;5;28;01mif\u001b[39;00m \u001b[38;5;28mgetattr\u001b[39m(\u001b[38;5;28mself\u001b[39m, \u001b[38;5;124m\"\u001b[39m\u001b[38;5;124mmodel\u001b[39m\u001b[38;5;124m\"\u001b[39m, \u001b[38;5;28;01mFalse\u001b[39;00m):\n\u001b[1;32m     87\u001b[0m     \u001b[38;5;28mcls\u001b[39m \u001b[38;5;241m=\u001b[39m DataFrame\u001b[38;5;241m.\u001b[39m_construct_dataframe_model_class(model\u001b[38;5;241m=\u001b[39m\u001b[38;5;28mself\u001b[39m\u001b[38;5;241m.\u001b[39mmodel)\n",
      "File \u001b[0;32m~/github/pro/distflow-state-estimation/.venv/lib/python3.12/site-packages/polars/lazyframe/frame.py:2056\u001b[0m, in \u001b[0;36mLazyFrame.collect\u001b[0;34m(self, type_coercion, _type_check, predicate_pushdown, projection_pushdown, simplify_expression, slice_pushdown, comm_subplan_elim, comm_subexpr_elim, cluster_with_columns, collapse_joins, no_optimization, streaming, engine, background, _check_order, _eager, **_kwargs)\u001b[0m\n\u001b[1;32m   2054\u001b[0m \u001b[38;5;66;03m# Only for testing purposes\u001b[39;00m\n\u001b[1;32m   2055\u001b[0m callback \u001b[38;5;241m=\u001b[39m _kwargs\u001b[38;5;241m.\u001b[39mget(\u001b[38;5;124m\"\u001b[39m\u001b[38;5;124mpost_opt_callback\u001b[39m\u001b[38;5;124m\"\u001b[39m, callback)\n\u001b[0;32m-> 2056\u001b[0m \u001b[38;5;28;01mreturn\u001b[39;00m wrap_df(\u001b[43mldf\u001b[49m\u001b[38;5;241;43m.\u001b[39;49m\u001b[43mcollect\u001b[49m\u001b[43m(\u001b[49m\u001b[43mcallback\u001b[49m\u001b[43m)\u001b[49m)\n",
      "\u001b[0;31mColumnNotFoundError\u001b[0m: cn_fk\n\nResolved plan until failure:\n\n\t---> FAILED HERE RESOLVING 'with_columns' <---\nDF [\"uuid\", \"element_id\", \"type\", \"u_of_edge\"]; PROJECT */9 COLUMNS"
     ]
    }
   ],
   "source": [
    "# Generate the node dict with uuid for each node\n",
    "connectivity_node: dict[float, str] = pl_to_dict(\n",
    "    changes_schema.connectivity_node.with_row_index().select(\n",
    "        c(\"uuid\").alias(\"cn_fk\"), c(\"index\").alias(\"node_number\")\n",
    "    )\n",
    ")\n",
    "\n",
    "## Generate the node number from the connectivity table with the cn_fk uuid\n",
    "test = line_data.with_columns(\n",
    "    c(\"cn_fk\").replace_strict(connectivity_node, default=None).alias(\"node_number\")\n",
    ")"
   ]
  },
  {
   "cell_type": "code",
   "execution_count": 103,
   "metadata": {},
   "outputs": [],
   "source": [
    "# Generate the node dict with uuid for each node\n",
    "connectivity_node: dict[float, str] = pl_to_dict(\n",
    "    changes_schema.connectivity_node.with_row_index().select(c(\"uuid\"), c(\"index\"))\n",
    ")\n",
    "\n",
    "## Generate the node number from the connectivity table with the cn_fk uuid\n",
    "line_data = changes_schema.connectivity.with_columns(\n",
    "    c(\"cn_fk\").replace_strict(connectivity_node, default=None).alias(\"node_number\")\n",
    ")\n",
    "\n",
    "# Slack node uuid = df941fce-ceda-5874-ab63-5c8af9bec38b, came from cn_fk of external_network\n",
    "\n",
    "## Get the slack node number with the id of external network\n",
    "slack_node_id = line_data.filter(c(\"eq_class\") == \"external_network\")[\"node_number\"][0]"
   ]
  },
  {
   "cell_type": "code",
   "execution_count": 104,
   "metadata": {},
   "outputs": [
    {
     "data": {
      "text/html": [
       "<div><style>\n",
       ".dataframe > thead > tr,\n",
       ".dataframe > tbody > tr {\n",
       "  text-align: right;\n",
       "  white-space: pre-wrap;\n",
       "}\n",
       "</style>\n",
       "<small>shape: (115, 14)</small><table border=\"1\" class=\"dataframe\"><thead><tr><th>diff</th><th>uuid</th><th>start_heartbeat</th><th>end_heartbeat</th><th>start</th><th>end</th><th>eq_fk</th><th>side</th><th>eq_class</th><th>abstraction_fk</th><th>cn_fk</th><th>container_fk</th><th>indirect</th><th>node_number</th></tr><tr><td>str</td><td>str</td><td>datetime[μs, UTC]</td><td>datetime[μs, UTC]</td><td>datetime[μs, UTC]</td><td>datetime[μs, UTC]</td><td>str</td><td>str</td><td>str</td><td>str</td><td>str</td><td>str</td><td>bool</td><td>i64</td></tr></thead><tbody><tr><td>&quot;+&quot;</td><td>&quot;a517aafd-14bc-441a-b243-cf63c5…</td><td>2025-02-04 10:32:48.945352 UTC</td><td>null</td><td>1960-01-01 00:00:00 UTC</td><td>null</td><td>&quot;b4fdf239-cfe2-5453-91c3-84c1b2…</td><td>&quot;t1&quot;</td><td>&quot;branch&quot;</td><td>&quot;physical&quot;</td><td>&quot;ba84d70a-80d7-590e-b112-f9c4b5…</td><td>null</td><td>false</td><td>1</td></tr><tr><td>&quot;+&quot;</td><td>&quot;d370b75d-1d91-4005-8807-3d9b8c…</td><td>2025-02-04 10:32:48.945352 UTC</td><td>null</td><td>1960-01-01 00:00:00 UTC</td><td>null</td><td>&quot;3edce6fc-e164-5b3e-9b0d-8a1c86…</td><td>&quot;t1&quot;</td><td>&quot;branch&quot;</td><td>&quot;physical&quot;</td><td>&quot;078656ed-79f8-53a1-a67a-bb8f53…</td><td>null</td><td>false</td><td>2</td></tr><tr><td>&quot;+&quot;</td><td>&quot;d190a4fd-4295-4a7c-8c92-796ae1…</td><td>2025-02-04 10:32:48.945352 UTC</td><td>null</td><td>1960-01-01 00:00:00 UTC</td><td>null</td><td>&quot;c173d7f3-f7ca-5f44-98d8-63c1aa…</td><td>&quot;t1&quot;</td><td>&quot;branch&quot;</td><td>&quot;physical&quot;</td><td>&quot;af72457f-f983-5eeb-a635-0609f4…</td><td>null</td><td>false</td><td>4</td></tr><tr><td>&quot;+&quot;</td><td>&quot;021b361f-aacb-4dbb-a977-f4d2b0…</td><td>2025-02-04 10:32:48.945352 UTC</td><td>null</td><td>1960-01-01 00:00:00 UTC</td><td>null</td><td>&quot;c33afba9-0379-5d6a-9ca1-743cf7…</td><td>&quot;t1&quot;</td><td>&quot;branch&quot;</td><td>&quot;physical&quot;</td><td>&quot;dbd2411e-1e87-5956-86d9-d69ee7…</td><td>null</td><td>false</td><td>5</td></tr><tr><td>&quot;+&quot;</td><td>&quot;5c4b2cd4-e815-4a2f-801a-d5d1dd…</td><td>2025-02-04 10:32:48.945352 UTC</td><td>null</td><td>1960-01-01 00:00:00 UTC</td><td>null</td><td>&quot;020bd95c-9320-5560-9627-4bbe19…</td><td>&quot;t1&quot;</td><td>&quot;branch&quot;</td><td>&quot;physical&quot;</td><td>&quot;2db84a3d-aa74-5b4f-866a-331318…</td><td>null</td><td>false</td><td>6</td></tr><tr><td>&hellip;</td><td>&hellip;</td><td>&hellip;</td><td>&hellip;</td><td>&hellip;</td><td>&hellip;</td><td>&hellip;</td><td>&hellip;</td><td>&hellip;</td><td>&hellip;</td><td>&hellip;</td><td>&hellip;</td><td>&hellip;</td><td>&hellip;</td></tr><tr><td>&quot;+&quot;</td><td>&quot;74c69851-f366-4707-acee-fe1f74…</td><td>2025-02-04 10:32:48.945352 UTC</td><td>null</td><td>1960-01-01 00:00:00 UTC</td><td>null</td><td>&quot;c8a03e72-a228-5007-ad70-3cc3ab…</td><td>&quot;t1&quot;</td><td>&quot;switch&quot;</td><td>&quot;physical&quot;</td><td>&quot;c2247320-9fc2-538a-ba64-3ac70e…</td><td>null</td><td>false</td><td>3</td></tr><tr><td>&quot;+&quot;</td><td>&quot;6347fbc0-3423-4f16-a5bd-f7d349…</td><td>2025-02-04 10:32:48.945352 UTC</td><td>null</td><td>1960-01-01 00:00:00 UTC</td><td>null</td><td>&quot;4f44a759-906d-568d-95b7-a57f77…</td><td>&quot;t1&quot;</td><td>&quot;switch&quot;</td><td>&quot;physical&quot;</td><td>&quot;8a7f105e-71f3-5101-8b4f-1a9007…</td><td>null</td><td>false</td><td>9</td></tr><tr><td>&quot;+&quot;</td><td>&quot;2439e929-8699-4f5d-b7ca-98ab2f…</td><td>2025-02-04 10:32:48.945352 UTC</td><td>null</td><td>1960-01-01 00:00:00 UTC</td><td>null</td><td>&quot;c8a03e72-a228-5007-ad70-3cc3ab…</td><td>&quot;t2&quot;</td><td>&quot;switch&quot;</td><td>&quot;physical&quot;</td><td>&quot;df941fce-ceda-5874-ab63-5c8af9…</td><td>null</td><td>false</td><td>0</td></tr><tr><td>&quot;+&quot;</td><td>&quot;995d53c6-e88d-4e2c-93b5-d3524b…</td><td>2025-02-04 10:32:48.945352 UTC</td><td>null</td><td>1960-01-01 00:00:00 UTC</td><td>null</td><td>&quot;4f44a759-906d-568d-95b7-a57f77…</td><td>&quot;t2&quot;</td><td>&quot;switch&quot;</td><td>&quot;physical&quot;</td><td>&quot;c2247320-9fc2-538a-ba64-3ac70e…</td><td>null</td><td>false</td><td>3</td></tr><tr><td>&quot;+&quot;</td><td>&quot;289d3f24-b5b3-40d3-99c8-71d196…</td><td>2025-02-04 10:32:48.945352 UTC</td><td>null</td><td>1960-01-01 00:00:00 UTC</td><td>null</td><td>&quot;0ca10b42-0d56-5938-ad8e-cfa99b…</td><td>&quot;t1&quot;</td><td>&quot;external_network&quot;</td><td>&quot;physical&quot;</td><td>&quot;df941fce-ceda-5874-ab63-5c8af9…</td><td>null</td><td>false</td><td>0</td></tr></tbody></table></div>"
      ],
      "text/plain": [
       "shape: (115, 14)\n",
       "┌──────┬────────────┬────────────┬────────────┬───┬────────────┬────────────┬──────────┬───────────┐\n",
       "│ diff ┆ uuid       ┆ start_hear ┆ end_heartb ┆ … ┆ cn_fk      ┆ container_ ┆ indirect ┆ node_numb │\n",
       "│ ---  ┆ ---        ┆ tbeat      ┆ eat        ┆   ┆ ---        ┆ fk         ┆ ---      ┆ er        │\n",
       "│ str  ┆ str        ┆ ---        ┆ ---        ┆   ┆ str        ┆ ---        ┆ bool     ┆ ---       │\n",
       "│      ┆            ┆ datetime[μ ┆ datetime[μ ┆   ┆            ┆ str        ┆          ┆ i64       │\n",
       "│      ┆            ┆ s, UTC]    ┆ s, UTC]    ┆   ┆            ┆            ┆          ┆           │\n",
       "╞══════╪════════════╪════════════╪════════════╪═══╪════════════╪════════════╪══════════╪═══════════╡\n",
       "│ +    ┆ a517aafd-1 ┆ 2025-02-04 ┆ null       ┆ … ┆ ba84d70a-8 ┆ null       ┆ false    ┆ 1         │\n",
       "│      ┆ 4bc-441a-b ┆ 10:32:48.9 ┆            ┆   ┆ 0d7-590e-b ┆            ┆          ┆           │\n",
       "│      ┆ 243-cf63c5 ┆ 45352 UTC  ┆            ┆   ┆ 112-f9c4b5 ┆            ┆          ┆           │\n",
       "│      ┆ …          ┆            ┆            ┆   ┆ …          ┆            ┆          ┆           │\n",
       "│ +    ┆ d370b75d-1 ┆ 2025-02-04 ┆ null       ┆ … ┆ 078656ed-7 ┆ null       ┆ false    ┆ 2         │\n",
       "│      ┆ d91-4005-8 ┆ 10:32:48.9 ┆            ┆   ┆ 9f8-53a1-a ┆            ┆          ┆           │\n",
       "│      ┆ 807-3d9b8c ┆ 45352 UTC  ┆            ┆   ┆ 67a-bb8f53 ┆            ┆          ┆           │\n",
       "│      ┆ …          ┆            ┆            ┆   ┆ …          ┆            ┆          ┆           │\n",
       "│ +    ┆ d190a4fd-4 ┆ 2025-02-04 ┆ null       ┆ … ┆ af72457f-f ┆ null       ┆ false    ┆ 4         │\n",
       "│      ┆ 295-4a7c-8 ┆ 10:32:48.9 ┆            ┆   ┆ 983-5eeb-a ┆            ┆          ┆           │\n",
       "│      ┆ c92-796ae1 ┆ 45352 UTC  ┆            ┆   ┆ 635-0609f4 ┆            ┆          ┆           │\n",
       "│      ┆ …          ┆            ┆            ┆   ┆ …          ┆            ┆          ┆           │\n",
       "│ +    ┆ 021b361f-a ┆ 2025-02-04 ┆ null       ┆ … ┆ dbd2411e-1 ┆ null       ┆ false    ┆ 5         │\n",
       "│      ┆ acb-4dbb-a ┆ 10:32:48.9 ┆            ┆   ┆ e87-5956-8 ┆            ┆          ┆           │\n",
       "│      ┆ 977-f4d2b0 ┆ 45352 UTC  ┆            ┆   ┆ 6d9-d69ee7 ┆            ┆          ┆           │\n",
       "│      ┆ …          ┆            ┆            ┆   ┆ …          ┆            ┆          ┆           │\n",
       "│ +    ┆ 5c4b2cd4-e ┆ 2025-02-04 ┆ null       ┆ … ┆ 2db84a3d-a ┆ null       ┆ false    ┆ 6         │\n",
       "│      ┆ 815-4a2f-8 ┆ 10:32:48.9 ┆            ┆   ┆ a74-5b4f-8 ┆            ┆          ┆           │\n",
       "│      ┆ 01a-d5d1dd ┆ 45352 UTC  ┆            ┆   ┆ 66a-331318 ┆            ┆          ┆           │\n",
       "│      ┆ …          ┆            ┆            ┆   ┆ …          ┆            ┆          ┆           │\n",
       "│ …    ┆ …          ┆ …          ┆ …          ┆ … ┆ …          ┆ …          ┆ …        ┆ …         │\n",
       "│ +    ┆ 74c69851-f ┆ 2025-02-04 ┆ null       ┆ … ┆ c2247320-9 ┆ null       ┆ false    ┆ 3         │\n",
       "│      ┆ 366-4707-a ┆ 10:32:48.9 ┆            ┆   ┆ fc2-538a-b ┆            ┆          ┆           │\n",
       "│      ┆ cee-fe1f74 ┆ 45352 UTC  ┆            ┆   ┆ a64-3ac70e ┆            ┆          ┆           │\n",
       "│      ┆ …          ┆            ┆            ┆   ┆ …          ┆            ┆          ┆           │\n",
       "│ +    ┆ 6347fbc0-3 ┆ 2025-02-04 ┆ null       ┆ … ┆ 8a7f105e-7 ┆ null       ┆ false    ┆ 9         │\n",
       "│      ┆ 423-4f16-a ┆ 10:32:48.9 ┆            ┆   ┆ 1f3-5101-8 ┆            ┆          ┆           │\n",
       "│      ┆ 5bd-f7d349 ┆ 45352 UTC  ┆            ┆   ┆ b4f-1a9007 ┆            ┆          ┆           │\n",
       "│      ┆ …          ┆            ┆            ┆   ┆ …          ┆            ┆          ┆           │\n",
       "│ +    ┆ 2439e929-8 ┆ 2025-02-04 ┆ null       ┆ … ┆ df941fce-c ┆ null       ┆ false    ┆ 0         │\n",
       "│      ┆ 699-4f5d-b ┆ 10:32:48.9 ┆            ┆   ┆ eda-5874-a ┆            ┆          ┆           │\n",
       "│      ┆ 7ca-98ab2f ┆ 45352 UTC  ┆            ┆   ┆ b63-5c8af9 ┆            ┆          ┆           │\n",
       "│      ┆ …          ┆            ┆            ┆   ┆ …          ┆            ┆          ┆           │\n",
       "│ +    ┆ 995d53c6-e ┆ 2025-02-04 ┆ null       ┆ … ┆ c2247320-9 ┆ null       ┆ false    ┆ 3         │\n",
       "│      ┆ 88d-4e2c-9 ┆ 10:32:48.9 ┆            ┆   ┆ fc2-538a-b ┆            ┆          ┆           │\n",
       "│      ┆ 3b5-d3524b ┆ 45352 UTC  ┆            ┆   ┆ a64-3ac70e ┆            ┆          ┆           │\n",
       "│      ┆ …          ┆            ┆            ┆   ┆ …          ┆            ┆          ┆           │\n",
       "│ +    ┆ 289d3f24-b ┆ 2025-02-04 ┆ null       ┆ … ┆ df941fce-c ┆ null       ┆ false    ┆ 0         │\n",
       "│      ┆ 5b3-40d3-9 ┆ 10:32:48.9 ┆            ┆   ┆ eda-5874-a ┆            ┆          ┆           │\n",
       "│      ┆ 9c8-71d196 ┆ 45352 UTC  ┆            ┆   ┆ b63-5c8af9 ┆            ┆          ┆           │\n",
       "│      ┆ …          ┆            ┆            ┆   ┆ …          ┆            ┆          ┆           │\n",
       "└──────┴────────────┴────────────┴────────────┴───┴────────────┴────────────┴──────────┴───────────┘"
      ]
     },
     "execution_count": 104,
     "metadata": {},
     "output_type": "execute_result"
    }
   ],
   "source": [
    "line_data"
   ]
  },
  {
   "cell_type": "code",
   "execution_count": 59,
   "metadata": {},
   "outputs": [],
   "source": [
    "## u, v and unpivot\n",
    "# line_data.pivot(index=\"eq_class\", on=\"side\", values=\"node_number\")\n",
    "## add r,x,b,g in pu\n",
    "\n",
    "## import type (switch, branch, transformer) from table\n",
    "\n",
    "## add n_trafo\n",
    "# distflow_data = line_data.filter().pivot....."
   ]
  },
  {
   "cell_type": "code",
   "execution_count": 60,
   "metadata": {},
   "outputs": [],
   "source": [
    "# edge_data: pl.DataFrame = line_data\n",
    "# u_of_edge: int = pt.Field(dtype=pl.Int32)\n",
    "# v_of_edge: int = pt.Field(dtype=pl.Int32)\n",
    "# r_pu: float = pt.Field(dtype=pl.Float64, default=0.0)\n",
    "# x_pu: float = pt.Field(dtype=pl.Float64, default=0.0)\n",
    "# b_pu: float = pt.Field(dtype=pl.Float64, default=0.0)\n",
    "# g_pu: float = pt.Field(dtype=pl.Float64, default=0.0)\n",
    "# n_transfo: float = pt.Field(dtype=pl.Float64, default=1.0)\n",
    "# type: TYPES = pt.Field(dtype=pl.Utf8, constraints=literal_constraint(pt.field, TYPES))"
   ]
  },
  {
   "cell_type": "markdown",
   "metadata": {},
   "source": [
    "## Filter data and create distflowschema"
   ]
  },
  {
   "cell_type": "markdown",
   "metadata": {},
   "source": [
    "TYPES = Literal[\"branch\", \"transformer\", \"switch\"]\n",
    "class EdgeData(pt.Model):\n",
    "    u_of_edge: int = pt.Field(dtype=pl.Int32)\n",
    "    v_of_edge: int = pt.Field(dtype=pl.Int32)\n",
    "    r_pu: float = pt.Field(dtype=pl.Float64, default=0.0)\n",
    "    x_pu: float = pt.Field(dtype=pl.Float64, default=0.0)\n",
    "    b_pu: float = pt.Field(dtype=pl.Float64, default=0.0)\n",
    "    g_pu: float = pt.Field(dtype=pl.Float64, default=0.0)\n",
    "    n_transfo: float = pt.Field(dtype=pl.Float64, default=1.0)\n",
    "    type: TYPES = pt.Field(dtype=pl.Utf8, constraints=literal_constraint(pt.field, TYPES))\n",
    "\n",
    "edge_data"
   ]
  },
  {
   "cell_type": "code",
   "execution_count": 61,
   "metadata": {},
   "outputs": [],
   "source": [
    "# edge_data = 1\n",
    "# test = DistFlowSchema(edge_data)"
   ]
  },
  {
   "cell_type": "code",
   "execution_count": null,
   "metadata": {},
   "outputs": [],
   "source": []
  },
  {
   "cell_type": "code",
   "execution_count": 69,
   "metadata": {},
   "outputs": [
    {
     "data": {
      "text/html": [
       "<div><style>\n",
       ".dataframe > thead > tr,\n",
       ".dataframe > tbody > tr {\n",
       "  text-align: right;\n",
       "  white-space: pre-wrap;\n",
       "}\n",
       "</style>\n",
       "<small>shape: (85, 12)</small><table border=\"1\" class=\"dataframe\"><thead><tr><th>diff</th><th>uuid</th><th>start_heartbeat</th><th>end_heartbeat</th><th>start</th><th>end</th><th>dso_code</th><th>concrete_class</th><th>name</th><th>feeder_fk</th><th>metadata</th><th>owner</th></tr><tr><td>str</td><td>str</td><td>datetime[μs, UTC]</td><td>datetime[μs, UTC]</td><td>datetime[μs, UTC]</td><td>datetime[μs, UTC]</td><td>str</td><td>str</td><td>str</td><td>str</td><td>str</td><td>str</td></tr></thead><tbody><tr><td>&quot;+&quot;</td><td>&quot;b4fdf239-cfe2-5453-91c3-84c1b2…</td><td>2025-02-04 10:32:48.945352 UTC</td><td>null</td><td>1960-01-01 00:00:00 UTC</td><td>null</td><td>&quot;line_1&quot;</td><td>&quot;branch&quot;</td><td>null</td><td>null</td><td>null</td><td>null</td></tr><tr><td>&quot;+&quot;</td><td>&quot;3edce6fc-e164-5b3e-9b0d-8a1c86…</td><td>2025-02-04 10:32:48.945352 UTC</td><td>null</td><td>1960-01-01 00:00:00 UTC</td><td>null</td><td>&quot;line_2&quot;</td><td>&quot;branch&quot;</td><td>null</td><td>null</td><td>null</td><td>null</td></tr><tr><td>&quot;+&quot;</td><td>&quot;c173d7f3-f7ca-5f44-98d8-63c1aa…</td><td>2025-02-04 10:32:48.945352 UTC</td><td>null</td><td>1960-01-01 00:00:00 UTC</td><td>null</td><td>&quot;line_4&quot;</td><td>&quot;branch&quot;</td><td>null</td><td>null</td><td>null</td><td>null</td></tr><tr><td>&quot;+&quot;</td><td>&quot;c33afba9-0379-5d6a-9ca1-743cf7…</td><td>2025-02-04 10:32:48.945352 UTC</td><td>null</td><td>1960-01-01 00:00:00 UTC</td><td>null</td><td>&quot;line_5&quot;</td><td>&quot;branch&quot;</td><td>null</td><td>null</td><td>null</td><td>null</td></tr><tr><td>&quot;+&quot;</td><td>&quot;020bd95c-9320-5560-9627-4bbe19…</td><td>2025-02-04 10:32:48.945352 UTC</td><td>null</td><td>1960-01-01 00:00:00 UTC</td><td>null</td><td>&quot;line_6&quot;</td><td>&quot;branch&quot;</td><td>null</td><td>null</td><td>null</td><td>null</td></tr><tr><td>&hellip;</td><td>&hellip;</td><td>&hellip;</td><td>&hellip;</td><td>&hellip;</td><td>&hellip;</td><td>&hellip;</td><td>&hellip;</td><td>&hellip;</td><td>&hellip;</td><td>&hellip;</td><td>&hellip;</td></tr><tr><td>&quot;+&quot;</td><td>&quot;b2c29241-7bfa-4515-aebc-07b62b…</td><td>2025-02-04 10:32:48.945352 UTC</td><td>null</td><td>1960-01-01 00:00:00 UTC</td><td>null</td><td>&quot;node_number_54&quot;</td><td>&quot;energy_consumer&quot;</td><td>null</td><td>null</td><td>null</td><td>null</td></tr><tr><td>&quot;+&quot;</td><td>&quot;4e3a5eb1-0a0b-40f7-9995-043be5…</td><td>2025-02-04 10:32:48.945352 UTC</td><td>null</td><td>1960-01-01 00:00:00 UTC</td><td>null</td><td>&quot;node_number_57&quot;</td><td>&quot;energy_consumer&quot;</td><td>null</td><td>null</td><td>null</td><td>null</td></tr><tr><td>&quot;+&quot;</td><td>&quot;c8a03e72-a228-5007-ad70-3cc3ab…</td><td>2025-02-04 10:32:48.945352 UTC</td><td>null</td><td>1960-01-01 00:00:00 UTC</td><td>null</td><td>&quot;line_3&quot;</td><td>&quot;switch&quot;</td><td>null</td><td>null</td><td>null</td><td>null</td></tr><tr><td>&quot;+&quot;</td><td>&quot;4f44a759-906d-568d-95b7-a57f77…</td><td>2025-02-04 10:32:48.945352 UTC</td><td>null</td><td>1960-01-01 00:00:00 UTC</td><td>null</td><td>&quot;line_9&quot;</td><td>&quot;switch&quot;</td><td>null</td><td>null</td><td>null</td><td>null</td></tr><tr><td>&quot;+&quot;</td><td>&quot;0ca10b42-0d56-5938-ad8e-cfa99b…</td><td>2025-02-04 10:32:48.945352 UTC</td><td>null</td><td>1960-01-01 00:00:00 UTC</td><td>null</td><td>&quot;ext_net_0&quot;</td><td>&quot;external_network&quot;</td><td>null</td><td>null</td><td>null</td><td>null</td></tr></tbody></table></div>"
      ],
      "text/plain": [
       "shape: (85, 12)\n",
       "┌──────┬────────────────┬────────────────┬───────────────┬───┬──────┬───────────┬──────────┬───────┐\n",
       "│ diff ┆ uuid           ┆ start_heartbea ┆ end_heartbeat ┆ … ┆ name ┆ feeder_fk ┆ metadata ┆ owner │\n",
       "│ ---  ┆ ---            ┆ t              ┆ ---           ┆   ┆ ---  ┆ ---       ┆ ---      ┆ ---   │\n",
       "│ str  ┆ str            ┆ ---            ┆ datetime[μs,  ┆   ┆ str  ┆ str       ┆ str      ┆ str   │\n",
       "│      ┆                ┆ datetime[μs,   ┆ UTC]          ┆   ┆      ┆           ┆          ┆       │\n",
       "│      ┆                ┆ UTC]           ┆               ┆   ┆      ┆           ┆          ┆       │\n",
       "╞══════╪════════════════╪════════════════╪═══════════════╪═══╪══════╪═══════════╪══════════╪═══════╡\n",
       "│ +    ┆ b4fdf239-cfe2- ┆ 2025-02-04 10: ┆ null          ┆ … ┆ null ┆ null      ┆ null     ┆ null  │\n",
       "│      ┆ 5453-91c3-84c1 ┆ 32:48.945352   ┆               ┆   ┆      ┆           ┆          ┆       │\n",
       "│      ┆ b2…            ┆ UTC            ┆               ┆   ┆      ┆           ┆          ┆       │\n",
       "│ +    ┆ 3edce6fc-e164- ┆ 2025-02-04 10: ┆ null          ┆ … ┆ null ┆ null      ┆ null     ┆ null  │\n",
       "│      ┆ 5b3e-9b0d-8a1c ┆ 32:48.945352   ┆               ┆   ┆      ┆           ┆          ┆       │\n",
       "│      ┆ 86…            ┆ UTC            ┆               ┆   ┆      ┆           ┆          ┆       │\n",
       "│ +    ┆ c173d7f3-f7ca- ┆ 2025-02-04 10: ┆ null          ┆ … ┆ null ┆ null      ┆ null     ┆ null  │\n",
       "│      ┆ 5f44-98d8-63c1 ┆ 32:48.945352   ┆               ┆   ┆      ┆           ┆          ┆       │\n",
       "│      ┆ aa…            ┆ UTC            ┆               ┆   ┆      ┆           ┆          ┆       │\n",
       "│ +    ┆ c33afba9-0379- ┆ 2025-02-04 10: ┆ null          ┆ … ┆ null ┆ null      ┆ null     ┆ null  │\n",
       "│      ┆ 5d6a-9ca1-743c ┆ 32:48.945352   ┆               ┆   ┆      ┆           ┆          ┆       │\n",
       "│      ┆ f7…            ┆ UTC            ┆               ┆   ┆      ┆           ┆          ┆       │\n",
       "│ +    ┆ 020bd95c-9320- ┆ 2025-02-04 10: ┆ null          ┆ … ┆ null ┆ null      ┆ null     ┆ null  │\n",
       "│      ┆ 5560-9627-4bbe ┆ 32:48.945352   ┆               ┆   ┆      ┆           ┆          ┆       │\n",
       "│      ┆ 19…            ┆ UTC            ┆               ┆   ┆      ┆           ┆          ┆       │\n",
       "│ …    ┆ …              ┆ …              ┆ …             ┆ … ┆ …    ┆ …         ┆ …        ┆ …     │\n",
       "│ +    ┆ b2c29241-7bfa- ┆ 2025-02-04 10: ┆ null          ┆ … ┆ null ┆ null      ┆ null     ┆ null  │\n",
       "│      ┆ 4515-aebc-07b6 ┆ 32:48.945352   ┆               ┆   ┆      ┆           ┆          ┆       │\n",
       "│      ┆ 2b…            ┆ UTC            ┆               ┆   ┆      ┆           ┆          ┆       │\n",
       "│ +    ┆ 4e3a5eb1-0a0b- ┆ 2025-02-04 10: ┆ null          ┆ … ┆ null ┆ null      ┆ null     ┆ null  │\n",
       "│      ┆ 40f7-9995-043b ┆ 32:48.945352   ┆               ┆   ┆      ┆           ┆          ┆       │\n",
       "│      ┆ e5…            ┆ UTC            ┆               ┆   ┆      ┆           ┆          ┆       │\n",
       "│ +    ┆ c8a03e72-a228- ┆ 2025-02-04 10: ┆ null          ┆ … ┆ null ┆ null      ┆ null     ┆ null  │\n",
       "│      ┆ 5007-ad70-3cc3 ┆ 32:48.945352   ┆               ┆   ┆      ┆           ┆          ┆       │\n",
       "│      ┆ ab…            ┆ UTC            ┆               ┆   ┆      ┆           ┆          ┆       │\n",
       "│ +    ┆ 4f44a759-906d- ┆ 2025-02-04 10: ┆ null          ┆ … ┆ null ┆ null      ┆ null     ┆ null  │\n",
       "│      ┆ 568d-95b7-a57f ┆ 32:48.945352   ┆               ┆   ┆      ┆           ┆          ┆       │\n",
       "│      ┆ 77…            ┆ UTC            ┆               ┆   ┆      ┆           ┆          ┆       │\n",
       "│ +    ┆ 0ca10b42-0d56- ┆ 2025-02-04 10: ┆ null          ┆ … ┆ null ┆ null      ┆ null     ┆ null  │\n",
       "│      ┆ 5938-ad8e-cfa9 ┆ 32:48.945352   ┆               ┆   ┆      ┆           ┆          ┆       │\n",
       "│      ┆ 9b…            ┆ UTC            ┆               ┆   ┆      ┆           ┆          ┆       │\n",
       "└──────┴────────────────┴────────────────┴───────────────┴───┴──────┴───────────┴──────────┴───────┘"
      ]
     },
     "execution_count": 69,
     "metadata": {},
     "output_type": "execute_result"
    }
   ],
   "source": [
    "# edge_data = test.edge_data\n",
    "changes_schema.resource"
   ]
  },
  {
   "cell_type": "markdown",
   "metadata": {},
   "source": [
    "switch\n",
    "\n",
    "branch\n",
    "\n",
    "branch_parameter_event"
   ]
  },
  {
   "cell_type": "code",
   "execution_count": 63,
   "metadata": {},
   "outputs": [
    {
     "name": "stdout",
     "output_type": "stream",
     "text": [
      "shape: (57, 3)\n",
      "┌─────────────────────────────────┬─────────┬────────┐\n",
      "│ uuid                            ┆ line_id ┆ type   │\n",
      "│ ---                             ┆ ---     ┆ ---    │\n",
      "│ str                             ┆ str     ┆ str    │\n",
      "╞═════════════════════════════════╪═════════╪════════╡\n",
      "│ b4fdf239-cfe2-5453-91c3-84c1b2… ┆ line_1  ┆ branch │\n",
      "│ 3edce6fc-e164-5b3e-9b0d-8a1c86… ┆ line_2  ┆ branch │\n",
      "│ c173d7f3-f7ca-5f44-98d8-63c1aa… ┆ line_4  ┆ branch │\n",
      "│ c33afba9-0379-5d6a-9ca1-743cf7… ┆ line_5  ┆ branch │\n",
      "│ 020bd95c-9320-5560-9627-4bbe19… ┆ line_6  ┆ branch │\n",
      "│ …                               ┆ …       ┆ …      │\n",
      "│ 34edd04e-a827-5cf8-b233-43d285… ┆ line_55 ┆ branch │\n",
      "│ 9b34c19a-8b3e-54c6-9cd9-834bb5… ┆ line_56 ┆ branch │\n",
      "│ ec28307e-8860-52db-9611-713cad… ┆ line_57 ┆ branch │\n",
      "│ c8a03e72-a228-5007-ad70-3cc3ab… ┆ line_3  ┆ switch │\n",
      "│ 4f44a759-906d-568d-95b7-a57f77… ┆ line_9  ┆ switch │\n",
      "└─────────────────────────────────┴─────────┴────────┘\n"
     ]
    }
   ],
   "source": [
    "line_data = changes_schema.resource.filter(\n",
    "    (c(\"concrete_class\") == \"branch\") | (c(\"concrete_class\") == \"switch\")\n",
    ").select(c(\"uuid\"), c(\"dso_code\").alias(\"line_id\"), c(\"concrete_class\").alias(\"type\"))\n",
    "print(line_data)\n",
    "cn_mapping = pl_to_dict(\n",
    "    changes_schema.connectivity.select(\n",
    "        pl.concat_str(\"eq_fk\", \"side\").alias(\"id\"), \"uuid\"\n",
    "    )\n",
    ")\n",
    "## Add uuid of t1 and t2 for resource\n",
    "line_data = line_data.with_columns(\n",
    "    (c(\"uuid\") + \"t1\")\n",
    "    .replace_strict(cn_mapping, default=None)\n",
    "    .alias(\"u_of_edge\"),  # Replace eq_fk with uuid from connectivity for branch\n",
    "    (c(\"uuid\") + \"t2\").replace_strict(cn_mapping, default=None).alias(\"v_of_edge\"),\n",
    ")\n",
    "\n",
    "# Add branch parameter\n",
    "branch = changes_schema.branch_parameter_event[[\"uuid\", \"eq_fk\", \"r\", \"x\", \"b\", \"g\"]]\n",
    "# changes_schema.branch_parameter_event.select(\n",
    "#     c(\"uuid\"),\n",
    "#     # c(\"source_fk\"),\n",
    "#     c(\"eq_fk\"),\n",
    "#     c(\"r\"),\n",
    "#     c(\"r0\"),\n",
    "#     c(\"x\"),\n",
    "#     c(\"x0\"),\n",
    "#     c(\"b\"),\n",
    "#     c(\"b0\"),\n",
    "#     c(\"g\"),\n",
    "#     c(\"g0\"),\n",
    "# )\n",
    "# Add branch parameter to line_data\n",
    "line_data = line_data.join(branch, left_on=\"uuid\", right_on=\"eq_fk\", how=\"left\").drop(\n",
    "    \"uuid_right\"\n",
    ")"
   ]
  },
  {
   "cell_type": "code",
   "execution_count": 64,
   "metadata": {},
   "outputs": [
    {
     "data": {
      "text/html": [
       "<div><style>\n",
       ".dataframe > thead > tr,\n",
       ".dataframe > tbody > tr {\n",
       "  text-align: right;\n",
       "  white-space: pre-wrap;\n",
       "}\n",
       "</style>\n",
       "<small>shape: (57, 9)</small><table border=\"1\" class=\"dataframe\"><thead><tr><th>uuid</th><th>line_id</th><th>type</th><th>u_of_edge</th><th>v_of_edge</th><th>r</th><th>x</th><th>b</th><th>g</th></tr><tr><td>str</td><td>str</td><td>str</td><td>str</td><td>str</td><td>f64</td><td>f64</td><td>f64</td><td>f64</td></tr></thead><tbody><tr><td>&quot;b4fdf239-cfe2-5453-91c3-84c1b2…</td><td>&quot;line_1&quot;</td><td>&quot;branch&quot;</td><td>&quot;a517aafd-14bc-441a-b243-cf63c5…</td><td>&quot;97f67c24-31fc-4ddf-8ca2-4fd768…</td><td>0.0031</td><td>0.0018075</td><td>0.000005</td><td>0.0</td></tr><tr><td>&quot;3edce6fc-e164-5b3e-9b0d-8a1c86…</td><td>&quot;line_2&quot;</td><td>&quot;branch&quot;</td><td>&quot;d370b75d-1d91-4005-8807-3d9b8c…</td><td>&quot;3e174ad0-b046-4c3c-9b13-5b0b53…</td><td>0.03275</td><td>0.01834</td><td>0.000056</td><td>0.0</td></tr><tr><td>&quot;c173d7f3-f7ca-5f44-98d8-63c1aa…</td><td>&quot;line_4&quot;</td><td>&quot;branch&quot;</td><td>&quot;d190a4fd-4295-4a7c-8c92-796ae1…</td><td>&quot;ef08765c-ddb8-420d-b9ab-4bc2f0…</td><td>0.04848</td><td>0.0014576</td><td>0.000001</td><td>0.0</td></tr><tr><td>&quot;c33afba9-0379-5d6a-9ca1-743cf7…</td><td>&quot;line_5&quot;</td><td>&quot;branch&quot;</td><td>&quot;021b361f-aacb-4dbb-a977-f4d2b0…</td><td>&quot;4404297a-9802-4ce1-8a0c-b3f843…</td><td>0.00124</td><td>0.000723</td><td>0.000002</td><td>0.0</td></tr><tr><td>&quot;020bd95c-9320-5560-9627-4bbe19…</td><td>&quot;line_6&quot;</td><td>&quot;branch&quot;</td><td>&quot;5c4b2cd4-e815-4a2f-801a-d5d1dd…</td><td>&quot;cbc3f456-193d-49cc-9e0e-7a96c0…</td><td>0.006625</td><td>0.00371</td><td>0.000011</td><td>0.0</td></tr><tr><td>&hellip;</td><td>&hellip;</td><td>&hellip;</td><td>&hellip;</td><td>&hellip;</td><td>&hellip;</td><td>&hellip;</td><td>&hellip;</td><td>&hellip;</td></tr><tr><td>&quot;34edd04e-a827-5cf8-b233-43d285…</td><td>&quot;line_55&quot;</td><td>&quot;branch&quot;</td><td>&quot;c2bc64bd-9c9d-4f06-93ab-dc8b36…</td><td>&quot;ba270f09-f0ee-4da9-91b2-9442c1…</td><td>0.000868</td><td>0.0005061</td><td>0.000001</td><td>0.0</td></tr><tr><td>&quot;9b34c19a-8b3e-54c6-9cd9-834bb5…</td><td>&quot;line_56&quot;</td><td>&quot;branch&quot;</td><td>&quot;2ef67bc3-dedf-4908-9f93-002143…</td><td>&quot;f7f9f5b2-ae53-4786-9935-f4ee1a…</td><td>0.05151</td><td>0.0015487</td><td>0.000002</td><td>0.0</td></tr><tr><td>&quot;ec28307e-8860-52db-9611-713cad…</td><td>&quot;line_57&quot;</td><td>&quot;branch&quot;</td><td>&quot;7559c42b-ebc7-46c4-9734-e9b668…</td><td>&quot;95680be7-4036-4a7e-91b6-b701e4…</td><td>0.03939</td><td>0.0011843</td><td>0.000001</td><td>0.0</td></tr><tr><td>&quot;c8a03e72-a228-5007-ad70-3cc3ab…</td><td>&quot;line_3&quot;</td><td>&quot;switch&quot;</td><td>&quot;74c69851-f366-4707-acee-fe1f74…</td><td>&quot;2439e929-8699-4f5d-b7ca-98ab2f…</td><td>null</td><td>null</td><td>null</td><td>null</td></tr><tr><td>&quot;4f44a759-906d-568d-95b7-a57f77…</td><td>&quot;line_9&quot;</td><td>&quot;switch&quot;</td><td>&quot;6347fbc0-3423-4f16-a5bd-f7d349…</td><td>&quot;995d53c6-e88d-4e2c-93b5-d3524b…</td><td>null</td><td>null</td><td>null</td><td>null</td></tr></tbody></table></div>"
      ],
      "text/plain": [
       "shape: (57, 9)\n",
       "┌─────────────────┬─────────┬────────┬────────────────┬───┬──────────┬───────────┬──────────┬──────┐\n",
       "│ uuid            ┆ line_id ┆ type   ┆ u_of_edge      ┆ … ┆ r        ┆ x         ┆ b        ┆ g    │\n",
       "│ ---             ┆ ---     ┆ ---    ┆ ---            ┆   ┆ ---      ┆ ---       ┆ ---      ┆ ---  │\n",
       "│ str             ┆ str     ┆ str    ┆ str            ┆   ┆ f64      ┆ f64       ┆ f64      ┆ f64  │\n",
       "╞═════════════════╪═════════╪════════╪════════════════╪═══╪══════════╪═══════════╪══════════╪══════╡\n",
       "│ b4fdf239-cfe2-5 ┆ line_1  ┆ branch ┆ a517aafd-14bc- ┆ … ┆ 0.0031   ┆ 0.0018075 ┆ 0.000005 ┆ 0.0  │\n",
       "│ 453-91c3-84c1b2 ┆         ┆        ┆ 441a-b243-cf63 ┆   ┆          ┆           ┆          ┆      │\n",
       "│ …               ┆         ┆        ┆ c5…            ┆   ┆          ┆           ┆          ┆      │\n",
       "│ 3edce6fc-e164-5 ┆ line_2  ┆ branch ┆ d370b75d-1d91- ┆ … ┆ 0.03275  ┆ 0.01834   ┆ 0.000056 ┆ 0.0  │\n",
       "│ b3e-9b0d-8a1c86 ┆         ┆        ┆ 4005-8807-3d9b ┆   ┆          ┆           ┆          ┆      │\n",
       "│ …               ┆         ┆        ┆ 8c…            ┆   ┆          ┆           ┆          ┆      │\n",
       "│ c173d7f3-f7ca-5 ┆ line_4  ┆ branch ┆ d190a4fd-4295- ┆ … ┆ 0.04848  ┆ 0.0014576 ┆ 0.000001 ┆ 0.0  │\n",
       "│ f44-98d8-63c1aa ┆         ┆        ┆ 4a7c-8c92-796a ┆   ┆          ┆           ┆          ┆      │\n",
       "│ …               ┆         ┆        ┆ e1…            ┆   ┆          ┆           ┆          ┆      │\n",
       "│ c33afba9-0379-5 ┆ line_5  ┆ branch ┆ 021b361f-aacb- ┆ … ┆ 0.00124  ┆ 0.000723  ┆ 0.000002 ┆ 0.0  │\n",
       "│ d6a-9ca1-743cf7 ┆         ┆        ┆ 4dbb-a977-f4d2 ┆   ┆          ┆           ┆          ┆      │\n",
       "│ …               ┆         ┆        ┆ b0…            ┆   ┆          ┆           ┆          ┆      │\n",
       "│ 020bd95c-9320-5 ┆ line_6  ┆ branch ┆ 5c4b2cd4-e815- ┆ … ┆ 0.006625 ┆ 0.00371   ┆ 0.000011 ┆ 0.0  │\n",
       "│ 560-9627-4bbe19 ┆         ┆        ┆ 4a2f-801a-d5d1 ┆   ┆          ┆           ┆          ┆      │\n",
       "│ …               ┆         ┆        ┆ dd…            ┆   ┆          ┆           ┆          ┆      │\n",
       "│ …               ┆ …       ┆ …      ┆ …              ┆ … ┆ …        ┆ …         ┆ …        ┆ …    │\n",
       "│ 34edd04e-a827-5 ┆ line_55 ┆ branch ┆ c2bc64bd-9c9d- ┆ … ┆ 0.000868 ┆ 0.0005061 ┆ 0.000001 ┆ 0.0  │\n",
       "│ cf8-b233-43d285 ┆         ┆        ┆ 4f06-93ab-dc8b ┆   ┆          ┆           ┆          ┆      │\n",
       "│ …               ┆         ┆        ┆ 36…            ┆   ┆          ┆           ┆          ┆      │\n",
       "│ 9b34c19a-8b3e-5 ┆ line_56 ┆ branch ┆ 2ef67bc3-dedf- ┆ … ┆ 0.05151  ┆ 0.0015487 ┆ 0.000002 ┆ 0.0  │\n",
       "│ 4c6-9cd9-834bb5 ┆         ┆        ┆ 4908-9f93-0021 ┆   ┆          ┆           ┆          ┆      │\n",
       "│ …               ┆         ┆        ┆ 43…            ┆   ┆          ┆           ┆          ┆      │\n",
       "│ ec28307e-8860-5 ┆ line_57 ┆ branch ┆ 7559c42b-ebc7- ┆ … ┆ 0.03939  ┆ 0.0011843 ┆ 0.000001 ┆ 0.0  │\n",
       "│ 2db-9611-713cad ┆         ┆        ┆ 46c4-9734-e9b6 ┆   ┆          ┆           ┆          ┆      │\n",
       "│ …               ┆         ┆        ┆ 68…            ┆   ┆          ┆           ┆          ┆      │\n",
       "│ c8a03e72-a228-5 ┆ line_3  ┆ switch ┆ 74c69851-f366- ┆ … ┆ null     ┆ null      ┆ null     ┆ null │\n",
       "│ 007-ad70-3cc3ab ┆         ┆        ┆ 4707-acee-fe1f ┆   ┆          ┆           ┆          ┆      │\n",
       "│ …               ┆         ┆        ┆ 74…            ┆   ┆          ┆           ┆          ┆      │\n",
       "│ 4f44a759-906d-5 ┆ line_9  ┆ switch ┆ 6347fbc0-3423- ┆ … ┆ null     ┆ null      ┆ null     ┆ null │\n",
       "│ 68d-95b7-a57f77 ┆         ┆        ┆ 4f16-a5bd-f7d3 ┆   ┆          ┆           ┆          ┆      │\n",
       "│ …               ┆         ┆        ┆ 49…            ┆   ┆          ┆           ┆          ┆      │\n",
       "└─────────────────┴─────────┴────────┴────────────────┴───┴──────────┴───────────┴──────────┴──────┘"
      ]
     },
     "execution_count": 64,
     "metadata": {},
     "output_type": "execute_result"
    }
   ],
   "source": [
    "line_data"
   ]
  },
  {
   "cell_type": "code",
   "execution_count": 65,
   "metadata": {},
   "outputs": [],
   "source": [
    "node_id_list = (\n",
    "    line_data.unpivot(on=[\"u_of_edge\", \"v_of_edge\"], value_name=\"node_id\")\n",
    "    .unique(\"node_id\", keep=\"first\")[\"node_id\"]\n",
    "    .to_list()\n",
    ")\n",
    "node_id_to_nb_mapping = dict(zip(node_id_list, range(len(node_id_list))))\n",
    "node_nb_to_id_mapping = dict(zip(range(len(node_id_list)), node_id_list))\n",
    "\n",
    "line_data = line_data.with_columns(\n",
    "    c(col).replace_strict(node_id_to_nb_mapping, default=None).alias(col)\n",
    "    for col in [\"u_of_edge\", \"v_of_edge\"]\n",
    ")\n",
    "# ext_grid_nb = node_id_to_nb_mapping[ext_grid_id]"
   ]
  },
  {
   "cell_type": "code",
   "execution_count": 66,
   "metadata": {},
   "outputs": [
    {
     "data": {
      "text/plain": [
       "['f7f9f5b2-ae53-4786-9935-f4ee1a319d4c',\n",
       " '8d4f9a03-b38b-45d7-98f4-71df57e7f1b2',\n",
       " '254af29e-99ea-41a7-b06b-1d513f059b05',\n",
       " '218077d8-b950-4cd1-ae25-aad62758c649',\n",
       " '486ca599-f0a7-4167-a89f-b9a167407352',\n",
       " 'b869fbeb-5d96-472f-9e7c-d027c3aada8c',\n",
       " '4a4bb787-2786-449e-90fe-07299012251c',\n",
       " '5c4b2cd4-e815-4a2f-801a-d5d1dd11fc47',\n",
       " '6ad6c6f7-aa52-4662-92e2-61551cdcbb6b',\n",
       " 'cbc3f456-193d-49cc-9e0e-7a96c0f6439e',\n",
       " 'ea19d1d1-bb31-420d-b811-1042a9be14d5',\n",
       " '5c3e42fe-7623-4065-ac0d-6df4f91ab12b',\n",
       " 'd190a4fd-4295-4a7c-8c92-796ae117695b',\n",
       " '397c151c-9c43-407c-8176-e5584d58ad6e',\n",
       " '170b4b2d-320f-49f4-b551-c98e59a82953',\n",
       " 'bad8c34f-c16f-4a00-ab64-b56c082aab79',\n",
       " 'fa7bd651-a797-460a-abcb-c948b2c615a2',\n",
       " '45e1755a-9c9e-4464-aa6b-ecaf3d2f6095',\n",
       " 'c2bc64bd-9c9d-4f06-93ab-dc8b36832a9f',\n",
       " '24d6a18d-a0f2-443b-8b4b-ea2b951ab1a3',\n",
       " '2439e929-8699-4f5d-b7ca-98ab2fd95911',\n",
       " 'b451f77a-8f7c-4c40-8677-d46b9a93b8bf',\n",
       " '0397b202-3754-45bc-8424-ebc53ec561ae',\n",
       " '7f33fb8f-3c4f-44a5-b1b5-249c86cee991',\n",
       " '3e174ad0-b046-4c3c-9b13-5b0b5371ea5f',\n",
       " 'e477aa76-0326-4a87-80fe-81eee2ea208e',\n",
       " '56718cb6-a74e-425e-b311-d400f8e67932',\n",
       " '395ff341-ac65-467d-92c9-0ffd73179ae0',\n",
       " 'a4acb6f7-4be9-49bf-88fe-0cef0d140708',\n",
       " '42bcccdf-43e4-4662-85ea-50cb513333f5',\n",
       " '021b361f-aacb-4dbb-a977-f4d2b08b5028',\n",
       " '3164fb91-f118-44af-819a-63bdf7cd069e',\n",
       " 'bf08d064-69b3-41b9-9972-f826b078cccf',\n",
       " 'e6e809ff-b5c6-4a73-8f14-f35adc10cb38',\n",
       " 'd3d36ea5-6a70-4119-9320-c070a20b41c3',\n",
       " '7559c42b-ebc7-46c4-9734-e9b66883036b',\n",
       " '97f67c24-31fc-4ddf-8ca2-4fd768ed3092',\n",
       " '40133db6-5449-4619-aadf-673f56e8cf9e',\n",
       " '3a3599a5-323d-4faf-ae51-ce33a77167c5',\n",
       " '65435ac3-c4e3-4f9c-b656-f5913ffef55b',\n",
       " 'bea91bd0-6d0b-4454-85af-283af1a8c14a',\n",
       " '4c99942e-a22b-444d-acb5-4e32cbb1b3b4',\n",
       " '846fed77-7f82-4583-b2a8-788179143b8f',\n",
       " '907716dc-f1dc-4a9c-b828-4d88bf778aa1',\n",
       " '0b4d7887-5e56-487e-8d64-e16c80620a54',\n",
       " 'dcce080d-5b80-45ad-91c6-9b0c61835dfc',\n",
       " 'c69a73ef-2a6d-4c43-9b2e-a00982fd5b07',\n",
       " '39683590-9397-4f8e-9cea-bfb0c2ac7b04',\n",
       " 'c163b670-6aeb-4d4f-b2b1-21bfddf77732',\n",
       " '5a60e090-e6ea-4759-89a5-13a6138f5cbf',\n",
       " '95680be7-4036-4a7e-91b6-b701e400e7cb',\n",
       " '15301f9d-ce2e-4ab7-8e3c-4d9d3c5aa8fc',\n",
       " 'b8ff58b7-69c1-4690-9253-5d51395c0fb3',\n",
       " '120dd3c0-0659-4cc6-980f-7664d8378c8f',\n",
       " 'e5036e88-70e8-490b-854b-2964d46eee4c',\n",
       " 'e6bb3f43-8090-4e9a-81c0-d578b4eb97d6',\n",
       " '84527dec-eba4-46e5-9208-ec1070c9bf91',\n",
       " '9b708b5b-a1e4-466e-9fac-050c17ec76b7',\n",
       " '276c2cb4-c63b-4c70-acce-97a582e344f5',\n",
       " '2b08d9e1-896c-4e5a-8ae6-5a3e87216b21',\n",
       " '6347fbc0-3423-4f16-a5bd-f7d3492d3efb',\n",
       " 'ab705260-11a0-44bb-bb9c-15754ae193bc',\n",
       " 'ef08765c-ddb8-420d-b9ab-4bc2f0add97d',\n",
       " 'c8a950bc-a855-4604-a57e-b91ca40e74ae',\n",
       " '164192bd-dbbb-401e-b31d-965599e7d5ba',\n",
       " '285273b2-80ad-4b4d-8b33-7b1e2e287f04',\n",
       " 'e40f8200-a292-4129-b665-c89699f38e77',\n",
       " 'a8d61129-3d21-408f-b626-74c835831a33',\n",
       " 'a517aafd-14bc-441a-b243-cf63c5c2718b',\n",
       " '444a3f55-77a4-400f-a417-0ea58bf65e2c',\n",
       " 'acb80d9b-879a-4a83-bb61-19ac64736a11',\n",
       " '24b6c253-0d48-4abb-8dab-77f6bc8dcc93',\n",
       " '4404297a-9802-4ce1-8a0c-b3f84340866e',\n",
       " '3e0a613e-5e18-4307-ac34-2ecac4bf390d',\n",
       " 'ba270f09-f0ee-4da9-91b2-9442c14c16a1',\n",
       " 'f8bcffcc-5da5-4cab-9fc6-93de07e43d36',\n",
       " 'b0953119-ddd1-40e3-97df-4797d238f416',\n",
       " '2ef67bc3-dedf-4908-9f93-0021431e37c6',\n",
       " 'd5c856cc-f17f-4445-a942-84610edfda09',\n",
       " '24207f88-d6c8-4022-9a54-ca01d52446dd',\n",
       " '86a22602-a2d2-4351-84dd-d5ada79c6849',\n",
       " 'a5f2fc6c-8108-44e4-b152-bdcd201042ad',\n",
       " '28c456fb-9333-45d3-9793-05b2e9feffd3',\n",
       " '74c69851-f366-4707-acee-fe1f74aca067',\n",
       " '37f277d2-7fe3-45f9-8649-eb35357d4676',\n",
       " 'c59c44ec-4a50-478b-8d6e-12b2db99df23',\n",
       " '627bb0c4-989f-46e7-b8ea-a8b645eaa27c',\n",
       " 'a9403106-772c-4853-8df5-c19a19e7d237',\n",
       " '02ed7cdb-4d34-4ece-ae4e-96090158d6ab',\n",
       " '3c24b03d-9cd2-4100-a016-e6d306b9193c',\n",
       " '995d53c6-e88d-4e2c-93b5-d3524b01e0ef',\n",
       " '814ff4b0-a1a7-4efd-a3fc-ed79024c96e6',\n",
       " '0d71be9f-75ee-4b69-93b2-7f5bb573c865',\n",
       " '481b02e8-a252-412a-9a26-9525048d576b',\n",
       " '249e5f97-c151-45c3-95ad-cdd8f0a1a453',\n",
       " '46592b6a-0436-4721-8aa6-d3b305ac41af',\n",
       " '6298026f-cf58-4f0c-bee7-d29cecd6881f',\n",
       " 'd370b75d-1d91-4005-8807-3d9b8c30d3c5',\n",
       " '1a42af36-16aa-4101-afed-0e5a98110553',\n",
       " '08f61636-d4cd-4d72-a8e0-c1e09dbadefa',\n",
       " '25820004-994b-4516-a9d8-ad21cd5cda40',\n",
       " '81f77d8b-a0af-4d1f-94eb-61da0d59c517',\n",
       " 'e1efacb3-4885-4d27-a7da-f39c7b08f234',\n",
       " '5d9208e9-16ee-456f-8c61-27ccd50445fd',\n",
       " '6e960f94-43b2-407e-a794-f63f55790d99',\n",
       " 'eb5e2559-94f4-4bc6-b3fa-695a0486517b',\n",
       " 'c207a91f-56e3-47e0-8286-f85cdd6f4ef9',\n",
       " '725772f1-5a15-41d8-9b91-48731365934f',\n",
       " '4fed6d44-0a14-48ee-ad1e-e79482d84165',\n",
       " 'af8c5fd4-9bd8-4d6d-8918-b2e1da711b1f',\n",
       " '461e882c-58f0-4e3e-83da-efa5ff4c6929',\n",
       " 'd6b639ac-47cf-4fbe-a655-11777da88fa8',\n",
       " '20ebe8c5-2e49-4ce0-b831-aac472389cf4',\n",
       " 'f4e3e6c3-410b-4200-a26a-3e4893ae2375']"
      ]
     },
     "execution_count": 66,
     "metadata": {},
     "output_type": "execute_result"
    }
   ],
   "source": [
    "node_id_list"
   ]
  },
  {
   "cell_type": "code",
   "execution_count": 67,
   "metadata": {},
   "outputs": [],
   "source": [
    "# # from state_estimation_algorithm import StateEstimationData\n",
    "\n",
    "\n",
    "# class StateEstimationData:\n",
    "#     def __init__(self, changes_schema: dict):\n",
    "#         self.line_data: pl.DataFrame\n",
    "#         self.node_data: pl.DataFrame\n",
    "#         self.changes_schema = changes_schema\n",
    "\n",
    "#         self.generate_line_data()\n",
    "#     ### TODO when code is ok\n",
    "#     def generate_line_data(self):\n",
    "#         self.line_data = self.changes_schema.resource.filter(\n",
    "#             (c(\"concrete_class\") == \"branch\") | (c(\"concrete_class\") == \"switch\")\n",
    "#         ).select(\n",
    "#             c(\"uuid\"), c(\"dso_code\").alias(\"line_id\"), c(\"concrete_class\").alias(\"type\")\n",
    "#         )\n",
    "# stateestimationdata = StateEstimationData(changes_schema=changes_schema)"
   ]
  },
  {
   "cell_type": "code",
   "execution_count": 68,
   "metadata": {},
   "outputs": [
    {
     "ename": "NameError",
     "evalue": "name 'DistFlow' is not defined",
     "output_type": "error",
     "traceback": [
      "\u001b[0;31m---------------------------------------------------------------------------\u001b[0m",
      "\u001b[0;31mNameError\u001b[0m                                 Traceback (most recent call last)",
      "Cell \u001b[0;32mIn[68], line 30\u001b[0m\n\u001b[1;32m     19\u001b[0m node_data: pl\u001b[38;5;241m.\u001b[39mDataFrame \u001b[38;5;241m=\u001b[39m pl\u001b[38;5;241m.\u001b[39mDataFrame(\n\u001b[1;32m     20\u001b[0m     {\n\u001b[1;32m     21\u001b[0m         \u001b[38;5;124m\"\u001b[39m\u001b[38;5;124mnode_id\u001b[39m\u001b[38;5;124m\"\u001b[39m: np\u001b[38;5;241m.\u001b[39marange(\u001b[38;5;241m1\u001b[39m, \u001b[38;5;241m14\u001b[39m)\u001b[38;5;241m.\u001b[39mastype(\u001b[38;5;28mstr\u001b[39m),\n\u001b[0;32m   (...)\u001b[0m\n\u001b[1;32m     26\u001b[0m     strict\u001b[38;5;241m=\u001b[39m\u001b[38;5;28;01mFalse\u001b[39;00m,\n\u001b[1;32m     27\u001b[0m )\n\u001b[1;32m     29\u001b[0m np\u001b[38;5;241m.\u001b[39mset_printoptions(linewidth\u001b[38;5;241m=\u001b[39m\u001b[38;5;241m200\u001b[39m)\n\u001b[0;32m---> 30\u001b[0m distflow \u001b[38;5;241m=\u001b[39m \u001b[43mDistFlow\u001b[49m(line_data\u001b[38;5;241m=\u001b[39mline_data, ext_grid_id\u001b[38;5;241m=\u001b[39mext_grid_id)\n\u001b[1;32m     31\u001b[0m node_data \u001b[38;5;241m=\u001b[39m node_data\u001b[38;5;241m.\u001b[39mwith_columns(\n\u001b[1;32m     32\u001b[0m     c(\u001b[38;5;124m\"\u001b[39m\u001b[38;5;124mnode_id\u001b[39m\u001b[38;5;124m\"\u001b[39m)\n\u001b[1;32m     33\u001b[0m     \u001b[38;5;241m.\u001b[39mreplace_strict(distflow\u001b[38;5;241m.\u001b[39mnode_id_to_nb_mapping, default\u001b[38;5;241m=\u001b[39m\u001b[38;5;28;01mNone\u001b[39;00m)\n\u001b[1;32m     34\u001b[0m     \u001b[38;5;241m.\u001b[39malias(\u001b[38;5;124m\"\u001b[39m\u001b[38;5;124midx\u001b[39m\u001b[38;5;124m\"\u001b[39m)\n\u001b[1;32m     35\u001b[0m )\u001b[38;5;241m.\u001b[39msort(\u001b[38;5;124m\"\u001b[39m\u001b[38;5;124midx\u001b[39m\u001b[38;5;124m\"\u001b[39m)\n\u001b[1;32m     36\u001b[0m v0_sq \u001b[38;5;241m=\u001b[39m distflow\u001b[38;5;241m.\u001b[39mv_in_sq_np \u001b[38;5;241m*\u001b[39m v_ext_grid_sq\n",
      "\u001b[0;31mNameError\u001b[0m: name 'DistFlow' is not defined"
     ]
    }
   ],
   "source": [
    "ext_grid_id = \"1\"\n",
    "n = 0.95\n",
    "v_ext_grid_sq = 1.05\n",
    "\n",
    "line_data: pl.DataFrame = pl.DataFrame(\n",
    "    {\n",
    "        \"line_id\": np.arange(1, 13).astype(str),\n",
    "        \"type\": [\"branch\"] * 10 + [\"transformer\"] * 2,\n",
    "        \"u_of_edge\": [\"2\", \"2\", \"2\", \"4\", \"5\", \"6\", \"7\", \"10\", \"12\", \"13\", \"8\", \"9\"],\n",
    "        \"v_of_edge\": [\"11\", \"1\", \"3\", \"1\", \"4\", \"4\", \"8\", \"9\", \"11\", \"11\", \"4\", \"8\"],\n",
    "        \"n_transfo\": [1.0] * 10 + [n**2, n**2],\n",
    "        \"x_pu\": np.arange(1, 13) * 2e-3,\n",
    "        \"r_pu\": np.arange(1, 13) * 1e-3,\n",
    "        \"b_pu\": list(np.arange(1, 11) * -1e-3) + [0.001, 0.001],\n",
    "        \"g_pu\": [0.0] * 10 + [0.001, 0.001],\n",
    "    }\n",
    ")\n",
    "\n",
    "node_data: pl.DataFrame = pl.DataFrame(\n",
    "    {\n",
    "        \"node_id\": np.arange(1, 14).astype(str),\n",
    "        \"v_base\": [400.0] * 7 + [200.0, 400.0, 400.0, 200.0, 100.0, 100.0],\n",
    "        \"p_node_pu\": np.array([0, 10, 2, 0, 0, -2, 0, 7, 25, 0, 100, 0.5, 10]) * 1e-2,\n",
    "        \"q_node_pu\": np.array([0, 0, 0.2, 2, 0, -0.2, 0, 0.7, 0, 0, 0, 0.5, 1]) * 1e-2,\n",
    "    },\n",
    "    strict=False,\n",
    ")\n",
    "\n",
    "np.set_printoptions(linewidth=200)\n",
    "distflow = DistFlow(line_data=line_data, ext_grid_id=ext_grid_id)\n",
    "node_data = node_data.with_columns(\n",
    "    c(\"node_id\")\n",
    "    .replace_strict(distflow.node_id_to_nb_mapping, default=None)\n",
    "    .alias(\"idx\")\n",
    ").sort(\"idx\")\n",
    "v0_sq = distflow.v_in_sq_np * v_ext_grid_sq\n",
    "\n",
    "s_node = node_data[\"p_node_pu\"].to_numpy() + 1j * node_data[\"q_node_pu\"].to_numpy()\n",
    "\n",
    "tic = time.time()\n",
    "s_flow, v, i = distflow.distflow_algorithm(s_node=s_node, v0_sq=v0_sq, engine=\"numpy\")\n",
    "print(\"numpy:\", time.time() - tic)\n",
    "\n",
    "tic = time.time()\n",
    "s_flow, v, i = distflow.distflow_algorithm(\n",
    "    s_node=s_node, v0_sq=v0_sq, engine=\"graphblas\"\n",
    ")\n",
    "print(\"graphblas:\", time.time() - tic)"
   ]
  },
  {
   "cell_type": "code",
   "execution_count": null,
   "metadata": {},
   "outputs": [
    {
     "name": "stdout",
     "output_type": "stream",
     "text": [
      "f: 0.012090921401977539\n"
     ]
    }
   ],
   "source": [
    "s_base = 1e6\n",
    "net: pp.pandapowerNet = pp.from_pickle(\"data/input_grid/modified_cigre_network_lv.p\")\n",
    "tic = time.time()\n",
    "pp.runpp(net)\n",
    "print(\"f:\", time.time() - tic)"
   ]
  },
  {
   "cell_type": "code",
   "execution_count": null,
   "metadata": {},
   "outputs": [],
   "source": [
    "ext_grid_id: str = str(net.ext_grid[\"bus\"][0])\n",
    "v_ext_grid_sq: float = net.ext_grid[\"vm_pu\"][0] ** 2\n",
    "node_data, line_data = pandapower_to_distflow(net=net, s_base=s_base)\n",
    "distflow: DistFlow = DistFlow(line_data=line_data, ext_grid_id=ext_grid_id)"
   ]
  },
  {
   "cell_type": "code",
   "execution_count": null,
   "metadata": {},
   "outputs": [
    {
     "name": "stdout",
     "output_type": "stream",
     "text": [
      "numpy: 5.9482645988464355\n",
      "graphblas: 0.09949016571044922\n"
     ]
    }
   ],
   "source": [
    "node_data = node_data.with_columns(\n",
    "    c(\"node_id\")\n",
    "    .replace_strict(distflow.node_id_to_nb_mapping, default=None)\n",
    "    .alias(\"idx\")\n",
    ").sort(\"idx\")\n",
    "v0_sq = distflow.v_in_sq_np * v_ext_grid_sq\n",
    "s_node = node_data[\"p_node_pu\"].to_numpy() + 1j * node_data[\"q_node_pu\"].to_numpy()\n",
    "\n",
    "tic = time.time()\n",
    "s_flow, v, i = distflow.distflow_algorithm(s_node=s_node, v0_sq=v0_sq, engine=\"numpy\")\n",
    "print(\"numpy:\", time.time() - tic)\n",
    "\n",
    "tic = time.time()\n",
    "s_flow, v, i = distflow.distflow_algorithm(\n",
    "    s_node=s_node, v0_sq=v0_sq, engine=\"graphblas\"\n",
    ")\n",
    "print(\"graphblas:\", time.time() - tic)"
   ]
  },
  {
   "cell_type": "code",
   "execution_count": null,
   "metadata": {},
   "outputs": [
    {
     "name": "stdout",
     "output_type": "stream",
     "text": [
      "shape: (1, 3)\n",
      "┌──────────┬──────────┬──────────┐\n",
      "│ diff_v   ┆ diff_p   ┆ diff_q   │\n",
      "│ ---      ┆ ---      ┆ ---      │\n",
      "│ f64      ┆ f64      ┆ f64      │\n",
      "╞══════════╪══════════╪══════════╡\n",
      "│ 0.000392 ┆ 0.000182 ┆ 0.010306 │\n",
      "└──────────┴──────────┴──────────┘\n"
     ]
    }
   ],
   "source": [
    "line_res_pp = pl.DataFrame(\n",
    "    {\n",
    "        \"node_id\": list(net.line[\"to_bus\"].astype(str)),\n",
    "        \"p_pp\": list(net.res_line[\"p_from_mw\"]),\n",
    "        \"q_pp\": list(net.res_line[\"q_from_mvar\"]),\n",
    "    }\n",
    ")\n",
    "\n",
    "node_res_pp = pl.from_pandas(net.res_bus[\"vm_pu\"], include_index=True).select(\n",
    "    c(\"index\").cast(pl.Utf8).alias(\"node_id\"), \"vm_pu\"\n",
    ")\n",
    "\n",
    "result = (\n",
    "    pl.DataFrame(\n",
    "        {\n",
    "            \"v\": np.sqrt(v),\n",
    "            \"p\": np.real(s_flow),\n",
    "            \"q\": np.imag(s_flow),\n",
    "        }\n",
    "    )\n",
    "    .with_row_index(name=\"node_id\")\n",
    "    .with_columns(\n",
    "        c(\"node_id\")\n",
    "        .replace_strict(distflow.node_nb_to_id_mapping, default=None)\n",
    "        .alias(\"node_id\")\n",
    "    )\n",
    "    .join(line_res_pp, on=\"node_id\", how=\"left\")\n",
    "    .join(node_res_pp, on=\"node_id\", how=\"left\")\n",
    "    .with_columns(\n",
    "        ((c(\"v\") - c(\"vm_pu\")) / c(\"vm_pu\")).abs().alias(\"diff_v\"),\n",
    "        ((c(\"p\") - c(\"p_pp\")) / c(\"p_pp\")).abs().alias(\"diff_p\"),\n",
    "        ((c(\"q\") - c(\"q_pp\")) / c(\"p_pp\")).abs().alias(\"diff_q\"),\n",
    "    )\n",
    ")\n",
    "print(result[\"diff_v\", \"diff_p\", \"diff_q\"].max())"
   ]
  },
  {
   "cell_type": "code",
   "execution_count": null,
   "metadata": {},
   "outputs": [
    {
     "name": "stdout",
     "output_type": "stream",
     "text": [
      "f: 0.5935556888580322\n"
     ]
    }
   ],
   "source": [
    "net: pp.pandapowerNet = pp.from_pickle(\"data/input_grid/synthesized_grid.p\")\n",
    "net.trafo[\"i0_percent\"] = 2\n",
    "tic = time.time()\n",
    "pp.runpp(net)\n",
    "print(\"f:\", time.time() - tic)"
   ]
  },
  {
   "cell_type": "code",
   "execution_count": null,
   "metadata": {},
   "outputs": [],
   "source": [
    "s_base = 1e6\n",
    "ext_grid_id: str = str(net.ext_grid[\"bus\"][0])\n",
    "v_ext_grid_sq: float = net.ext_grid[\"vm_pu\"][0] ** 2\n",
    "\n",
    "node_data, line_data = pandapower_to_distflow(net=net, s_base=s_base)\n",
    "distflow = DistFlow(line_data=line_data, ext_grid_id=ext_grid_id)"
   ]
  },
  {
   "cell_type": "code",
   "execution_count": null,
   "metadata": {},
   "outputs": [
    {
     "name": "stdout",
     "output_type": "stream",
     "text": [
      "numpy: 9.821000337600708\n",
      "graphblas: 0.08703160285949707\n"
     ]
    }
   ],
   "source": [
    "node_data = node_data.with_columns(\n",
    "    c(\"node_id\")\n",
    "    .replace_strict(distflow.node_id_to_nb_mapping, default=None)\n",
    "    .alias(\"idx\")\n",
    ").sort(\"idx\")\n",
    "v0_sq = distflow.v_in_sq_np * v_ext_grid_sq\n",
    "s_node = node_data[\"p_node_pu\"].to_numpy() + 1j * node_data[\"q_node_pu\"].to_numpy()\n",
    "\n",
    "tic = time.time()\n",
    "s_flow, v, i = distflow.distflow_algorithm(s_node=s_node, v0_sq=v0_sq, engine=\"numpy\")\n",
    "print(\"numpy:\", time.time() - tic)\n",
    "\n",
    "tic = time.time()\n",
    "s_flow, v, i = distflow.distflow_algorithm(\n",
    "    s_node=s_node, v0_sq=v0_sq, engine=\"graphblas\"\n",
    ")\n",
    "print(\"graphblas:\", time.time() - tic)"
   ]
  },
  {
   "cell_type": "code",
   "execution_count": null,
   "metadata": {},
   "outputs": [],
   "source": [
    "line_data = line_data.group_by(\"u_of_edge\", \"v_of_edge\").agg(\n",
    "    c(\"name\", \"n_transfo\", \"type\").first(),\n",
    "    c(\"r_pu\", \"x_pu\").first() / c(\"r_pu\", \"x_pu\").count(),\n",
    "    c(\"g_pu\", \"b_pu\").first() * c(\"g_pu\", \"b_pu\").count(),\n",
    ")"
   ]
  }
 ],
 "metadata": {
  "kernelspec": {
   "display_name": ".venv",
   "language": "python",
   "name": "python3"
  },
  "language_info": {
   "codemirror_mode": {
    "name": "ipython",
    "version": 3
   },
   "file_extension": ".py",
   "mimetype": "text/x-python",
   "name": "python",
   "nbconvert_exporter": "python",
   "pygments_lexer": "ipython3",
   "version": "3.12.7"
  }
 },
 "nbformat": 4,
 "nbformat_minor": 2
}
