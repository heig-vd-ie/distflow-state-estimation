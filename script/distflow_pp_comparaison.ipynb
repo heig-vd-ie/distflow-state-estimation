{
 "cells": [
  {
   "cell_type": "code",
   "execution_count": null,
   "metadata": {},
   "outputs": [],
   "source": [
    "import json\n",
    "from config import settings\n",
    "import os\n",
    "\n",
    "\n",
    "import polars as pl\n",
    "from polars import col as c\n",
    "from polars import selectors as cs\n",
    "import networkx as nx\n",
    "from networkx_function import generate_nx_edge\n",
    "from typing_extensions import Union\n",
    "import numpy as np\n",
    "import scipy as sp\n",
    "\n",
    "# from distflow_algorithm import DistFlow\n",
    "import time\n",
    "import pandapower as pp\n",
    "import pandapower.networks as pn\n",
    "from polars_function import (\n",
    "    get_transfo_admittance,\n",
    "    get_transfo_impedance,\n",
    "    get_transfo_conductance,\n",
    "    get_transfo_imaginary_component,\n",
    ")\n",
    "\n",
    "from data_connector import pandapower_to_distflow\n",
    "from general_function import duckdb_to_dict, dict_to_duckdb, pl_to_dict\n",
    "from networkx_function import get_all_edge_data, generate_shortest_path_length_matrix\n",
    "import graphblas as gb\n",
    "from utility.parser_utility import duckdb_to_changes_schema\n",
    "\n",
    "from twindigrid_sql.entries.equipment_class import (\n",
    "    TRANSFORMER,\n",
    "    BRANCH,\n",
    "    SWITCH,\n",
    "    EXTERNAL_NETWORK,\n",
    ")\n",
    "\n",
    "from distflow_schema import DistFlowSchema\n",
    "\n",
    "from state_estimation.matrix_generators import generate_full_jacobian_matrix\n",
    "\n",
    "# Useless outside jupiternotebook because in settings.py a line that changes the directory to src for ipynb\n",
    "os.chdir(os.getcwd().replace(\"/src\", \"\"))"
   ]
  },
  {
   "cell_type": "markdown",
   "metadata": {},
   "source": [
    "## Import Schema from duckdb"
   ]
  },
  {
   "cell_type": "code",
   "execution_count": null,
   "metadata": {},
   "outputs": [],
   "source": [
    "file_names: dict[str, str] = json.load(open(settings.INPUT_FILE_NAMES))\n",
    "changes_schema = duckdb_to_changes_schema(file_path=file_names[\"duckdb_output\"])\n",
    "list(changes_schema.__dict__.keys())"
   ]
  },
  {
   "cell_type": "markdown",
   "metadata": {},
   "source": [
    "## Create resource data"
   ]
  },
  {
   "cell_type": "code",
   "execution_count": null,
   "metadata": {},
   "outputs": [],
   "source": [
    "TRANSFORMER\n",
    "BRANCH\n",
    "SWITCH\n",
    "EXTERNAL_NETWORK"
   ]
  },
  {
   "cell_type": "code",
   "execution_count": null,
   "metadata": {},
   "outputs": [],
   "source": [
    "resource_data = changes_schema.resource.filter(\n",
    "    (c(\"concrete_class\") == BRANCH)\n",
    "    | (c(\"concrete_class\") == SWITCH)\n",
    "    | (c(\"concrete_class\") == TRANSFORMER)\n",
    "    | (c(\"concrete_class\") == EXTERNAL_NETWORK)\n",
    ").select(\n",
    "    c(\"uuid\"), c(\"dso_code\").alias(\"element_id\"), c(\"concrete_class\").alias(\"type\")\n",
    ")\n",
    "\n",
    "## Add row index to connectivity_node to give the number of node\n",
    "## Join connectivity_node with connectivity to get the eq_fk\n",
    "## Create the connectivity_node dictionnary with side+eq_fk as key and node index as value\n",
    "cn_mapping: dict[float, str] = pl_to_dict(\n",
    "    changes_schema.connectivity_node.with_row_index()\n",
    "    .join(changes_schema.connectivity, left_on=\"uuid\", right_on=\"cn_fk\", how=\"left\")\n",
    "    .select((c(\"side\") + c(\"eq_fk\")).alias(\"eq_fk_side\"), c(\"index\"))\n",
    ")\n",
    "\n",
    "## Add node from and node to for each edge with side+eq_fk\n",
    "resource_data = resource_data.with_columns(\n",
    "    (\"t1\" + c(\"uuid\"))\n",
    "    .replace_strict(cn_mapping, default=None)\n",
    "    .alias(\n",
    "        \"u_of_edge\"\n",
    "    ),  # Replace side+eq_fk with node number from connectivity for equipment\n",
    "    (\"t2\" + c(\"uuid\")).replace_strict(cn_mapping, default=None).alias(\"v_of_edge\"),\n",
    ")\n",
    "# Add branch parameter\n",
    "branch = changes_schema.branch_parameter_event[[\"uuid\", \"eq_fk\", \"r\", \"x\", \"b\", \"g\"]]\n",
    "\n",
    "# Add branch parameter to line_data\n",
    "resource_data = resource_data.join(\n",
    "    branch, left_on=\"uuid\", right_on=\"eq_fk\", how=\"left\"\n",
    ").drop(\"uuid_right\")\n",
    "## Add n_tranfo to 1, useless, because automatically added by add_table from class DistFlowSchema and by default value is 1\n",
    "# resource_data = resource_data.with_columns(pl.lit(1).alias(\"n_tranfo\"))\n",
    "\n",
    "## Search slack node id for DisFlowSchema\n",
    "slack_node_id = resource_data.filter(c(\"type\") == EXTERNAL_NETWORK)[\n",
    "    \"u_of_edge\"\n",
    "].item()\n",
    "\n",
    "## Remove the external network from the resource_data\n",
    "resource_data = resource_data.filter(c(\"type\") != EXTERNAL_NETWORK)"
   ]
  },
  {
   "cell_type": "markdown",
   "metadata": {},
   "source": [
    "## Transform resource_data in pu"
   ]
  },
  {
   "cell_type": "code",
   "execution_count": null,
   "metadata": {},
   "outputs": [],
   "source": [
    "## Transfo in pu\n",
    "s_base = 1e6  # VA -> 1 MVA for distribution grid\n",
    "\n",
    "u_b = changes_schema.base_voltage[\"nominal_voltage\"].item()  # V\n",
    "i_b = s_base / (3**0.5 * U_b)  # A\n",
    "z_b = u_b**2 / s_base  # Ohm\n",
    "b_b = 1 / Z_b  # S\n",
    "\n",
    "\n",
    "pu_base_changes_schema = {\n",
    "    \"U_b\": u_b,\n",
    "    \"I_b\": i_b,\n",
    "    \"Z_b\": z_b,\n",
    "    \"B_b\": b_b,\n",
    "    \"S_base\": s_base,\n",
    "}\n",
    "\n",
    "resource_data_pu = resource_data.with_columns(\n",
    "    (c(\"g\") * pu_base_changes_schema[\"Z_b\"]).alias(\"g_pu\"),\n",
    "    (c(\"r\") / pu_base_changes_schema[\"Z_b\"]).alias(\"r_pu\"),\n",
    "    (c(\"x\") / pu_base_changes_schema[\"Z_b\"]).alias(\"x_pu\"),\n",
    "    (c(\"b\") / pu_base_changes_schema[\"B_b\"]).alias(\"b_pu\"),\n",
    ").drop([\"r\", \"x\", \"b\", \"g\"])"
   ]
  },
  {
   "cell_type": "markdown",
   "metadata": {},
   "source": [
    "## Check if B is negativ for branch and positiv for trafo"
   ]
  },
  {
   "cell_type": "code",
   "execution_count": null,
   "metadata": {},
   "outputs": [],
   "source": [
    "## If type is transformer, then b_pu is positive, otherwise negative\n",
    "resource_data_pu = resource_data_pu.with_columns(\n",
    "    pl.when(c(\"type\") == TRANSFORMER)\n",
    "    .then(c(\"b_pu\").abs())\n",
    "    .otherwise(\n",
    "        pl.when((c(\"type\") == BRANCH) | (c(\"type\") == SWITCH)).then(\n",
    "            c(\"b_pu\").abs().neg()\n",
    "        )\n",
    "    )\n",
    ")"
   ]
  },
  {
   "cell_type": "code",
   "execution_count": null,
   "metadata": {},
   "outputs": [],
   "source": [
    "## Create the DistFlowSchema instance\n",
    "distflow_schema = DistFlowSchema()\n",
    "## Add edge_data table to the DistFlowSchema instance\n",
    "distflow_schema = distflow_schema.add_table(edge_data=resource_data_pu)"
   ]
  },
  {
   "cell_type": "code",
   "execution_count": null,
   "metadata": {},
   "outputs": [],
   "source": [
    "generate_full_jacobian_matrix(distflow_schema, slack_node_id)"
   ]
  },
  {
   "cell_type": "code",
   "execution_count": null,
   "metadata": {},
   "outputs": [],
   "source": [
    "## u, v and unpivot\n",
    "# line_data.pivot(index=\"eq_class\", on=\"side\", values=\"node_number\")\n",
    "## add r,x,b,g in pu\n",
    "\n",
    "## import type (switch, branch, transformer) from table\n",
    "\n",
    "## add n_trafo\n",
    "# distflow_data = line_data.filter().pivot....."
   ]
  },
  {
   "cell_type": "code",
   "execution_count": null,
   "metadata": {},
   "outputs": [],
   "source": [
    "# edge_data: pl.DataFrame = line_data\n",
    "# u_of_edge: int = pt.Field(dtype=pl.Int32)\n",
    "# v_of_edge: int = pt.Field(dtype=pl.Int32)\n",
    "# r_pu: float = pt.Field(dtype=pl.Float64, default=0.0)\n",
    "# x_pu: float = pt.Field(dtype=pl.Float64, default=0.0)\n",
    "# b_pu: float = pt.Field(dtype=pl.Float64, default=0.0)\n",
    "# g_pu: float = pt.Field(dtype=pl.Float64, default=0.0)\n",
    "# n_transfo: float = pt.Field(dtype=pl.Float64, default=1.0)\n",
    "# type: TYPES = pt.Field(dtype=pl.Utf8, constraints=literal_constraint(pt.field, TYPES))"
   ]
  },
  {
   "cell_type": "markdown",
   "metadata": {},
   "source": [
    "## Filter data and create distflowschema"
   ]
  },
  {
   "cell_type": "code",
   "execution_count": null,
   "metadata": {},
   "outputs": [],
   "source": [
    "# edge_data = 1\n",
    "# test = DistFlowSchema(edge_data)"
   ]
  },
  {
   "cell_type": "code",
   "execution_count": null,
   "metadata": {},
   "outputs": [],
   "source": []
  },
  {
   "cell_type": "code",
   "execution_count": null,
   "metadata": {},
   "outputs": [],
   "source": [
    "# edge_data = test.edge_data\n",
    "changes_schema.resource"
   ]
  },
  {
   "cell_type": "markdown",
   "metadata": {},
   "source": [
    "switch\n",
    "\n",
    "branch\n",
    "\n",
    "branch_parameter_event"
   ]
  },
  {
   "cell_type": "code",
   "execution_count": null,
   "metadata": {},
   "outputs": [],
   "source": [
    "line_data = changes_schema.resource.filter(\n",
    "    (c(\"concrete_class\") == BRANCH) | (c(\"concrete_class\") == SWITCH)\n",
    ").select(c(\"uuid\"), c(\"dso_code\").alias(\"line_id\"), c(\"concrete_class\").alias(\"type\"))\n",
    "print(line_data)\n",
    "cn_mapping = pl_to_dict(\n",
    "    changes_schema.connectivity.select(\n",
    "        pl.concat_str(\"eq_fk\", \"side\").alias(\"id\"), \"uuid\"\n",
    "    )\n",
    ")\n",
    "## Add uuid of t1 and t2 for resource\n",
    "line_data = line_data.with_columns(\n",
    "    (c(\"uuid\") + \"t1\")\n",
    "    .replace_strict(cn_mapping, default=None)\n",
    "    .alias(\"u_of_edge\"),  # Replace eq_fk with uuid from connectivity for branch\n",
    "    (c(\"uuid\") + \"t2\").replace_strict(cn_mapping, default=None).alias(\"v_of_edge\"),\n",
    ")\n",
    "\n",
    "# Add branch parameter\n",
    "branch = changes_schema.branch_parameter_event[[\"uuid\", \"eq_fk\", \"r\", \"x\", \"b\", \"g\"]]\n",
    "# changes_schema.branch_parameter_event.select(\n",
    "#     c(\"uuid\"),\n",
    "#     # c(\"source_fk\"),\n",
    "#     c(\"eq_fk\"),\n",
    "#     c(\"r\"),\n",
    "#     c(\"r0\"),\n",
    "#     c(\"x\"),\n",
    "#     c(\"x0\"),\n",
    "#     c(\"b\"),\n",
    "#     c(\"b0\"),\n",
    "#     c(\"g\"),\n",
    "#     c(\"g0\"),\n",
    "# )\n",
    "# Add branch parameter to line_data\n",
    "line_data = line_data.join(branch, left_on=\"uuid\", right_on=\"eq_fk\", how=\"left\").drop(\n",
    "    \"uuid_right\"\n",
    ")"
   ]
  },
  {
   "cell_type": "code",
   "execution_count": null,
   "metadata": {},
   "outputs": [],
   "source": [
    "node_id_list = (\n",
    "    line_data.unpivot(on=[\"u_of_edge\", \"v_of_edge\"], value_name=\"node_id\")\n",
    "    .unique(\"node_id\", keep=\"first\")[\"node_id\"]\n",
    "    .to_list()\n",
    ")\n",
    "node_id_to_nb_mapping = dict(zip(node_id_list, range(len(node_id_list))))\n",
    "node_nb_to_id_mapping = dict(zip(range(len(node_id_list)), node_id_list))\n",
    "\n",
    "line_data = line_data.with_columns(\n",
    "    c(col).replace_strict(node_id_to_nb_mapping, default=None).alias(col)\n",
    "    for col in [\"u_of_edge\", \"v_of_edge\"]\n",
    ")\n",
    "# ext_grid_nb = node_id_to_nb_mapping[ext_grid_id]"
   ]
  },
  {
   "cell_type": "code",
   "execution_count": null,
   "metadata": {},
   "outputs": [],
   "source": [
    "# # from state_estimation_algorithm import StateEstimationData\n",
    "\n",
    "\n",
    "# class StateEstimationData:\n",
    "#     def __init__(self, changes_schema: dict):\n",
    "#         self.line_data: pl.DataFrame\n",
    "#         self.node_data: pl.DataFrame\n",
    "#         self.changes_schema = changes_schema\n",
    "\n",
    "#         self.generate_line_data()\n",
    "#     ### TODO when code is ok\n",
    "#     def generate_line_data(self):\n",
    "#         self.line_data = self.changes_schema.resource.filter(\n",
    "#             (c(\"concrete_class\") == BRANCH) | (c(\"concrete_class\") == SWITCH)\n",
    "#         ).select(\n",
    "#             c(\"uuid\"), c(\"dso_code\").alias(\"line_id\"), c(\"concrete_class\").alias(\"type\")\n",
    "#         )\n",
    "# stateestimationdata = StateEstimationData(changes_schema=changes_schema)"
   ]
  },
  {
   "cell_type": "code",
   "execution_count": null,
   "metadata": {},
   "outputs": [],
   "source": [
    "ext_grid_id = \"1\"\n",
    "n = 0.95\n",
    "v_ext_grid_sq = 1.05\n",
    "\n",
    "line_data: pl.DataFrame = pl.DataFrame(\n",
    "    {\n",
    "        \"line_id\": np.arange(1, 13).astype(str),\n",
    "        \"type\": [BRANCH] * 10 + [TRANSFORMER] * 2,\n",
    "        \"u_of_edge\": [\"2\", \"2\", \"2\", \"4\", \"5\", \"6\", \"7\", \"10\", \"12\", \"13\", \"8\", \"9\"],\n",
    "        \"v_of_edge\": [\"11\", \"1\", \"3\", \"1\", \"4\", \"4\", \"8\", \"9\", \"11\", \"11\", \"4\", \"8\"],\n",
    "        \"n_transfo\": [1.0] * 10 + [n**2, n**2],\n",
    "        \"x_pu\": np.arange(1, 13) * 2e-3,\n",
    "        \"r_pu\": np.arange(1, 13) * 1e-3,\n",
    "        \"b_pu\": list(np.arange(1, 11) * -1e-3) + [0.001, 0.001],\n",
    "        \"g_pu\": [0.0] * 10 + [0.001, 0.001],\n",
    "    }\n",
    ")\n",
    "\n",
    "node_data: pl.DataFrame = pl.DataFrame(\n",
    "    {\n",
    "        \"node_id\": np.arange(1, 14).astype(str),\n",
    "        \"v_base\": [400.0] * 7 + [200.0, 400.0, 400.0, 200.0, 100.0, 100.0],\n",
    "        \"p_node_pu\": np.array([0, 10, 2, 0, 0, -2, 0, 7, 25, 0, 100, 0.5, 10]) * 1e-2,\n",
    "        \"q_node_pu\": np.array([0, 0, 0.2, 2, 0, -0.2, 0, 0.7, 0, 0, 0, 0.5, 1]) * 1e-2,\n",
    "    },\n",
    "    strict=False,\n",
    ")\n",
    "\n",
    "np.set_printoptions(linewidth=200)\n",
    "distflow = DistFlow(line_data=line_data, ext_grid_id=ext_grid_id)\n",
    "node_data = node_data.with_columns(\n",
    "    c(\"node_id\")\n",
    "    .replace_strict(distflow.node_id_to_nb_mapping, default=None)\n",
    "    .alias(\"idx\")\n",
    ").sort(\"idx\")\n",
    "v0_sq = distflow.v_in_sq_np * v_ext_grid_sq\n",
    "\n",
    "s_node = node_data[\"p_node_pu\"].to_numpy() + 1j * node_data[\"q_node_pu\"].to_numpy()\n",
    "\n",
    "tic = time.time()\n",
    "s_flow, v, i = distflow.distflow_algorithm(s_node=s_node, v0_sq=v0_sq, engine=\"numpy\")\n",
    "print(\"numpy:\", time.time() - tic)\n",
    "\n",
    "tic = time.time()\n",
    "s_flow, v, i = distflow.distflow_algorithm(\n",
    "    s_node=s_node, v0_sq=v0_sq, engine=\"graphblas\"\n",
    ")\n",
    "print(\"graphblas:\", time.time() - tic)"
   ]
  },
  {
   "cell_type": "code",
   "execution_count": null,
   "metadata": {},
   "outputs": [],
   "source": [
    "s_base = 1e6\n",
    "net: pp.pandapowerNet = pp.from_pickle(\"data/input_grid/modified_cigre_network_lv.p\")\n",
    "tic = time.time()\n",
    "pp.runpp(net)\n",
    "print(\"f:\", time.time() - tic)"
   ]
  },
  {
   "cell_type": "code",
   "execution_count": null,
   "metadata": {},
   "outputs": [],
   "source": [
    "ext_grid_id: str = str(net.ext_grid[\"bus\"][0])\n",
    "v_ext_grid_sq: float = net.ext_grid[\"vm_pu\"][0] ** 2\n",
    "node_data, line_data = pandapower_to_distflow(net=net, s_base=s_base)\n",
    "distflow: DistFlow = DistFlow(line_data=line_data, ext_grid_id=ext_grid_id)"
   ]
  },
  {
   "cell_type": "code",
   "execution_count": null,
   "metadata": {},
   "outputs": [],
   "source": [
    "node_data = node_data.with_columns(\n",
    "    c(\"node_id\")\n",
    "    .replace_strict(distflow.node_id_to_nb_mapping, default=None)\n",
    "    .alias(\"idx\")\n",
    ").sort(\"idx\")\n",
    "v0_sq = distflow.v_in_sq_np * v_ext_grid_sq\n",
    "s_node = node_data[\"p_node_pu\"].to_numpy() + 1j * node_data[\"q_node_pu\"].to_numpy()\n",
    "\n",
    "tic = time.time()\n",
    "s_flow, v, i = distflow.distflow_algorithm(s_node=s_node, v0_sq=v0_sq, engine=\"numpy\")\n",
    "print(\"numpy:\", time.time() - tic)\n",
    "\n",
    "tic = time.time()\n",
    "s_flow, v, i = distflow.distflow_algorithm(\n",
    "    s_node=s_node, v0_sq=v0_sq, engine=\"graphblas\"\n",
    ")\n",
    "print(\"graphblas:\", time.time() - tic)"
   ]
  },
  {
   "cell_type": "code",
   "execution_count": null,
   "metadata": {},
   "outputs": [],
   "source": [
    "line_res_pp = pl.DataFrame(\n",
    "    {\n",
    "        \"node_id\": list(net.line[\"to_bus\"].astype(str)),\n",
    "        \"p_pp\": list(net.res_line[\"p_from_mw\"]),\n",
    "        \"q_pp\": list(net.res_line[\"q_from_mvar\"]),\n",
    "    }\n",
    ")\n",
    "\n",
    "node_res_pp = pl.from_pandas(net.res_bus[\"vm_pu\"], include_index=True).select(\n",
    "    c(\"index\").cast(pl.Utf8).alias(\"node_id\"), \"vm_pu\"\n",
    ")\n",
    "\n",
    "result = (\n",
    "    pl.DataFrame(\n",
    "        {\n",
    "            \"v\": np.sqrt(v),\n",
    "            \"p\": np.real(s_flow),\n",
    "            \"q\": np.imag(s_flow),\n",
    "        }\n",
    "    )\n",
    "    .with_row_index(name=\"node_id\")\n",
    "    .with_columns(\n",
    "        c(\"node_id\")\n",
    "        .replace_strict(distflow.node_nb_to_id_mapping, default=None)\n",
    "        .alias(\"node_id\")\n",
    "    )\n",
    "    .join(line_res_pp, on=\"node_id\", how=\"left\")\n",
    "    .join(node_res_pp, on=\"node_id\", how=\"left\")\n",
    "    .with_columns(\n",
    "        ((c(\"v\") - c(\"vm_pu\")) / c(\"vm_pu\")).abs().alias(\"diff_v\"),\n",
    "        ((c(\"p\") - c(\"p_pp\")) / c(\"p_pp\")).abs().alias(\"diff_p\"),\n",
    "        ((c(\"q\") - c(\"q_pp\")) / c(\"p_pp\")).abs().alias(\"diff_q\"),\n",
    "    )\n",
    ")\n",
    "print(result[\"diff_v\", \"diff_p\", \"diff_q\"].max())"
   ]
  },
  {
   "cell_type": "code",
   "execution_count": null,
   "metadata": {},
   "outputs": [],
   "source": [
    "net: pp.pandapowerNet = pp.from_pickle(\"data/input_grid/synthesized_grid.p\")\n",
    "net.trafo[\"i0_percent\"] = 2\n",
    "tic = time.time()\n",
    "pp.runpp(net)\n",
    "print(\"f:\", time.time() - tic)"
   ]
  },
  {
   "cell_type": "code",
   "execution_count": null,
   "metadata": {},
   "outputs": [],
   "source": [
    "s_base = 1e6\n",
    "ext_grid_id: str = str(net.ext_grid[\"bus\"][0])\n",
    "v_ext_grid_sq: float = net.ext_grid[\"vm_pu\"][0] ** 2\n",
    "\n",
    "node_data, line_data = pandapower_to_distflow(net=net, s_base=s_base)\n",
    "distflow = DistFlow(line_data=line_data, ext_grid_id=ext_grid_id)"
   ]
  },
  {
   "cell_type": "code",
   "execution_count": null,
   "metadata": {},
   "outputs": [],
   "source": [
    "node_data = node_data.with_columns(\n",
    "    c(\"node_id\")\n",
    "    .replace_strict(distflow.node_id_to_nb_mapping, default=None)\n",
    "    .alias(\"idx\")\n",
    ").sort(\"idx\")\n",
    "v0_sq = distflow.v_in_sq_np * v_ext_grid_sq\n",
    "s_node = node_data[\"p_node_pu\"].to_numpy() + 1j * node_data[\"q_node_pu\"].to_numpy()\n",
    "\n",
    "tic = time.time()\n",
    "s_flow, v, i = distflow.distflow_algorithm(s_node=s_node, v0_sq=v0_sq, engine=\"numpy\")\n",
    "print(\"numpy:\", time.time() - tic)\n",
    "\n",
    "tic = time.time()\n",
    "s_flow, v, i = distflow.distflow_algorithm(\n",
    "    s_node=s_node, v0_sq=v0_sq, engine=\"graphblas\"\n",
    ")\n",
    "print(\"graphblas:\", time.time() - tic)"
   ]
  },
  {
   "cell_type": "code",
   "execution_count": null,
   "metadata": {},
   "outputs": [],
   "source": [
    "line_data = line_data.group_by(\"u_of_edge\", \"v_of_edge\").agg(\n",
    "    c(\"name\", \"n_transfo\", \"type\").first(),\n",
    "    c(\"r_pu\", \"x_pu\").first() / c(\"r_pu\", \"x_pu\").count(),\n",
    "    c(\"g_pu\", \"b_pu\").first() * c(\"g_pu\", \"b_pu\").count(),\n",
    ")"
   ]
  }
 ],
 "metadata": {
  "kernelspec": {
   "display_name": ".venv",
   "language": "python",
   "name": "python3"
  },
  "language_info": {
   "codemirror_mode": {
    "name": "ipython",
    "version": 3
   },
   "file_extension": ".py",
   "mimetype": "text/x-python",
   "name": "python",
   "nbconvert_exporter": "python",
   "pygments_lexer": "ipython3",
   "version": "3.12.7"
  }
 },
 "nbformat": 4,
 "nbformat_minor": 2
}
