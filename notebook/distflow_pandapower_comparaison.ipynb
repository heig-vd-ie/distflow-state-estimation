{
 "cells": [
  {
   "cell_type": "code",
   "execution_count": 1,
   "metadata": {},
   "outputs": [],
   "source": [
    "\n",
    "import os\n",
    "import polars as pl\n",
    "from polars import col as c\n",
    "import numpy as np\n",
    "\n",
    "\n",
    "# from distflow_algorithm import DistFlow\n",
    "import time\n",
    "import pandapower as pp\n",
    "\n",
    "\n",
    "from data_connector import pandapower_to_distflow\n",
    "from general_function import duckdb_to_dict, dict_to_duckdb, pl_to_dict\n",
    "from networkx_function import (\n",
    "    get_all_edge_data,\n",
    "    generate_shortest_path_length_matrix,\n",
    "    generate_bfs_tree_with_edge_data,\n",
    "    generate_nx_edge,\n",
    "    generate_tree_graph_from_edge_data,\n",
    ")\n",
    "\n",
    "\n",
    "from distflow_algorithm import DistFlow\n",
    "\n",
    "\n",
    "# Useless outside jupiternotebook because in settings.py a line that changes the directory to src for ipynb\n",
    "os.chdir(os.getcwd().replace(\"/src\", \"\"))"
   ]
  },
  {
   "cell_type": "code",
   "execution_count": 2,
   "metadata": {},
   "outputs": [
    {
     "name": "stdout",
     "output_type": "stream",
     "text": [
      "numpy: 0.00034880638122558594\n",
      "graphblas: 0.0075342655181884766\n"
     ]
    }
   ],
   "source": [
    "ext_grid_id = \"1\"\n",
    "n_1 = 0.95\n",
    "n_2 = 1.02\n",
    "v_ext_grid_sq = 1.05\n",
    "\n",
    "line_data: pl.DataFrame = pl.DataFrame(\n",
    "    {\n",
    "        \"line_id\": np.arange(1, 13).astype(str),\n",
    "        \"type\": [\"branch\"] * 10 + [\"transformer\"] * 2,\n",
    "        \"u_of_edge\": [\"2\", \"2\", \"2\", \"4\", \"5\", \"6\", \"7\", \"10\", \"12\", \"13\", \"8\", \"9\"],\n",
    "        \"v_of_edge\": [\"11\", \"1\", \"3\", \"1\", \"4\", \"4\", \"8\", \"9\", \"11\", \"11\", \"4\", \"8\"],\n",
    "        \"n_transfo\": [1.0] * 10 + [n_1**2, n_2**2],\n",
    "        \"x_pu\": np.arange(1, 13) * 2e-3,\n",
    "        \"r_pu\": np.arange(1, 13) * 1e-3,\n",
    "        \"b_pu\": list(np.arange(1, 11) * -1e-3) + [0.001, 0.001],\n",
    "        \"g_pu\": [0.0] * 10 + [0.001, 0.001],\n",
    "    }\n",
    ")\n",
    "\n",
    "node_data: pl.DataFrame = pl.DataFrame(\n",
    "    {\n",
    "        \"node_id\": np.arange(1, 14).astype(str),\n",
    "        \"v_base\": [400.0] * 7 + [200.0, 400.0, 400.0, 200.0, 100.0, 100.0],\n",
    "        \"p_node_pu\": np.array([0, 10, 2, 0, 0, -2, 0, 7, 25, 0, 100, 0.5, 10]) * 1e-2,\n",
    "        \"q_node_pu\": np.array([0, 0, 0.2, 2, 0, -0.2, 0, 0.7, 0, 0, 0, 0.5, 1]) * 1e-2,\n",
    "    },\n",
    "    strict=False,\n",
    ")\n",
    "\n",
    "np.set_printoptions(linewidth=200)\n",
    "distflow = DistFlow(line_data=line_data, ext_grid_id=ext_grid_id)\n",
    "node_data = node_data.with_columns(\n",
    "    c(\"node_id\")\n",
    "    .replace_strict(distflow.node_id_to_nb_mapping, default=None)\n",
    "    .alias(\"idx\")\n",
    ").sort(\"idx\")\n",
    "v0_sqr = distflow.v_in_sqr_np * v_ext_grid_sq\n",
    "\n",
    "s_node = node_data[\"p_node_pu\"].to_numpy() + 1j * node_data[\"q_node_pu\"].to_numpy()\n",
    "\n",
    "tic = time.time()\n",
    "s_flow, v, i = distflow.distflow_algorithm(s_node=s_node, v0_sqr=v0_sqr, engine=\"numpy\")\n",
    "print(\"numpy:\", time.time() - tic)\n",
    "\n",
    "tic = time.time()\n",
    "s_flow, v, i = distflow.distflow_algorithm(\n",
    "    s_node=s_node, v0_sqr=v0_sqr, engine=\"graphblas\"\n",
    ")\n",
    "print(\"graphblas:\", time.time() - tic)"
   ]
  },
  {
   "cell_type": "markdown",
   "metadata": {},
   "source": [
    "n_transfo"
   ]
  },
  {
   "cell_type": "code",
   "execution_count": 11,
   "metadata": {},
   "outputs": [
    {
     "name": "stdout",
     "output_type": "stream",
     "text": [
      "f: 0.012510061264038086\n"
     ]
    }
   ],
   "source": [
    "s_base = 1e6\n",
    "net: pp.pandapowerNet = pp.from_pickle(\"data/input_grid/modified_cigre_network_lv.p\")\n",
    "tic = time.time()\n",
    "pp.runpp(net)\n",
    "print(\"f:\", time.time() - tic)\n"
   ]
  },
  {
   "cell_type": "code",
   "execution_count": 4,
   "metadata": {},
   "outputs": [
    {
     "name": "stdout",
     "output_type": "stream",
     "text": [
      "numpy: 0.0006625652313232422\n",
      "graphblas: 0.026476144790649414\n"
     ]
    }
   ],
   "source": [
    "\n",
    "ext_grid_id: str = str(net.ext_grid[\"bus\"][0])\n",
    "v_ext_grid_sq: float = net.ext_grid[\"vm_pu\"][0] ** 2\n",
    "node_data, line_data = pandapower_to_distflow(net=net, s_base=s_base)\n",
    "distflow: DistFlow = DistFlow(line_data=line_data, ext_grid_id=ext_grid_id)\n",
    "\n",
    "node_data = node_data.with_columns(\n",
    "    c(\"node_id\")\n",
    "    .replace_strict(distflow.node_id_to_nb_mapping, default=None)\n",
    "    .alias(\"idx\")\n",
    ").sort(\"idx\")\n",
    "v0_sqr= distflow.v_in_sqr_np * v_ext_grid_sq\n",
    "s_node = node_data[\"p_node_pu\"].to_numpy() + 1j * node_data[\"q_node_pu\"].to_numpy()\n",
    "\n",
    "tic = time.time()\n",
    "s_flow, v, i = distflow.distflow_algorithm(s_node=s_node, v0_sqr=v0_sqr, engine=\"numpy\")\n",
    "print(\"numpy:\", time.time() - tic)\n",
    "\n",
    "tic = time.time()\n",
    "s_flow, v, i = distflow.distflow_algorithm(\n",
    "    s_node=s_node, v0_sqr=v0_sqr, engine=\"graphblas\"\n",
    ")\n",
    "print(\"graphblas:\", time.time() - tic)"
   ]
  },
  {
   "cell_type": "code",
   "execution_count": 5,
   "metadata": {},
   "outputs": [
    {
     "name": "stdout",
     "output_type": "stream",
     "text": [
      "shape: (1, 3)\n",
      "┌──────────┬──────────┬──────────┐\n",
      "│ diff_v   ┆ diff_p   ┆ diff_q   │\n",
      "│ ---      ┆ ---      ┆ ---      │\n",
      "│ f64      ┆ f64      ┆ f64      │\n",
      "╞══════════╪══════════╪══════════╡\n",
      "│ 0.000392 ┆ 0.000182 ┆ 0.010306 │\n",
      "└──────────┴──────────┴──────────┘\n"
     ]
    }
   ],
   "source": [
    "line_res_pp = pl.DataFrame(\n",
    "    {\n",
    "        \"node_id\": list(net.line[\"to_bus\"].astype(str)),\n",
    "        \"p_pp\": list(net.res_line[\"p_from_mw\"]),\n",
    "        \"q_pp\": list(net.res_line[\"q_from_mvar\"]),\n",
    "    }\n",
    ")\n",
    "\n",
    "node_res_pp = pl.from_pandas(net.res_bus[\"vm_pu\"], include_index=True).select(\n",
    "    c(\"index\").cast(pl.Utf8).alias(\"node_id\"), \"vm_pu\"\n",
    ")\n",
    "\n",
    "result = (\n",
    "    pl.DataFrame(\n",
    "        {\n",
    "            \"v\": np.sqrt(v),\n",
    "            \"p\": np.real(s_flow),\n",
    "            \"q\": np.imag(s_flow),\n",
    "        }\n",
    "    )\n",
    "    .with_row_index(name=\"node_id\")\n",
    "    .with_columns(\n",
    "        c(\"node_id\")\n",
    "        .replace_strict(distflow.node_nb_to_id_mapping, default=None)\n",
    "        .alias(\"node_id\")\n",
    "    )\n",
    "    .join(line_res_pp, on=\"node_id\", how=\"left\")\n",
    "    .join(node_res_pp, on=\"node_id\", how=\"left\")\n",
    "    .with_columns(\n",
    "        ((c(\"v\") - c(\"vm_pu\")) / c(\"vm_pu\")).abs().alias(\"diff_v\"),\n",
    "        ((c(\"p\") - c(\"p_pp\")) / c(\"p_pp\")).abs().alias(\"diff_p\"),\n",
    "        ((c(\"q\") - c(\"q_pp\")) / c(\"p_pp\")).abs().alias(\"diff_q\"),\n",
    "    )\n",
    ")\n",
    "print(result[\"diff_v\", \"diff_p\", \"diff_q\"].max())"
   ]
  },
  {
   "cell_type": "code",
   "execution_count": 6,
   "metadata": {},
   "outputs": [],
   "source": [
    "net: pp.pandapowerNet = pp.from_pickle(\"data/input_grid/synthesized_grid.p\")\n",
    "net.trafo[\"i0_percent\"] = 2\n"
   ]
  },
  {
   "cell_type": "code",
   "execution_count": 7,
   "metadata": {},
   "outputs": [
    {
     "name": "stdout",
     "output_type": "stream",
     "text": [
      "f: 0.5805337429046631\n"
     ]
    }
   ],
   "source": [
    "tic = time.time()\n",
    "pp.runpp(net)\n",
    "print(\"f:\", time.time() - tic)"
   ]
  },
  {
   "cell_type": "code",
   "execution_count": 8,
   "metadata": {},
   "outputs": [],
   "source": [
    "s_base = 1e6\n",
    "ext_grid_id: str = str(net.ext_grid[\"bus\"][0])\n",
    "v_ext_grid_sq: float = net.ext_grid[\"vm_pu\"][0] ** 2\n",
    "\n",
    "node_data, line_data = pandapower_to_distflow(net=net, s_base=s_base)\n",
    "distflow = DistFlow(line_data=line_data, ext_grid_id=ext_grid_id)\n",
    "\n",
    "node_data = node_data.with_columns(\n",
    "    c(\"node_id\")\n",
    "    .replace_strict(distflow.node_id_to_nb_mapping, default=None)\n",
    "    .alias(\"idx\")\n",
    ").sort(\"idx\")\n",
    "v0_sqr = distflow.v_in_sqr_np * v_ext_grid_sq\n",
    "s_node = node_data[\"p_node_pu\"].to_numpy() + 1j * node_data[\"q_node_pu\"].to_numpy()\n",
    "\n"
   ]
  },
  {
   "cell_type": "code",
   "execution_count": 9,
   "metadata": {},
   "outputs": [
    {
     "name": "stdout",
     "output_type": "stream",
     "text": [
      "graphblas: 0.1157536506652832\n"
     ]
    }
   ],
   "source": [
    "\n",
    "tic = time.time()\n",
    "s_flow, v, i = distflow.distflow_algorithm(\n",
    "    s_node=s_node, v0_sqr=v0_sqr, engine=\"graphblas\"\n",
    ")\n",
    "print(\"graphblas:\", time.time() - tic)\n"
   ]
  }
 ],
 "metadata": {
  "kernelspec": {
   "display_name": ".venv",
   "language": "python",
   "name": "python3"
  },
  "language_info": {
   "codemirror_mode": {
    "name": "ipython",
    "version": 3
   },
   "file_extension": ".py",
   "mimetype": "text/x-python",
   "name": "python",
   "nbconvert_exporter": "python",
   "pygments_lexer": "ipython3",
   "version": "3.12.7"
  }
 },
 "nbformat": 4,
 "nbformat_minor": 2
}
