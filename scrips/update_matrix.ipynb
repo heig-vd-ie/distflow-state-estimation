{
 "cells": [
  {
   "cell_type": "code",
   "execution_count": 14,
   "metadata": {},
   "outputs": [],
   "source": [
    "import polars as pl\n",
    "from polars import col as c\n",
    "import networkx as nx\n",
    "from networkx_function import generate_nx_edge\n",
    "from typing_extensions import Union\n",
    "import numpy as np\n",
    "import scipy as sp\n",
    "from distflow_algorithm import DistFlow\n",
    "import time \n",
    "import pandapower as pp\n",
    "import pandapower.networks as pn\n",
    "from polars_function import get_transfo_admittance, get_transfo_impedance, get_transfo_conductance, get_transfo_imaginary_component\n",
    "\n",
    "from data_connector import pandapower_to_distflow\n",
    "from general_function import duckdb_to_dict, dict_to_duckdb, generate_log\n",
    "from networkx_function import get_all_edge_data, generate_shortest_path_length_matrix,generate_bfs_tree_with_edge_data\n",
    "import graphblas as gb\n"
   ]
  },
  {
   "cell_type": "code",
   "execution_count": 15,
   "metadata": {},
   "outputs": [],
   "source": [
    "log = generate_log(name=__name__)\n",
    "\n",
    "line_data = pl.read_csv(\"../data/lineData.csv\").with_columns(\n",
    "    pl.lit(\"branch\").alias(\"type\"),\n",
    "    pl.lit(0.0).alias(\"g_pu\"),\n",
    "    pl.lit(1.0).alias(\"n_transfo\"),\n",
    ")\n",
    "ext_grid_nb = 0\n",
    "nx_grid: nx.Graph = nx.Graph()\n",
    "_ = line_data\\\n",
    ".with_columns(\n",
    "    pl.struct(pl.all()).pipe(generate_nx_edge, nx_graph=nx_grid)\n",
    ")\n",
    "if not nx.is_tree(nx_grid):\n",
    "    log.error(\"The graph is not a tree\")\n",
    "else:\n",
    "    nx_tree_grid : nx.DiGraph = generate_bfs_tree_with_edge_data(nx_grid, ext_grid_nb)\n"
   ]
  },
  {
   "cell_type": "code",
   "execution_count": 31,
   "metadata": {},
   "outputs": [
    {
     "data": {
      "text/plain": [
       "58"
      ]
     },
     "execution_count": 31,
     "metadata": {},
     "output_type": "execute_result"
    }
   ],
   "source": [
    "nx_tree_grid.number_of_nodes()"
   ]
  },
  {
   "cell_type": "code",
   "execution_count": 63,
   "metadata": {},
   "outputs": [],
   "source": [
    "n_nodes = nx_tree_grid.number_of_nodes()\n",
    "\n",
    "coords, ancestor = list(zip(*nx.all_pairs_lowest_common_ancestor(nx_tree_grid)))\n",
    "x, y = list(zip(*coords))\n",
    "r_mapping = nx.shortest_path_length(nx_tree_grid, source=0, weight=\"r_pu\")\n",
    "x_mapping = nx.shortest_path_length(nx_tree_grid, source=0, weight=\"x_pu\")\n",
    "\n",
    "r_val = list(map(lambda x: -2*r_mapping[x], ancestor))\n",
    "x_val = list(map(lambda x: -2*x_mapping[x], ancestor))\n",
    "\n",
    "\n",
    "h_Vnode_Pload = gb.Matrix.from_coo(x, y, r_val, nrows=n_nodes, ncols=n_nodes).select(\"!=\", 0)[1:, 1:]\n",
    "h_Vnode_Pload = gb.select.offdiag(h_Vnode_Pload).T + h_Vnode_Pload\n",
    "\n",
    "h_Vnode_Qload = gb.Matrix.from_coo(x, y, r_val, nrows=n_nodes, ncols=n_nodes).select(\"!=\", 0)[1:, 1:]\n",
    "h_Vnode_Qload = gb.select.offdiag(h_Vnode_Qload).T + h_Vnode_Qload\n",
    "\n",
    "h_Pflow_Pload = generate_shortest_path_length_matrix(nx_grid = nx_tree_grid, forced_weight=1)[1:, 1:]"
   ]
  },
  {
   "cell_type": "code",
   "execution_count": 74,
   "metadata": {},
   "outputs": [
    {
     "data": {
      "text/html": [
       "<div><style>\n",
       ".dataframe > thead > tr,\n",
       ".dataframe > tbody > tr {\n",
       "  text-align: right;\n",
       "  white-space: pre-wrap;\n",
       "}\n",
       "</style>\n",
       "<small>shape: (57, 11)</small><table border=\"1\" class=\"dataframe\"><thead><tr><th>line_id</th><th>u_of_edge</th><th>v_of_edge</th><th>r_pu</th><th>x_pu</th><th>b_pu</th><th>rateA</th><th>rateB</th><th>type</th><th>g_pu</th><th>n_transfo</th></tr><tr><td>i64</td><td>i64</td><td>i64</td><td>f64</td><td>f64</td><td>f64</td><td>f64</td><td>i64</td><td>str</td><td>f64</td><td>f64</td></tr></thead><tbody><tr><td>1</td><td>0</td><td>1</td><td>0.19375</td><td>0.11297</td><td>7.9168e-8</td><td>0.024942</td><td>2</td><td>&quot;branch&quot;</td><td>0.0</td><td>1.0</td></tr><tr><td>2</td><td>0</td><td>2</td><td>2.0469</td><td>1.1462</td><td>8.9632e-7</td><td>0.026327</td><td>2</td><td>&quot;branch&quot;</td><td>0.0</td><td>1.0</td></tr><tr><td>3</td><td>0</td><td>3</td><td>0.0</td><td>0.0</td><td>0.0</td><td>1.0</td><td>3</td><td>&quot;branch&quot;</td><td>0.0</td><td>1.0</td></tr><tr><td>4</td><td>1</td><td>4</td><td>3.03</td><td>0.0911</td><td>2.2696e-8</td><td>0.0030484</td><td>2</td><td>&quot;branch&quot;</td><td>0.0</td><td>1.0</td></tr><tr><td>5</td><td>1</td><td>5</td><td>0.0775</td><td>0.045187</td><td>3.1667e-8</td><td>0.024942</td><td>2</td><td>&quot;branch&quot;</td><td>0.0</td><td>1.0</td></tr><tr><td>&hellip;</td><td>&hellip;</td><td>&hellip;</td><td>&hellip;</td><td>&hellip;</td><td>&hellip;</td><td>&hellip;</td><td>&hellip;</td><td>&hellip;</td><td>&hellip;</td><td>&hellip;</td></tr><tr><td>53</td><td>52</td><td>53</td><td>3.7875</td><td>0.11388</td><td>2.8370e-8</td><td>0.0030484</td><td>2</td><td>&quot;branch&quot;</td><td>0.0</td><td>1.0</td></tr><tr><td>54</td><td>52</td><td>54</td><td>0.08525</td><td>0.049706</td><td>3.4834e-8</td><td>0.024942</td><td>2</td><td>&quot;branch&quot;</td><td>0.0</td><td>1.0</td></tr><tr><td>55</td><td>54</td><td>55</td><td>0.05425</td><td>0.031631</td><td>2.2167e-8</td><td>0.024942</td><td>2</td><td>&quot;branch&quot;</td><td>0.0</td><td>1.0</td></tr><tr><td>56</td><td>54</td><td>56</td><td>3.2194</td><td>0.096794</td><td>2.4114e-8</td><td>0.0030484</td><td>2</td><td>&quot;branch&quot;</td><td>0.0</td><td>1.0</td></tr><tr><td>57</td><td>55</td><td>57</td><td>2.4619</td><td>0.074019</td><td>1.8440e-8</td><td>0.0030484</td><td>2</td><td>&quot;branch&quot;</td><td>0.0</td><td>1.0</td></tr></tbody></table></div>"
      ],
      "text/plain": [
       "shape: (57, 11)\n",
       "┌─────────┬───────────┬───────────┬─────────┬───┬───────┬────────┬──────┬───────────┐\n",
       "│ line_id ┆ u_of_edge ┆ v_of_edge ┆ r_pu    ┆ … ┆ rateB ┆ type   ┆ g_pu ┆ n_transfo │\n",
       "│ ---     ┆ ---       ┆ ---       ┆ ---     ┆   ┆ ---   ┆ ---    ┆ ---  ┆ ---       │\n",
       "│ i64     ┆ i64       ┆ i64       ┆ f64     ┆   ┆ i64   ┆ str    ┆ f64  ┆ f64       │\n",
       "╞═════════╪═══════════╪═══════════╪═════════╪═══╪═══════╪════════╪══════╪═══════════╡\n",
       "│ 1       ┆ 0         ┆ 1         ┆ 0.19375 ┆ … ┆ 2     ┆ branch ┆ 0.0  ┆ 1.0       │\n",
       "│ 2       ┆ 0         ┆ 2         ┆ 2.0469  ┆ … ┆ 2     ┆ branch ┆ 0.0  ┆ 1.0       │\n",
       "│ 3       ┆ 0         ┆ 3         ┆ 0.0     ┆ … ┆ 3     ┆ branch ┆ 0.0  ┆ 1.0       │\n",
       "│ 4       ┆ 1         ┆ 4         ┆ 3.03    ┆ … ┆ 2     ┆ branch ┆ 0.0  ┆ 1.0       │\n",
       "│ 5       ┆ 1         ┆ 5         ┆ 0.0775  ┆ … ┆ 2     ┆ branch ┆ 0.0  ┆ 1.0       │\n",
       "│ …       ┆ …         ┆ …         ┆ …       ┆ … ┆ …     ┆ …      ┆ …    ┆ …         │\n",
       "│ 53      ┆ 52        ┆ 53        ┆ 3.7875  ┆ … ┆ 2     ┆ branch ┆ 0.0  ┆ 1.0       │\n",
       "│ 54      ┆ 52        ┆ 54        ┆ 0.08525 ┆ … ┆ 2     ┆ branch ┆ 0.0  ┆ 1.0       │\n",
       "│ 55      ┆ 54        ┆ 55        ┆ 0.05425 ┆ … ┆ 2     ┆ branch ┆ 0.0  ┆ 1.0       │\n",
       "│ 56      ┆ 54        ┆ 56        ┆ 3.2194  ┆ … ┆ 2     ┆ branch ┆ 0.0  ┆ 1.0       │\n",
       "│ 57      ┆ 55        ┆ 57        ┆ 2.4619  ┆ … ┆ 2     ┆ branch ┆ 0.0  ┆ 1.0       │\n",
       "└─────────┴───────────┴───────────┴─────────┴───┴───────┴────────┴──────┴───────────┘"
      ]
     },
     "execution_count": 74,
     "metadata": {},
     "output_type": "execute_result"
    }
   ],
   "source": [
    "line_data"
   ]
  },
  {
   "cell_type": "code",
   "execution_count": 75,
   "metadata": {},
   "outputs": [
    {
     "data": {
      "text/html": [
       "<div><style>\n",
       ".dataframe > thead > tr,\n",
       ".dataframe > tbody > tr {\n",
       "  text-align: right;\n",
       "  white-space: pre-wrap;\n",
       "}\n",
       "</style>\n",
       "<small>shape: (29, 2)</small><table border=\"1\" class=\"dataframe\"><thead><tr><th>u_of_edge</th><th>b_pu</th></tr><tr><td>i64</td><td>f64</td></tr></thead><tbody><tr><td>0</td><td>9.7549e-7</td></tr><tr><td>1</td><td>5.4363e-8</td></tr><tr><td>2</td><td>3.1186e-7</td></tr><tr><td>3</td><td>0.0</td></tr><tr><td>5</td><td>5.6871e-8</td></tr><tr><td>&hellip;</td><td>&hellip;</td></tr><tr><td>48</td><td>1.8096e-8</td></tr><tr><td>49</td><td>6.1455e-8</td></tr><tr><td>52</td><td>6.3204e-8</td></tr><tr><td>54</td><td>4.6281e-8</td></tr><tr><td>55</td><td>1.8440e-8</td></tr></tbody></table></div>"
      ],
      "text/plain": [
       "shape: (29, 2)\n",
       "┌───────────┬───────────┐\n",
       "│ u_of_edge ┆ b_pu      │\n",
       "│ ---       ┆ ---       │\n",
       "│ i64       ┆ f64       │\n",
       "╞═══════════╪═══════════╡\n",
       "│ 0         ┆ 9.7549e-7 │\n",
       "│ 1         ┆ 5.4363e-8 │\n",
       "│ 2         ┆ 3.1186e-7 │\n",
       "│ 3         ┆ 0.0       │\n",
       "│ 5         ┆ 5.6871e-8 │\n",
       "│ …         ┆ …         │\n",
       "│ 48        ┆ 1.8096e-8 │\n",
       "│ 49        ┆ 6.1455e-8 │\n",
       "│ 52        ┆ 6.3204e-8 │\n",
       "│ 54        ┆ 4.6281e-8 │\n",
       "│ 55        ┆ 1.8440e-8 │\n",
       "└───────────┴───────────┘"
      ]
     },
     "execution_count": 75,
     "metadata": {},
     "output_type": "execute_result"
    }
   ],
   "source": [
    "\n",
    "line_data.group_by(\"u_of_edge\").agg(c(\"b_pu\").sum()).sort(\"u_of_edge\")\n",
    "\n"
   ]
  }
 ],
 "metadata": {
  "kernelspec": {
   "display_name": ".venv",
   "language": "python",
   "name": "python3"
  },
  "language_info": {
   "codemirror_mode": {
    "name": "ipython",
    "version": 3
   },
   "file_extension": ".py",
   "mimetype": "text/x-python",
   "name": "python",
   "nbconvert_exporter": "python",
   "pygments_lexer": "ipython3",
   "version": "3.12.7"
  }
 },
 "nbformat": 4,
 "nbformat_minor": 2
}
