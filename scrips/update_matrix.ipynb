{
 "cells": [
  {
   "cell_type": "code",
   "execution_count": 1,
   "metadata": {},
   "outputs": [],
   "source": [
    "import polars as pl\n",
    "from polars import col as c\n",
    "import networkx as nx\n",
    "from networkx_function import generate_nx_edge\n",
    "from numpy import genfromtxt\n",
    "import numpy as np\n",
    "import time\n",
    "from general_function import generate_log\n",
    "from networkx_function import generate_bfs_tree_with_edge_data\n",
    "import graphblas as gb\n",
    "from copy import deepcopy\n",
    "from networkx_function import (\n",
    "    generate_shortest_path_length_matrix, generate_bfs_tree_with_edge_data, generate_nx_edge)\n",
    "from state_estimation.matrix_generators import generate_full_jacobian_matrix"
   ]
  },
  {
   "cell_type": "code",
   "execution_count": 2,
   "metadata": {},
   "outputs": [],
   "source": [
    "line_data = pl.read_csv(\"../data/lineData.csv\").with_columns(\n",
    "    pl.lit(\"branch\").alias(\"type\"),\n",
    "    (-c(\"b_pu\")).alias(\"b_pu\"),\n",
    "    pl.lit(0.0).alias(\"g_pu\"),\n",
    "    pl.lit(1.0).alias(\"n_transfo\"),\n",
    ")\n",
    "\n",
    "h = generate_full_jacobian_matrix(grid_edge_data=line_data, slack_node_id=0)"
   ]
  },
  {
   "cell_type": "code",
   "execution_count": 14,
   "metadata": {},
   "outputs": [],
   "source": [
    "column_set = {'u_of_edge', 'v_of_edge', 'r_pu', 'x_pu', 'b_pu', 'g_pu', 'n_transfo', 'type'}"
   ]
  },
  {
   "cell_type": "code",
   "execution_count": 15,
   "metadata": {},
   "outputs": [
    {
     "data": {
      "text/plain": [
       "{'3'}"
      ]
     },
     "execution_count": 15,
     "metadata": {},
     "output_type": "execute_result"
    }
   ],
   "source": [
    "column_set.difference(line_data.columns)"
   ]
  },
  {
   "cell_type": "markdown",
   "metadata": {},
   "source": [
    "line_data"
   ]
  }
 ],
 "metadata": {
  "kernelspec": {
   "display_name": ".venv",
   "language": "python",
   "name": "python3"
  },
  "language_info": {
   "codemirror_mode": {
    "name": "ipython",
    "version": 3
   },
   "file_extension": ".py",
   "mimetype": "text/x-python",
   "name": "python",
   "nbconvert_exporter": "python",
   "pygments_lexer": "ipython3",
   "version": "3.12.7"
  }
 },
 "nbformat": 4,
 "nbformat_minor": 2
}
