{
 "cells": [
  {
   "cell_type": "code",
   "execution_count": 1,
   "metadata": {},
   "outputs": [],
   "source": [
    "import polars as pl\n",
    "from polars import col as c\n",
    "import networkx as nx\n",
    "from networkx_function import generate_nx_edge\n",
    "from typing_extensions import Union\n",
    "import numpy as np\n",
    "import scipy as sp\n",
    "from distflow_algorithm import DistFlow\n",
    "import time \n",
    "import pandapower as pp\n",
    "import pandapower.networks as pn\n",
    "from polars_function import get_transfo_admittance, get_transfo_impedance, get_transfo_conductance, get_transfo_imaginary_component\n",
    "\n",
    "from data_connector import pandapower_to_distflow"
   ]
  },
  {
   "cell_type": "code",
   "execution_count": 2,
   "metadata": {},
   "outputs": [],
   "source": [
    "\n",
    "net: pp.pandapowerNet = pp.from_pickle(\"../data/input_grid/synthesized_grid.p\")\n",
    "net.trafo[\"i0_percent\"] = 2"
   ]
  },
  {
   "cell_type": "code",
   "execution_count": 3,
   "metadata": {},
   "outputs": [
    {
     "name": "stdout",
     "output_type": "stream",
     "text": [
      "f: 2.5711982250213623\n"
     ]
    }
   ],
   "source": [
    "tic = time.time()\n",
    "pp.runpp(net)\n",
    "print(\"f:\", time.time() - tic)"
   ]
  },
  {
   "cell_type": "code",
   "execution_count": 13,
   "metadata": {},
   "outputs": [],
   "source": [
    "s_base = 1e8\n",
    "ext_grid_id: str = str(net.ext_grid[\"bus\"][0])\n",
    "v_ext_grid_sq: float = net.ext_grid[\"vm_pu\"][0]**2\n",
    "\n",
    "node_data, line_data = pandapower_to_distflow(net=net, s_base=s_base)\n"
   ]
  },
  {
   "cell_type": "code",
   "execution_count": 14,
   "metadata": {},
   "outputs": [],
   "source": [
    "distflow = DistFlow(line_data=line_data, ext_grid_id=ext_grid_id)\n",
    "\n",
    "v0_sq = distflow.v_in_sq*v_ext_grid_sq\n",
    "node_data = pl.DataFrame({\"node_id\": distflow.node_list}).join(node_data, on=\"node_id\", how=\"left\")\n",
    "s_node = node_data[\"p_node_pu\"].to_numpy() + 1j*node_data[\"q_node_pu\"].to_numpy()\n"
   ]
  },
  {
   "cell_type": "code",
   "execution_count": 19,
   "metadata": {},
   "outputs": [],
   "source": [
    "from more_itertools import locate\n",
    "from itertools import product\n",
    "from copy import deepcopy\n",
    "\n",
    "v_in_sq: np.array = np.array([1.0]*len(distflow.node_list)) # type: ignore\n",
    "dv_prop_np: np.array = deepcopy(distflow.h_np).transpose().astype(float) # type: ignore\n",
    "\n"
   ]
  },
  {
   "cell_type": "code",
   "execution_count": 21,
   "metadata": {},
   "outputs": [
    {
     "data": {
      "text/plain": [
       "array([[1., 0., 0., ..., 0., 0., 0.],\n",
       "       [1., 1., 0., ..., 0., 0., 0.],\n",
       "       [1., 1., 1., ..., 0., 0., 0.],\n",
       "       ...,\n",
       "       [1., 1., 0., ..., 1., 0., 0.],\n",
       "       [1., 1., 0., ..., 0., 1., 0.],\n",
       "       [1., 1., 0., ..., 0., 0., 1.]])"
      ]
     },
     "execution_count": 21,
     "metadata": {},
     "output_type": "execute_result"
    }
   ],
   "source": [
    "dv_prop_np"
   ]
  },
  {
   "cell_type": "code",
   "execution_count": null,
   "metadata": {},
   "outputs": [],
   "source": []
  },
  {
   "cell_type": "code",
   "execution_count": null,
   "metadata": {},
   "outputs": [],
   "source": []
  },
  {
   "cell_type": "code",
   "execution_count": 25,
   "metadata": {},
   "outputs": [
    {
     "data": {
      "text/plain": [
       "array([[1.        , 0.        , 0.        , ..., 0.        , 0.        ,\n",
       "        0.        ],\n",
       "       [1.        , 1.04286038, 0.        , ..., 0.        , 0.        ,\n",
       "        0.        ],\n",
       "       [1.        , 1.04286038, 1.09048374, ..., 0.        , 0.        ,\n",
       "        0.        ],\n",
       "       ...,\n",
       "       [1.        , 1.04286038, 0.        , ..., 1.        , 0.        ,\n",
       "        0.        ],\n",
       "       [1.        , 1.04286038, 0.        , ..., 0.        , 1.        ,\n",
       "        0.        ],\n",
       "       [1.        , 1.04286038, 0.        , ..., 0.        , 0.        ,\n",
       "        1.        ]])"
      ]
     },
     "execution_count": 25,
     "metadata": {},
     "output_type": "execute_result"
    }
   ],
   "source": [
    "dv_prop_np * distflow.node_parameters[\"n_transfo\"].to_list()"
   ]
  },
  {
   "cell_type": "code",
   "execution_count": 28,
   "metadata": {},
   "outputs": [
    {
     "data": {
      "text/plain": [
       "array([1.        , 1.04286038, 1.13722229, ..., 1.13722229, 1.13722229,\n",
       "       1.13722229])"
      ]
     },
     "execution_count": 28,
     "metadata": {},
     "output_type": "execute_result"
    }
   ],
   "source": [
    "distflow.v_in_sq"
   ]
  },
  {
   "cell_type": "code",
   "execution_count": 27,
   "metadata": {},
   "outputs": [
    {
     "name": "stdout",
     "output_type": "stream",
     "text": [
      "{'node_id': '5377', 'n_transfo': 1.0428603814572701, 'r_pu': 0.012196422102230578, 'x_pu': 0.33582212229657793, 'g_tra_pu': 0.0002397580578697483, 'b_tra_pu': 0.006340028281962545, 'name': '', 'type': 'transformer'}\n",
      "{'node_id': '5473', 'n_transfo': 1.0904837409298573, 'r_pu': 0.22932000000000002, 'x_pu': 5.287029065325817, 'g_tra_pu': 8.072562358276645e-06, 'b_tra_pu': 0.00022661363244841286, 'name': '', 'type': 'transformer'}\n",
      "{'node_id': '3195', 'n_transfo': 1.0904837409298573, 'r_pu': 0.735, 'x_pu': 6.961305552839927, 'g_tra_pu': 5.895691609977325e-06, 'b_tra_pu': 0.0001141335415652908, 'name': '', 'type': 'transformer'}\n",
      "{'node_id': '5355', 'n_transfo': 1.0904837409298573, 'r_pu': 0.7166250000000001, 'x_pu': 6.576068248533845, 'g_tra_pu': 7.07482993197279e-06, 'b_tra_pu': 0.0001812678840090239, 'name': '', 'type': 'transformer'}\n",
      "{'node_id': '898', 'n_transfo': 1.0904837409298573, 'r_pu': 0.144703125, 'x_pu': 4.131841919318821, 'g_tra_pu': 9.160997732426304e-06, 'b_tra_pu': 0.000290104825087821, 'name': '', 'type': 'transformer'}\n",
      "{'node_id': '3569', 'n_transfo': 1.0904837409298573, 'r_pu': 0.7166250000000001, 'x_pu': 6.576068248533845, 'g_tra_pu': 7.07482993197279e-06, 'b_tra_pu': 0.0001812678840090239, 'name': '', 'type': 'transformer'}\n",
      "{'node_id': '5341', 'n_transfo': 1.0904837409298573, 'r_pu': 0.7166250000000001, 'x_pu': 6.576068248533845, 'g_tra_pu': 7.07482993197279e-06, 'b_tra_pu': 0.0001812678840090239, 'name': '', 'type': 'transformer'}\n",
      "{'node_id': '602', 'n_transfo': 1.0904837409298573, 'r_pu': 0.7166250000000001, 'x_pu': 6.576068248533845, 'g_tra_pu': 7.07482993197279e-06, 'b_tra_pu': 0.0001812678840090239, 'name': '', 'type': 'transformer'}\n",
      "{'node_id': '4542', 'n_transfo': 1.0904837409298573, 'r_pu': 1.9293749999999998, 'x_pu': 10.854866977967761, 'g_tra_pu': 4.263038548752835e-06, 'b_tra_pu': 7.243702327539345e-05, 'name': '', 'type': 'transformer'}\n",
      "{'node_id': '1718', 'n_transfo': 1.0904837409298573, 'r_pu': 0.7166250000000001, 'x_pu': 6.576068248533845, 'g_tra_pu': 7.07482993197279e-06, 'b_tra_pu': 0.0001812678840090239, 'name': '', 'type': 'transformer'}\n",
      "{'node_id': '1395', 'n_transfo': 1.0904837409298573, 'r_pu': 0.735, 'x_pu': 6.961305552839927, 'g_tra_pu': 5.895691609977325e-06, 'b_tra_pu': 0.0001141335415652908, 'name': '', 'type': 'transformer'}\n",
      "{'node_id': '317', 'n_transfo': 1.0904837409298573, 'r_pu': 0.735, 'x_pu': 6.961305552839927, 'g_tra_pu': 5.895691609977325e-06, 'b_tra_pu': 0.0001141335415652908, 'name': '', 'type': 'transformer'}\n",
      "{'node_id': '1123', 'n_transfo': 1.0904837409298573, 'r_pu': 0.735, 'x_pu': 6.961305552839927, 'g_tra_pu': 5.895691609977325e-06, 'b_tra_pu': 0.0001141335415652908, 'name': '', 'type': 'transformer'}\n",
      "{'node_id': '3859', 'n_transfo': 1.0904837409298573, 'r_pu': 0.735, 'x_pu': 6.961305552839927, 'g_tra_pu': 5.895691609977325e-06, 'b_tra_pu': 0.0001141335415652908, 'name': '', 'type': 'transformer'}\n",
      "{'node_id': '87', 'n_transfo': 1.0904837409298573, 'r_pu': 0.735, 'x_pu': 6.961305552839927, 'g_tra_pu': 5.895691609977325e-06, 'b_tra_pu': 0.0001141335415652908, 'name': '', 'type': 'transformer'}\n",
      "{'node_id': '2633', 'n_transfo': 1.0904837409298573, 'r_pu': 1.9293749999999998, 'x_pu': 10.854866977967761, 'g_tra_pu': 4.263038548752835e-06, 'b_tra_pu': 7.243702327539345e-05, 'name': '', 'type': 'transformer'}\n",
      "{'node_id': '2709', 'n_transfo': 1.0904837409298573, 'r_pu': 0.144703125, 'x_pu': 4.131841919318821, 'g_tra_pu': 9.160997732426304e-06, 'b_tra_pu': 0.000290104825087821, 'name': '', 'type': 'transformer'}\n",
      "{'node_id': '1541', 'n_transfo': 1.0904837409298573, 'r_pu': 0.735, 'x_pu': 6.961305552839927, 'g_tra_pu': 5.895691609977325e-06, 'b_tra_pu': 0.0001141335415652908, 'name': '', 'type': 'transformer'}\n",
      "{'node_id': '4065', 'n_transfo': 1.0904837409298573, 'r_pu': 0.7166250000000001, 'x_pu': 6.576068248533845, 'g_tra_pu': 7.07482993197279e-06, 'b_tra_pu': 0.0001812678840090239, 'name': '', 'type': 'transformer'}\n",
      "{'node_id': '1445', 'n_transfo': 1.0904837409298573, 'r_pu': 0.735, 'x_pu': 6.961305552839927, 'g_tra_pu': 5.895691609977325e-06, 'b_tra_pu': 0.0001141335415652908, 'name': '', 'type': 'transformer'}\n",
      "{'node_id': '254', 'n_transfo': 1.0904837409298573, 'r_pu': 0.735, 'x_pu': 6.961305552839927, 'g_tra_pu': 5.895691609977325e-06, 'b_tra_pu': 0.0001141335415652908, 'name': '', 'type': 'transformer'}\n",
      "{'node_id': '4201', 'n_transfo': 1.0904837409298573, 'r_pu': 0.7166250000000001, 'x_pu': 6.576068248533845, 'g_tra_pu': 7.07482993197279e-06, 'b_tra_pu': 0.0001812678840090239, 'name': '', 'type': 'transformer'}\n",
      "{'node_id': '1196', 'n_transfo': 1.0904837409298573, 'r_pu': 0.735, 'x_pu': 6.961305552839927, 'g_tra_pu': 5.895691609977325e-06, 'b_tra_pu': 0.0001141335415652908, 'name': '', 'type': 'transformer'}\n",
      "{'node_id': '29', 'n_transfo': 1.0904837409298573, 'r_pu': 0.22932000000000002, 'x_pu': 5.287029065325817, 'g_tra_pu': 8.072562358276645e-06, 'b_tra_pu': 0.00022661363244841286, 'name': '', 'type': 'transformer'}\n",
      "{'node_id': '5378', 'n_transfo': 1.0904837409298573, 'r_pu': 0.735, 'x_pu': 6.961305552839927, 'g_tra_pu': 5.895691609977325e-06, 'b_tra_pu': 0.0001141335415652908, 'name': '', 'type': 'transformer'}\n",
      "{'node_id': '1112', 'n_transfo': 1.0904837409298573, 'r_pu': 0.7166250000000001, 'x_pu': 6.576068248533845, 'g_tra_pu': 7.07482993197279e-06, 'b_tra_pu': 0.0001812678840090239, 'name': '', 'type': 'transformer'}\n",
      "{'node_id': '5264', 'n_transfo': 1.0904837409298573, 'r_pu': 0.735, 'x_pu': 6.961305552839927, 'g_tra_pu': 5.895691609977325e-06, 'b_tra_pu': 0.0001141335415652908, 'name': '', 'type': 'transformer'}\n",
      "{'node_id': '3357', 'n_transfo': 1.0904837409298573, 'r_pu': 0.735, 'x_pu': 6.961305552839927, 'g_tra_pu': 5.895691609977325e-06, 'b_tra_pu': 0.0001141335415652908, 'name': '', 'type': 'transformer'}\n",
      "{'node_id': '3334', 'n_transfo': 1.0904837409298573, 'r_pu': 11.245500000000002, 'x_pu': 42.642100437830216, 'g_tra_pu': 1.63265306122449e-06, 'b_tra_pu': 1.8066970800287113e-05, 'name': '', 'type': 'transformer'}\n",
      "{'node_id': '4516', 'n_transfo': 1.0904837409298573, 'r_pu': 0.7166250000000001, 'x_pu': 6.576068248533845, 'g_tra_pu': 7.07482993197279e-06, 'b_tra_pu': 0.0001812678840090239, 'name': '', 'type': 'transformer'}\n",
      "{'node_id': '585', 'n_transfo': 1.0904837409298573, 'r_pu': 0.735, 'x_pu': 6.961305552839927, 'g_tra_pu': 5.895691609977325e-06, 'b_tra_pu': 0.0001141335415652908, 'name': '', 'type': 'transformer'}\n",
      "{'node_id': '3487', 'n_transfo': 1.0904837409298573, 'r_pu': 0.735, 'x_pu': 6.961305552839927, 'g_tra_pu': 5.895691609977325e-06, 'b_tra_pu': 0.0001141335415652908, 'name': '', 'type': 'transformer'}\n",
      "{'node_id': '2670', 'n_transfo': 1.0904837409298573, 'r_pu': 1.9293749999999998, 'x_pu': 10.854866977967761, 'g_tra_pu': 4.263038548752835e-06, 'b_tra_pu': 7.243702327539345e-05, 'name': '', 'type': 'transformer'}\n",
      "{'node_id': '1077', 'n_transfo': 1.0904837409298573, 'r_pu': 0.735, 'x_pu': 6.961305552839927, 'g_tra_pu': 5.895691609977325e-06, 'b_tra_pu': 0.0001141335415652908, 'name': '', 'type': 'transformer'}\n",
      "{'node_id': '3609', 'n_transfo': 1.0904837409298573, 'r_pu': 0.735, 'x_pu': 6.961305552839927, 'g_tra_pu': 5.895691609977325e-06, 'b_tra_pu': 0.0001141335415652908, 'name': '', 'type': 'transformer'}\n",
      "{'node_id': '83', 'n_transfo': 1.0904837409298573, 'r_pu': 1.9293749999999998, 'x_pu': 10.854866977967761, 'g_tra_pu': 4.263038548752835e-06, 'b_tra_pu': 7.243702327539345e-05, 'name': '', 'type': 'transformer'}\n",
      "{'node_id': '1532', 'n_transfo': 1.0904837409298573, 'r_pu': 0.735, 'x_pu': 6.961305552839927, 'g_tra_pu': 5.895691609977325e-06, 'b_tra_pu': 0.0001141335415652908, 'name': '', 'type': 'transformer'}\n",
      "{'node_id': '2698', 'n_transfo': 1.0904837409298573, 'r_pu': 0.735, 'x_pu': 6.961305552839927, 'g_tra_pu': 5.895691609977325e-06, 'b_tra_pu': 0.0001141335415652908, 'name': '', 'type': 'transformer'}\n",
      "{'node_id': '4829', 'n_transfo': 1.0904837409298573, 'r_pu': 1.9293749999999998, 'x_pu': 10.854866977967761, 'g_tra_pu': 4.263038548752835e-06, 'b_tra_pu': 7.243702327539345e-05, 'name': '', 'type': 'transformer'}\n",
      "{'node_id': '3839', 'n_transfo': 1.0904837409298573, 'r_pu': 11.245500000000002, 'x_pu': 42.642100437830216, 'g_tra_pu': 1.63265306122449e-06, 'b_tra_pu': 1.8066970800287113e-05, 'name': '', 'type': 'transformer'}\n",
      "{'node_id': '3957', 'n_transfo': 1.0904837409298573, 'r_pu': 3.3516000000000004, 'x_pu': 17.318671353195658, 'g_tra_pu': 3.26530612244898e-06, 'b_tra_pu': 4.5233770160206665e-05, 'name': '', 'type': 'transformer'}\n",
      "{'node_id': '3978', 'n_transfo': 1.0904837409298573, 'r_pu': 1.9293749999999998, 'x_pu': 10.854866977967761, 'g_tra_pu': 4.263038548752835e-06, 'b_tra_pu': 7.243702327539345e-05, 'name': '', 'type': 'transformer'}\n",
      "{'node_id': '3878', 'n_transfo': 1.0904837409298573, 'r_pu': 11.245500000000002, 'x_pu': 42.642100437830216, 'g_tra_pu': 1.63265306122449e-06, 'b_tra_pu': 1.8066970800287113e-05, 'name': '', 'type': 'transformer'}\n",
      "{'node_id': '32', 'n_transfo': 1.0904837409298573, 'r_pu': 1.9293749999999998, 'x_pu': 10.854866977967761, 'g_tra_pu': 4.263038548752835e-06, 'b_tra_pu': 7.243702327539345e-05, 'name': '', 'type': 'transformer'}\n",
      "{'node_id': '218', 'n_transfo': 1.0904837409298573, 'r_pu': 1.9293749999999998, 'x_pu': 10.854866977967761, 'g_tra_pu': 4.263038548752835e-06, 'b_tra_pu': 7.243702327539345e-05, 'name': '', 'type': 'transformer'}\n",
      "{'node_id': '3606', 'n_transfo': 1.0904837409298573, 'r_pu': 0.22932000000000002, 'x_pu': 5.287029065325817, 'g_tra_pu': 8.072562358276645e-06, 'b_tra_pu': 0.00022661363244841286, 'name': '', 'type': 'transformer'}\n",
      "{'node_id': '1864', 'n_transfo': 1.0904837409298573, 'r_pu': 0.735, 'x_pu': 6.961305552839927, 'g_tra_pu': 5.895691609977325e-06, 'b_tra_pu': 0.0001141335415652908, 'name': '', 'type': 'transformer'}\n",
      "{'node_id': '3708', 'n_transfo': 1.0904837409298573, 'r_pu': 1.9293749999999998, 'x_pu': 10.854866977967761, 'g_tra_pu': 4.263038548752835e-06, 'b_tra_pu': 7.243702327539345e-05, 'name': '', 'type': 'transformer'}\n",
      "{'node_id': '3385', 'n_transfo': 1.0904837409298573, 'r_pu': 0.735, 'x_pu': 6.961305552839927, 'g_tra_pu': 5.895691609977325e-06, 'b_tra_pu': 0.0001141335415652908, 'name': '', 'type': 'transformer'}\n",
      "{'node_id': '4395', 'n_transfo': 1.0904837409298573, 'r_pu': 0.735, 'x_pu': 6.961305552839927, 'g_tra_pu': 5.895691609977325e-06, 'b_tra_pu': 0.0001141335415652908, 'name': '', 'type': 'transformer'}\n",
      "{'node_id': '2610', 'n_transfo': 1.0904837409298573, 'r_pu': 0.735, 'x_pu': 6.961305552839927, 'g_tra_pu': 5.895691609977325e-06, 'b_tra_pu': 0.0001141335415652908, 'name': '', 'type': 'transformer'}\n"
     ]
    }
   ],
   "source": [
    "\n",
    "for data in distflow.node_parameters.filter(c(\"n_transfo\") != 1).to_dicts():\n",
    "    print(data)\n",
    "    upstream_node: list[int] = list(locate(\n",
    "        distflow.node_list, lambda x: x in nx.ancestors(distflow.nx_tree_grid, data[\"node_id\"])\n",
    "    ))\n",
    "    if len(upstream_node) != 0:\n",
    "        # Find array index pairs for the voltage drop matrix\n",
    "        downstream_node: list[int] = list(locate(\n",
    "            distflow.node_list, \n",
    "            lambda x: x in [data[\"node_id\"]] + list(nx.descendants(distflow.nx_tree_grid, data[\"node_id\"]))\n",
    "        ))\n",
    "        rows, cols = zip(*list(product(downstream_node, upstream_node)))\n",
    "        # Update the voltage drop matrix\n",
    "        distflow.dv_prop_np[rows, cols] = data[\"n_transfo\"]*distflow.dv_prop_np[rows, cols]\n",
    "        distflow.v_in_sq[downstream_node] = data[\"n_transfo\"]*distflow.v_in_sq[downstream_node]"
   ]
  },
  {
   "cell_type": "code",
   "execution_count": 6,
   "metadata": {},
   "outputs": [
    {
     "name": "stdout",
     "output_type": "stream",
     "text": [
      "0.4415778676426103 4.935402478800775\n",
      "5594\n",
      "58\n",
      "0.06952412077314762 0.10179519307759133\n",
      "5594\n",
      "1994\n",
      "0.011944599038317794 0.040663811816012085\n",
      "5594\n",
      "2951\n",
      "0.019604556104772408 0.09206465455213309\n",
      "5594\n",
      "3641\n",
      "0.03238850527857062 0.07943959385099131\n",
      "5594\n",
      "3541\n",
      "0.03307717571381241 0.019822177664975626\n",
      "5594\n",
      "2867\n",
      "0.04159259399768267 0.04011405810791402\n",
      "5594\n",
      "2941\n",
      "0.04170248053984227 0.07071327788737491\n",
      "5594\n",
      "3085\n",
      "0.01392075339670873 0.09722154994266052\n",
      "5594\n",
      "3163\n",
      "0.013688072511017557 0.09456601172511725\n",
      "5594\n",
      "3246\n",
      "0.011379408729340623 0.09655506845551542\n",
      "5594\n",
      "3356\n",
      "0.00823861942249371 0.08058216381956829\n",
      "5594\n",
      "3541\n",
      "0.007891777350391926 0.06008039901826212\n",
      "5594\n",
      "3727\n",
      "0.005192791406344988 0.04870470309766972\n",
      "5594\n",
      "3855\n",
      "0.0047799803465278234 0.03800240576968328\n",
      "5594\n",
      "3975\n",
      "0.005309187119936443 0.027331764298915928\n",
      "5594\n",
      "4133\n",
      "0.004919862633570027 0.02397177023671926\n",
      "5594\n",
      "4204\n",
      "0.0032958339305524387 0.0196941848072818\n",
      "5594\n",
      "4314\n",
      "0.002890178496195883 0.015742947718371703\n",
      "5594\n",
      "4410\n",
      "0.0023669806715513886 0.015650016208129003\n",
      "5594\n",
      "4454\n",
      "0.0021328652816514637 0.014967000824992027\n",
      "5594\n",
      "4509\n",
      "0.0029329565139051272 0.012287034330348057\n",
      "5594\n",
      "4599\n",
      "0.0006529015341558697 0.007421943245386586\n",
      "5594\n",
      "4767\n",
      "0.0006404687807290976 0.008465048605841297\n",
      "5594\n",
      "4862\n",
      "0.000397467552263997 0.008186670567430276\n",
      "5594\n",
      "4854\n",
      "0.0003630729381018938 0.002473622777997342\n",
      "5594\n",
      "5021\n",
      "0.0003206512623346036 0.002461106385636569\n",
      "5594\n",
      "5069\n",
      "0.00028096606606409225 0.0020170550162887935\n",
      "5594\n",
      "5124\n",
      "0.0002482854021270686 0.0017059821340081882\n",
      "5594\n",
      "5185\n",
      "0.00020682524038528882 0.001458058378249305\n",
      "5594\n",
      "5238\n",
      "0.00017149468099719734 0.0012097113909375068\n",
      "5594\n",
      "5278\n",
      "0.00014099710886750216 0.0009969891745287285\n",
      "5594\n",
      "5304\n",
      "0.00011442347551793297 0.0008055689590209525\n",
      "5594\n",
      "5342\n",
      "9.1048195532073e-05 0.0006600596649937174\n",
      "5594\n",
      "5361\n",
      "7.586349032862039e-05 0.0005341112771537482\n",
      "5594\n",
      "5383\n",
      "6.126216457436051e-05 0.0004317757285647872\n",
      "5594\n",
      "5402\n",
      "5.2460635877604744e-05 0.00034779157384257076\n",
      "5594\n",
      "5431\n",
      "4.203340202169059e-05 0.0002833627617233603\n",
      "5594\n",
      "5450\n",
      "3.704802919290984e-05 0.00022645950307431661\n",
      "5594\n",
      "5466\n",
      "3.2167059929699704e-05 0.00018144082928284178\n",
      "5594\n",
      "5482\n",
      "2.7349101552776034e-05 0.00014249568628166287\n",
      "5594\n",
      "5495\n",
      "2.1231987791914264e-05 0.0001183769742842955\n",
      "5594\n",
      "5508\n",
      "1.69680229995528e-05 9.740289511750433e-05\n",
      "5594\n",
      "5523\n",
      "1.425822285905376e-05 8.051171899126075e-05\n",
      "5594\n",
      "5532\n",
      "7.6104913393493234e-06 6.515720497013433e-05\n",
      "5594\n",
      "5543\n",
      "7.376105462642002e-06 5.173398487379188e-05\n",
      "5594\n",
      "5549\n",
      "5.709368427586625e-06 4.579584539143866e-05\n",
      "5594\n",
      "5557\n",
      "4.98993149733451e-06 2.826995913540742e-05\n",
      "5594\n",
      "5562\n",
      "4.167839319002553e-06 2.528601295637145e-05\n",
      "5594\n",
      "5567\n",
      "3.4921115570352157e-06 2.0052497723632712e-05\n",
      "5594\n",
      "5573\n",
      "2.898810024465348e-06 1.6720843500905858e-05\n",
      "5594\n",
      "5576\n",
      "2.3686254841948085e-06 1.3721953313172719e-05\n",
      "5594\n",
      "5577\n",
      "1.930927534310456e-06 1.123002183511801e-05\n",
      "5594\n",
      "5579\n",
      "1.5739055556629467e-06 9.186586270359953e-06\n",
      "5594\n",
      "5582\n",
      "1.2776964104510569e-06 7.435913803810479e-06\n",
      "5594\n",
      "5584\n",
      "1.0368744465250046e-06 5.997392801937451e-06\n",
      "5594\n",
      "5586\n",
      "8.478564030856006e-07 4.827924744432721e-06\n",
      "5594\n",
      "5586\n",
      "6.905029530379636e-07 3.885737013042956e-06\n",
      "5594\n",
      "5586\n",
      "5.704617502821918e-07 3.126836973343927e-06\n",
      "5594\n",
      "5587\n",
      "4.634131030023525e-07 2.5313901916845793e-06\n",
      "5594\n",
      "5588\n",
      "3.839818858430988e-07 2.048635612261762e-06\n",
      "5594\n",
      "5589\n",
      "3.15782481274951e-07 1.674687626795901e-06\n",
      "5594\n",
      "5591\n",
      "2.5670193726234913e-07 1.352621124439679e-06\n",
      "5594\n",
      "5592\n",
      "2.0292271751820579e-07 1.105238500720418e-06\n",
      "5594\n",
      "5592\n",
      "1.6194099372590642e-07 9.033351542342416e-07\n",
      "5594\n",
      "5592\n",
      "1.2937887383657198e-07 7.346882808789701e-07\n",
      "5594\n",
      "5592\n",
      "9.898932917806746e-08 5.884308578174569e-07\n",
      "5594\n",
      "5592\n",
      "8.333768830581789e-08 4.717213908378426e-07\n",
      "5594\n",
      "5592\n",
      "6.752164050105591e-08 3.831910309060049e-07\n",
      "5594\n",
      "5592\n",
      "5.6123505620675473e-08 2.9524876765663066e-07\n",
      "5594\n",
      "5592\n",
      "4.5993071573491306e-08 2.4499783535247843e-07\n",
      "5594\n",
      "5592\n",
      "3.771940160213205e-08 1.9761098712933745e-07\n",
      "5594\n",
      "5592\n",
      "3.078199806161308e-08 1.617723661695436e-07\n",
      "5594\n",
      "5592\n",
      "2.5023190186601596e-08 1.3146820343479249e-07\n",
      "5594\n",
      "5592\n",
      "2.032635371129743e-08 1.068484740684994e-07\n",
      "5594\n",
      "5592\n",
      "1.6516104484054495e-08 8.668436457526241e-08\n",
      "5594\n",
      "5592\n",
      "1.341222222173144e-08 7.015326985992942e-08\n",
      "5594\n",
      "5592\n",
      "1.0899704694367074e-08 5.6773253653830125e-08\n",
      "5594\n",
      "5592\n",
      "8.868338952083832e-09 4.597381408899537e-08\n",
      "5594\n",
      "5592\n",
      "7.2142802842734e-09 3.722410912843088e-08\n",
      "5594\n",
      "5592\n",
      "5.883038722842571e-09 3.015570282371982e-08\n",
      "5594\n",
      "5592\n",
      "4.777418016743695e-09 2.4467099457581298e-08\n",
      "5594\n",
      "5592\n",
      "3.889865096695644e-09 1.9845143306440605e-08\n",
      "5594\n",
      "5592\n",
      "3.156203964849169e-09 1.6124913848614142e-08\n",
      "5594\n",
      "5592\n",
      "2.549446431743263e-09 1.3060181380808444e-08\n",
      "5594\n",
      "5593\n",
      "2.0490769081504823e-09 1.0603836919642617e-08\n",
      "5594\n",
      "5593\n",
      "1.6534793534361825e-09 8.594890132940236e-09\n",
      "5594\n",
      "5594\n",
      "f: 14.83624815940857\n"
     ]
    }
   ],
   "source": [
    "tic = time.time()\n",
    "p_flow, q_flow, v, i = distflow.distflow_algorithm(s_node=s_node, v0_sq=v0_sq)\n",
    "print(\"f:\", time.time() - tic)"
   ]
  },
  {
   "cell_type": "code",
   "execution_count": 7,
   "metadata": {},
   "outputs": [
    {
     "data": {
      "text/plain": [
       "2.4225601074205256"
      ]
     },
     "execution_count": 7,
     "metadata": {},
     "output_type": "execute_result"
    }
   ],
   "source": [
    "i.max()"
   ]
  },
  {
   "cell_type": "code",
   "execution_count": 8,
   "metadata": {},
   "outputs": [
    {
     "data": {
      "text/plain": [
       "969948.4522385712"
      ]
     },
     "execution_count": 8,
     "metadata": {},
     "output_type": "execute_result"
    }
   ],
   "source": [
    "np.sqrt(3)*400*1400"
   ]
  },
  {
   "cell_type": "code",
   "execution_count": 9,
   "metadata": {},
   "outputs": [
    {
     "data": {
      "text/plain": [
       "2.3242162812764047"
      ]
     },
     "execution_count": 9,
     "metadata": {},
     "output_type": "execute_result"
    }
   ],
   "source": [
    "p_flow.max()"
   ]
  },
  {
   "cell_type": "code",
   "execution_count": 10,
   "metadata": {},
   "outputs": [
    {
     "data": {
      "text/html": [
       "<div><style>\n",
       ".dataframe > thead > tr,\n",
       ".dataframe > tbody > tr {\n",
       "  text-align: right;\n",
       "  white-space: pre-wrap;\n",
       "}\n",
       "</style>\n",
       "<small>shape: (5_594, 6)</small><table border=\"1\" class=\"dataframe\"><thead><tr><th>node_id</th><th>v_base</th><th>p_node_pu</th><th>q_node_pu</th><th>i_pu</th><th>i</th></tr><tr><td>str</td><td>f64</td><td>f64</td><td>f64</td><td>f64</td><td>f64</td></tr></thead><tbody><tr><td>&quot;5593&quot;</td><td>130000.0</td><td>0.0</td><td>0.0</td><td>2.42256</td><td>10.758967</td></tr><tr><td>&quot;5377&quot;</td><td>18200.0</td><td>0.0</td><td>0.0</td><td>2.381034</td><td>75.532439</td></tr><tr><td>&quot;5473&quot;</td><td>400.0</td><td>0.0</td><td>0.0</td><td>0.100156</td><td>144.56237</td></tr><tr><td>&quot;1453&quot;</td><td>18200.0</td><td>0.0</td><td>0.0</td><td>0.033267</td><td>1.055302</td></tr><tr><td>&quot;5588&quot;</td><td>18200.0</td><td>0.0</td><td>0.0</td><td>0.044133</td><td>1.400009</td></tr><tr><td>&hellip;</td><td>&hellip;</td><td>&hellip;</td><td>&hellip;</td><td>&hellip;</td><td>&hellip;</td></tr><tr><td>&quot;5477&quot;</td><td>400.0</td><td>0.001091</td><td>0.0</td><td>0.001049</td><td>1.514611</td></tr><tr><td>&quot;669&quot;</td><td>400.0</td><td>0.000172</td><td>0.0</td><td>0.000184</td><td>0.266124</td></tr><tr><td>&quot;1704&quot;</td><td>400.0</td><td>0.000276</td><td>0.0</td><td>0.001511</td><td>2.18087</td></tr><tr><td>&quot;3888&quot;</td><td>400.0</td><td>0.000182</td><td>0.0</td><td>0.000179</td><td>0.258794</td></tr><tr><td>&quot;111&quot;</td><td>400.0</td><td>0.000188</td><td>0.0</td><td>0.000192</td><td>0.276699</td></tr></tbody></table></div>"
      ],
      "text/plain": [
       "shape: (5_594, 6)\n",
       "┌─────────┬──────────┬───────────┬───────────┬──────────┬───────────┐\n",
       "│ node_id ┆ v_base   ┆ p_node_pu ┆ q_node_pu ┆ i_pu     ┆ i         │\n",
       "│ ---     ┆ ---      ┆ ---       ┆ ---       ┆ ---      ┆ ---       │\n",
       "│ str     ┆ f64      ┆ f64       ┆ f64       ┆ f64      ┆ f64       │\n",
       "╞═════════╪══════════╪═══════════╪═══════════╪══════════╪═══════════╡\n",
       "│ 5593    ┆ 130000.0 ┆ 0.0       ┆ 0.0       ┆ 2.42256  ┆ 10.758967 │\n",
       "│ 5377    ┆ 18200.0  ┆ 0.0       ┆ 0.0       ┆ 2.381034 ┆ 75.532439 │\n",
       "│ 5473    ┆ 400.0    ┆ 0.0       ┆ 0.0       ┆ 0.100156 ┆ 144.56237 │\n",
       "│ 1453    ┆ 18200.0  ┆ 0.0       ┆ 0.0       ┆ 0.033267 ┆ 1.055302  │\n",
       "│ 5588    ┆ 18200.0  ┆ 0.0       ┆ 0.0       ┆ 0.044133 ┆ 1.400009  │\n",
       "│ …       ┆ …        ┆ …         ┆ …         ┆ …        ┆ …         │\n",
       "│ 5477    ┆ 400.0    ┆ 0.001091  ┆ 0.0       ┆ 0.001049 ┆ 1.514611  │\n",
       "│ 669     ┆ 400.0    ┆ 0.000172  ┆ 0.0       ┆ 0.000184 ┆ 0.266124  │\n",
       "│ 1704    ┆ 400.0    ┆ 0.000276  ┆ 0.0       ┆ 0.001511 ┆ 2.18087   │\n",
       "│ 3888    ┆ 400.0    ┆ 0.000182  ┆ 0.0       ┆ 0.000179 ┆ 0.258794  │\n",
       "│ 111     ┆ 400.0    ┆ 0.000188  ┆ 0.0       ┆ 0.000192 ┆ 0.276699  │\n",
       "└─────────┴──────────┴───────────┴───────────┴──────────┴───────────┘"
      ]
     },
     "execution_count": 10,
     "metadata": {},
     "output_type": "execute_result"
    }
   ],
   "source": [
    "node_data.with_columns(\n",
    "    pl.Series(i).alias(\"i_pu\"),\n",
    ").with_columns(\n",
    "    (1e6/(c(\"v_base\")*np.sqrt(3))*c(\"i_pu\")).alias(\"i\")\n",
    ")"
   ]
  },
  {
   "cell_type": "code",
   "execution_count": 11,
   "metadata": {},
   "outputs": [
    {
     "data": {
      "text/plain": [
       "1.3015981194970652"
      ]
     },
     "execution_count": 11,
     "metadata": {},
     "output_type": "execute_result"
    }
   ],
   "source": [
    "v.max()"
   ]
  },
  {
   "cell_type": "code",
   "execution_count": 12,
   "metadata": {},
   "outputs": [
    {
     "data": {
      "text/html": [
       "<div><style>\n",
       ".dataframe > thead > tr,\n",
       ".dataframe > tbody > tr {\n",
       "  text-align: right;\n",
       "  white-space: pre-wrap;\n",
       "}\n",
       "</style>\n",
       "<small>shape: (1, 3)</small><table border=\"1\" class=\"dataframe\"><thead><tr><th>diff_v</th><th>diff_p</th><th>diff_q</th></tr><tr><td>f64</td><td>f64</td><td>f64</td></tr></thead><tbody><tr><td>0.103597</td><td>2.572768</td><td>0.748328</td></tr></tbody></table></div>"
      ],
      "text/plain": [
       "shape: (1, 3)\n",
       "┌──────────┬──────────┬──────────┐\n",
       "│ diff_v   ┆ diff_p   ┆ diff_q   │\n",
       "│ ---      ┆ ---      ┆ ---      │\n",
       "│ f64      ┆ f64      ┆ f64      │\n",
       "╞══════════╪══════════╪══════════╡\n",
       "│ 0.103597 ┆ 2.572768 ┆ 0.748328 │\n",
       "└──────────┴──────────┴──────────┘"
      ]
     },
     "execution_count": 12,
     "metadata": {},
     "output_type": "execute_result"
    }
   ],
   "source": [
    "line_res_pp = pl.DataFrame({\n",
    "    \"node_id\": list(net.line[\"to_bus\"]),\n",
    "    \"p_pp\": list(net.res_line[\"p_from_mw\"]),\n",
    "    \"q_pp\": list(net.res_line[\"q_from_mvar\"])\n",
    "})\n",
    "\n",
    "result = node_data.select(\n",
    "    c(\"node_id\").cast(pl.Int32),\n",
    "    pl.Series(v).alias(\"v\"),\n",
    "    pl.Series(p_flow).alias(\"p\"),\n",
    "    pl.Series(q_flow).alias(\"q\"),\n",
    ").sort(\"node_id\").with_columns(\n",
    "    pl.Series(list(net.res_bus[\"vm_pu\"])).alias(\"v_pp\")\n",
    ").join(line_res_pp, on=\"node_id\", how=\"left\").with_columns(\n",
    "    (c(\"v\") - c(\"v_pp\")).abs().alias(\"diff_v\"),\n",
    "    (c(\"p\") - c(\"p_pp\")).abs().alias(\"diff_p\"),\n",
    "    (c(\"q\") - c(\"q_pp\")).abs().alias(\"diff_q\")\n",
    ")\n",
    "\n",
    "result[\"diff_v\", \"diff_p\", \"diff_q\"].max()"
   ]
  }
 ],
 "metadata": {
  "kernelspec": {
   "display_name": ".venv",
   "language": "python",
   "name": "python3"
  },
  "language_info": {
   "codemirror_mode": {
    "name": "ipython",
    "version": 3
   },
   "file_extension": ".py",
   "mimetype": "text/x-python",
   "name": "python",
   "nbconvert_exporter": "python",
   "pygments_lexer": "ipython3",
   "version": "3.12.7"
  }
 },
 "nbformat": 4,
 "nbformat_minor": 2
}
