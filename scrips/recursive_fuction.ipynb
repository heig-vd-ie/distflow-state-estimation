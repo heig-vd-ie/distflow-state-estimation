{
 "cells": [
  {
   "cell_type": "code",
   "execution_count": 26,
   "metadata": {},
   "outputs": [],
   "source": [
    "import polars as pl\n",
    "from polars import col as c\n",
    "import networkx as nx\n",
    "\n",
    "from config import settings\n",
    "import json\n",
    "import os\n",
    "\n",
    "# Useless outside jupiternotebook because in settings.py a line that changes the directory to src for ipynb\n",
    "os.chdir(os.getcwd().replace(\"/src\", \"\"))"
   ]
  },
  {
   "cell_type": "markdown",
   "metadata": {},
   "source": [
    "# Import data from matlab"
   ]
  },
  {
   "cell_type": "code",
   "execution_count": 27,
   "metadata": {},
   "outputs": [],
   "source": [
    "file_names: dict[str, str] = json.load(open(settings.INPUT_FILE_NAMES))"
   ]
  },
  {
   "cell_type": "code",
   "execution_count": 32,
   "metadata": {},
   "outputs": [
    {
     "data": {
      "text/html": [
       "<div><style>\n",
       ".dataframe > thead > tr,\n",
       ".dataframe > tbody > tr {\n",
       "  text-align: right;\n",
       "  white-space: pre-wrap;\n",
       "}\n",
       "</style>\n",
       "<small>shape: (58, 11)</small><table border=\"1\" class=\"dataframe\"><thead><tr><th>index</th><th>indexLines_1</th><th>indexLines_2</th><th>indexLines_3</th><th>Vnom</th><th>Snom</th><th>powerFactor_1</th><th>powerFactor_2</th><th>Bnode</th><th>SM</th><th>Annual</th></tr><tr><td>i64</td><td>i64</td><td>i64</td><td>i64</td><td>i64</td><td>str</td><td>f64</td><td>i64</td><td>i64</td><td>f64</td><td>f64</td></tr></thead><tbody><tr><td>0</td><td>1</td><td>2</td><td>3</td><td>400</td><td>null</td><td>0.8</td><td>1</td><td>0</td><td>NaN</td><td>0.0</td></tr><tr><td>1</td><td>4</td><td>5</td><td>null</td><td>400</td><td>null</td><td>0.8</td><td>1</td><td>0</td><td>NaN</td><td>0.0</td></tr><tr><td>2</td><td>6</td><td>7</td><td>8</td><td>400</td><td>null</td><td>0.8</td><td>1</td><td>0</td><td>NaN</td><td>0.0</td></tr><tr><td>3</td><td>9</td><td>null</td><td>null</td><td>400</td><td>null</td><td>0.8</td><td>1</td><td>0</td><td>NaN</td><td>0.0</td></tr><tr><td>4</td><td>null</td><td>null</td><td>null</td><td>400</td><td>null</td><td>0.8</td><td>1</td><td>0</td><td>12.0</td><td>0.0</td></tr><tr><td>&hellip;</td><td>&hellip;</td><td>&hellip;</td><td>&hellip;</td><td>&hellip;</td><td>&hellip;</td><td>&hellip;</td><td>&hellip;</td><td>&hellip;</td><td>&hellip;</td><td>&hellip;</td></tr><tr><td>53</td><td>null</td><td>null</td><td>null</td><td>400</td><td>null</td><td>0.8</td><td>1</td><td>0</td><td>NaN</td><td>3095.956989</td></tr><tr><td>54</td><td>55</td><td>56</td><td>null</td><td>400</td><td>null</td><td>0.8</td><td>1</td><td>0</td><td>NaN</td><td>0.0</td></tr><tr><td>55</td><td>57</td><td>null</td><td>null</td><td>400</td><td>null</td><td>0.8</td><td>1</td><td>0</td><td>NaN</td><td>0.0</td></tr><tr><td>56</td><td>null</td><td>null</td><td>null</td><td>400</td><td>null</td><td>0.8</td><td>1</td><td>0</td><td>NaN</td><td>3452.129032</td></tr><tr><td>57</td><td>null</td><td>null</td><td>null</td><td>400</td><td>null</td><td>0.8</td><td>1</td><td>0</td><td>NaN</td><td>7921.285319</td></tr></tbody></table></div>"
      ],
      "text/plain": [
       "shape: (58, 11)\n",
       "┌───────┬──────────────┬──────────────┬─────────────┬───┬─────────────┬───────┬──────┬─────────────┐\n",
       "│ index ┆ indexLines_1 ┆ indexLines_2 ┆ indexLines_ ┆ … ┆ powerFactor ┆ Bnode ┆ SM   ┆ Annual      │\n",
       "│ ---   ┆ ---          ┆ ---          ┆ 3           ┆   ┆ _2          ┆ ---   ┆ ---  ┆ ---         │\n",
       "│ i64   ┆ i64          ┆ i64          ┆ ---         ┆   ┆ ---         ┆ i64   ┆ f64  ┆ f64         │\n",
       "│       ┆              ┆              ┆ i64         ┆   ┆ i64         ┆       ┆      ┆             │\n",
       "╞═══════╪══════════════╪══════════════╪═════════════╪═══╪═════════════╪═══════╪══════╪═════════════╡\n",
       "│ 0     ┆ 1            ┆ 2            ┆ 3           ┆ … ┆ 1           ┆ 0     ┆ NaN  ┆ 0.0         │\n",
       "│ 1     ┆ 4            ┆ 5            ┆ null        ┆ … ┆ 1           ┆ 0     ┆ NaN  ┆ 0.0         │\n",
       "│ 2     ┆ 6            ┆ 7            ┆ 8           ┆ … ┆ 1           ┆ 0     ┆ NaN  ┆ 0.0         │\n",
       "│ 3     ┆ 9            ┆ null         ┆ null        ┆ … ┆ 1           ┆ 0     ┆ NaN  ┆ 0.0         │\n",
       "│ 4     ┆ null         ┆ null         ┆ null        ┆ … ┆ 1           ┆ 0     ┆ 12.0 ┆ 0.0         │\n",
       "│ …     ┆ …            ┆ …            ┆ …           ┆ … ┆ …           ┆ …     ┆ …    ┆ …           │\n",
       "│ 53    ┆ null         ┆ null         ┆ null        ┆ … ┆ 1           ┆ 0     ┆ NaN  ┆ 3095.956989 │\n",
       "│ 54    ┆ 55           ┆ 56           ┆ null        ┆ … ┆ 1           ┆ 0     ┆ NaN  ┆ 0.0         │\n",
       "│ 55    ┆ 57           ┆ null         ┆ null        ┆ … ┆ 1           ┆ 0     ┆ NaN  ┆ 0.0         │\n",
       "│ 56    ┆ null         ┆ null         ┆ null        ┆ … ┆ 1           ┆ 0     ┆ NaN  ┆ 3452.129032 │\n",
       "│ 57    ┆ null         ┆ null         ┆ null        ┆ … ┆ 1           ┆ 0     ┆ NaN  ┆ 7921.285319 │\n",
       "└───────┴──────────────┴──────────────┴─────────────┴───┴─────────────┴───────┴──────┴─────────────┘"
      ]
     },
     "execution_count": 32,
     "metadata": {},
     "output_type": "execute_result"
    }
   ],
   "source": [
    "parameter_distflow: pl.DataFrame = pl.read_csv(file_names[\"Distflow_parameter\"])\n",
    "nodedata_distflow: pl.DataFrame = pl.read_csv(file_names[\"Distflow_node_data\"])\n",
    "powerdata_distflow: pl.DataFrame = pl.read_csv(file_names[\"Distflow_Power_data\"])\n",
    "linedata_distflow: pl.DataFrame = pl.read_csv(file_names[\"Distflow_Line_data\"])\n",
    "result_distflow: pl.DataFrame = pl.read_csv(file_names[\"Distflow_result\"])\n",
    "# nodedata_distflow = nodedata_distflow.with_columns(c(\"Snom\").cast(pl.Int8))\n",
    "nodedata_distflow"
   ]
  },
  {
   "cell_type": "code",
   "execution_count": 29,
   "metadata": {},
   "outputs": [
    {
     "name": "stdout",
     "output_type": "stream",
     "text": [
      "shape: (8, 6)\n",
      "┌────────────┬──────────┬─────┬─────┬────────┬─────┐\n",
      "│ downstream ┆ upstream ┆ P   ┆ F   ┆ p_line ┆ lv  │\n",
      "│ ---        ┆ ---      ┆ --- ┆ --- ┆ ---    ┆ --- │\n",
      "│ i64        ┆ i64      ┆ i64 ┆ f64 ┆ f64    ┆ i64 │\n",
      "╞════════════╪══════════╪═════╪═════╪════════╪═════╡\n",
      "│ 3          ┆ 2        ┆ 2   ┆ 0.1 ┆ 2.2    ┆ 0   │\n",
      "│ 5          ┆ 4        ┆ 4   ┆ 0.1 ┆ 4.4    ┆ 0   │\n",
      "│ 7          ┆ 4        ┆ 6   ┆ 0.1 ┆ 6.6    ┆ 0   │\n",
      "│ 8          ┆ 6        ┆ 5   ┆ 0.1 ┆ 5.5    ┆ 0   │\n",
      "│ 2          ┆ 1        ┆ 1   ┆ 0.1 ┆ 3.52   ┆ 1   │\n",
      "│ 6          ┆ 4        ┆ 3   ┆ 0.1 ┆ 9.35   ┆ 1   │\n",
      "│ 4          ┆ 1        ┆ 1   ┆ 0.1 ┆ 23.485 ┆ 2   │\n",
      "│ 1          ┆ null     ┆ 0   ┆ 0.0 ┆ 27.005 ┆ 3   │\n",
      "└────────────┴──────────┴─────┴─────┴────────┴─────┘\n"
     ]
    }
   ],
   "source": [
    "def sum_downstream_power(col: pl.Expr, df: pl.DataFrame):\n",
    "    return col.map_elements(\n",
    "        lambda x: df.filter(c(\"upstream\") == x)[\"p_line\"].sum(), return_dtype=pl.Float64\n",
    "    )\n",
    "\n",
    "\n",
    "def calculate_line_power(df: pl.DataFrame):\n",
    "    return (c(\"downstream\").pipe(sum_downstream_power, df=df) + c(\"P\")) * (1 + c(\"F\"))\n",
    "\n",
    "\n",
    "def sum_power(df: pl.DataFrame, lv: int):\n",
    "\n",
    "    return df.with_columns(\n",
    "        pl.when(c(\"lv\") == lv)\n",
    "        .then(calculate_line_power(df=df))\n",
    "        .otherwise(c(\"p_line\"))\n",
    "        .alias(\"p_line\")\n",
    "    )\n",
    "\n",
    "\n",
    "# UP Use for each powerflow\n",
    "# Down Use only one time\n",
    "def get_node_level(G: nx.DiGraph) -> dict:\n",
    "    level_mapping: dict = {}\n",
    "    for node in reversed(list(nx.topological_sort(G))):\n",
    "        if not len(list(G.successors(node))):\n",
    "            level_mapping[node] = 0\n",
    "        else:\n",
    "            level_mapping[node] = max(level_mapping[n] for n in G.successors(node)) + 1\n",
    "    return level_mapping\n",
    "\n",
    "\n",
    "line_data: pl.DataFrame = pl.DataFrame(\n",
    "    {\n",
    "        \"downstream\": [1, 2, 3, 4, 5, 6, 7, 8],\n",
    "        \"upstream\": [None, 1, 2, 1, 4, 4, 4, 6],\n",
    "        \"P\": [0, 1, 2, 1, 4, 3, 6, 5],\n",
    "        \"F\": [0.0, 0.1, 0.1, 0.1, 0.1, 0.1, 0.1, 0.1],\n",
    "        \"p_line\": [0] * 8,\n",
    "    }\n",
    ")\n",
    "\n",
    "grid = nx.DiGraph()\n",
    "\n",
    "_ = line_data.drop_nulls(subset=\"upstream\").with_columns(\n",
    "    pl.struct(c(\"upstream\"), c(\"downstream\")).map_elements(\n",
    "        lambda x: grid.add_edge(x[\"upstream\"], x[\"downstream\"]), return_dtype=pl.Struct\n",
    "    )\n",
    ")\n",
    "level_mapping: dict = get_node_level(G=grid)\n",
    "line_data = line_data.with_columns(\n",
    "    c(\"downstream\").replace_strict(level_mapping, default=None).alias(\"lv\")\n",
    ")\n",
    "\n",
    "for i in range(line_data[\"lv\"].max() + 1):\n",
    "    line_data = sum_power(df=line_data, lv=i)\n",
    "\n",
    "print(line_data.sort(\"lv\"))"
   ]
  }
 ],
 "metadata": {
  "kernelspec": {
   "display_name": ".venv",
   "language": "python",
   "name": "python3"
  },
  "language_info": {
   "codemirror_mode": {
    "name": "ipython",
    "version": 3
   },
   "file_extension": ".py",
   "mimetype": "text/x-python",
   "name": "python",
   "nbconvert_exporter": "python",
   "pygments_lexer": "ipython3",
   "version": "3.12.7"
  }
 },
 "nbformat": 4,
 "nbformat_minor": 2
}
