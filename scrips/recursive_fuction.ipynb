{
 "cells": [
  {
   "cell_type": "code",
   "execution_count": 348,
   "metadata": {},
   "outputs": [],
   "source": [
    "import polars as pl\n",
    "from polars import col as c\n",
    "from polars import selectors as cs\n",
    "import networkx as nx\n",
    "\n",
    "\n",
    "from config import settings\n",
    "import json\n",
    "import os\n",
    "from datetime import datetime, UTC\n",
    "import datetime as dt\n",
    "\n",
    "from utility.polars_operation import generate_uuid_col\n",
    "from utility.parser_utility import (\n",
    "    add_table_to_changes_schema,\n",
    "    generate_connectivity_table,\n",
    "    generate_random_uuid,\n",
    ")\n",
    "from utility.general_function import pl_to_dict\n",
    "\n",
    "from twindigrid_changes.schema import ChangesSchema\n",
    "from twindigrid_sql.schema.enum import (\n",
    "    MeasurementClass,\n",
    "    MeasurementPhase,\n",
    "    MeasurementColumn,\n",
    "    SubstationType,\n",
    "    TerminalSide,\n",
    ")\n",
    "from twindigrid_sql.entries.source import (\n",
    "    SCADA,\n",
    "    CONVENTIONAL_METER,\n",
    "    GRID_LOAD,\n",
    "    SCADA,\n",
    "    ESTIMATED,\n",
    ")\n",
    "\n",
    "\n",
    "from twindigrid_sql.entries.equipment_class import (\n",
    "    TRANSFORMER,\n",
    "    BRANCH,\n",
    "    SWITCH,\n",
    "    INDIRECT_FEEDER,\n",
    "    BUSBAR_SECTION,\n",
    "    ENERGY_CONSUMER,\n",
    ")\n",
    "from twindigrid_sql.entries.measurement_type import ENERGY, ACTIVE_POWER, REACTIVE_POWER\n",
    "from twindigrid_sql.entries.unit_symbol import WATTHOUR, WATT\n",
    "\n",
    "# Useless outside jupiternotebook because in settings.py a line that changes the directory to src for ipynb\n",
    "os.chdir(os.getcwd().replace(\"/src\", \"\"))\n",
    "# os.getcwd()"
   ]
  },
  {
   "cell_type": "markdown",
   "metadata": {},
   "source": [
    "# Import data from matlab"
   ]
  },
  {
   "cell_type": "code",
   "execution_count": 349,
   "metadata": {},
   "outputs": [],
   "source": [
    "file_names: dict[str, str] = json.load(open(settings.INPUT_FILE_NAMES))\n",
    "parameter_distflow: pl.DataFrame = pl.read_csv(file_names[\"Distflow_parameter\"])\n",
    "nodedata_distflow: pl.DataFrame = pl.read_csv(file_names[\"Distflow_node_data\"])\n",
    "powerdata_distflow: pl.DataFrame = pl.read_csv(file_names[\"Distflow_Power_data\"])\n",
    "linedata_distflow: pl.DataFrame = pl.read_csv(file_names[\"Distflow_Line_data\"])\n",
    "result_distflow: pl.DataFrame = pl.read_csv(file_names[\"Distflow_result\"])\n",
    "# nodedata_distflow = nodedata_distflow.with_columns(c(\"Snom\").cast(pl.Int8))\n",
    "# # To have base value (need lenght of line), not from matlab !\n",
    "# line_data_from_input_file: pl.DataFrame = pl.read_excel(\n",
    "#     file_names[\"Line_Data_From_Input_File\"]\n",
    "# )\n",
    "\n",
    "# Add node number to power data\n",
    "powerdata_distflow = powerdata_distflow.with_row_index(\n",
    "    \"node_number\", offset=1\n",
    ")  # offset=1 because slack bus is 0 and no power on it\n",
    "powerdata_distflow = powerdata_distflow.with_columns(c(\"node_number\").cast(pl.Int64))\n",
    "# Create a topology dataframe with basic topology information\n",
    "\n",
    "df_topology = nodedata_distflow.select(\n",
    "    c(\"index\").alias(\"node_number\"),\n",
    "    c(\"Vnom\"),\n",
    ")\n",
    "\n",
    "# Add the power data to the topology dataframe with node as key\n",
    "df_topology = df_topology.join(\n",
    "    powerdata_distflow, on=\"node_number\", how=\"full\", coalesce=True\n",
    ")"
   ]
  },
  {
   "cell_type": "code",
   "execution_count": 350,
   "metadata": {},
   "outputs": [
    {
     "data": {
      "text/plain": [
       "'2020-03-27 23:00:00+00:00'"
      ]
     },
     "execution_count": 350,
     "metadata": {},
     "output_type": "execute_result"
    }
   ],
   "source": [
    "# Begin time of the data from matlab (from main_FC.ipynb before)\n",
    "str(datetime(2020, 4, 4, 23, 00, 0, 0, UTC) - dt.timedelta(hours=192))"
   ]
  },
  {
   "cell_type": "markdown",
   "metadata": {},
   "source": [
    "# From pu to unit based"
   ]
  },
  {
   "cell_type": "code",
   "execution_count": 351,
   "metadata": {},
   "outputs": [],
   "source": [
    "S_base = 10e6  # VA -> 10MVA for distribution grid\n",
    "U_b = df_topology[\"Vnom\"].max()  # V\n",
    "I_b = S_base / (3**0.5 * U_b)  # A\n",
    "Z_b = U_b**2 / S_base  # Ohm\n",
    "B_b = 1 / Z_b  # S\n",
    "pu_base = {\"U_b\": U_b, \"I_b\": I_b, \"Z_b\": Z_b, \"B_b\": B_b, \"S_base\": S_base}\n",
    "df_topology = df_topology.with_columns(\n",
    "    c(\"Pload\") * pu_base[\"S_base\"], c(\"Qload\") * pu_base[\"S_base\"]\n",
    ")\n",
    "linedata_distflow = linedata_distflow.with_columns(\n",
    "    (c(\"r_pu\") * pu_base[\"Z_b\"]).alias(\"r\"),\n",
    "    (c(\"x_pu\") * pu_base[\"Z_b\"]).alias(\"x\"),\n",
    "    (c(\"b_pu\") * pu_base[\"B_b\"]).alias(\"b\"),\n",
    "    (c(\"i_pu\") * pu_base[\"I_b\"]).alias(\"i\"),\n",
    ").drop([\"r_pu\", \"x_pu\", \"b_pu\", \"i_pu\"])"
   ]
  },
  {
   "cell_type": "markdown",
   "metadata": {},
   "source": [
    "# Set missing value for equipment"
   ]
  },
  {
   "cell_type": "code",
   "execution_count": 352,
   "metadata": {},
   "outputs": [],
   "source": [
    "### Set missing value for equipment\n",
    "# Fake value for the length of the branch\n",
    "base_length = 1\n",
    "# Low and high voltage limit\n",
    "low_voltage_limit = 380\n",
    "high_voltage_limit = 420\n",
    "# Fake value for the switch state\n",
    "switch_state = False\n",
    "switch_type = \"locked_switch\"\n",
    "switch_command = \"unknown\"\n",
    "\n",
    "# Initialisation\n",
    "default_install_date: datetime = datetime(*settings.DEFAULT_INSTALL_DATE, tzinfo=UTC)\n",
    "heartbeat = datetime.now(UTC)\n",
    "changes_schema = ChangesSchema()"
   ]
  },
  {
   "cell_type": "markdown",
   "metadata": {},
   "source": [
    "## Connectivity node table"
   ]
  },
  {
   "cell_type": "code",
   "execution_count": 353,
   "metadata": {},
   "outputs": [
    {
     "name": "stderr",
     "output_type": "stream",
     "text": [
      "2025-01-17 16:23:09 B01BPC14 utility.parser_utility[1871] WARNING 58 double values over 58 detected in ConnectivityNode_base_voltage for columns nominal_voltage\n"
     ]
    }
   ],
   "source": [
    "# Generate the node dict with uuid for each node\n",
    "connectivity_node: dict[float, str] = pl_to_dict(\n",
    "    df_topology.select(\n",
    "        c(\"node_number\"),\n",
    "        c(\"node_number\").pipe(generate_uuid_col, added_string=\"node_\").alias(\"uuid\"),\n",
    "    )\n",
    ")\n",
    "## Add the cn_fk to the topology dataframe\n",
    "df_topology = df_topology.with_columns(\n",
    "    c(\"node_number\").replace_strict(connectivity_node, default=None).alias(\"cn_fk\")\n",
    ")\n",
    "\n",
    "\n",
    "node = df_topology.with_columns(\n",
    "    c(\"Vnom\").alias(\"base_voltage_fk\"),\n",
    "    pl.lit(low_voltage_limit).alias(\"low_voltage_limit\"),\n",
    "    pl.lit(high_voltage_limit).alias(\"high_voltage_limit\"),\n",
    "    c(\"cn_fk\").alias(\"uuid\"),\n",
    ")\n",
    "base_voltage = node.with_columns(\n",
    "    c(\"base_voltage_fk\").alias(\"nominal_voltage\"),\n",
    "    pl.lit(\"LV\").alias(\"type\"),\n",
    ")\n",
    "new_tables_pl: dict[str, pl.DataFrame] = {\n",
    "    \"ConnectivityNode\": node,\n",
    "    \"BaseVoltage\": base_voltage,\n",
    "}\n",
    "changes_schema = add_table_to_changes_schema(\n",
    "    schema=changes_schema,\n",
    "    new_tables_pl=new_tables_pl,\n",
    "    raw_table_name=\"ConnectivityNode\",\n",
    ")"
   ]
  },
  {
   "cell_type": "markdown",
   "metadata": {},
   "source": [
    "## Branch"
   ]
  },
  {
   "cell_type": "code",
   "execution_count": 354,
   "metadata": {},
   "outputs": [],
   "source": [
    "# branch :pl.DataFrame =\n",
    "\n",
    "\n",
    "# Filter to take only branch, connection_type == 2\n",
    "branch = linedata_distflow.filter(c(\"connection_type\") == 2).select(\n",
    "    (\"line_\" + c(\"line_number\").cast(pl.String)).alias(\"dso_code\"),\n",
    "    c(\"i\").alias(\"current_limit\"),\n",
    "    c(\"r\"),\n",
    "    c(\"x\"),\n",
    "    c(\"b\"),\n",
    "    # Need column name non null value for validation of the schema\n",
    "    pl.lit(base_length).alias(\"length\"),  # km\n",
    "    pl.lit(BRANCH).alias(\"concrete_class\"),\n",
    "    pl.lit(default_install_date).alias(\"start\"),\n",
    "    pl.lit(heartbeat).alias(\"start_heartbeat\"),\n",
    "    c(\"line_number\").pipe(generate_uuid_col, added_string=BRANCH).alias(\"uuid\"),\n",
    "    # Generate uuid for each terminal of branch with node uuid\n",
    "    c(\"node_from\").replace_strict(connectivity_node, default=None).alias(\"t1\"),\n",
    "    c(\"node_to\").replace_strict(connectivity_node, default=None).alias(\"t2\"),\n",
    "    # Need column name for validation of the schema\n",
    "    pl.lit(None).alias(\"t1_container_fk\"),\n",
    "    pl.lit(None).alias(\"t2_container_fk\"),\n",
    ")\n",
    "branch_parameter_event: pl.DataFrame = branch.with_columns(\n",
    "    c(\"uuid\").alias(\"eq_fk\"),\n",
    "    c(\"uuid\").pipe(generate_random_uuid).alias(\"uuid\"),\n",
    "    c(\"start\").alias(\"timestamp\"),\n",
    "    pl.lit(heartbeat).alias(\"heartbeat\"),\n",
    "    pl.lit(SCADA).alias(\"source_fk\"),  # ??? why or why not ?\n",
    ").with_columns(pl.lit(0.0).alias(col) for col in [\"g\", \"r0\", \"x0\", \"b0\", \"g0\"])\n",
    "\n",
    "new_tables_pl: dict[str, pl.DataFrame] = {\n",
    "    \"Resource\": branch,\n",
    "    \"Equipment\": branch,\n",
    "    \"Branch\": branch,\n",
    "    \"BranchParameterEvent\": branch_parameter_event,\n",
    "}\n",
    "changes_schema = add_table_to_changes_schema(\n",
    "    schema=changes_schema, new_tables_pl=new_tables_pl, raw_table_name=\"branch\"\n",
    ")\n",
    "changes_schema = generate_connectivity_table(\n",
    "    changes_schema=changes_schema, eq_table=branch, raw_data_table=\"branch\"\n",
    ")"
   ]
  },
  {
   "cell_type": "markdown",
   "metadata": {},
   "source": [
    "## Energy consumer"
   ]
  },
  {
   "cell_type": "code",
   "execution_count": 355,
   "metadata": {},
   "outputs": [],
   "source": [
    "default_install_date: datetime = datetime(*settings.DEFAULT_INSTALL_DATE, tzinfo=UTC)\n",
    "\n",
    "\n",
    "# Power in PU\n",
    "energy_consumer = df_topology.with_columns(\n",
    "    (\"node_number_\" + c(\"node_number\").cast(pl.String)).alias(\"dso_code\"),\n",
    "    pl.lit(ENERGY_CONSUMER).alias(\"concrete_class\"),\n",
    "    pl.lit(default_install_date).alias(\"start\"),\n",
    "    pl.lit(heartbeat).alias(\"start_heartbeat\"),\n",
    "    pl.lit(\"unknown\").alias(\"profile_type\"),\n",
    "    pl.lit(0).alias(\"rated_p\"),  # Symbol: P_ec_nom, Unit: kW\n",
    "    c(\"cn_fk\")\n",
    "    .pipe(generate_random_uuid)\n",
    "    .alias(\"uuid\"),  # Generate random uuid on a random column\n",
    "    c(\"Pload\").replace(0, None).alias(\"node_with_consumer\"),\n",
    ").drop_nulls(\n",
    "    \"node_with_consumer\"\n",
    ")  # Remove node without consumption\n",
    "new_tables_pl: dict[str, pl.DataFrame] = {\n",
    "    \"Resource\": energy_consumer,\n",
    "    \"Equipment\": energy_consumer,\n",
    "    \"EnergyConsumer\": energy_consumer,\n",
    "}\n",
    "changes_schema = add_table_to_changes_schema(\n",
    "    schema=changes_schema, new_tables_pl=new_tables_pl, raw_table_name=\"energy_consumer\"\n",
    ")\n",
    "changes_schema = generate_connectivity_table(\n",
    "    changes_schema=changes_schema, eq_table=branch, raw_data_table=\"energy_consumer\"\n",
    ")"
   ]
  },
  {
   "cell_type": "markdown",
   "metadata": {},
   "source": [
    "## Measurement"
   ]
  },
  {
   "cell_type": "markdown",
   "metadata": {},
   "source": [
    "Active power"
   ]
  },
  {
   "cell_type": "code",
   "execution_count": 356,
   "metadata": {},
   "outputs": [],
   "source": [
    "## Add the uuid of the node to the power data\n",
    "measurement = energy_consumer.select(\n",
    "    c(\"uuid\")\n",
    "    .pipe(generate_random_uuid)\n",
    "    .alias(\n",
    "        \"uuid\"\n",
    "    ),  # Generate random uuid on a column without importance (don't work with pl.lit)\n",
    "    c(\"uuid\").alias(\"resource_fk\"),\n",
    "    pl.lit(heartbeat).alias(\"start_heartbeat\"),\n",
    "    pl.lit(MeasurementClass.SPAN.value).alias(\"concrete_type\"),\n",
    "    pl.lit(MeasurementPhase.ABC.value).alias(\"phase\"),\n",
    "    pl.lit(MeasurementColumn.DOUBLE.value).alias(\"column_type\"),\n",
    "    pl.lit(CONVENTIONAL_METER).alias(\"source_fk\"),\n",
    "    # pl.lit(60*60*24*365).alias(\"default_period\"),\n",
    "    pl.lit(ACTIVE_POWER).alias(\"measurement_type\"),\n",
    "    pl.lit(\"pu\").alias(\"unit_symbol\"),\n",
    "    pl.lit(1).alias(\"unit_multiplier\"),\n",
    "    c(\"Pload\").alias(\"double_value\"),\n",
    ")\n",
    "measurement_span = measurement.with_columns(\n",
    "    c(\"uuid\").alias(\"measurement_fk\"),\n",
    "    c(\"uuid\").pipe(generate_random_uuid).alias(\"uuid\"),\n",
    "    pl.lit(datetime(2022, 1, 1))\n",
    "    .dt.replace_time_zone(time_zone=\"Europe/Zurich\")\n",
    "    .dt.convert_time_zone(time_zone=\"UTC\")\n",
    "    .alias(\"start\"),\n",
    "    pl.lit(datetime(2023, 1, 1))\n",
    "    .dt.replace_time_zone(time_zone=\"Europe/Zurich\")\n",
    "    .dt.convert_time_zone(time_zone=\"UTC\")\n",
    "    .alias(\"end\"),\n",
    ")\n",
    "\n",
    "new_tables_pl: dict[str, pl.DataFrame] = {\n",
    "    \"Measurement\": measurement,\n",
    "    \"MeasurementSpan\": measurement_span,\n",
    "}\n",
    "changes_schema = add_table_to_changes_schema(\n",
    "    schema=changes_schema, new_tables_pl=new_tables_pl, raw_table_name=\"meter_id\"\n",
    ")"
   ]
  },
  {
   "cell_type": "markdown",
   "metadata": {},
   "source": [
    "Reactive power"
   ]
  },
  {
   "cell_type": "code",
   "execution_count": 357,
   "metadata": {},
   "outputs": [],
   "source": [
    "## Add the uuid of the node to the power data\n",
    "measurement = energy_consumer.select(\n",
    "    c(\"uuid\")\n",
    "    .pipe(generate_random_uuid)\n",
    "    .alias(\n",
    "        \"uuid\"\n",
    "    ),  # Generate random uuid on a column without importance (don't work with pl.lit)\n",
    "    c(\"uuid\").alias(\"resource_fk\"),\n",
    "    pl.lit(heartbeat).alias(\"start_heartbeat\"),\n",
    "    pl.lit(MeasurementClass.SPAN.value).alias(\"concrete_type\"),\n",
    "    pl.lit(MeasurementPhase.ABC.value).alias(\"phase\"),\n",
    "    pl.lit(MeasurementColumn.DOUBLE.value).alias(\"column_type\"),\n",
    "    pl.lit(CONVENTIONAL_METER).alias(\"source_fk\"),\n",
    "    # pl.lit(60*60*24*365).alias(\"default_period\"),\n",
    "    pl.lit(REACTIVE_POWER).alias(\"measurement_type\"),\n",
    "    pl.lit(\"pu\").alias(\"unit_symbol\"),\n",
    "    pl.lit(1).alias(\"unit_multiplier\"),\n",
    "    c(\"Qload\").alias(\"double_value\"),\n",
    ")\n",
    "measurement_span = measurement.with_columns(\n",
    "    c(\"uuid\").alias(\"measurement_fk\"),\n",
    "    c(\"uuid\").pipe(generate_random_uuid).alias(\"uuid\"),\n",
    "    pl.lit(datetime(2022, 1, 1))\n",
    "    .dt.replace_time_zone(time_zone=\"Europe/Zurich\")\n",
    "    .dt.convert_time_zone(time_zone=\"UTC\")\n",
    "    .alias(\"start\"),\n",
    "    pl.lit(datetime(2023, 1, 1))\n",
    "    .dt.replace_time_zone(time_zone=\"Europe/Zurich\")\n",
    "    .dt.convert_time_zone(time_zone=\"UTC\")\n",
    "    .alias(\"end\"),\n",
    ")\n",
    "\n",
    "new_tables_pl: dict[str, pl.DataFrame] = {\n",
    "    \"Measurement\": measurement,\n",
    "    \"MeasurementSpan\": measurement_span,\n",
    "}\n",
    "changes_schema = add_table_to_changes_schema(\n",
    "    schema=changes_schema, new_tables_pl=new_tables_pl, raw_table_name=\"meter_id\"\n",
    ")"
   ]
  },
  {
   "cell_type": "markdown",
   "metadata": {},
   "source": [
    "## Switch"
   ]
  },
  {
   "cell_type": "code",
   "execution_count": 358,
   "metadata": {},
   "outputs": [],
   "source": [
    "# Filter to take only switch, connection_type == 3\n",
    "switch = linedata_distflow.filter(c(\"connection_type\") == 3).select(\n",
    "    (\"line_\" + c(\"line_number\").cast(pl.String)).alias(\"dso_code\"),\n",
    "    pl.lit(SWITCH).alias(\"concrete_class\"),\n",
    "    pl.lit(default_install_date).alias(\"start\"),\n",
    "    pl.lit(heartbeat).alias(\"start_heartbeat\"),\n",
    "    pl.lit(switch_state).alias(\"normal_open\"),\n",
    "    pl.lit(switch_type).alias(\"type\"),\n",
    "    pl.lit(switch_command).alias(\"command\"),\n",
    "    # Generate uuid for each terminal of branch with node uuid\n",
    "    c(\"node_from\").replace_strict(connectivity_node, default=None).alias(\"t1\"),\n",
    "    c(\"node_to\").replace_strict(connectivity_node, default=None).alias(\"t2\"),\n",
    "    # Need column name for validation of the schema\n",
    "    pl.lit(None).alias(\"t1_container_fk\"),\n",
    "    pl.lit(None).alias(\"t2_container_fk\"),\n",
    "    c(\"line_number\").pipe(generate_uuid_col, added_string=SWITCH).alias(\"uuid\"),\n",
    ")\n",
    "new_tables_pl: dict[str, pl.DataFrame] = {\n",
    "    \"Resource\": switch,\n",
    "    \"Equipment\": switch,\n",
    "    \"Switch\": switch,\n",
    "}\n",
    "changes_schema = add_table_to_changes_schema(\n",
    "    schema=changes_schema, new_tables_pl=new_tables_pl, raw_table_name=\"switch\"\n",
    ")\n",
    "changes_schema = generate_connectivity_table(\n",
    "    changes_schema=changes_schema, eq_table=switch, raw_data_table=\"switch\"\n",
    ")"
   ]
  },
  {
   "cell_type": "markdown",
   "metadata": {},
   "source": [
    "# From changes_schema to per-unite"
   ]
  },
  {
   "cell_type": "code",
   "execution_count": 359,
   "metadata": {},
   "outputs": [
    {
     "data": {
      "text/plain": [
       "{'U_b': shape: (1, 5)\n",
       " ┌──────┬─────────────────┬──────┬───────────────────┬────────────────────┐\n",
       " │ diff ┆ nominal_voltage ┆ type ┆ low_voltage_limit ┆ high_voltage_limit │\n",
       " │ ---  ┆ ---             ┆ ---  ┆ ---               ┆ ---                │\n",
       " │ str  ┆ i32             ┆ str  ┆ i32               ┆ i32                │\n",
       " ╞══════╪═════════════════╪══════╪═══════════════════╪════════════════════╡\n",
       " │ +    ┆ 400             ┆ LV   ┆ 380               ┆ 420                │\n",
       " └──────┴─────────────────┴──────┴───────────────────┴────────────────────┘,\n",
       " 'I_b': 14433.756729740644,\n",
       " 'Z_b': 0.016,\n",
       " 'B_b': 62.5,\n",
       " 'S_base': 10000000.0}"
      ]
     },
     "execution_count": 359,
     "metadata": {},
     "output_type": "execute_result"
    }
   ],
   "source": [
    "# S_base = 10e6  # VA -> 10MVA for distribution grid\n",
    "# U_b = df_topology[\"Vnom\"].max()  # V\n",
    "# I_b = S_base / (3**0.5 * U_b)  # A\n",
    "# Z_b = U_b**2 / S_base  # Ohm\n",
    "# B_b = 1 / Z_b  # S\n",
    "\n",
    "\n",
    "pu_base_changes_schema = {\n",
    "    \"U_b\": changes_schema.base_voltage,\n",
    "    \"I_b\": I_b,\n",
    "    \"Z_b\": Z_b,\n",
    "    \"B_b\": B_b,\n",
    "    \"S_base\": pu_base[\"S_base\"],\n",
    "}\n",
    "pu_base_changes_schema"
   ]
  },
  {
   "cell_type": "code",
   "execution_count": 381,
   "metadata": {},
   "outputs": [],
   "source": [
    "# Schema table used to create the branch df\n",
    "# changes_schema.branch.head(1)\n",
    "# changes_schema.resource.head(1)\n",
    "# changes_schema.branch_parameter_event.head(1)\n",
    "\n",
    "\n",
    "# Merge branch with resource to have readable value and informations (dso_code, concrete_class, ...)\n",
    "df_branch = changes_schema.branch.join(\n",
    "    changes_schema.resource, on=\"uuid\", how=\"inner\"\n",
    ").drop(\n",
    "    cs.ends_with(\"_right\")\n",
    ")  # Add dso_code to branch and remove duplicate columns\n",
    "\n",
    "# Merge branch with branch_parameter_event to have the parameter of the branch\n",
    "df_branch = df_branch.join(\n",
    "    changes_schema.branch_parameter_event, left_on=\"uuid\", right_on=\"eq_fk\", how=\"inner\"\n",
    ").drop(\n",
    "    cs.ends_with(\"_right\")\n",
    ")  # Remove duplicate columns name from right"
   ]
  },
  {
   "cell_type": "code",
   "execution_count": 383,
   "metadata": {},
   "outputs": [
    {
     "data": {
      "text/html": [
       "<div><style>\n",
       ".dataframe > thead > tr,\n",
       ".dataframe > tbody > tr {\n",
       "  text-align: right;\n",
       "  white-space: pre-wrap;\n",
       "}\n",
       "</style>\n",
       "<small>shape: (1, 5)</small><table border=\"1\" class=\"dataframe\"><thead><tr><th>diff</th><th>nominal_voltage</th><th>type</th><th>low_voltage_limit</th><th>high_voltage_limit</th></tr><tr><td>str</td><td>i32</td><td>str</td><td>i32</td><td>i32</td></tr></thead><tbody><tr><td>&quot;+&quot;</td><td>400</td><td>&quot;LV&quot;</td><td>380</td><td>420</td></tr></tbody></table></div>"
      ],
      "text/plain": [
       "shape: (1, 5)\n",
       "┌──────┬─────────────────┬──────┬───────────────────┬────────────────────┐\n",
       "│ diff ┆ nominal_voltage ┆ type ┆ low_voltage_limit ┆ high_voltage_limit │\n",
       "│ ---  ┆ ---             ┆ ---  ┆ ---               ┆ ---                │\n",
       "│ str  ┆ i32             ┆ str  ┆ i32               ┆ i32                │\n",
       "╞══════╪═════════════════╪══════╪═══════════════════╪════════════════════╡\n",
       "│ +    ┆ 400             ┆ LV   ┆ 380               ┆ 420                │\n",
       "└──────┴─────────────────┴──────┴───────────────────┴────────────────────┘"
      ]
     },
     "execution_count": 383,
     "metadata": {},
     "output_type": "execute_result"
    }
   ],
   "source": [
    "changes_schema.base_voltage.head(1)"
   ]
  },
  {
   "cell_type": "code",
   "execution_count": 382,
   "metadata": {},
   "outputs": [
    {
     "data": {
      "text/html": [
       "<div><style>\n",
       ".dataframe > thead > tr,\n",
       ".dataframe > tbody > tr {\n",
       "  text-align: right;\n",
       "  white-space: pre-wrap;\n",
       "}\n",
       "</style>\n",
       "<small>shape: (1, 13)</small><table border=\"1\" class=\"dataframe\"><thead><tr><th>diff</th><th>uuid</th><th>start_heartbeat</th><th>end_heartbeat</th><th>start</th><th>end</th><th>eq_fk</th><th>side</th><th>eq_class</th><th>abstraction_fk</th><th>cn_fk</th><th>container_fk</th><th>indirect</th></tr><tr><td>str</td><td>str</td><td>datetime[μs, UTC]</td><td>datetime[μs, UTC]</td><td>datetime[μs, UTC]</td><td>datetime[μs, UTC]</td><td>str</td><td>str</td><td>str</td><td>str</td><td>str</td><td>str</td><td>bool</td></tr></thead><tbody><tr><td>&quot;+&quot;</td><td>&quot;4b533f12-65c3-4ac6-a6d3-af678a…</td><td>2025-01-17 15:23:09.347902 UTC</td><td>null</td><td>1960-01-01 00:00:00 UTC</td><td>null</td><td>&quot;b4fdf239-cfe2-5453-91c3-84c1b2…</td><td>&quot;t1&quot;</td><td>&quot;branch&quot;</td><td>&quot;physical&quot;</td><td>&quot;ba84d70a-80d7-590e-b112-f9c4b5…</td><td>null</td><td>false</td></tr></tbody></table></div>"
      ],
      "text/plain": [
       "shape: (1, 13)\n",
       "┌──────┬────────────┬────────────┬────────────┬───┬────────────┬────────────┬───────────┬──────────┐\n",
       "│ diff ┆ uuid       ┆ start_hear ┆ end_heartb ┆ … ┆ abstractio ┆ cn_fk      ┆ container ┆ indirect │\n",
       "│ ---  ┆ ---        ┆ tbeat      ┆ eat        ┆   ┆ n_fk       ┆ ---        ┆ _fk       ┆ ---      │\n",
       "│ str  ┆ str        ┆ ---        ┆ ---        ┆   ┆ ---        ┆ str        ┆ ---       ┆ bool     │\n",
       "│      ┆            ┆ datetime[μ ┆ datetime[μ ┆   ┆ str        ┆            ┆ str       ┆          │\n",
       "│      ┆            ┆ s, UTC]    ┆ s, UTC]    ┆   ┆            ┆            ┆           ┆          │\n",
       "╞══════╪════════════╪════════════╪════════════╪═══╪════════════╪════════════╪═══════════╪══════════╡\n",
       "│ +    ┆ 4b533f12-6 ┆ 2025-01-17 ┆ null       ┆ … ┆ physical   ┆ ba84d70a-8 ┆ null      ┆ false    │\n",
       "│      ┆ 5c3-4ac6-a ┆ 15:23:09.3 ┆            ┆   ┆            ┆ 0d7-590e-b ┆           ┆          │\n",
       "│      ┆ 6d3-af678a ┆ 47902 UTC  ┆            ┆   ┆            ┆ 112-f9c4b5 ┆           ┆          │\n",
       "│      ┆ …          ┆            ┆            ┆   ┆            ┆ …          ┆           ┆          │\n",
       "└──────┴────────────┴────────────┴────────────┴───┴────────────┴────────────┴───────────┴──────────┘"
      ]
     },
     "execution_count": 382,
     "metadata": {},
     "output_type": "execute_result"
    }
   ],
   "source": [
    "changes_schema.connectivity.head(1)"
   ]
  },
  {
   "cell_type": "code",
   "execution_count": 384,
   "metadata": {},
   "outputs": [
    {
     "data": {
      "text/html": [
       "<div><style>\n",
       ".dataframe > thead > tr,\n",
       ".dataframe > tbody > tr {\n",
       "  text-align: right;\n",
       "  white-space: pre-wrap;\n",
       "}\n",
       "</style>\n",
       "<small>shape: (1, 3)</small><table border=\"1\" class=\"dataframe\"><thead><tr><th>diff</th><th>uuid</th><th>base_voltage_fk</th></tr><tr><td>str</td><td>str</td><td>i32</td></tr></thead><tbody><tr><td>&quot;+&quot;</td><td>&quot;df941fce-ceda-5874-ab63-5c8af9…</td><td>400</td></tr></tbody></table></div>"
      ],
      "text/plain": [
       "shape: (1, 3)\n",
       "┌──────┬─────────────────────────────────┬─────────────────┐\n",
       "│ diff ┆ uuid                            ┆ base_voltage_fk │\n",
       "│ ---  ┆ ---                             ┆ ---             │\n",
       "│ str  ┆ str                             ┆ i32             │\n",
       "╞══════╪═════════════════════════════════╪═════════════════╡\n",
       "│ +    ┆ df941fce-ceda-5874-ab63-5c8af9… ┆ 400             │\n",
       "└──────┴─────────────────────────────────┴─────────────────┘"
      ]
     },
     "execution_count": 384,
     "metadata": {},
     "output_type": "execute_result"
    }
   ],
   "source": [
    "changes_schema.connectivity_node.head(1)"
   ]
  },
  {
   "cell_type": "markdown",
   "metadata": {},
   "source": [
    "## Distflow"
   ]
  },
  {
   "cell_type": "code",
   "execution_count": 364,
   "metadata": {},
   "outputs": [
    {
     "data": {
      "text/plain": [
       "['heartbeat',\n",
       " 'resource',\n",
       " 'equipment',\n",
       " 'terminal',\n",
       " 'busbar_section',\n",
       " 'branch',\n",
       " 'branch_parameter_event',\n",
       " 'geo_event',\n",
       " 'switch',\n",
       " 'switch_event',\n",
       " 'transformer',\n",
       " 'transformer_end',\n",
       " 'transformer_parameter_event',\n",
       " 'tap',\n",
       " 'tap_event',\n",
       " 'bess',\n",
       " 'energy_consumer',\n",
       " 'external_network',\n",
       " 'generating_unit',\n",
       " 'container',\n",
       " 'client',\n",
       " 'substation',\n",
       " 'base_voltage',\n",
       " 'connectivity_node',\n",
       " 'connectivity',\n",
       " 'measurement',\n",
       " 'measurement_point',\n",
       " 'measurement_span']"
      ]
     },
     "execution_count": 364,
     "metadata": {},
     "output_type": "execute_result"
    }
   ],
   "source": [
    "# changes_schema.connectivity\n",
    "# changes_schema.measurement[\"resource_fk\"][0]\n",
    "# changes_schema.branch.filter(c(\"uuid\") == \"df941fce-ceda-5874-ab63-5c8af9bec38b\")\n",
    "# changes_schema.connectivity.filter(\n",
    "#     c(\"cn_fk\").is_in(changes_schema.measurement[\"resource_fk\"])\n",
    "# )\n",
    "# changes_schema.energy_consumer.join(changes_schema.resource, on=\"uuid\", how=\"inner\")\n",
    "list(changes_schema.__dict__.keys())"
   ]
  },
  {
   "cell_type": "code",
   "execution_count": 365,
   "metadata": {},
   "outputs": [],
   "source": [
    "df_branch = changes_schema.branch.join(\n",
    "    changes_schema.resource, on=\"uuid\", how=\"inner\"\n",
    ").drop(\n",
    "    cs.ends_with(\"_right\")\n",
    ")  # Add dso_code to branch and remove duplicate columns"
   ]
  },
  {
   "cell_type": "code",
   "execution_count": 366,
   "metadata": {},
   "outputs": [],
   "source": [
    "coucou = df_branch.join(\n",
    "    changes_schema.connectivity, left_on=\"uuid\", right_on=\"eq_fk\", how=\"inner\"\n",
    ").drop(\n",
    "    cs.ends_with(\"_right\")\n",
    ")  # Remove duplicate columns name frome right"
   ]
  },
  {
   "cell_type": "code",
   "execution_count": 367,
   "metadata": {},
   "outputs": [
    {
     "data": {
      "text/html": [
       "<div><style>\n",
       ".dataframe > thead > tr,\n",
       ".dataframe > tbody > tr {\n",
       "  text-align: right;\n",
       "  white-space: pre-wrap;\n",
       "}\n",
       "</style>\n",
       "<small>shape: (2, 22)</small><table border=\"1\" class=\"dataframe\"><thead><tr><th>diff</th><th>uuid</th><th>section</th><th>current_limit</th><th>length</th><th>is_underground</th><th>start_heartbeat</th><th>end_heartbeat</th><th>start</th><th>end</th><th>dso_code</th><th>concrete_class</th><th>name</th><th>feeder_fk</th><th>metadata</th><th>owner</th><th>side</th><th>eq_class</th><th>abstraction_fk</th><th>cn_fk</th><th>container_fk</th><th>indirect</th></tr><tr><td>str</td><td>str</td><td>f64</td><td>f64</td><td>f64</td><td>bool</td><td>datetime[μs, UTC]</td><td>datetime[μs, UTC]</td><td>datetime[μs, UTC]</td><td>datetime[μs, UTC]</td><td>str</td><td>str</td><td>str</td><td>str</td><td>str</td><td>str</td><td>str</td><td>str</td><td>str</td><td>str</td><td>str</td><td>bool</td></tr></thead><tbody><tr><td>&quot;+&quot;</td><td>&quot;b4fdf239-cfe2-5453-91c3-84c1b2…</td><td>null</td><td>360.0</td><td>1.0</td><td>null</td><td>2025-01-17 15:23:09.347902 UTC</td><td>null</td><td>1960-01-01 00:00:00 UTC</td><td>null</td><td>&quot;line_1&quot;</td><td>&quot;branch&quot;</td><td>null</td><td>null</td><td>null</td><td>null</td><td>&quot;t1&quot;</td><td>&quot;branch&quot;</td><td>&quot;physical&quot;</td><td>&quot;ba84d70a-80d7-590e-b112-f9c4b5…</td><td>null</td><td>false</td></tr><tr><td>&quot;+&quot;</td><td>&quot;b4fdf239-cfe2-5453-91c3-84c1b2…</td><td>null</td><td>360.0</td><td>1.0</td><td>null</td><td>2025-01-17 15:23:09.347902 UTC</td><td>null</td><td>1960-01-01 00:00:00 UTC</td><td>null</td><td>&quot;line_1&quot;</td><td>&quot;branch&quot;</td><td>null</td><td>null</td><td>null</td><td>null</td><td>&quot;t2&quot;</td><td>&quot;branch&quot;</td><td>&quot;physical&quot;</td><td>&quot;df941fce-ceda-5874-ab63-5c8af9…</td><td>null</td><td>false</td></tr></tbody></table></div>"
      ],
      "text/plain": [
       "shape: (2, 22)\n",
       "┌──────┬─────────────┬─────────┬─────────────┬───┬────────────┬────────────┬────────────┬──────────┐\n",
       "│ diff ┆ uuid        ┆ section ┆ current_lim ┆ … ┆ abstractio ┆ cn_fk      ┆ container_ ┆ indirect │\n",
       "│ ---  ┆ ---         ┆ ---     ┆ it          ┆   ┆ n_fk       ┆ ---        ┆ fk         ┆ ---      │\n",
       "│ str  ┆ str         ┆ f64     ┆ ---         ┆   ┆ ---        ┆ str        ┆ ---        ┆ bool     │\n",
       "│      ┆             ┆         ┆ f64         ┆   ┆ str        ┆            ┆ str        ┆          │\n",
       "╞══════╪═════════════╪═════════╪═════════════╪═══╪════════════╪════════════╪════════════╪══════════╡\n",
       "│ +    ┆ b4fdf239-cf ┆ null    ┆ 360.0       ┆ … ┆ physical   ┆ ba84d70a-8 ┆ null       ┆ false    │\n",
       "│      ┆ e2-5453-91c ┆         ┆             ┆   ┆            ┆ 0d7-590e-b ┆            ┆          │\n",
       "│      ┆ 3-84c1b2…   ┆         ┆             ┆   ┆            ┆ 112-f9c4b5 ┆            ┆          │\n",
       "│      ┆             ┆         ┆             ┆   ┆            ┆ …          ┆            ┆          │\n",
       "│ +    ┆ b4fdf239-cf ┆ null    ┆ 360.0       ┆ … ┆ physical   ┆ df941fce-c ┆ null       ┆ false    │\n",
       "│      ┆ e2-5453-91c ┆         ┆             ┆   ┆            ┆ eda-5874-a ┆            ┆          │\n",
       "│      ┆ 3-84c1b2…   ┆         ┆             ┆   ┆            ┆ b63-5c8af9 ┆            ┆          │\n",
       "│      ┆             ┆         ┆             ┆   ┆            ┆ …          ┆            ┆          │\n",
       "└──────┴─────────────┴─────────┴─────────────┴───┴────────────┴────────────┴────────────┴──────────┘"
      ]
     },
     "execution_count": 367,
     "metadata": {},
     "output_type": "execute_result"
    }
   ],
   "source": [
    "coucou.filter(c(\"dso_code\") == \"line_1\")"
   ]
  },
  {
   "cell_type": "code",
   "execution_count": 368,
   "metadata": {},
   "outputs": [
    {
     "data": {
      "text/html": [
       "<div><style>\n",
       ".dataframe > thead > tr,\n",
       ".dataframe > tbody > tr {\n",
       "  text-align: right;\n",
       "  white-space: pre-wrap;\n",
       "}\n",
       "</style>\n",
       "<small>shape: (58, 3)</small><table border=\"1\" class=\"dataframe\"><thead><tr><th>diff</th><th>uuid</th><th>base_voltage_fk</th></tr><tr><td>str</td><td>str</td><td>i32</td></tr></thead><tbody><tr><td>&quot;+&quot;</td><td>&quot;df941fce-ceda-5874-ab63-5c8af9…</td><td>400</td></tr><tr><td>&quot;+&quot;</td><td>&quot;ba84d70a-80d7-590e-b112-f9c4b5…</td><td>400</td></tr><tr><td>&quot;+&quot;</td><td>&quot;078656ed-79f8-53a1-a67a-bb8f53…</td><td>400</td></tr><tr><td>&quot;+&quot;</td><td>&quot;c2247320-9fc2-538a-ba64-3ac70e…</td><td>400</td></tr><tr><td>&quot;+&quot;</td><td>&quot;af72457f-f983-5eeb-a635-0609f4…</td><td>400</td></tr><tr><td>&hellip;</td><td>&hellip;</td><td>&hellip;</td></tr><tr><td>&quot;+&quot;</td><td>&quot;4505ed8e-f087-5ee2-8c67-775daa…</td><td>400</td></tr><tr><td>&quot;+&quot;</td><td>&quot;23bc00b6-0e27-5e6d-a02e-dda5e9…</td><td>400</td></tr><tr><td>&quot;+&quot;</td><td>&quot;b1d51456-8036-5737-accc-1103d2…</td><td>400</td></tr><tr><td>&quot;+&quot;</td><td>&quot;9bed56b6-83af-51ce-b629-9a787c…</td><td>400</td></tr><tr><td>&quot;+&quot;</td><td>&quot;e59041d7-eab1-5d24-9a64-86efa1…</td><td>400</td></tr></tbody></table></div>"
      ],
      "text/plain": [
       "shape: (58, 3)\n",
       "┌──────┬─────────────────────────────────┬─────────────────┐\n",
       "│ diff ┆ uuid                            ┆ base_voltage_fk │\n",
       "│ ---  ┆ ---                             ┆ ---             │\n",
       "│ str  ┆ str                             ┆ i32             │\n",
       "╞══════╪═════════════════════════════════╪═════════════════╡\n",
       "│ +    ┆ df941fce-ceda-5874-ab63-5c8af9… ┆ 400             │\n",
       "│ +    ┆ ba84d70a-80d7-590e-b112-f9c4b5… ┆ 400             │\n",
       "│ +    ┆ 078656ed-79f8-53a1-a67a-bb8f53… ┆ 400             │\n",
       "│ +    ┆ c2247320-9fc2-538a-ba64-3ac70e… ┆ 400             │\n",
       "│ +    ┆ af72457f-f983-5eeb-a635-0609f4… ┆ 400             │\n",
       "│ …    ┆ …                               ┆ …               │\n",
       "│ +    ┆ 4505ed8e-f087-5ee2-8c67-775daa… ┆ 400             │\n",
       "│ +    ┆ 23bc00b6-0e27-5e6d-a02e-dda5e9… ┆ 400             │\n",
       "│ +    ┆ b1d51456-8036-5737-accc-1103d2… ┆ 400             │\n",
       "│ +    ┆ 9bed56b6-83af-51ce-b629-9a787c… ┆ 400             │\n",
       "│ +    ┆ e59041d7-eab1-5d24-9a64-86efa1… ┆ 400             │\n",
       "└──────┴─────────────────────────────────┴─────────────────┘"
      ]
     },
     "execution_count": 368,
     "metadata": {},
     "output_type": "execute_result"
    }
   ],
   "source": [
    "coucou.filter(c(\"dso_code\") == \"line_2\")\n",
    "changes_schema.connectivity_node"
   ]
  },
  {
   "cell_type": "markdown",
   "metadata": {},
   "source": [
    "## Import data to changes schema"
   ]
  },
  {
   "cell_type": "code",
   "execution_count": 369,
   "metadata": {},
   "outputs": [
    {
     "name": "stdout",
     "output_type": "stream",
     "text": [
      "shape: (1, 14)\n",
      "┌──────────┬────────────┬─────────┬──────────┬───┬────────────┬────────────┬───────────┬───────────┐\n",
      "│ dso_code ┆ current_li ┆ r       ┆ x        ┆ … ┆ t1         ┆ t2         ┆ t1_contai ┆ t2_contai │\n",
      "│ ---      ┆ mit        ┆ ---     ┆ ---      ┆   ┆ ---        ┆ ---        ┆ ner_fk    ┆ ner_fk    │\n",
      "│ str      ┆ ---        ┆ f64     ┆ f64      ┆   ┆ str        ┆ str        ┆ ---       ┆ ---       │\n",
      "│          ┆ f64        ┆         ┆          ┆   ┆            ┆            ┆ null      ┆ null      │\n",
      "╞══════════╪════════════╪═════════╪══════════╪═══╪════════════╪════════════╪═══════════╪═══════════╡\n",
      "│ line_5   ┆ 360.0      ┆ 0.00124 ┆ 0.000723 ┆ … ┆ dbd2411e-1 ┆ ba84d70a-8 ┆ null      ┆ null      │\n",
      "│          ┆            ┆         ┆          ┆   ┆ e87-5956-8 ┆ 0d7-590e-b ┆           ┆           │\n",
      "│          ┆            ┆         ┆          ┆   ┆ 6d9-d69ee7 ┆ 112-f9c4b5 ┆           ┆           │\n",
      "│          ┆            ┆         ┆          ┆   ┆ …          ┆ …          ┆           ┆           │\n",
      "└──────────┴────────────┴─────────┴──────────┴───┴────────────┴────────────┴───────────┴───────────┘\n",
      "shape: (2, 1)\n",
      "┌─────────────────────────────────┐\n",
      "│ eq_fk                           │\n",
      "│ ---                             │\n",
      "│ str                             │\n",
      "╞═════════════════════════════════╡\n",
      "│ c33afba9-0379-5d6a-9ca1-743cf7… │\n",
      "│ c33afba9-0379-5d6a-9ca1-743cf7… │\n",
      "└─────────────────────────────────┘\n"
     ]
    }
   ],
   "source": [
    "# energy_consumer.filter(c(\"node_number\") == 5)\n",
    "print(branch.filter(c(\"dso_code\") == \"line_5\"))\n",
    "print(\n",
    "    changes_schema.terminal.select(c(\"eq_fk\")).filter(\n",
    "        c(\"eq_fk\") == \"c33afba9-0379-5d6a-9ca1-743cf7c3512d\"\n",
    "    )\n",
    ")"
   ]
  },
  {
   "cell_type": "code",
   "execution_count": 370,
   "metadata": {},
   "outputs": [],
   "source": [
    "changes_schema.terminal.select(c(\"eq_fk\")).filter(\n",
    "    c(\"eq_fk\") == \"c33afba9-0379-5d6a-9ca1-743cf7c3512d\"\n",
    ")\n",
    "changes_schema.connectivity.with_columns(\n",
    "    c(\"cn_fk\").is_unique().alias(\"unique\")\n",
    ")  # Give true for the slack node...\n",
    "test2 = changes_schema.connectivity.filter(\n",
    "    c(\"cn_fk\").is_first_distinct() == True\n",
    ")  # Give true for the slack node..."
   ]
  },
  {
   "cell_type": "code",
   "execution_count": 371,
   "metadata": {},
   "outputs": [],
   "source": [
    "v_slack_sq = pow(parameter_distflow[\"Vslack\"][0], 2)\n",
    "test = changes_schema.connectivity  # .filter(c(\"side\") == \"t1\")\n",
    "# line_data :\n",
    "# \"downstream\": [1, 2, 3, 4, 5, 6, 7, 8],\n",
    "# \"upstream\": [None, 1, 2, 1, 4, 4, 4, 6],\n",
    "# \"P\": [0, 1, 2, 1, 4, 3, 6, 5],\n",
    "# \"F\": [0.0, 0.1, 0.1, 0.1, 0.1, 0.1, 0.1, 0.1],\n",
    "# \"p_line\": [0] * 8,"
   ]
  },
  {
   "cell_type": "code",
   "execution_count": 372,
   "metadata": {},
   "outputs": [
    {
     "ename": "SyntaxError",
     "evalue": "invalid syntax (1459228918.py, line 1)",
     "output_type": "error",
     "traceback": [
      "\u001b[0;36m  Cell \u001b[0;32mIn[372], line 1\u001b[0;36m\u001b[0m\n\u001b[0;31m    dist_flow_df : pl.DataFrame =\u001b[0m\n\u001b[0m                                  ^\u001b[0m\n\u001b[0;31mSyntaxError\u001b[0m\u001b[0;31m:\u001b[0m invalid syntax\n"
     ]
    }
   ],
   "source": [
    "dist_flow_df : pl.DataFrame = \n",
    "iteration = 0\n",
    "# parameter_distflow\n",
    "# ((norm(Vnode_sq(:,2) - Vnode_sq(:,1)) > tol  && iteration < maxIteration))\n",
    "tol = parameter_distflow[\"tol\"][0]\n",
    "max_iteration = parameter_distflow[\"maxIteration\"][0]\n",
    "\n",
    "\n",
    "x = \n",
    "while x < tol and iteration < max_iteration:\n",
    "    print(iteration)\n",
    "    iteration += 1\n",
    "# Qload_augmented = Qload - Bnode .* Vnode_sq(:,1);"
   ]
  },
  {
   "cell_type": "code",
   "execution_count": null,
   "metadata": {},
   "outputs": [],
   "source": [
    "def sum_downstream_power(col: pl.Expr, df: pl.DataFrame):\n",
    "    return col.map_elements(\n",
    "        lambda x: df.filter(c(\"upstream\") == x)[\"p_line\"].sum(), return_dtype=pl.Float64\n",
    "    )\n",
    "\n",
    "\n",
    "def calculate_line_power(df: pl.DataFrame):\n",
    "    return (c(\"downstream\").pipe(sum_downstream_power, df=df) + c(\"P\")) * (1 + c(\"F\"))\n",
    "\n",
    "\n",
    "def sum_power(df: pl.DataFrame, lv: int):\n",
    "\n",
    "    return df.with_columns(\n",
    "        pl.when(c(\"lv\") == lv)\n",
    "        .then(calculate_line_power(df=df))\n",
    "        .otherwise(c(\"p_line\"))\n",
    "        .alias(\"p_line\")\n",
    "    )\n",
    "\n",
    "\n",
    "# UP Use for each powerflow\n",
    "# Down Use only one time\n",
    "def get_node_level(G: nx.DiGraph) -> dict:\n",
    "    level_mapping: dict = {}\n",
    "    for node in reversed(list(nx.topological_sort(G))):\n",
    "        if not len(list(G.successors(node))):\n",
    "            level_mapping[node] = 0\n",
    "        else:\n",
    "            level_mapping[node] = max(level_mapping[n] for n in G.successors(node)) + 1\n",
    "    return level_mapping\n",
    "\n",
    "\n",
    "line_data: pl.DataFrame = pl.DataFrame(\n",
    "    {\n",
    "        \"downstream\": [1, 2, 3, 4, 5, 6, 7, 8],\n",
    "        \"upstream\": [None, 1, 2, 1, 4, 4, 4, 6],\n",
    "        \"P\": [0, 1, 2, 1, 4, 3, 6, 5],\n",
    "        \"F\": [0.0, 0.1, 0.1, 0.1, 0.1, 0.1, 0.1, 0.1],\n",
    "        \"p_line\": [0] * 8,\n",
    "    }\n",
    ")\n",
    "\n",
    "grid = nx.DiGraph()\n",
    "\n",
    "_ = line_data.drop_nulls(subset=\"upstream\").with_columns(\n",
    "    pl.struct(c(\"upstream\"), c(\"downstream\")).map_elements(\n",
    "        lambda x: grid.add_edge(x[\"upstream\"], x[\"downstream\"]), return_dtype=pl.Struct\n",
    "    )\n",
    ")\n",
    "level_mapping: dict = get_node_level(G=grid)\n",
    "line_data = line_data.with_columns(\n",
    "    c(\"downstream\").replace_strict(level_mapping, default=None).alias(\"lv\")\n",
    ")\n",
    "\n",
    "for i in range(line_data[\"lv\"].max() + 1):\n",
    "    line_data = sum_power(df=line_data, lv=i)\n",
    "\n",
    "print(line_data.sort(\"lv\"))"
   ]
  }
 ],
 "metadata": {
  "kernelspec": {
   "display_name": ".venv",
   "language": "python",
   "name": "python3"
  },
  "language_info": {
   "codemirror_mode": {
    "name": "ipython",
    "version": 3
   },
   "file_extension": ".py",
   "mimetype": "text/x-python",
   "name": "python",
   "nbconvert_exporter": "python",
   "pygments_lexer": "ipython3",
   "version": "3.12.7"
  }
 },
 "nbformat": 4,
 "nbformat_minor": 2
}
