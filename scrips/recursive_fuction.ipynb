{
 "cells": [
  {
   "cell_type": "code",
   "execution_count": 194,
   "metadata": {},
   "outputs": [],
   "source": [
    "import polars as pl\n",
    "from polars import col as c\n",
    "import networkx as nx\n",
    "\n",
    "from config import settings\n",
    "import json\n",
    "import os\n",
    "from datetime import datetime, UTC\n",
    "import datetime as dt\n",
    "\n",
    "from utility.polars_operation import generate_uuid_col\n",
    "from utility.parser_utility import (\n",
    "    add_table_to_changes_schema,\n",
    "    generate_connectivity_table,\n",
    "    generate_random_uuid,\n",
    ")\n",
    "from utility.general_function import pl_to_dict\n",
    "\n",
    "from twindigrid_changes.schema import ChangesSchema\n",
    "from twindigrid_sql.schema.enum import (\n",
    "    MeasurementClass,\n",
    "    MeasurementPhase,\n",
    "    MeasurementColumn,\n",
    "    SubstationType,\n",
    "    TerminalSide,\n",
    ")\n",
    "from twindigrid_sql.entries.source import (\n",
    "    SCADA,\n",
    "    CONVENTIONAL_METER,\n",
    "    GRID_LOAD,\n",
    "    SCADA,\n",
    "    ESTIMATED,\n",
    ")\n",
    "\n",
    "\n",
    "from twindigrid_sql.entries.equipment_class import (\n",
    "    TRANSFORMER,\n",
    "    BRANCH,\n",
    "    SWITCH,\n",
    "    INDIRECT_FEEDER,\n",
    "    BUSBAR_SECTION,\n",
    "    ENERGY_CONSUMER,\n",
    ")\n",
    "from twindigrid_sql.entries.measurement_type import ENERGY, ACTIVE_POWER, REACTIVE_POWER\n",
    "from twindigrid_sql.entries.unit_symbol import WATTHOUR, WATT\n",
    "\n",
    "# Useless outside jupiternotebook because in settings.py a line that changes the directory to src for ipynb\n",
    "os.chdir(os.getcwd().replace(\"/src\", \"\"))\n",
    "# os.getcwd()"
   ]
  },
  {
   "cell_type": "markdown",
   "metadata": {},
   "source": [
    "# Import data from matlab"
   ]
  },
  {
   "cell_type": "code",
   "execution_count": 195,
   "metadata": {},
   "outputs": [],
   "source": [
    "file_names: dict[str, str] = json.load(open(settings.INPUT_FILE_NAMES))"
   ]
  },
  {
   "cell_type": "code",
   "execution_count": 196,
   "metadata": {},
   "outputs": [
    {
     "data": {
      "text/html": [
       "<div><style>\n",
       ".dataframe > thead > tr,\n",
       ".dataframe > tbody > tr {\n",
       "  text-align: right;\n",
       "  white-space: pre-wrap;\n",
       "}\n",
       "</style>\n",
       "<small>shape: (57, 3)</small><table border=\"1\" class=\"dataframe\"><thead><tr><th>node_number</th><th>Pload</th><th>Qload</th></tr><tr><td>i64</td><td>f64</td><td>f64</td></tr></thead><tbody><tr><td>1</td><td>0.0</td><td>0.0</td></tr><tr><td>2</td><td>0.0</td><td>0.0</td></tr><tr><td>3</td><td>0.0</td><td>0.0</td></tr><tr><td>4</td><td>0.0</td><td>0.0</td></tr><tr><td>5</td><td>0.000035</td><td>0.000008</td></tr><tr><td>&hellip;</td><td>&hellip;</td><td>&hellip;</td></tr><tr><td>53</td><td>0.0</td><td>0.0</td></tr><tr><td>54</td><td>0.000035</td><td>-0.000012</td></tr><tr><td>55</td><td>0.0</td><td>0.0</td></tr><tr><td>56</td><td>0.0</td><td>0.0</td></tr><tr><td>57</td><td>0.00004</td><td>-0.000013</td></tr></tbody></table></div>"
      ],
      "text/plain": [
       "shape: (57, 3)\n",
       "┌─────────────┬──────────┬───────────┐\n",
       "│ node_number ┆ Pload    ┆ Qload     │\n",
       "│ ---         ┆ ---      ┆ ---       │\n",
       "│ i64         ┆ f64      ┆ f64       │\n",
       "╞═════════════╪══════════╪═══════════╡\n",
       "│ 1           ┆ 0.0      ┆ 0.0       │\n",
       "│ 2           ┆ 0.0      ┆ 0.0       │\n",
       "│ 3           ┆ 0.0      ┆ 0.0       │\n",
       "│ 4           ┆ 0.0      ┆ 0.0       │\n",
       "│ 5           ┆ 0.000035 ┆ 0.000008  │\n",
       "│ …           ┆ …        ┆ …         │\n",
       "│ 53          ┆ 0.0      ┆ 0.0       │\n",
       "│ 54          ┆ 0.000035 ┆ -0.000012 │\n",
       "│ 55          ┆ 0.0      ┆ 0.0       │\n",
       "│ 56          ┆ 0.0      ┆ 0.0       │\n",
       "│ 57          ┆ 0.00004  ┆ -0.000013 │\n",
       "└─────────────┴──────────┴───────────┘"
      ]
     },
     "execution_count": 196,
     "metadata": {},
     "output_type": "execute_result"
    }
   ],
   "source": [
    "parameter_distflow: pl.DataFrame = pl.read_csv(file_names[\"Distflow_parameter\"])\n",
    "nodedata_distflow: pl.DataFrame = pl.read_csv(file_names[\"Distflow_node_data\"])\n",
    "powerdata_distflow: pl.DataFrame = pl.read_csv(file_names[\"Distflow_Power_data\"])\n",
    "linedata_distflow: pl.DataFrame = pl.read_csv(file_names[\"Distflow_Line_data\"])\n",
    "result_distflow: pl.DataFrame = pl.read_csv(file_names[\"Distflow_result\"])\n",
    "# nodedata_distflow = nodedata_distflow.with_columns(c(\"Snom\").cast(pl.Int8))\n",
    "# # To have base value (need lenght of line), not from matlab !\n",
    "# line_data_from_input_file: pl.DataFrame = pl.read_excel(\n",
    "#     file_names[\"Line_Data_From_Input_File\"]\n",
    "# )\n",
    "\n",
    "# Add node number to power data\n",
    "powerdata_distflow = powerdata_distflow.with_row_index(\n",
    "    \"node_number\", offset=1\n",
    ")  # offset=1 because slack bus is 0 and no power on it\n",
    "powerdata_distflow = powerdata_distflow.with_columns(c(\"node_number\").cast(pl.Int64))\n",
    "# Create a topology dataframe with basic topology information\n",
    "\n",
    "df_topology = nodedata_distflow.select(\n",
    "    c(\"index\").alias(\"node_number\"),\n",
    "    c(\"Vnom\"),\n",
    ")\n",
    "\n",
    "# Add the power data to the topology dataframe with node as key\n",
    "df_topology = df_topology.join(\n",
    "    powerdata_distflow, on=\"node_number\", how=\"full\", coalesce=True\n",
    ")\n",
    "powerdata_distflow"
   ]
  },
  {
   "cell_type": "markdown",
   "metadata": {},
   "source": [
    "# Set missing value for equipment"
   ]
  },
  {
   "cell_type": "code",
   "execution_count": 197,
   "metadata": {},
   "outputs": [],
   "source": [
    "### Set missing value for equipment\n",
    "# Fake value for the length of the branch\n",
    "base_length = 1\n",
    "# Fake value for the switch state\n",
    "switch_state = False\n",
    "switch_type = \"locked_switch\"\n",
    "switch_command = \"unknown\""
   ]
  },
  {
   "cell_type": "markdown",
   "metadata": {},
   "source": [
    "## Connectivity node table"
   ]
  },
  {
   "cell_type": "code",
   "execution_count": 198,
   "metadata": {},
   "outputs": [],
   "source": [
    "# Generate the node dict with uuid for each node\n",
    "connectivity_node: dict[float, str] = pl_to_dict(\n",
    "    df_topology.select(\n",
    "        c(\"node_number\"),\n",
    "        c(\"node_number\").pipe(generate_uuid_col, added_string=\"node_\").alias(\"uuid\"),\n",
    "    )\n",
    ")\n",
    "## Add the cn_fk to the topology dataframe\n",
    "df_topology = df_topology.with_columns(\n",
    "    c(\"node_number\").replace_strict(connectivity_node, default=None).alias(\"cn_fk\")\n",
    ")"
   ]
  },
  {
   "cell_type": "markdown",
   "metadata": {},
   "source": [
    "## Branch"
   ]
  },
  {
   "cell_type": "code",
   "execution_count": 199,
   "metadata": {},
   "outputs": [],
   "source": [
    "# branch :pl.DataFrame =\n",
    "\n",
    "default_install_date: datetime = datetime(*settings.DEFAULT_INSTALL_DATE, tzinfo=UTC)\n",
    "heartbeat = datetime.now(UTC)\n",
    "changes_schema = ChangesSchema()\n",
    "\n",
    "\n",
    "# Current and other line parameter in pu\n",
    "\n",
    "# Filter to take only branch, connection_type == 2\n",
    "branch = linedata_distflow.filter(c(\"connection_type\") == 2).select(\n",
    "    c(\"line_number\").alias(\"dso_code\"),\n",
    "    c(\"i_pu\").alias(\"current_limit\"),\n",
    "    c(\"r_pu\"),\n",
    "    c(\"x_pu\"),\n",
    "    c(\"b_pu\"),\n",
    "    # Need column name non null value for validation of the schema\n",
    "    pl.lit(base_length).alias(\"length\"),  # km\n",
    "    pl.lit(BRANCH).alias(\"concrete_class\"),\n",
    "    pl.lit(default_install_date).alias(\"start\"),\n",
    "    pl.lit(heartbeat).alias(\"start_heartbeat\"),\n",
    "    c(\"line_number\").pipe(generate_uuid_col, added_string=BRANCH).alias(\"uuid\"),\n",
    "    # Generate uuid for each terminal of branch with node uuid\n",
    "    c(\"node_from\").replace_strict(connectivity_node, default=None).alias(\"t1\"),\n",
    "    c(\"node_to\").replace_strict(connectivity_node, default=None).alias(\"t2\"),\n",
    "    # Need column name for validation of the schema\n",
    "    pl.lit(None).alias(\"t1_container_fk\"),\n",
    "    pl.lit(None).alias(\"t2_container_fk\"),\n",
    ")\n",
    "new_tables_pl: dict[str, pl.DataFrame] = {\n",
    "    \"Resource\": branch,\n",
    "    \"Equipment\": branch,\n",
    "    \"Branch\": branch,\n",
    "}\n",
    "changes_schema = add_table_to_changes_schema(\n",
    "    schema=changes_schema, new_tables_pl=new_tables_pl, raw_table_name=\"branch\"\n",
    ")\n",
    "changes_schema = generate_connectivity_table(\n",
    "    changes_schema=changes_schema, eq_table=branch, raw_data_table=\"branch\"\n",
    ")"
   ]
  },
  {
   "cell_type": "markdown",
   "metadata": {},
   "source": [
    "## Energy consumer"
   ]
  },
  {
   "cell_type": "code",
   "execution_count": 200,
   "metadata": {},
   "outputs": [],
   "source": [
    "from polars import Null\n",
    "\n",
    "\n",
    "default_install_date: datetime = datetime(*settings.DEFAULT_INSTALL_DATE, tzinfo=UTC)\n",
    "heartbeat = datetime.now(UTC)\n",
    "changes_schema = ChangesSchema()\n",
    "\n",
    "\n",
    "# Power in PU\n",
    "energy_consumer = df_topology.with_columns(\n",
    "    pl.lit(ENERGY_CONSUMER).alias(\"concrete_class\"),\n",
    "    pl.lit(default_install_date).alias(\"start\"),\n",
    "    pl.lit(heartbeat).alias(\"start_heartbeat\"),\n",
    "    pl.lit(\"unknown\").alias(\"profile_type\"),\n",
    "    pl.lit(0).alias(\"rated_p\"),  # Symbol: P_ec_nom, Unit: kW\n",
    "    c(\"cn_fk\")\n",
    "    .pipe(generate_random_uuid)\n",
    "    .alias(\"uuid\"),  # Generate random uuid on a random column\n",
    "    c(\"Pload\").replace(0, None).alias(\"node_with_consumer\"),\n",
    ").drop_nulls(\n",
    "    \"node_with_consumer\"\n",
    ")  # Remove node without consumption\n",
    "new_tables_pl: dict[str, pl.DataFrame] = {\n",
    "    \"Resource\": energy_consumer,\n",
    "    \"Equipment\": energy_consumer,\n",
    "    \"EnergyConsumer\": energy_consumer,\n",
    "}\n",
    "changes_schema = add_table_to_changes_schema(\n",
    "    schema=changes_schema, new_tables_pl=new_tables_pl, raw_table_name=\"energy_consumer\"\n",
    ")\n",
    "changes_schema = generate_connectivity_table(\n",
    "    changes_schema=changes_schema, eq_table=branch, raw_data_table=\"energy_consumer\"\n",
    ")"
   ]
  },
  {
   "cell_type": "markdown",
   "metadata": {},
   "source": [
    "## Measurement"
   ]
  },
  {
   "cell_type": "code",
   "execution_count": 201,
   "metadata": {},
   "outputs": [
    {
     "data": {
      "text/html": [
       "<div><style>\n",
       ".dataframe > thead > tr,\n",
       ".dataframe > tbody > tr {\n",
       "  text-align: right;\n",
       "  white-space: pre-wrap;\n",
       "}\n",
       "</style>\n",
       "<small>shape: (27, 12)</small><table border=\"1\" class=\"dataframe\"><thead><tr><th>node_number</th><th>Vnom</th><th>Pload</th><th>Qload</th><th>cn_fk</th><th>concrete_class</th><th>start</th><th>start_heartbeat</th><th>profile_type</th><th>rated_p</th><th>uuid</th><th>node_with_consumer</th></tr><tr><td>i64</td><td>i64</td><td>f64</td><td>f64</td><td>str</td><td>str</td><td>datetime[μs, UTC]</td><td>datetime[μs, UTC]</td><td>str</td><td>i32</td><td>str</td><td>f64</td></tr></thead><tbody><tr><td>5</td><td>400</td><td>0.000035</td><td>0.000008</td><td>&quot;dbd2411e-1e87-5956-86d9-d69ee7…</td><td>&quot;energy_consumer&quot;</td><td>1960-01-01 00:00:00 UTC</td><td>2025-01-10 08:36:26.683519 UTC</td><td>&quot;unknown&quot;</td><td>0</td><td>&quot;e0afa9c2-2997-44e6-be33-1aa4cd…</td><td>0.000035</td></tr><tr><td>8</td><td>400</td><td>0.001251</td><td>-0.000375</td><td>&quot;d177af44-109b-50d6-8b8a-97874a…</td><td>&quot;energy_consumer&quot;</td><td>1960-01-01 00:00:00 UTC</td><td>2025-01-10 08:36:26.683519 UTC</td><td>&quot;unknown&quot;</td><td>0</td><td>&quot;885ff105-fac6-4fb2-96a1-b82fdc…</td><td>0.001251</td></tr><tr><td>9</td><td>400</td><td>0.002761</td><td>-0.000914</td><td>&quot;8a7f105e-71f3-5101-8b4f-1a9007…</td><td>&quot;energy_consumer&quot;</td><td>1960-01-01 00:00:00 UTC</td><td>2025-01-10 08:36:26.683519 UTC</td><td>&quot;unknown&quot;</td><td>0</td><td>&quot;6474caa2-642f-4cff-b70e-155aab…</td><td>0.002761</td></tr><tr><td>11</td><td>400</td><td>0.000257</td><td>-0.000084</td><td>&quot;2974cbe7-7e8b-54b5-9978-65f421…</td><td>&quot;energy_consumer&quot;</td><td>1960-01-01 00:00:00 UTC</td><td>2025-01-10 08:36:26.683519 UTC</td><td>&quot;unknown&quot;</td><td>0</td><td>&quot;13968615-4b3a-4158-9c51-46352b…</td><td>0.000257</td></tr><tr><td>13</td><td>400</td><td>0.001223</td><td>-0.000406</td><td>&quot;2e63d367-00e4-59d5-a861-9117f6…</td><td>&quot;energy_consumer&quot;</td><td>1960-01-01 00:00:00 UTC</td><td>2025-01-10 08:36:26.683519 UTC</td><td>&quot;unknown&quot;</td><td>0</td><td>&quot;4daa3b6b-1e75-49c5-8ab0-ed9547…</td><td>0.001223</td></tr><tr><td>&hellip;</td><td>&hellip;</td><td>&hellip;</td><td>&hellip;</td><td>&hellip;</td><td>&hellip;</td><td>&hellip;</td><td>&hellip;</td><td>&hellip;</td><td>&hellip;</td><td>&hellip;</td><td>&hellip;</td></tr><tr><td>47</td><td>400</td><td>0.000041</td><td>-0.000013</td><td>&quot;2023dca7-8cab-5a99-bb1c-926575…</td><td>&quot;energy_consumer&quot;</td><td>1960-01-01 00:00:00 UTC</td><td>2025-01-10 08:36:26.683519 UTC</td><td>&quot;unknown&quot;</td><td>0</td><td>&quot;20becc2b-7a39-48da-ba78-372f82…</td><td>0.000041</td></tr><tr><td>51</td><td>400</td><td>0.000105</td><td>-0.000034</td><td>&quot;fb87ec61-e87a-5861-88bf-d2d23f…</td><td>&quot;energy_consumer&quot;</td><td>1960-01-01 00:00:00 UTC</td><td>2025-01-10 08:36:26.683519 UTC</td><td>&quot;unknown&quot;</td><td>0</td><td>&quot;ea320a0f-c718-41b6-af8d-e386f7…</td><td>0.000105</td></tr><tr><td>52</td><td>400</td><td>0.000034</td><td>-0.000011</td><td>&quot;d2deff68-20a8-5d92-b689-a57381…</td><td>&quot;energy_consumer&quot;</td><td>1960-01-01 00:00:00 UTC</td><td>2025-01-10 08:36:26.683519 UTC</td><td>&quot;unknown&quot;</td><td>0</td><td>&quot;a0a76f9f-0c6a-4a69-acf9-ef67a8…</td><td>0.000034</td></tr><tr><td>54</td><td>400</td><td>0.000035</td><td>-0.000012</td><td>&quot;23bc00b6-0e27-5e6d-a02e-dda5e9…</td><td>&quot;energy_consumer&quot;</td><td>1960-01-01 00:00:00 UTC</td><td>2025-01-10 08:36:26.683519 UTC</td><td>&quot;unknown&quot;</td><td>0</td><td>&quot;d7a921cf-4788-404f-a6b3-15dbe2…</td><td>0.000035</td></tr><tr><td>57</td><td>400</td><td>0.00004</td><td>-0.000013</td><td>&quot;e59041d7-eab1-5d24-9a64-86efa1…</td><td>&quot;energy_consumer&quot;</td><td>1960-01-01 00:00:00 UTC</td><td>2025-01-10 08:36:26.683519 UTC</td><td>&quot;unknown&quot;</td><td>0</td><td>&quot;1d3871d2-ea02-414e-a854-a79448…</td><td>0.00004</td></tr></tbody></table></div>"
      ],
      "text/plain": [
       "shape: (27, 12)\n",
       "┌─────────────┬──────┬──────────┬───────────┬───┬─────────────┬─────────┬─────────────┬────────────┐\n",
       "│ node_number ┆ Vnom ┆ Pload    ┆ Qload     ┆ … ┆ profile_typ ┆ rated_p ┆ uuid        ┆ node_with_ │\n",
       "│ ---         ┆ ---  ┆ ---      ┆ ---       ┆   ┆ e           ┆ ---     ┆ ---         ┆ consumer   │\n",
       "│ i64         ┆ i64  ┆ f64      ┆ f64       ┆   ┆ ---         ┆ i32     ┆ str         ┆ ---        │\n",
       "│             ┆      ┆          ┆           ┆   ┆ str         ┆         ┆             ┆ f64        │\n",
       "╞═════════════╪══════╪══════════╪═══════════╪═══╪═════════════╪═════════╪═════════════╪════════════╡\n",
       "│ 5           ┆ 400  ┆ 0.000035 ┆ 0.000008  ┆ … ┆ unknown     ┆ 0       ┆ e0afa9c2-29 ┆ 0.000035   │\n",
       "│             ┆      ┆          ┆           ┆   ┆             ┆         ┆ 97-44e6-be3 ┆            │\n",
       "│             ┆      ┆          ┆           ┆   ┆             ┆         ┆ 3-1aa4cd…   ┆            │\n",
       "│ 8           ┆ 400  ┆ 0.001251 ┆ -0.000375 ┆ … ┆ unknown     ┆ 0       ┆ 885ff105-fa ┆ 0.001251   │\n",
       "│             ┆      ┆          ┆           ┆   ┆             ┆         ┆ c6-4fb2-96a ┆            │\n",
       "│             ┆      ┆          ┆           ┆   ┆             ┆         ┆ 1-b82fdc…   ┆            │\n",
       "│ 9           ┆ 400  ┆ 0.002761 ┆ -0.000914 ┆ … ┆ unknown     ┆ 0       ┆ 6474caa2-64 ┆ 0.002761   │\n",
       "│             ┆      ┆          ┆           ┆   ┆             ┆         ┆ 2f-4cff-b70 ┆            │\n",
       "│             ┆      ┆          ┆           ┆   ┆             ┆         ┆ e-155aab…   ┆            │\n",
       "│ 11          ┆ 400  ┆ 0.000257 ┆ -0.000084 ┆ … ┆ unknown     ┆ 0       ┆ 13968615-4b ┆ 0.000257   │\n",
       "│             ┆      ┆          ┆           ┆   ┆             ┆         ┆ 3a-4158-9c5 ┆            │\n",
       "│             ┆      ┆          ┆           ┆   ┆             ┆         ┆ 1-46352b…   ┆            │\n",
       "│ 13          ┆ 400  ┆ 0.001223 ┆ -0.000406 ┆ … ┆ unknown     ┆ 0       ┆ 4daa3b6b-1e ┆ 0.001223   │\n",
       "│             ┆      ┆          ┆           ┆   ┆             ┆         ┆ 75-49c5-8ab ┆            │\n",
       "│             ┆      ┆          ┆           ┆   ┆             ┆         ┆ 0-ed9547…   ┆            │\n",
       "│ …           ┆ …    ┆ …        ┆ …         ┆ … ┆ …           ┆ …       ┆ …           ┆ …          │\n",
       "│ 47          ┆ 400  ┆ 0.000041 ┆ -0.000013 ┆ … ┆ unknown     ┆ 0       ┆ 20becc2b-7a ┆ 0.000041   │\n",
       "│             ┆      ┆          ┆           ┆   ┆             ┆         ┆ 39-48da-ba7 ┆            │\n",
       "│             ┆      ┆          ┆           ┆   ┆             ┆         ┆ 8-372f82…   ┆            │\n",
       "│ 51          ┆ 400  ┆ 0.000105 ┆ -0.000034 ┆ … ┆ unknown     ┆ 0       ┆ ea320a0f-c7 ┆ 0.000105   │\n",
       "│             ┆      ┆          ┆           ┆   ┆             ┆         ┆ 18-41b6-af8 ┆            │\n",
       "│             ┆      ┆          ┆           ┆   ┆             ┆         ┆ d-e386f7…   ┆            │\n",
       "│ 52          ┆ 400  ┆ 0.000034 ┆ -0.000011 ┆ … ┆ unknown     ┆ 0       ┆ a0a76f9f-0c ┆ 0.000034   │\n",
       "│             ┆      ┆          ┆           ┆   ┆             ┆         ┆ 6a-4a69-acf ┆            │\n",
       "│             ┆      ┆          ┆           ┆   ┆             ┆         ┆ 9-ef67a8…   ┆            │\n",
       "│ 54          ┆ 400  ┆ 0.000035 ┆ -0.000012 ┆ … ┆ unknown     ┆ 0       ┆ d7a921cf-47 ┆ 0.000035   │\n",
       "│             ┆      ┆          ┆           ┆   ┆             ┆         ┆ 88-404f-a6b ┆            │\n",
       "│             ┆      ┆          ┆           ┆   ┆             ┆         ┆ 3-15dbe2…   ┆            │\n",
       "│ 57          ┆ 400  ┆ 0.00004  ┆ -0.000013 ┆ … ┆ unknown     ┆ 0       ┆ 1d3871d2-ea ┆ 0.00004    │\n",
       "│             ┆      ┆          ┆           ┆   ┆             ┆         ┆ 02-414e-a85 ┆            │\n",
       "│             ┆      ┆          ┆           ┆   ┆             ┆         ┆ 4-a79448…   ┆            │\n",
       "└─────────────┴──────┴──────────┴───────────┴───┴─────────────┴─────────┴─────────────┴────────────┘"
      ]
     },
     "execution_count": 201,
     "metadata": {},
     "output_type": "execute_result"
    }
   ],
   "source": [
    "energy_consumer"
   ]
  },
  {
   "cell_type": "markdown",
   "metadata": {},
   "source": [
    "Active power"
   ]
  },
  {
   "cell_type": "code",
   "execution_count": 202,
   "metadata": {},
   "outputs": [
    {
     "data": {
      "text/html": [
       "<div><style>\n",
       ".dataframe > thead > tr,\n",
       ".dataframe > tbody > tr {\n",
       "  text-align: right;\n",
       "  white-space: pre-wrap;\n",
       "}\n",
       "</style>\n",
       "<small>shape: (27, 11)</small><table border=\"1\" class=\"dataframe\"><thead><tr><th>uuid</th><th>resource_fk</th><th>start_heartbeat</th><th>concrete_type</th><th>phase</th><th>column_type</th><th>source_fk</th><th>measurement_type</th><th>unit_symbol</th><th>unit_multiplier</th><th>double_value</th></tr><tr><td>str</td><td>str</td><td>datetime[μs, UTC]</td><td>str</td><td>str</td><td>str</td><td>str</td><td>str</td><td>str</td><td>i32</td><td>f64</td></tr></thead><tbody><tr><td>&quot;f612fc65-91dd-4a05-a751-d00a00…</td><td>&quot;e0afa9c2-2997-44e6-be33-1aa4cd…</td><td>2025-01-10 08:36:26.683519 UTC</td><td>&quot;measurement_span&quot;</td><td>&quot;ABC&quot;</td><td>&quot;double_value&quot;</td><td>&quot;conventional_meter&quot;</td><td>&quot;active power&quot;</td><td>&quot;pu&quot;</td><td>1</td><td>0.000035</td></tr><tr><td>&quot;1900bc3c-3169-431c-8449-c934dd…</td><td>&quot;885ff105-fac6-4fb2-96a1-b82fdc…</td><td>2025-01-10 08:36:26.683519 UTC</td><td>&quot;measurement_span&quot;</td><td>&quot;ABC&quot;</td><td>&quot;double_value&quot;</td><td>&quot;conventional_meter&quot;</td><td>&quot;active power&quot;</td><td>&quot;pu&quot;</td><td>1</td><td>0.001251</td></tr><tr><td>&quot;14e94576-b365-431b-b242-c3c6b8…</td><td>&quot;6474caa2-642f-4cff-b70e-155aab…</td><td>2025-01-10 08:36:26.683519 UTC</td><td>&quot;measurement_span&quot;</td><td>&quot;ABC&quot;</td><td>&quot;double_value&quot;</td><td>&quot;conventional_meter&quot;</td><td>&quot;active power&quot;</td><td>&quot;pu&quot;</td><td>1</td><td>0.002761</td></tr><tr><td>&quot;0dd3f6f2-6728-46f6-aa29-d943d7…</td><td>&quot;13968615-4b3a-4158-9c51-46352b…</td><td>2025-01-10 08:36:26.683519 UTC</td><td>&quot;measurement_span&quot;</td><td>&quot;ABC&quot;</td><td>&quot;double_value&quot;</td><td>&quot;conventional_meter&quot;</td><td>&quot;active power&quot;</td><td>&quot;pu&quot;</td><td>1</td><td>0.000257</td></tr><tr><td>&quot;158445bc-ec2e-4243-8639-fc216e…</td><td>&quot;4daa3b6b-1e75-49c5-8ab0-ed9547…</td><td>2025-01-10 08:36:26.683519 UTC</td><td>&quot;measurement_span&quot;</td><td>&quot;ABC&quot;</td><td>&quot;double_value&quot;</td><td>&quot;conventional_meter&quot;</td><td>&quot;active power&quot;</td><td>&quot;pu&quot;</td><td>1</td><td>0.001223</td></tr><tr><td>&hellip;</td><td>&hellip;</td><td>&hellip;</td><td>&hellip;</td><td>&hellip;</td><td>&hellip;</td><td>&hellip;</td><td>&hellip;</td><td>&hellip;</td><td>&hellip;</td><td>&hellip;</td></tr><tr><td>&quot;576325c7-c8df-4307-b1c8-76bca7…</td><td>&quot;20becc2b-7a39-48da-ba78-372f82…</td><td>2025-01-10 08:36:26.683519 UTC</td><td>&quot;measurement_span&quot;</td><td>&quot;ABC&quot;</td><td>&quot;double_value&quot;</td><td>&quot;conventional_meter&quot;</td><td>&quot;active power&quot;</td><td>&quot;pu&quot;</td><td>1</td><td>0.000041</td></tr><tr><td>&quot;f5e7b1e9-1d5a-4c91-b8d5-7beaf8…</td><td>&quot;ea320a0f-c718-41b6-af8d-e386f7…</td><td>2025-01-10 08:36:26.683519 UTC</td><td>&quot;measurement_span&quot;</td><td>&quot;ABC&quot;</td><td>&quot;double_value&quot;</td><td>&quot;conventional_meter&quot;</td><td>&quot;active power&quot;</td><td>&quot;pu&quot;</td><td>1</td><td>0.000105</td></tr><tr><td>&quot;b066152b-8006-448e-95e4-bb8559…</td><td>&quot;a0a76f9f-0c6a-4a69-acf9-ef67a8…</td><td>2025-01-10 08:36:26.683519 UTC</td><td>&quot;measurement_span&quot;</td><td>&quot;ABC&quot;</td><td>&quot;double_value&quot;</td><td>&quot;conventional_meter&quot;</td><td>&quot;active power&quot;</td><td>&quot;pu&quot;</td><td>1</td><td>0.000034</td></tr><tr><td>&quot;ce07e2da-0353-42c0-8a71-dcfda5…</td><td>&quot;d7a921cf-4788-404f-a6b3-15dbe2…</td><td>2025-01-10 08:36:26.683519 UTC</td><td>&quot;measurement_span&quot;</td><td>&quot;ABC&quot;</td><td>&quot;double_value&quot;</td><td>&quot;conventional_meter&quot;</td><td>&quot;active power&quot;</td><td>&quot;pu&quot;</td><td>1</td><td>0.000035</td></tr><tr><td>&quot;2b753d9a-0af5-44cd-b758-6261e1…</td><td>&quot;1d3871d2-ea02-414e-a854-a79448…</td><td>2025-01-10 08:36:26.683519 UTC</td><td>&quot;measurement_span&quot;</td><td>&quot;ABC&quot;</td><td>&quot;double_value&quot;</td><td>&quot;conventional_meter&quot;</td><td>&quot;active power&quot;</td><td>&quot;pu&quot;</td><td>1</td><td>0.00004</td></tr></tbody></table></div>"
      ],
      "text/plain": [
       "shape: (27, 11)\n",
       "┌───────────┬───────────┬───────────┬───────────┬───┬───────────┬───────────┬───────────┬──────────┐\n",
       "│ uuid      ┆ resource_ ┆ start_hea ┆ concrete_ ┆ … ┆ measureme ┆ unit_symb ┆ unit_mult ┆ double_v │\n",
       "│ ---       ┆ fk        ┆ rtbeat    ┆ type      ┆   ┆ nt_type   ┆ ol        ┆ iplier    ┆ alue     │\n",
       "│ str       ┆ ---       ┆ ---       ┆ ---       ┆   ┆ ---       ┆ ---       ┆ ---       ┆ ---      │\n",
       "│           ┆ str       ┆ datetime[ ┆ str       ┆   ┆ str       ┆ str       ┆ i32       ┆ f64      │\n",
       "│           ┆           ┆ μs, UTC]  ┆           ┆   ┆           ┆           ┆           ┆          │\n",
       "╞═══════════╪═══════════╪═══════════╪═══════════╪═══╪═══════════╪═══════════╪═══════════╪══════════╡\n",
       "│ f612fc65- ┆ e0afa9c2- ┆ 2025-01-1 ┆ measureme ┆ … ┆ active    ┆ pu        ┆ 1         ┆ 0.000035 │\n",
       "│ 91dd-4a05 ┆ 2997-44e6 ┆ 0 08:36:2 ┆ nt_span   ┆   ┆ power     ┆           ┆           ┆          │\n",
       "│ -a751-d00 ┆ -be33-1aa ┆ 6.683519  ┆           ┆   ┆           ┆           ┆           ┆          │\n",
       "│ a00…      ┆ 4cd…      ┆ UTC       ┆           ┆   ┆           ┆           ┆           ┆          │\n",
       "│ 1900bc3c- ┆ 885ff105- ┆ 2025-01-1 ┆ measureme ┆ … ┆ active    ┆ pu        ┆ 1         ┆ 0.001251 │\n",
       "│ 3169-431c ┆ fac6-4fb2 ┆ 0 08:36:2 ┆ nt_span   ┆   ┆ power     ┆           ┆           ┆          │\n",
       "│ -8449-c93 ┆ -96a1-b82 ┆ 6.683519  ┆           ┆   ┆           ┆           ┆           ┆          │\n",
       "│ 4dd…      ┆ fdc…      ┆ UTC       ┆           ┆   ┆           ┆           ┆           ┆          │\n",
       "│ 14e94576- ┆ 6474caa2- ┆ 2025-01-1 ┆ measureme ┆ … ┆ active    ┆ pu        ┆ 1         ┆ 0.002761 │\n",
       "│ b365-431b ┆ 642f-4cff ┆ 0 08:36:2 ┆ nt_span   ┆   ┆ power     ┆           ┆           ┆          │\n",
       "│ -b242-c3c ┆ -b70e-155 ┆ 6.683519  ┆           ┆   ┆           ┆           ┆           ┆          │\n",
       "│ 6b8…      ┆ aab…      ┆ UTC       ┆           ┆   ┆           ┆           ┆           ┆          │\n",
       "│ 0dd3f6f2- ┆ 13968615- ┆ 2025-01-1 ┆ measureme ┆ … ┆ active    ┆ pu        ┆ 1         ┆ 0.000257 │\n",
       "│ 6728-46f6 ┆ 4b3a-4158 ┆ 0 08:36:2 ┆ nt_span   ┆   ┆ power     ┆           ┆           ┆          │\n",
       "│ -aa29-d94 ┆ -9c51-463 ┆ 6.683519  ┆           ┆   ┆           ┆           ┆           ┆          │\n",
       "│ 3d7…      ┆ 52b…      ┆ UTC       ┆           ┆   ┆           ┆           ┆           ┆          │\n",
       "│ 158445bc- ┆ 4daa3b6b- ┆ 2025-01-1 ┆ measureme ┆ … ┆ active    ┆ pu        ┆ 1         ┆ 0.001223 │\n",
       "│ ec2e-4243 ┆ 1e75-49c5 ┆ 0 08:36:2 ┆ nt_span   ┆   ┆ power     ┆           ┆           ┆          │\n",
       "│ -8639-fc2 ┆ -8ab0-ed9 ┆ 6.683519  ┆           ┆   ┆           ┆           ┆           ┆          │\n",
       "│ 16e…      ┆ 547…      ┆ UTC       ┆           ┆   ┆           ┆           ┆           ┆          │\n",
       "│ …         ┆ …         ┆ …         ┆ …         ┆ … ┆ …         ┆ …         ┆ …         ┆ …        │\n",
       "│ 576325c7- ┆ 20becc2b- ┆ 2025-01-1 ┆ measureme ┆ … ┆ active    ┆ pu        ┆ 1         ┆ 0.000041 │\n",
       "│ c8df-4307 ┆ 7a39-48da ┆ 0 08:36:2 ┆ nt_span   ┆   ┆ power     ┆           ┆           ┆          │\n",
       "│ -b1c8-76b ┆ -ba78-372 ┆ 6.683519  ┆           ┆   ┆           ┆           ┆           ┆          │\n",
       "│ ca7…      ┆ f82…      ┆ UTC       ┆           ┆   ┆           ┆           ┆           ┆          │\n",
       "│ f5e7b1e9- ┆ ea320a0f- ┆ 2025-01-1 ┆ measureme ┆ … ┆ active    ┆ pu        ┆ 1         ┆ 0.000105 │\n",
       "│ 1d5a-4c91 ┆ c718-41b6 ┆ 0 08:36:2 ┆ nt_span   ┆   ┆ power     ┆           ┆           ┆          │\n",
       "│ -b8d5-7be ┆ -af8d-e38 ┆ 6.683519  ┆           ┆   ┆           ┆           ┆           ┆          │\n",
       "│ af8…      ┆ 6f7…      ┆ UTC       ┆           ┆   ┆           ┆           ┆           ┆          │\n",
       "│ b066152b- ┆ a0a76f9f- ┆ 2025-01-1 ┆ measureme ┆ … ┆ active    ┆ pu        ┆ 1         ┆ 0.000034 │\n",
       "│ 8006-448e ┆ 0c6a-4a69 ┆ 0 08:36:2 ┆ nt_span   ┆   ┆ power     ┆           ┆           ┆          │\n",
       "│ -95e4-bb8 ┆ -acf9-ef6 ┆ 6.683519  ┆           ┆   ┆           ┆           ┆           ┆          │\n",
       "│ 559…      ┆ 7a8…      ┆ UTC       ┆           ┆   ┆           ┆           ┆           ┆          │\n",
       "│ ce07e2da- ┆ d7a921cf- ┆ 2025-01-1 ┆ measureme ┆ … ┆ active    ┆ pu        ┆ 1         ┆ 0.000035 │\n",
       "│ 0353-42c0 ┆ 4788-404f ┆ 0 08:36:2 ┆ nt_span   ┆   ┆ power     ┆           ┆           ┆          │\n",
       "│ -8a71-dcf ┆ -a6b3-15d ┆ 6.683519  ┆           ┆   ┆           ┆           ┆           ┆          │\n",
       "│ da5…      ┆ be2…      ┆ UTC       ┆           ┆   ┆           ┆           ┆           ┆          │\n",
       "│ 2b753d9a- ┆ 1d3871d2- ┆ 2025-01-1 ┆ measureme ┆ … ┆ active    ┆ pu        ┆ 1         ┆ 0.00004  │\n",
       "│ 0af5-44cd ┆ ea02-414e ┆ 0 08:36:2 ┆ nt_span   ┆   ┆ power     ┆           ┆           ┆          │\n",
       "│ -b758-626 ┆ -a854-a79 ┆ 6.683519  ┆           ┆   ┆           ┆           ┆           ┆          │\n",
       "│ 1e1…      ┆ 448…      ┆ UTC       ┆           ┆   ┆           ┆           ┆           ┆          │\n",
       "└───────────┴───────────┴───────────┴───────────┴───┴───────────┴───────────┴───────────┴──────────┘"
      ]
     },
     "execution_count": 202,
     "metadata": {},
     "output_type": "execute_result"
    }
   ],
   "source": [
    "## Add the uuid of the node to the power data\n",
    "measurement = energy_consumer.select(\n",
    "    c(\"uuid\")\n",
    "    .pipe(generate_random_uuid)\n",
    "    .alias(\n",
    "        \"uuid\"\n",
    "    ),  # Generate random uuid on a column without importance (don't work with pl.lit)\n",
    "    c(\"uuid\").alias(\"resource_fk\"),\n",
    "    pl.lit(heartbeat).alias(\"start_heartbeat\"),\n",
    "    pl.lit(MeasurementClass.SPAN.value).alias(\"concrete_type\"),\n",
    "    pl.lit(MeasurementPhase.ABC.value).alias(\"phase\"),\n",
    "    pl.lit(MeasurementColumn.DOUBLE.value).alias(\"column_type\"),\n",
    "    pl.lit(CONVENTIONAL_METER).alias(\"source_fk\"),\n",
    "    # pl.lit(60*60*24*365).alias(\"default_period\"),\n",
    "    pl.lit(ACTIVE_POWER).alias(\"measurement_type\"),\n",
    "    pl.lit(\"pu\").alias(\"unit_symbol\"),\n",
    "    pl.lit(1).alias(\"unit_multiplier\"),\n",
    "    c(\"Pload\").alias(\"double_value\"),\n",
    ")\n",
    "measurement"
   ]
  },
  {
   "cell_type": "code",
   "execution_count": 203,
   "metadata": {},
   "outputs": [],
   "source": [
    "measurement_span = measurement.with_columns(\n",
    "    c(\"uuid\").alias(\"measurement_fk\"),\n",
    "    c(\"uuid\").pipe(generate_random_uuid).alias(\"uuid\"),\n",
    "    pl.lit(datetime(2022, 1, 1))\n",
    "    .dt.replace_time_zone(time_zone=\"Europe/Zurich\")\n",
    "    .dt.convert_time_zone(time_zone=\"UTC\")\n",
    "    .alias(\"start\"),\n",
    "    pl.lit(datetime(2023, 1, 1))\n",
    "    .dt.replace_time_zone(time_zone=\"Europe/Zurich\")\n",
    "    .dt.convert_time_zone(time_zone=\"UTC\")\n",
    "    .alias(\"end\"),\n",
    ")\n",
    "\n",
    "new_tables_pl: dict[str, pl.DataFrame] = {\n",
    "    \"Measurement\": measurement,\n",
    "    \"MeasurementSpan\": measurement_span,\n",
    "}\n",
    "changes_schema = add_table_to_changes_schema(\n",
    "    schema=changes_schema, new_tables_pl=new_tables_pl, raw_table_name=\"meter_id\"\n",
    ")"
   ]
  },
  {
   "cell_type": "code",
   "execution_count": 204,
   "metadata": {},
   "outputs": [
    {
     "data": {
      "text/html": [
       "<div><style>\n",
       ".dataframe > thead > tr,\n",
       ".dataframe > tbody > tr {\n",
       "  text-align: right;\n",
       "  white-space: pre-wrap;\n",
       "}\n",
       "</style>\n",
       "<small>shape: (27, 11)</small><table border=\"1\" class=\"dataframe\"><thead><tr><th>uuid</th><th>resource_fk</th><th>start_heartbeat</th><th>concrete_type</th><th>phase</th><th>column_type</th><th>source_fk</th><th>measurement_type</th><th>unit_symbol</th><th>unit_multiplier</th><th>double_value</th></tr><tr><td>str</td><td>str</td><td>datetime[μs, UTC]</td><td>str</td><td>str</td><td>str</td><td>str</td><td>str</td><td>str</td><td>i32</td><td>f64</td></tr></thead><tbody><tr><td>&quot;f612fc65-91dd-4a05-a751-d00a00…</td><td>&quot;e0afa9c2-2997-44e6-be33-1aa4cd…</td><td>2025-01-10 08:36:26.683519 UTC</td><td>&quot;measurement_span&quot;</td><td>&quot;ABC&quot;</td><td>&quot;double_value&quot;</td><td>&quot;conventional_meter&quot;</td><td>&quot;active power&quot;</td><td>&quot;pu&quot;</td><td>1</td><td>0.000035</td></tr><tr><td>&quot;1900bc3c-3169-431c-8449-c934dd…</td><td>&quot;885ff105-fac6-4fb2-96a1-b82fdc…</td><td>2025-01-10 08:36:26.683519 UTC</td><td>&quot;measurement_span&quot;</td><td>&quot;ABC&quot;</td><td>&quot;double_value&quot;</td><td>&quot;conventional_meter&quot;</td><td>&quot;active power&quot;</td><td>&quot;pu&quot;</td><td>1</td><td>0.001251</td></tr><tr><td>&quot;14e94576-b365-431b-b242-c3c6b8…</td><td>&quot;6474caa2-642f-4cff-b70e-155aab…</td><td>2025-01-10 08:36:26.683519 UTC</td><td>&quot;measurement_span&quot;</td><td>&quot;ABC&quot;</td><td>&quot;double_value&quot;</td><td>&quot;conventional_meter&quot;</td><td>&quot;active power&quot;</td><td>&quot;pu&quot;</td><td>1</td><td>0.002761</td></tr><tr><td>&quot;0dd3f6f2-6728-46f6-aa29-d943d7…</td><td>&quot;13968615-4b3a-4158-9c51-46352b…</td><td>2025-01-10 08:36:26.683519 UTC</td><td>&quot;measurement_span&quot;</td><td>&quot;ABC&quot;</td><td>&quot;double_value&quot;</td><td>&quot;conventional_meter&quot;</td><td>&quot;active power&quot;</td><td>&quot;pu&quot;</td><td>1</td><td>0.000257</td></tr><tr><td>&quot;158445bc-ec2e-4243-8639-fc216e…</td><td>&quot;4daa3b6b-1e75-49c5-8ab0-ed9547…</td><td>2025-01-10 08:36:26.683519 UTC</td><td>&quot;measurement_span&quot;</td><td>&quot;ABC&quot;</td><td>&quot;double_value&quot;</td><td>&quot;conventional_meter&quot;</td><td>&quot;active power&quot;</td><td>&quot;pu&quot;</td><td>1</td><td>0.001223</td></tr><tr><td>&hellip;</td><td>&hellip;</td><td>&hellip;</td><td>&hellip;</td><td>&hellip;</td><td>&hellip;</td><td>&hellip;</td><td>&hellip;</td><td>&hellip;</td><td>&hellip;</td><td>&hellip;</td></tr><tr><td>&quot;576325c7-c8df-4307-b1c8-76bca7…</td><td>&quot;20becc2b-7a39-48da-ba78-372f82…</td><td>2025-01-10 08:36:26.683519 UTC</td><td>&quot;measurement_span&quot;</td><td>&quot;ABC&quot;</td><td>&quot;double_value&quot;</td><td>&quot;conventional_meter&quot;</td><td>&quot;active power&quot;</td><td>&quot;pu&quot;</td><td>1</td><td>0.000041</td></tr><tr><td>&quot;f5e7b1e9-1d5a-4c91-b8d5-7beaf8…</td><td>&quot;ea320a0f-c718-41b6-af8d-e386f7…</td><td>2025-01-10 08:36:26.683519 UTC</td><td>&quot;measurement_span&quot;</td><td>&quot;ABC&quot;</td><td>&quot;double_value&quot;</td><td>&quot;conventional_meter&quot;</td><td>&quot;active power&quot;</td><td>&quot;pu&quot;</td><td>1</td><td>0.000105</td></tr><tr><td>&quot;b066152b-8006-448e-95e4-bb8559…</td><td>&quot;a0a76f9f-0c6a-4a69-acf9-ef67a8…</td><td>2025-01-10 08:36:26.683519 UTC</td><td>&quot;measurement_span&quot;</td><td>&quot;ABC&quot;</td><td>&quot;double_value&quot;</td><td>&quot;conventional_meter&quot;</td><td>&quot;active power&quot;</td><td>&quot;pu&quot;</td><td>1</td><td>0.000034</td></tr><tr><td>&quot;ce07e2da-0353-42c0-8a71-dcfda5…</td><td>&quot;d7a921cf-4788-404f-a6b3-15dbe2…</td><td>2025-01-10 08:36:26.683519 UTC</td><td>&quot;measurement_span&quot;</td><td>&quot;ABC&quot;</td><td>&quot;double_value&quot;</td><td>&quot;conventional_meter&quot;</td><td>&quot;active power&quot;</td><td>&quot;pu&quot;</td><td>1</td><td>0.000035</td></tr><tr><td>&quot;2b753d9a-0af5-44cd-b758-6261e1…</td><td>&quot;1d3871d2-ea02-414e-a854-a79448…</td><td>2025-01-10 08:36:26.683519 UTC</td><td>&quot;measurement_span&quot;</td><td>&quot;ABC&quot;</td><td>&quot;double_value&quot;</td><td>&quot;conventional_meter&quot;</td><td>&quot;active power&quot;</td><td>&quot;pu&quot;</td><td>1</td><td>0.00004</td></tr></tbody></table></div>"
      ],
      "text/plain": [
       "shape: (27, 11)\n",
       "┌───────────┬───────────┬───────────┬───────────┬───┬───────────┬───────────┬───────────┬──────────┐\n",
       "│ uuid      ┆ resource_ ┆ start_hea ┆ concrete_ ┆ … ┆ measureme ┆ unit_symb ┆ unit_mult ┆ double_v │\n",
       "│ ---       ┆ fk        ┆ rtbeat    ┆ type      ┆   ┆ nt_type   ┆ ol        ┆ iplier    ┆ alue     │\n",
       "│ str       ┆ ---       ┆ ---       ┆ ---       ┆   ┆ ---       ┆ ---       ┆ ---       ┆ ---      │\n",
       "│           ┆ str       ┆ datetime[ ┆ str       ┆   ┆ str       ┆ str       ┆ i32       ┆ f64      │\n",
       "│           ┆           ┆ μs, UTC]  ┆           ┆   ┆           ┆           ┆           ┆          │\n",
       "╞═══════════╪═══════════╪═══════════╪═══════════╪═══╪═══════════╪═══════════╪═══════════╪══════════╡\n",
       "│ f612fc65- ┆ e0afa9c2- ┆ 2025-01-1 ┆ measureme ┆ … ┆ active    ┆ pu        ┆ 1         ┆ 0.000035 │\n",
       "│ 91dd-4a05 ┆ 2997-44e6 ┆ 0 08:36:2 ┆ nt_span   ┆   ┆ power     ┆           ┆           ┆          │\n",
       "│ -a751-d00 ┆ -be33-1aa ┆ 6.683519  ┆           ┆   ┆           ┆           ┆           ┆          │\n",
       "│ a00…      ┆ 4cd…      ┆ UTC       ┆           ┆   ┆           ┆           ┆           ┆          │\n",
       "│ 1900bc3c- ┆ 885ff105- ┆ 2025-01-1 ┆ measureme ┆ … ┆ active    ┆ pu        ┆ 1         ┆ 0.001251 │\n",
       "│ 3169-431c ┆ fac6-4fb2 ┆ 0 08:36:2 ┆ nt_span   ┆   ┆ power     ┆           ┆           ┆          │\n",
       "│ -8449-c93 ┆ -96a1-b82 ┆ 6.683519  ┆           ┆   ┆           ┆           ┆           ┆          │\n",
       "│ 4dd…      ┆ fdc…      ┆ UTC       ┆           ┆   ┆           ┆           ┆           ┆          │\n",
       "│ 14e94576- ┆ 6474caa2- ┆ 2025-01-1 ┆ measureme ┆ … ┆ active    ┆ pu        ┆ 1         ┆ 0.002761 │\n",
       "│ b365-431b ┆ 642f-4cff ┆ 0 08:36:2 ┆ nt_span   ┆   ┆ power     ┆           ┆           ┆          │\n",
       "│ -b242-c3c ┆ -b70e-155 ┆ 6.683519  ┆           ┆   ┆           ┆           ┆           ┆          │\n",
       "│ 6b8…      ┆ aab…      ┆ UTC       ┆           ┆   ┆           ┆           ┆           ┆          │\n",
       "│ 0dd3f6f2- ┆ 13968615- ┆ 2025-01-1 ┆ measureme ┆ … ┆ active    ┆ pu        ┆ 1         ┆ 0.000257 │\n",
       "│ 6728-46f6 ┆ 4b3a-4158 ┆ 0 08:36:2 ┆ nt_span   ┆   ┆ power     ┆           ┆           ┆          │\n",
       "│ -aa29-d94 ┆ -9c51-463 ┆ 6.683519  ┆           ┆   ┆           ┆           ┆           ┆          │\n",
       "│ 3d7…      ┆ 52b…      ┆ UTC       ┆           ┆   ┆           ┆           ┆           ┆          │\n",
       "│ 158445bc- ┆ 4daa3b6b- ┆ 2025-01-1 ┆ measureme ┆ … ┆ active    ┆ pu        ┆ 1         ┆ 0.001223 │\n",
       "│ ec2e-4243 ┆ 1e75-49c5 ┆ 0 08:36:2 ┆ nt_span   ┆   ┆ power     ┆           ┆           ┆          │\n",
       "│ -8639-fc2 ┆ -8ab0-ed9 ┆ 6.683519  ┆           ┆   ┆           ┆           ┆           ┆          │\n",
       "│ 16e…      ┆ 547…      ┆ UTC       ┆           ┆   ┆           ┆           ┆           ┆          │\n",
       "│ …         ┆ …         ┆ …         ┆ …         ┆ … ┆ …         ┆ …         ┆ …         ┆ …        │\n",
       "│ 576325c7- ┆ 20becc2b- ┆ 2025-01-1 ┆ measureme ┆ … ┆ active    ┆ pu        ┆ 1         ┆ 0.000041 │\n",
       "│ c8df-4307 ┆ 7a39-48da ┆ 0 08:36:2 ┆ nt_span   ┆   ┆ power     ┆           ┆           ┆          │\n",
       "│ -b1c8-76b ┆ -ba78-372 ┆ 6.683519  ┆           ┆   ┆           ┆           ┆           ┆          │\n",
       "│ ca7…      ┆ f82…      ┆ UTC       ┆           ┆   ┆           ┆           ┆           ┆          │\n",
       "│ f5e7b1e9- ┆ ea320a0f- ┆ 2025-01-1 ┆ measureme ┆ … ┆ active    ┆ pu        ┆ 1         ┆ 0.000105 │\n",
       "│ 1d5a-4c91 ┆ c718-41b6 ┆ 0 08:36:2 ┆ nt_span   ┆   ┆ power     ┆           ┆           ┆          │\n",
       "│ -b8d5-7be ┆ -af8d-e38 ┆ 6.683519  ┆           ┆   ┆           ┆           ┆           ┆          │\n",
       "│ af8…      ┆ 6f7…      ┆ UTC       ┆           ┆   ┆           ┆           ┆           ┆          │\n",
       "│ b066152b- ┆ a0a76f9f- ┆ 2025-01-1 ┆ measureme ┆ … ┆ active    ┆ pu        ┆ 1         ┆ 0.000034 │\n",
       "│ 8006-448e ┆ 0c6a-4a69 ┆ 0 08:36:2 ┆ nt_span   ┆   ┆ power     ┆           ┆           ┆          │\n",
       "│ -95e4-bb8 ┆ -acf9-ef6 ┆ 6.683519  ┆           ┆   ┆           ┆           ┆           ┆          │\n",
       "│ 559…      ┆ 7a8…      ┆ UTC       ┆           ┆   ┆           ┆           ┆           ┆          │\n",
       "│ ce07e2da- ┆ d7a921cf- ┆ 2025-01-1 ┆ measureme ┆ … ┆ active    ┆ pu        ┆ 1         ┆ 0.000035 │\n",
       "│ 0353-42c0 ┆ 4788-404f ┆ 0 08:36:2 ┆ nt_span   ┆   ┆ power     ┆           ┆           ┆          │\n",
       "│ -8a71-dcf ┆ -a6b3-15d ┆ 6.683519  ┆           ┆   ┆           ┆           ┆           ┆          │\n",
       "│ da5…      ┆ be2…      ┆ UTC       ┆           ┆   ┆           ┆           ┆           ┆          │\n",
       "│ 2b753d9a- ┆ 1d3871d2- ┆ 2025-01-1 ┆ measureme ┆ … ┆ active    ┆ pu        ┆ 1         ┆ 0.00004  │\n",
       "│ 0af5-44cd ┆ ea02-414e ┆ 0 08:36:2 ┆ nt_span   ┆   ┆ power     ┆           ┆           ┆          │\n",
       "│ -b758-626 ┆ -a854-a79 ┆ 6.683519  ┆           ┆   ┆           ┆           ┆           ┆          │\n",
       "│ 1e1…      ┆ 448…      ┆ UTC       ┆           ┆   ┆           ┆           ┆           ┆          │\n",
       "└───────────┴───────────┴───────────┴───────────┴───┴───────────┴───────────┴───────────┴──────────┘"
      ]
     },
     "execution_count": 204,
     "metadata": {},
     "output_type": "execute_result"
    }
   ],
   "source": [
    "measurement"
   ]
  },
  {
   "cell_type": "markdown",
   "metadata": {},
   "source": [
    "Reactive power"
   ]
  },
  {
   "cell_type": "code",
   "execution_count": 205,
   "metadata": {},
   "outputs": [
    {
     "data": {
      "text/html": [
       "<div><style>\n",
       ".dataframe > thead > tr,\n",
       ".dataframe > tbody > tr {\n",
       "  text-align: right;\n",
       "  white-space: pre-wrap;\n",
       "}\n",
       "</style>\n",
       "<small>shape: (27, 20)</small><table border=\"1\" class=\"dataframe\"><thead><tr><th>diff</th><th>uuid</th><th>start_heartbeat</th><th>end_heartbeat</th><th>concrete_type</th><th>resource_fk</th><th>terminal_side</th><th>phase</th><th>measurement_type</th><th>unit_multiplier</th><th>unit_symbol</th><th>column_type</th><th>source_fk</th><th>sensor_accuracy</th><th>name</th><th>description</th><th>metadata</th><th>op_type</th><th>over_measurement_fk</th><th>default_period</th></tr><tr><td>str</td><td>str</td><td>datetime[μs, UTC]</td><td>datetime[μs, UTC]</td><td>str</td><td>str</td><td>str</td><td>str</td><td>str</td><td>i32</td><td>str</td><td>str</td><td>str</td><td>f64</td><td>str</td><td>str</td><td>str</td><td>str</td><td>str</td><td>i32</td></tr></thead><tbody><tr><td>&quot;+&quot;</td><td>&quot;f612fc65-91dd-4a05-a751-d00a00…</td><td>2025-01-10 08:36:26.683519 UTC</td><td>null</td><td>&quot;measurement_span&quot;</td><td>&quot;e0afa9c2-2997-44e6-be33-1aa4cd…</td><td>null</td><td>&quot;ABC&quot;</td><td>&quot;active power&quot;</td><td>1</td><td>&quot;pu&quot;</td><td>&quot;double_value&quot;</td><td>&quot;conventional_meter&quot;</td><td>null</td><td>null</td><td>null</td><td>null</td><td>null</td><td>null</td><td>null</td></tr><tr><td>&quot;+&quot;</td><td>&quot;1900bc3c-3169-431c-8449-c934dd…</td><td>2025-01-10 08:36:26.683519 UTC</td><td>null</td><td>&quot;measurement_span&quot;</td><td>&quot;885ff105-fac6-4fb2-96a1-b82fdc…</td><td>null</td><td>&quot;ABC&quot;</td><td>&quot;active power&quot;</td><td>1</td><td>&quot;pu&quot;</td><td>&quot;double_value&quot;</td><td>&quot;conventional_meter&quot;</td><td>null</td><td>null</td><td>null</td><td>null</td><td>null</td><td>null</td><td>null</td></tr><tr><td>&quot;+&quot;</td><td>&quot;14e94576-b365-431b-b242-c3c6b8…</td><td>2025-01-10 08:36:26.683519 UTC</td><td>null</td><td>&quot;measurement_span&quot;</td><td>&quot;6474caa2-642f-4cff-b70e-155aab…</td><td>null</td><td>&quot;ABC&quot;</td><td>&quot;active power&quot;</td><td>1</td><td>&quot;pu&quot;</td><td>&quot;double_value&quot;</td><td>&quot;conventional_meter&quot;</td><td>null</td><td>null</td><td>null</td><td>null</td><td>null</td><td>null</td><td>null</td></tr><tr><td>&quot;+&quot;</td><td>&quot;0dd3f6f2-6728-46f6-aa29-d943d7…</td><td>2025-01-10 08:36:26.683519 UTC</td><td>null</td><td>&quot;measurement_span&quot;</td><td>&quot;13968615-4b3a-4158-9c51-46352b…</td><td>null</td><td>&quot;ABC&quot;</td><td>&quot;active power&quot;</td><td>1</td><td>&quot;pu&quot;</td><td>&quot;double_value&quot;</td><td>&quot;conventional_meter&quot;</td><td>null</td><td>null</td><td>null</td><td>null</td><td>null</td><td>null</td><td>null</td></tr><tr><td>&quot;+&quot;</td><td>&quot;158445bc-ec2e-4243-8639-fc216e…</td><td>2025-01-10 08:36:26.683519 UTC</td><td>null</td><td>&quot;measurement_span&quot;</td><td>&quot;4daa3b6b-1e75-49c5-8ab0-ed9547…</td><td>null</td><td>&quot;ABC&quot;</td><td>&quot;active power&quot;</td><td>1</td><td>&quot;pu&quot;</td><td>&quot;double_value&quot;</td><td>&quot;conventional_meter&quot;</td><td>null</td><td>null</td><td>null</td><td>null</td><td>null</td><td>null</td><td>null</td></tr><tr><td>&hellip;</td><td>&hellip;</td><td>&hellip;</td><td>&hellip;</td><td>&hellip;</td><td>&hellip;</td><td>&hellip;</td><td>&hellip;</td><td>&hellip;</td><td>&hellip;</td><td>&hellip;</td><td>&hellip;</td><td>&hellip;</td><td>&hellip;</td><td>&hellip;</td><td>&hellip;</td><td>&hellip;</td><td>&hellip;</td><td>&hellip;</td><td>&hellip;</td></tr><tr><td>&quot;+&quot;</td><td>&quot;576325c7-c8df-4307-b1c8-76bca7…</td><td>2025-01-10 08:36:26.683519 UTC</td><td>null</td><td>&quot;measurement_span&quot;</td><td>&quot;20becc2b-7a39-48da-ba78-372f82…</td><td>null</td><td>&quot;ABC&quot;</td><td>&quot;active power&quot;</td><td>1</td><td>&quot;pu&quot;</td><td>&quot;double_value&quot;</td><td>&quot;conventional_meter&quot;</td><td>null</td><td>null</td><td>null</td><td>null</td><td>null</td><td>null</td><td>null</td></tr><tr><td>&quot;+&quot;</td><td>&quot;f5e7b1e9-1d5a-4c91-b8d5-7beaf8…</td><td>2025-01-10 08:36:26.683519 UTC</td><td>null</td><td>&quot;measurement_span&quot;</td><td>&quot;ea320a0f-c718-41b6-af8d-e386f7…</td><td>null</td><td>&quot;ABC&quot;</td><td>&quot;active power&quot;</td><td>1</td><td>&quot;pu&quot;</td><td>&quot;double_value&quot;</td><td>&quot;conventional_meter&quot;</td><td>null</td><td>null</td><td>null</td><td>null</td><td>null</td><td>null</td><td>null</td></tr><tr><td>&quot;+&quot;</td><td>&quot;b066152b-8006-448e-95e4-bb8559…</td><td>2025-01-10 08:36:26.683519 UTC</td><td>null</td><td>&quot;measurement_span&quot;</td><td>&quot;a0a76f9f-0c6a-4a69-acf9-ef67a8…</td><td>null</td><td>&quot;ABC&quot;</td><td>&quot;active power&quot;</td><td>1</td><td>&quot;pu&quot;</td><td>&quot;double_value&quot;</td><td>&quot;conventional_meter&quot;</td><td>null</td><td>null</td><td>null</td><td>null</td><td>null</td><td>null</td><td>null</td></tr><tr><td>&quot;+&quot;</td><td>&quot;ce07e2da-0353-42c0-8a71-dcfda5…</td><td>2025-01-10 08:36:26.683519 UTC</td><td>null</td><td>&quot;measurement_span&quot;</td><td>&quot;d7a921cf-4788-404f-a6b3-15dbe2…</td><td>null</td><td>&quot;ABC&quot;</td><td>&quot;active power&quot;</td><td>1</td><td>&quot;pu&quot;</td><td>&quot;double_value&quot;</td><td>&quot;conventional_meter&quot;</td><td>null</td><td>null</td><td>null</td><td>null</td><td>null</td><td>null</td><td>null</td></tr><tr><td>&quot;+&quot;</td><td>&quot;2b753d9a-0af5-44cd-b758-6261e1…</td><td>2025-01-10 08:36:26.683519 UTC</td><td>null</td><td>&quot;measurement_span&quot;</td><td>&quot;1d3871d2-ea02-414e-a854-a79448…</td><td>null</td><td>&quot;ABC&quot;</td><td>&quot;active power&quot;</td><td>1</td><td>&quot;pu&quot;</td><td>&quot;double_value&quot;</td><td>&quot;conventional_meter&quot;</td><td>null</td><td>null</td><td>null</td><td>null</td><td>null</td><td>null</td><td>null</td></tr></tbody></table></div>"
      ],
      "text/plain": [
       "shape: (27, 20)\n",
       "┌──────┬─────────────┬─────────────┬────────────┬───┬──────────┬─────────┬────────────┬────────────┐\n",
       "│ diff ┆ uuid        ┆ start_heart ┆ end_heartb ┆ … ┆ metadata ┆ op_type ┆ over_measu ┆ default_pe │\n",
       "│ ---  ┆ ---         ┆ beat        ┆ eat        ┆   ┆ ---      ┆ ---     ┆ rement_fk  ┆ riod       │\n",
       "│ str  ┆ str         ┆ ---         ┆ ---        ┆   ┆ str      ┆ str     ┆ ---        ┆ ---        │\n",
       "│      ┆             ┆ datetime[μs ┆ datetime[μ ┆   ┆          ┆         ┆ str        ┆ i32        │\n",
       "│      ┆             ┆ , UTC]      ┆ s, UTC]    ┆   ┆          ┆         ┆            ┆            │\n",
       "╞══════╪═════════════╪═════════════╪════════════╪═══╪══════════╪═════════╪════════════╪════════════╡\n",
       "│ +    ┆ f612fc65-91 ┆ 2025-01-10  ┆ null       ┆ … ┆ null     ┆ null    ┆ null       ┆ null       │\n",
       "│      ┆ dd-4a05-a75 ┆ 08:36:26.68 ┆            ┆   ┆          ┆         ┆            ┆            │\n",
       "│      ┆ 1-d00a00…   ┆ 3519 UTC    ┆            ┆   ┆          ┆         ┆            ┆            │\n",
       "│ +    ┆ 1900bc3c-31 ┆ 2025-01-10  ┆ null       ┆ … ┆ null     ┆ null    ┆ null       ┆ null       │\n",
       "│      ┆ 69-431c-844 ┆ 08:36:26.68 ┆            ┆   ┆          ┆         ┆            ┆            │\n",
       "│      ┆ 9-c934dd…   ┆ 3519 UTC    ┆            ┆   ┆          ┆         ┆            ┆            │\n",
       "│ +    ┆ 14e94576-b3 ┆ 2025-01-10  ┆ null       ┆ … ┆ null     ┆ null    ┆ null       ┆ null       │\n",
       "│      ┆ 65-431b-b24 ┆ 08:36:26.68 ┆            ┆   ┆          ┆         ┆            ┆            │\n",
       "│      ┆ 2-c3c6b8…   ┆ 3519 UTC    ┆            ┆   ┆          ┆         ┆            ┆            │\n",
       "│ +    ┆ 0dd3f6f2-67 ┆ 2025-01-10  ┆ null       ┆ … ┆ null     ┆ null    ┆ null       ┆ null       │\n",
       "│      ┆ 28-46f6-aa2 ┆ 08:36:26.68 ┆            ┆   ┆          ┆         ┆            ┆            │\n",
       "│      ┆ 9-d943d7…   ┆ 3519 UTC    ┆            ┆   ┆          ┆         ┆            ┆            │\n",
       "│ +    ┆ 158445bc-ec ┆ 2025-01-10  ┆ null       ┆ … ┆ null     ┆ null    ┆ null       ┆ null       │\n",
       "│      ┆ 2e-4243-863 ┆ 08:36:26.68 ┆            ┆   ┆          ┆         ┆            ┆            │\n",
       "│      ┆ 9-fc216e…   ┆ 3519 UTC    ┆            ┆   ┆          ┆         ┆            ┆            │\n",
       "│ …    ┆ …           ┆ …           ┆ …          ┆ … ┆ …        ┆ …       ┆ …          ┆ …          │\n",
       "│ +    ┆ 576325c7-c8 ┆ 2025-01-10  ┆ null       ┆ … ┆ null     ┆ null    ┆ null       ┆ null       │\n",
       "│      ┆ df-4307-b1c ┆ 08:36:26.68 ┆            ┆   ┆          ┆         ┆            ┆            │\n",
       "│      ┆ 8-76bca7…   ┆ 3519 UTC    ┆            ┆   ┆          ┆         ┆            ┆            │\n",
       "│ +    ┆ f5e7b1e9-1d ┆ 2025-01-10  ┆ null       ┆ … ┆ null     ┆ null    ┆ null       ┆ null       │\n",
       "│      ┆ 5a-4c91-b8d ┆ 08:36:26.68 ┆            ┆   ┆          ┆         ┆            ┆            │\n",
       "│      ┆ 5-7beaf8…   ┆ 3519 UTC    ┆            ┆   ┆          ┆         ┆            ┆            │\n",
       "│ +    ┆ b066152b-80 ┆ 2025-01-10  ┆ null       ┆ … ┆ null     ┆ null    ┆ null       ┆ null       │\n",
       "│      ┆ 06-448e-95e ┆ 08:36:26.68 ┆            ┆   ┆          ┆         ┆            ┆            │\n",
       "│      ┆ 4-bb8559…   ┆ 3519 UTC    ┆            ┆   ┆          ┆         ┆            ┆            │\n",
       "│ +    ┆ ce07e2da-03 ┆ 2025-01-10  ┆ null       ┆ … ┆ null     ┆ null    ┆ null       ┆ null       │\n",
       "│      ┆ 53-42c0-8a7 ┆ 08:36:26.68 ┆            ┆   ┆          ┆         ┆            ┆            │\n",
       "│      ┆ 1-dcfda5…   ┆ 3519 UTC    ┆            ┆   ┆          ┆         ┆            ┆            │\n",
       "│ +    ┆ 2b753d9a-0a ┆ 2025-01-10  ┆ null       ┆ … ┆ null     ┆ null    ┆ null       ┆ null       │\n",
       "│      ┆ f5-44cd-b75 ┆ 08:36:26.68 ┆            ┆   ┆          ┆         ┆            ┆            │\n",
       "│      ┆ 8-6261e1…   ┆ 3519 UTC    ┆            ┆   ┆          ┆         ┆            ┆            │\n",
       "└──────┴─────────────┴─────────────┴────────────┴───┴──────────┴─────────┴────────────┴────────────┘"
      ]
     },
     "execution_count": 205,
     "metadata": {},
     "output_type": "execute_result"
    }
   ],
   "source": [
    "# changes_schema.connectivity\n",
    "# changes_schema.measurement[\"resource_fk\"][0]\n",
    "# changes_schema.branch.filter(c(\"uuid\") == \"df941fce-ceda-5874-ab63-5c8af9bec38b\")\n",
    "# changes_schema.connectivity.filter(\n",
    "#     c(\"cn_fk\").is_in(changes_schema.measurement[\"resource_fk\"])\n",
    "# )\n",
    "changes_schema.measurement"
   ]
  },
  {
   "cell_type": "code",
   "execution_count": 206,
   "metadata": {},
   "outputs": [
    {
     "data": {
      "text/plain": [
       "['heartbeat',\n",
       " 'resource',\n",
       " 'equipment',\n",
       " 'terminal',\n",
       " 'busbar_section',\n",
       " 'branch',\n",
       " 'branch_parameter_event',\n",
       " 'geo_event',\n",
       " 'switch',\n",
       " 'switch_event',\n",
       " 'transformer',\n",
       " 'transformer_end',\n",
       " 'transformer_parameter_event',\n",
       " 'tap',\n",
       " 'tap_event',\n",
       " 'bess',\n",
       " 'energy_consumer',\n",
       " 'external_network',\n",
       " 'generating_unit',\n",
       " 'container',\n",
       " 'client',\n",
       " 'substation',\n",
       " 'base_voltage',\n",
       " 'connectivity_node',\n",
       " 'connectivity',\n",
       " 'measurement',\n",
       " 'measurement_point',\n",
       " 'measurement_span']"
      ]
     },
     "execution_count": 206,
     "metadata": {},
     "output_type": "execute_result"
    }
   ],
   "source": [
    "list(changes_schema.__dict__.keys())"
   ]
  },
  {
   "cell_type": "markdown",
   "metadata": {},
   "source": [
    "## Switch"
   ]
  },
  {
   "cell_type": "code",
   "execution_count": 207,
   "metadata": {},
   "outputs": [],
   "source": [
    "# Filter to take only switch, connection_type == 3\n",
    "switch = linedata_distflow.filter(c(\"connection_type\") == 3).select(\n",
    "    c(\"line_number\").alias(\"dso_code\"),\n",
    "    pl.lit(SWITCH).alias(\"concrete_class\"),\n",
    "    pl.lit(default_install_date).alias(\"start\"),\n",
    "    pl.lit(heartbeat).alias(\"start_heartbeat\"),\n",
    "    pl.lit(switch_state).alias(\"normal_open\"),\n",
    "    pl.lit(switch_type).alias(\"type\"),\n",
    "    pl.lit(switch_command).alias(\"command\"),\n",
    "    # Generate uuid for each terminal of branch with node uuid\n",
    "    c(\"node_from\").replace_strict(connectivity_node, default=None).alias(\"t1\"),\n",
    "    c(\"node_to\").replace_strict(connectivity_node, default=None).alias(\"t2\"),\n",
    "    # Need column name for validation of the schema\n",
    "    pl.lit(None).alias(\"t1_container_fk\"),\n",
    "    pl.lit(None).alias(\"t2_container_fk\"),\n",
    "    c(\"line_number\").pipe(generate_uuid_col, added_string=SWITCH).alias(\"uuid\"),\n",
    ")\n",
    "new_tables_pl: dict[str, pl.DataFrame] = {\n",
    "    \"Resource\": switch,\n",
    "    \"Equipment\": switch,\n",
    "    \"Switch\": switch,\n",
    "}\n",
    "changes_schema = add_table_to_changes_schema(\n",
    "    schema=changes_schema, new_tables_pl=new_tables_pl, raw_table_name=\"switch\"\n",
    ")\n",
    "changes_schema = generate_connectivity_table(\n",
    "    changes_schema=changes_schema, eq_table=switch, raw_data_table=\"switch\"\n",
    ")"
   ]
  },
  {
   "cell_type": "code",
   "execution_count": 208,
   "metadata": {},
   "outputs": [
    {
     "data": {
      "text/plain": [
       "'2020-03-27 23:00:00+00:00'"
      ]
     },
     "execution_count": 208,
     "metadata": {},
     "output_type": "execute_result"
    }
   ],
   "source": [
    "# Begin time of the data from matlab (from main_FC.ipynb before)\n",
    "str(datetime(2020, 4, 4, 23, 00, 0, 0, UTC) - dt.timedelta(hours=192))"
   ]
  },
  {
   "cell_type": "markdown",
   "metadata": {},
   "source": [
    "## Parser"
   ]
  },
  {
   "cell_type": "code",
   "execution_count": 209,
   "metadata": {},
   "outputs": [
    {
     "data": {
      "text/html": [
       "<div><style>\n",
       ".dataframe > thead > tr,\n",
       ".dataframe > tbody > tr {\n",
       "  text-align: right;\n",
       "  white-space: pre-wrap;\n",
       "}\n",
       "</style>\n",
       "<small>shape: (58, 5)</small><table border=\"1\" class=\"dataframe\"><thead><tr><th>node_number</th><th>Vnom</th><th>Pload</th><th>Qload</th><th>cn_fk</th></tr><tr><td>i64</td><td>i64</td><td>f64</td><td>f64</td><td>str</td></tr></thead><tbody><tr><td>0</td><td>400</td><td>null</td><td>null</td><td>&quot;df941fce-ceda-5874-ab63-5c8af9…</td></tr><tr><td>1</td><td>400</td><td>0.0</td><td>0.0</td><td>&quot;ba84d70a-80d7-590e-b112-f9c4b5…</td></tr><tr><td>2</td><td>400</td><td>0.0</td><td>0.0</td><td>&quot;078656ed-79f8-53a1-a67a-bb8f53…</td></tr><tr><td>3</td><td>400</td><td>0.0</td><td>0.0</td><td>&quot;c2247320-9fc2-538a-ba64-3ac70e…</td></tr><tr><td>4</td><td>400</td><td>0.0</td><td>0.0</td><td>&quot;af72457f-f983-5eeb-a635-0609f4…</td></tr><tr><td>&hellip;</td><td>&hellip;</td><td>&hellip;</td><td>&hellip;</td><td>&hellip;</td></tr><tr><td>53</td><td>400</td><td>0.0</td><td>0.0</td><td>&quot;4505ed8e-f087-5ee2-8c67-775daa…</td></tr><tr><td>54</td><td>400</td><td>0.000035</td><td>-0.000012</td><td>&quot;23bc00b6-0e27-5e6d-a02e-dda5e9…</td></tr><tr><td>55</td><td>400</td><td>0.0</td><td>0.0</td><td>&quot;b1d51456-8036-5737-accc-1103d2…</td></tr><tr><td>56</td><td>400</td><td>0.0</td><td>0.0</td><td>&quot;9bed56b6-83af-51ce-b629-9a787c…</td></tr><tr><td>57</td><td>400</td><td>0.00004</td><td>-0.000013</td><td>&quot;e59041d7-eab1-5d24-9a64-86efa1…</td></tr></tbody></table></div>"
      ],
      "text/plain": [
       "shape: (58, 5)\n",
       "┌─────────────┬──────┬──────────┬───────────┬─────────────────────────────────┐\n",
       "│ node_number ┆ Vnom ┆ Pload    ┆ Qload     ┆ cn_fk                           │\n",
       "│ ---         ┆ ---  ┆ ---      ┆ ---       ┆ ---                             │\n",
       "│ i64         ┆ i64  ┆ f64      ┆ f64       ┆ str                             │\n",
       "╞═════════════╪══════╪══════════╪═══════════╪═════════════════════════════════╡\n",
       "│ 0           ┆ 400  ┆ null     ┆ null      ┆ df941fce-ceda-5874-ab63-5c8af9… │\n",
       "│ 1           ┆ 400  ┆ 0.0      ┆ 0.0       ┆ ba84d70a-80d7-590e-b112-f9c4b5… │\n",
       "│ 2           ┆ 400  ┆ 0.0      ┆ 0.0       ┆ 078656ed-79f8-53a1-a67a-bb8f53… │\n",
       "│ 3           ┆ 400  ┆ 0.0      ┆ 0.0       ┆ c2247320-9fc2-538a-ba64-3ac70e… │\n",
       "│ 4           ┆ 400  ┆ 0.0      ┆ 0.0       ┆ af72457f-f983-5eeb-a635-0609f4… │\n",
       "│ …           ┆ …    ┆ …        ┆ …         ┆ …                               │\n",
       "│ 53          ┆ 400  ┆ 0.0      ┆ 0.0       ┆ 4505ed8e-f087-5ee2-8c67-775daa… │\n",
       "│ 54          ┆ 400  ┆ 0.000035 ┆ -0.000012 ┆ 23bc00b6-0e27-5e6d-a02e-dda5e9… │\n",
       "│ 55          ┆ 400  ┆ 0.0      ┆ 0.0       ┆ b1d51456-8036-5737-accc-1103d2… │\n",
       "│ 56          ┆ 400  ┆ 0.0      ┆ 0.0       ┆ 9bed56b6-83af-51ce-b629-9a787c… │\n",
       "│ 57          ┆ 400  ┆ 0.00004  ┆ -0.000013 ┆ e59041d7-eab1-5d24-9a64-86efa1… │\n",
       "└─────────────┴──────┴──────────┴───────────┴─────────────────────────────────┘"
      ]
     },
     "execution_count": 209,
     "metadata": {},
     "output_type": "execute_result"
    }
   ],
   "source": [
    "# Parse connectivity node\n",
    "df_topology"
   ]
  },
  {
   "cell_type": "code",
   "execution_count": 210,
   "metadata": {},
   "outputs": [],
   "source": [
    "def parse_connectivity_node(\n",
    "    topology_df: pl.DataFrame, changes_schema: ChangesSchema, **kwargs\n",
    ") -> ChangesSchema:\n",
    "\n",
    "    cn_voltage_mapping: dict[str, float] = pl_to_dict(\n",
    "        topology_df.filter(c(\"KEYWORD\") != \"TR2\")\n",
    "        .unpivot(\n",
    "            index=[\"UN\"], on=[\"t1\", \"t2\"], value_name=\"cn_fk\", variable_name=\"side\"\n",
    "        )\n",
    "        .drop_nulls(\"cn_fk\")\n",
    "        .group_by(\"cn_fk\")\n",
    "        .agg(c(\"UN\").drop_nulls().first())\n",
    "        .drop_nulls(\"UN\")[[\"cn_fk\", \"UN\"]]\n",
    "    )\n",
    "    node = topology_df.filter(c(\"KEYWORD\") == \"NODE\").with_columns(\n",
    "        (1e3 * c(\"uuid\").replace_strict(cn_voltage_mapping, default=c(\"UN\")))\n",
    "        .cast(pl.Int32)\n",
    "        .alias(\"base_voltage_fk\"),  # kV to V\n",
    "    )\n",
    "\n",
    "    changes_schema = add_table_to_changes_schema(\n",
    "        schema=changes_schema,\n",
    "        new_tables_pl={\"ConnectivityNode\": node},\n",
    "        raw_table_name=\"ConnectivityNode\",\n",
    "    )\n",
    "    return changes_schema"
   ]
  },
  {
   "cell_type": "markdown",
   "metadata": {},
   "source": [
    "## Distflow"
   ]
  },
  {
   "cell_type": "code",
   "execution_count": 211,
   "metadata": {},
   "outputs": [
    {
     "data": {
      "text/plain": [
       "['heartbeat',\n",
       " 'resource',\n",
       " 'equipment',\n",
       " 'terminal',\n",
       " 'busbar_section',\n",
       " 'branch',\n",
       " 'branch_parameter_event',\n",
       " 'geo_event',\n",
       " 'switch',\n",
       " 'switch_event',\n",
       " 'transformer',\n",
       " 'transformer_end',\n",
       " 'transformer_parameter_event',\n",
       " 'tap',\n",
       " 'tap_event',\n",
       " 'bess',\n",
       " 'energy_consumer',\n",
       " 'external_network',\n",
       " 'generating_unit',\n",
       " 'container',\n",
       " 'client',\n",
       " 'substation',\n",
       " 'base_voltage',\n",
       " 'connectivity_node',\n",
       " 'connectivity',\n",
       " 'measurement',\n",
       " 'measurement_point',\n",
       " 'measurement_span']"
      ]
     },
     "execution_count": 211,
     "metadata": {},
     "output_type": "execute_result"
    }
   ],
   "source": [
    "list(changes_schema.__dict__.keys())"
   ]
  },
  {
   "cell_type": "code",
   "execution_count": 212,
   "metadata": {},
   "outputs": [
    {
     "data": {
      "text/html": [
       "<div><style>\n",
       ".dataframe > thead > tr,\n",
       ".dataframe > tbody > tr {\n",
       "  text-align: right;\n",
       "  white-space: pre-wrap;\n",
       "}\n",
       "</style>\n",
       "<small>shape: (27, 20)</small><table border=\"1\" class=\"dataframe\"><thead><tr><th>diff</th><th>uuid</th><th>start_heartbeat</th><th>end_heartbeat</th><th>concrete_type</th><th>resource_fk</th><th>terminal_side</th><th>phase</th><th>measurement_type</th><th>unit_multiplier</th><th>unit_symbol</th><th>column_type</th><th>source_fk</th><th>sensor_accuracy</th><th>name</th><th>description</th><th>metadata</th><th>op_type</th><th>over_measurement_fk</th><th>default_period</th></tr><tr><td>str</td><td>str</td><td>datetime[μs, UTC]</td><td>datetime[μs, UTC]</td><td>str</td><td>str</td><td>str</td><td>str</td><td>str</td><td>i32</td><td>str</td><td>str</td><td>str</td><td>f64</td><td>str</td><td>str</td><td>str</td><td>str</td><td>str</td><td>i32</td></tr></thead><tbody><tr><td>&quot;+&quot;</td><td>&quot;f612fc65-91dd-4a05-a751-d00a00…</td><td>2025-01-10 08:36:26.683519 UTC</td><td>null</td><td>&quot;measurement_span&quot;</td><td>&quot;e0afa9c2-2997-44e6-be33-1aa4cd…</td><td>null</td><td>&quot;ABC&quot;</td><td>&quot;active power&quot;</td><td>1</td><td>&quot;pu&quot;</td><td>&quot;double_value&quot;</td><td>&quot;conventional_meter&quot;</td><td>null</td><td>null</td><td>null</td><td>null</td><td>null</td><td>null</td><td>null</td></tr><tr><td>&quot;+&quot;</td><td>&quot;1900bc3c-3169-431c-8449-c934dd…</td><td>2025-01-10 08:36:26.683519 UTC</td><td>null</td><td>&quot;measurement_span&quot;</td><td>&quot;885ff105-fac6-4fb2-96a1-b82fdc…</td><td>null</td><td>&quot;ABC&quot;</td><td>&quot;active power&quot;</td><td>1</td><td>&quot;pu&quot;</td><td>&quot;double_value&quot;</td><td>&quot;conventional_meter&quot;</td><td>null</td><td>null</td><td>null</td><td>null</td><td>null</td><td>null</td><td>null</td></tr><tr><td>&quot;+&quot;</td><td>&quot;14e94576-b365-431b-b242-c3c6b8…</td><td>2025-01-10 08:36:26.683519 UTC</td><td>null</td><td>&quot;measurement_span&quot;</td><td>&quot;6474caa2-642f-4cff-b70e-155aab…</td><td>null</td><td>&quot;ABC&quot;</td><td>&quot;active power&quot;</td><td>1</td><td>&quot;pu&quot;</td><td>&quot;double_value&quot;</td><td>&quot;conventional_meter&quot;</td><td>null</td><td>null</td><td>null</td><td>null</td><td>null</td><td>null</td><td>null</td></tr><tr><td>&quot;+&quot;</td><td>&quot;0dd3f6f2-6728-46f6-aa29-d943d7…</td><td>2025-01-10 08:36:26.683519 UTC</td><td>null</td><td>&quot;measurement_span&quot;</td><td>&quot;13968615-4b3a-4158-9c51-46352b…</td><td>null</td><td>&quot;ABC&quot;</td><td>&quot;active power&quot;</td><td>1</td><td>&quot;pu&quot;</td><td>&quot;double_value&quot;</td><td>&quot;conventional_meter&quot;</td><td>null</td><td>null</td><td>null</td><td>null</td><td>null</td><td>null</td><td>null</td></tr><tr><td>&quot;+&quot;</td><td>&quot;158445bc-ec2e-4243-8639-fc216e…</td><td>2025-01-10 08:36:26.683519 UTC</td><td>null</td><td>&quot;measurement_span&quot;</td><td>&quot;4daa3b6b-1e75-49c5-8ab0-ed9547…</td><td>null</td><td>&quot;ABC&quot;</td><td>&quot;active power&quot;</td><td>1</td><td>&quot;pu&quot;</td><td>&quot;double_value&quot;</td><td>&quot;conventional_meter&quot;</td><td>null</td><td>null</td><td>null</td><td>null</td><td>null</td><td>null</td><td>null</td></tr><tr><td>&hellip;</td><td>&hellip;</td><td>&hellip;</td><td>&hellip;</td><td>&hellip;</td><td>&hellip;</td><td>&hellip;</td><td>&hellip;</td><td>&hellip;</td><td>&hellip;</td><td>&hellip;</td><td>&hellip;</td><td>&hellip;</td><td>&hellip;</td><td>&hellip;</td><td>&hellip;</td><td>&hellip;</td><td>&hellip;</td><td>&hellip;</td><td>&hellip;</td></tr><tr><td>&quot;+&quot;</td><td>&quot;576325c7-c8df-4307-b1c8-76bca7…</td><td>2025-01-10 08:36:26.683519 UTC</td><td>null</td><td>&quot;measurement_span&quot;</td><td>&quot;20becc2b-7a39-48da-ba78-372f82…</td><td>null</td><td>&quot;ABC&quot;</td><td>&quot;active power&quot;</td><td>1</td><td>&quot;pu&quot;</td><td>&quot;double_value&quot;</td><td>&quot;conventional_meter&quot;</td><td>null</td><td>null</td><td>null</td><td>null</td><td>null</td><td>null</td><td>null</td></tr><tr><td>&quot;+&quot;</td><td>&quot;f5e7b1e9-1d5a-4c91-b8d5-7beaf8…</td><td>2025-01-10 08:36:26.683519 UTC</td><td>null</td><td>&quot;measurement_span&quot;</td><td>&quot;ea320a0f-c718-41b6-af8d-e386f7…</td><td>null</td><td>&quot;ABC&quot;</td><td>&quot;active power&quot;</td><td>1</td><td>&quot;pu&quot;</td><td>&quot;double_value&quot;</td><td>&quot;conventional_meter&quot;</td><td>null</td><td>null</td><td>null</td><td>null</td><td>null</td><td>null</td><td>null</td></tr><tr><td>&quot;+&quot;</td><td>&quot;b066152b-8006-448e-95e4-bb8559…</td><td>2025-01-10 08:36:26.683519 UTC</td><td>null</td><td>&quot;measurement_span&quot;</td><td>&quot;a0a76f9f-0c6a-4a69-acf9-ef67a8…</td><td>null</td><td>&quot;ABC&quot;</td><td>&quot;active power&quot;</td><td>1</td><td>&quot;pu&quot;</td><td>&quot;double_value&quot;</td><td>&quot;conventional_meter&quot;</td><td>null</td><td>null</td><td>null</td><td>null</td><td>null</td><td>null</td><td>null</td></tr><tr><td>&quot;+&quot;</td><td>&quot;ce07e2da-0353-42c0-8a71-dcfda5…</td><td>2025-01-10 08:36:26.683519 UTC</td><td>null</td><td>&quot;measurement_span&quot;</td><td>&quot;d7a921cf-4788-404f-a6b3-15dbe2…</td><td>null</td><td>&quot;ABC&quot;</td><td>&quot;active power&quot;</td><td>1</td><td>&quot;pu&quot;</td><td>&quot;double_value&quot;</td><td>&quot;conventional_meter&quot;</td><td>null</td><td>null</td><td>null</td><td>null</td><td>null</td><td>null</td><td>null</td></tr><tr><td>&quot;+&quot;</td><td>&quot;2b753d9a-0af5-44cd-b758-6261e1…</td><td>2025-01-10 08:36:26.683519 UTC</td><td>null</td><td>&quot;measurement_span&quot;</td><td>&quot;1d3871d2-ea02-414e-a854-a79448…</td><td>null</td><td>&quot;ABC&quot;</td><td>&quot;active power&quot;</td><td>1</td><td>&quot;pu&quot;</td><td>&quot;double_value&quot;</td><td>&quot;conventional_meter&quot;</td><td>null</td><td>null</td><td>null</td><td>null</td><td>null</td><td>null</td><td>null</td></tr></tbody></table></div>"
      ],
      "text/plain": [
       "shape: (27, 20)\n",
       "┌──────┬─────────────┬─────────────┬────────────┬───┬──────────┬─────────┬────────────┬────────────┐\n",
       "│ diff ┆ uuid        ┆ start_heart ┆ end_heartb ┆ … ┆ metadata ┆ op_type ┆ over_measu ┆ default_pe │\n",
       "│ ---  ┆ ---         ┆ beat        ┆ eat        ┆   ┆ ---      ┆ ---     ┆ rement_fk  ┆ riod       │\n",
       "│ str  ┆ str         ┆ ---         ┆ ---        ┆   ┆ str      ┆ str     ┆ ---        ┆ ---        │\n",
       "│      ┆             ┆ datetime[μs ┆ datetime[μ ┆   ┆          ┆         ┆ str        ┆ i32        │\n",
       "│      ┆             ┆ , UTC]      ┆ s, UTC]    ┆   ┆          ┆         ┆            ┆            │\n",
       "╞══════╪═════════════╪═════════════╪════════════╪═══╪══════════╪═════════╪════════════╪════════════╡\n",
       "│ +    ┆ f612fc65-91 ┆ 2025-01-10  ┆ null       ┆ … ┆ null     ┆ null    ┆ null       ┆ null       │\n",
       "│      ┆ dd-4a05-a75 ┆ 08:36:26.68 ┆            ┆   ┆          ┆         ┆            ┆            │\n",
       "│      ┆ 1-d00a00…   ┆ 3519 UTC    ┆            ┆   ┆          ┆         ┆            ┆            │\n",
       "│ +    ┆ 1900bc3c-31 ┆ 2025-01-10  ┆ null       ┆ … ┆ null     ┆ null    ┆ null       ┆ null       │\n",
       "│      ┆ 69-431c-844 ┆ 08:36:26.68 ┆            ┆   ┆          ┆         ┆            ┆            │\n",
       "│      ┆ 9-c934dd…   ┆ 3519 UTC    ┆            ┆   ┆          ┆         ┆            ┆            │\n",
       "│ +    ┆ 14e94576-b3 ┆ 2025-01-10  ┆ null       ┆ … ┆ null     ┆ null    ┆ null       ┆ null       │\n",
       "│      ┆ 65-431b-b24 ┆ 08:36:26.68 ┆            ┆   ┆          ┆         ┆            ┆            │\n",
       "│      ┆ 2-c3c6b8…   ┆ 3519 UTC    ┆            ┆   ┆          ┆         ┆            ┆            │\n",
       "│ +    ┆ 0dd3f6f2-67 ┆ 2025-01-10  ┆ null       ┆ … ┆ null     ┆ null    ┆ null       ┆ null       │\n",
       "│      ┆ 28-46f6-aa2 ┆ 08:36:26.68 ┆            ┆   ┆          ┆         ┆            ┆            │\n",
       "│      ┆ 9-d943d7…   ┆ 3519 UTC    ┆            ┆   ┆          ┆         ┆            ┆            │\n",
       "│ +    ┆ 158445bc-ec ┆ 2025-01-10  ┆ null       ┆ … ┆ null     ┆ null    ┆ null       ┆ null       │\n",
       "│      ┆ 2e-4243-863 ┆ 08:36:26.68 ┆            ┆   ┆          ┆         ┆            ┆            │\n",
       "│      ┆ 9-fc216e…   ┆ 3519 UTC    ┆            ┆   ┆          ┆         ┆            ┆            │\n",
       "│ …    ┆ …           ┆ …           ┆ …          ┆ … ┆ …        ┆ …       ┆ …          ┆ …          │\n",
       "│ +    ┆ 576325c7-c8 ┆ 2025-01-10  ┆ null       ┆ … ┆ null     ┆ null    ┆ null       ┆ null       │\n",
       "│      ┆ df-4307-b1c ┆ 08:36:26.68 ┆            ┆   ┆          ┆         ┆            ┆            │\n",
       "│      ┆ 8-76bca7…   ┆ 3519 UTC    ┆            ┆   ┆          ┆         ┆            ┆            │\n",
       "│ +    ┆ f5e7b1e9-1d ┆ 2025-01-10  ┆ null       ┆ … ┆ null     ┆ null    ┆ null       ┆ null       │\n",
       "│      ┆ 5a-4c91-b8d ┆ 08:36:26.68 ┆            ┆   ┆          ┆         ┆            ┆            │\n",
       "│      ┆ 5-7beaf8…   ┆ 3519 UTC    ┆            ┆   ┆          ┆         ┆            ┆            │\n",
       "│ +    ┆ b066152b-80 ┆ 2025-01-10  ┆ null       ┆ … ┆ null     ┆ null    ┆ null       ┆ null       │\n",
       "│      ┆ 06-448e-95e ┆ 08:36:26.68 ┆            ┆   ┆          ┆         ┆            ┆            │\n",
       "│      ┆ 4-bb8559…   ┆ 3519 UTC    ┆            ┆   ┆          ┆         ┆            ┆            │\n",
       "│ +    ┆ ce07e2da-03 ┆ 2025-01-10  ┆ null       ┆ … ┆ null     ┆ null    ┆ null       ┆ null       │\n",
       "│      ┆ 53-42c0-8a7 ┆ 08:36:26.68 ┆            ┆   ┆          ┆         ┆            ┆            │\n",
       "│      ┆ 1-dcfda5…   ┆ 3519 UTC    ┆            ┆   ┆          ┆         ┆            ┆            │\n",
       "│ +    ┆ 2b753d9a-0a ┆ 2025-01-10  ┆ null       ┆ … ┆ null     ┆ null    ┆ null       ┆ null       │\n",
       "│      ┆ f5-44cd-b75 ┆ 08:36:26.68 ┆            ┆   ┆          ┆         ┆            ┆            │\n",
       "│      ┆ 8-6261e1…   ┆ 3519 UTC    ┆            ┆   ┆          ┆         ┆            ┆            │\n",
       "└──────┴─────────────┴─────────────┴────────────┴───┴──────────┴─────────┴────────────┴────────────┘"
      ]
     },
     "execution_count": 212,
     "metadata": {},
     "output_type": "execute_result"
    }
   ],
   "source": [
    "## Update Qload due to line capacity\n",
    "changes_schema.measurement"
   ]
  },
  {
   "cell_type": "markdown",
   "metadata": {},
   "source": [
    "## Import data to changes schema"
   ]
  },
  {
   "cell_type": "code",
   "execution_count": 213,
   "metadata": {},
   "outputs": [
    {
     "name": "stdout",
     "output_type": "stream",
     "text": [
      "shape: (8, 6)\n",
      "┌────────────┬──────────┬─────┬─────┬────────┬─────┐\n",
      "│ downstream ┆ upstream ┆ P   ┆ F   ┆ p_line ┆ lv  │\n",
      "│ ---        ┆ ---      ┆ --- ┆ --- ┆ ---    ┆ --- │\n",
      "│ i64        ┆ i64      ┆ i64 ┆ f64 ┆ f64    ┆ i64 │\n",
      "╞════════════╪══════════╪═════╪═════╪════════╪═════╡\n",
      "│ 3          ┆ 2        ┆ 2   ┆ 0.1 ┆ 2.2    ┆ 0   │\n",
      "│ 5          ┆ 4        ┆ 4   ┆ 0.1 ┆ 4.4    ┆ 0   │\n",
      "│ 7          ┆ 4        ┆ 6   ┆ 0.1 ┆ 6.6    ┆ 0   │\n",
      "│ 8          ┆ 6        ┆ 5   ┆ 0.1 ┆ 5.5    ┆ 0   │\n",
      "│ 2          ┆ 1        ┆ 1   ┆ 0.1 ┆ 3.52   ┆ 1   │\n",
      "│ 6          ┆ 4        ┆ 3   ┆ 0.1 ┆ 9.35   ┆ 1   │\n",
      "│ 4          ┆ 1        ┆ 1   ┆ 0.1 ┆ 23.485 ┆ 2   │\n",
      "│ 1          ┆ null     ┆ 0   ┆ 0.0 ┆ 27.005 ┆ 3   │\n",
      "└────────────┴──────────┴─────┴─────┴────────┴─────┘\n"
     ]
    }
   ],
   "source": [
    "def sum_downstream_power(col: pl.Expr, df: pl.DataFrame):\n",
    "    return col.map_elements(\n",
    "        lambda x: df.filter(c(\"upstream\") == x)[\"p_line\"].sum(), return_dtype=pl.Float64\n",
    "    )\n",
    "\n",
    "\n",
    "def calculate_line_power(df: pl.DataFrame):\n",
    "    return (c(\"downstream\").pipe(sum_downstream_power, df=df) + c(\"P\")) * (1 + c(\"F\"))\n",
    "\n",
    "\n",
    "def sum_power(df: pl.DataFrame, lv: int):\n",
    "\n",
    "    return df.with_columns(\n",
    "        pl.when(c(\"lv\") == lv)\n",
    "        .then(calculate_line_power(df=df))\n",
    "        .otherwise(c(\"p_line\"))\n",
    "        .alias(\"p_line\")\n",
    "    )\n",
    "\n",
    "\n",
    "# UP Use for each powerflow\n",
    "# Down Use only one time\n",
    "def get_node_level(G: nx.DiGraph) -> dict:\n",
    "    level_mapping: dict = {}\n",
    "    for node in reversed(list(nx.topological_sort(G))):\n",
    "        if not len(list(G.successors(node))):\n",
    "            level_mapping[node] = 0\n",
    "        else:\n",
    "            level_mapping[node] = max(level_mapping[n] for n in G.successors(node)) + 1\n",
    "    return level_mapping\n",
    "\n",
    "\n",
    "line_data: pl.DataFrame = pl.DataFrame(\n",
    "    {\n",
    "        \"downstream\": [1, 2, 3, 4, 5, 6, 7, 8],\n",
    "        \"upstream\": [None, 1, 2, 1, 4, 4, 4, 6],\n",
    "        \"P\": [0, 1, 2, 1, 4, 3, 6, 5],\n",
    "        \"F\": [0.0, 0.1, 0.1, 0.1, 0.1, 0.1, 0.1, 0.1],\n",
    "        \"p_line\": [0] * 8,\n",
    "    }\n",
    ")\n",
    "\n",
    "grid = nx.DiGraph()\n",
    "\n",
    "_ = line_data.drop_nulls(subset=\"upstream\").with_columns(\n",
    "    pl.struct(c(\"upstream\"), c(\"downstream\")).map_elements(\n",
    "        lambda x: grid.add_edge(x[\"upstream\"], x[\"downstream\"]), return_dtype=pl.Struct\n",
    "    )\n",
    ")\n",
    "level_mapping: dict = get_node_level(G=grid)\n",
    "line_data = line_data.with_columns(\n",
    "    c(\"downstream\").replace_strict(level_mapping, default=None).alias(\"lv\")\n",
    ")\n",
    "\n",
    "for i in range(line_data[\"lv\"].max() + 1):\n",
    "    line_data = sum_power(df=line_data, lv=i)\n",
    "\n",
    "print(line_data.sort(\"lv\"))"
   ]
  }
 ],
 "metadata": {
  "kernelspec": {
   "display_name": ".venv",
   "language": "python",
   "name": "python3"
  },
  "language_info": {
   "codemirror_mode": {
    "name": "ipython",
    "version": 3
   },
   "file_extension": ".py",
   "mimetype": "text/x-python",
   "name": "python",
   "nbconvert_exporter": "python",
   "pygments_lexer": "ipython3",
   "version": "3.12.7"
  }
 },
 "nbformat": 4,
 "nbformat_minor": 2
}
