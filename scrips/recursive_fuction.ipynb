{
 "cells": [
  {
   "cell_type": "code",
   "execution_count": 196,
   "metadata": {},
   "outputs": [],
   "source": [
    "import polars as pl\n",
    "from polars import col as c\n",
    "import networkx as nx\n",
    "\n",
    "from config import settings\n",
    "import json\n",
    "import os\n",
    "from datetime import datetime, UTC\n",
    "import datetime as dt\n",
    "\n",
    "from utility.polars_operation import generate_uuid_col\n",
    "from utility.parser_utility import (\n",
    "    add_table_to_changes_schema,\n",
    "    generate_connectivity_table,\n",
    "    generate_random_uuid,\n",
    ")\n",
    "from utility.general_function import pl_to_dict\n",
    "\n",
    "from twindigrid_changes.schema import ChangesSchema\n",
    "from twindigrid_sql.schema.enum import (\n",
    "    MeasurementClass,\n",
    "    MeasurementPhase,\n",
    "    MeasurementColumn,\n",
    "    SubstationType,\n",
    "    TerminalSide,\n",
    ")\n",
    "from twindigrid_sql.entries.source import (\n",
    "    SCADA,\n",
    "    CONVENTIONAL_METER,\n",
    "    GRID_LOAD,\n",
    "    SCADA,\n",
    "    ESTIMATED,\n",
    ")\n",
    "\n",
    "\n",
    "from twindigrid_sql.entries.equipment_class import (\n",
    "    TRANSFORMER,\n",
    "    BRANCH,\n",
    "    SWITCH,\n",
    "    INDIRECT_FEEDER,\n",
    "    BUSBAR_SECTION,\n",
    "    ENERGY_CONSUMER,\n",
    ")\n",
    "from twindigrid_sql.entries.measurement_type import ENERGY, ACTIVE_POWER, REACTIVE_POWER\n",
    "from twindigrid_sql.entries.unit_symbol import WATTHOUR, WATT\n",
    "\n",
    "# Useless outside jupiternotebook because in settings.py a line that changes the directory to src for ipynb\n",
    "os.chdir(os.getcwd().replace(\"/src\", \"\"))\n",
    "# os.getcwd()"
   ]
  },
  {
   "cell_type": "markdown",
   "metadata": {},
   "source": [
    "# Import data from matlab"
   ]
  },
  {
   "cell_type": "code",
   "execution_count": 197,
   "metadata": {},
   "outputs": [],
   "source": [
    "file_names: dict[str, str] = json.load(open(settings.INPUT_FILE_NAMES))"
   ]
  },
  {
   "cell_type": "code",
   "execution_count": 198,
   "metadata": {},
   "outputs": [
    {
     "data": {
      "text/html": [
       "<div><style>\n",
       ".dataframe > thead > tr,\n",
       ".dataframe > tbody > tr {\n",
       "  text-align: right;\n",
       "  white-space: pre-wrap;\n",
       "}\n",
       "</style>\n",
       "<small>shape: (57, 8)</small><table border=\"1\" class=\"dataframe\"><thead><tr><th>node_from</th><th>node_to</th><th>line_number</th><th>r_pu</th><th>x_pu</th><th>b_pu</th><th>i_pu</th><th>connection_type</th></tr><tr><td>i64</td><td>i64</td><td>i64</td><td>f64</td><td>f64</td><td>f64</td><td>f64</td><td>i64</td></tr></thead><tbody><tr><td>1</td><td>0</td><td>1</td><td>0.19375</td><td>0.112969</td><td>7.9168e-8</td><td>0.024942</td><td>2</td></tr><tr><td>2</td><td>0</td><td>2</td><td>2.046875</td><td>1.14625</td><td>8.9632e-7</td><td>0.026327</td><td>2</td></tr><tr><td>3</td><td>0</td><td>3</td><td>0.0</td><td>0.0</td><td>0.0</td><td>1.0</td><td>3</td></tr><tr><td>4</td><td>1</td><td>4</td><td>3.03</td><td>0.0911</td><td>2.2696e-8</td><td>0.003048</td><td>2</td></tr><tr><td>5</td><td>1</td><td>5</td><td>0.0775</td><td>0.0451875</td><td>3.1667e-8</td><td>0.024942</td><td>2</td></tr><tr><td>&hellip;</td><td>&hellip;</td><td>&hellip;</td><td>&hellip;</td><td>&hellip;</td><td>&hellip;</td><td>&hellip;</td><td>&hellip;</td></tr><tr><td>53</td><td>52</td><td>53</td><td>3.7875</td><td>0.113875</td><td>2.8370e-8</td><td>0.003048</td><td>2</td></tr><tr><td>54</td><td>52</td><td>54</td><td>0.08525</td><td>0.049706</td><td>3.4834e-8</td><td>0.024942</td><td>2</td></tr><tr><td>55</td><td>54</td><td>55</td><td>0.05425</td><td>0.031631</td><td>2.2167e-8</td><td>0.024942</td><td>2</td></tr><tr><td>56</td><td>54</td><td>56</td><td>3.219375</td><td>0.096794</td><td>2.4114e-8</td><td>0.003048</td><td>2</td></tr><tr><td>57</td><td>55</td><td>57</td><td>2.461875</td><td>0.074019</td><td>1.8440e-8</td><td>0.003048</td><td>2</td></tr></tbody></table></div>"
      ],
      "text/plain": [
       "shape: (57, 8)\n",
       "┌───────────┬─────────┬─────────────┬──────────┬───────────┬───────────┬──────────┬────────────────┐\n",
       "│ node_from ┆ node_to ┆ line_number ┆ r_pu     ┆ x_pu      ┆ b_pu      ┆ i_pu     ┆ connection_typ │\n",
       "│ ---       ┆ ---     ┆ ---         ┆ ---      ┆ ---       ┆ ---       ┆ ---      ┆ e              │\n",
       "│ i64       ┆ i64     ┆ i64         ┆ f64      ┆ f64       ┆ f64       ┆ f64      ┆ ---            │\n",
       "│           ┆         ┆             ┆          ┆           ┆           ┆          ┆ i64            │\n",
       "╞═══════════╪═════════╪═════════════╪══════════╪═══════════╪═══════════╪══════════╪════════════════╡\n",
       "│ 1         ┆ 0       ┆ 1           ┆ 0.19375  ┆ 0.112969  ┆ 7.9168e-8 ┆ 0.024942 ┆ 2              │\n",
       "│ 2         ┆ 0       ┆ 2           ┆ 2.046875 ┆ 1.14625   ┆ 8.9632e-7 ┆ 0.026327 ┆ 2              │\n",
       "│ 3         ┆ 0       ┆ 3           ┆ 0.0      ┆ 0.0       ┆ 0.0       ┆ 1.0      ┆ 3              │\n",
       "│ 4         ┆ 1       ┆ 4           ┆ 3.03     ┆ 0.0911    ┆ 2.2696e-8 ┆ 0.003048 ┆ 2              │\n",
       "│ 5         ┆ 1       ┆ 5           ┆ 0.0775   ┆ 0.0451875 ┆ 3.1667e-8 ┆ 0.024942 ┆ 2              │\n",
       "│ …         ┆ …       ┆ …           ┆ …        ┆ …         ┆ …         ┆ …        ┆ …              │\n",
       "│ 53        ┆ 52      ┆ 53          ┆ 3.7875   ┆ 0.113875  ┆ 2.8370e-8 ┆ 0.003048 ┆ 2              │\n",
       "│ 54        ┆ 52      ┆ 54          ┆ 0.08525  ┆ 0.049706  ┆ 3.4834e-8 ┆ 0.024942 ┆ 2              │\n",
       "│ 55        ┆ 54      ┆ 55          ┆ 0.05425  ┆ 0.031631  ┆ 2.2167e-8 ┆ 0.024942 ┆ 2              │\n",
       "│ 56        ┆ 54      ┆ 56          ┆ 3.219375 ┆ 0.096794  ┆ 2.4114e-8 ┆ 0.003048 ┆ 2              │\n",
       "│ 57        ┆ 55      ┆ 57          ┆ 2.461875 ┆ 0.074019  ┆ 1.8440e-8 ┆ 0.003048 ┆ 2              │\n",
       "└───────────┴─────────┴─────────────┴──────────┴───────────┴───────────┴──────────┴────────────────┘"
      ]
     },
     "execution_count": 198,
     "metadata": {},
     "output_type": "execute_result"
    }
   ],
   "source": [
    "parameter_distflow: pl.DataFrame = pl.read_csv(file_names[\"Distflow_parameter\"])\n",
    "nodedata_distflow: pl.DataFrame = pl.read_csv(file_names[\"Distflow_node_data\"])\n",
    "powerdata_distflow: pl.DataFrame = pl.read_csv(file_names[\"Distflow_Power_data\"])\n",
    "linedata_distflow: pl.DataFrame = pl.read_csv(file_names[\"Distflow_Line_data\"])\n",
    "result_distflow: pl.DataFrame = pl.read_csv(file_names[\"Distflow_result\"])\n",
    "# nodedata_distflow = nodedata_distflow.with_columns(c(\"Snom\").cast(pl.Int8))\n",
    "# # To have base value (need lenght of line), not from matlab !\n",
    "# line_data_from_input_file: pl.DataFrame = pl.read_excel(\n",
    "#     file_names[\"Line_Data_From_Input_File\"]\n",
    "# )\n",
    "\n",
    "# Add node number to power data\n",
    "powerdata_distflow = powerdata_distflow.with_row_index(\n",
    "    \"node_number\", offset=1\n",
    ")  # offset=1 because slack bus is 0 and no power on it\n",
    "powerdata_distflow = powerdata_distflow.with_columns(c(\"node_number\").cast(pl.Int64))\n",
    "# Create a topology dataframe with basic topology information\n",
    "\n",
    "df_topology = nodedata_distflow.select(\n",
    "    c(\"index\").alias(\"node_number\"),\n",
    "    c(\"Vnom\"),\n",
    ")\n",
    "\n",
    "# Add the power data to the topology dataframe with node as key\n",
    "df_topology = df_topology.join(\n",
    "    powerdata_distflow, on=\"node_number\", how=\"full\", coalesce=True\n",
    ")\n",
    "linedata_distflow"
   ]
  },
  {
   "cell_type": "markdown",
   "metadata": {},
   "source": [
    "# Set missing value for equipment"
   ]
  },
  {
   "cell_type": "code",
   "execution_count": 199,
   "metadata": {},
   "outputs": [],
   "source": [
    "### Set missing value for equipment\n",
    "# Fake value for the length of the branch\n",
    "base_length = 1\n",
    "# Fake value for the switch state\n",
    "switch_state = False\n",
    "switch_type = \"locked_switch\"\n",
    "switch_command = \"unknown\""
   ]
  },
  {
   "cell_type": "markdown",
   "metadata": {},
   "source": [
    "## Connectivity node table"
   ]
  },
  {
   "cell_type": "code",
   "execution_count": 200,
   "metadata": {},
   "outputs": [
    {
     "data": {
      "text/plain": [
       "{0: 'df941fce-ceda-5874-ab63-5c8af9bec38b',\n",
       " 1: 'ba84d70a-80d7-590e-b112-f9c4b5fabf56',\n",
       " 2: '078656ed-79f8-53a1-a67a-bb8f53476cec',\n",
       " 3: 'c2247320-9fc2-538a-ba64-3ac70e49994e',\n",
       " 4: 'af72457f-f983-5eeb-a635-0609f4cae0c1',\n",
       " 5: 'dbd2411e-1e87-5956-86d9-d69ee7d848d5',\n",
       " 6: '2db84a3d-aa74-5b4f-866a-3313180cb863',\n",
       " 7: 'cce2c582-1c62-5b80-aac3-b840ce3f5f14',\n",
       " 8: 'd177af44-109b-50d6-8b8a-97874a03462b',\n",
       " 9: '8a7f105e-71f3-5101-8b4f-1a9007ec858d',\n",
       " 10: '41ac73c2-162a-5ce9-964f-68a510db4d95',\n",
       " 11: '2974cbe7-7e8b-54b5-9978-65f4214528ca',\n",
       " 12: 'bc038a56-4e78-504b-a9a5-3e5666086e8e',\n",
       " 13: '2e63d367-00e4-59d5-a861-9117f6825754',\n",
       " 14: 'd8148587-7cb2-5800-b216-0eeb7afcf7e4',\n",
       " 15: 'c682ba2f-b6aa-5ee6-8924-b395e42ea750',\n",
       " 16: 'ba439656-84c7-5804-bf01-e9ac87641692',\n",
       " 17: '82ae2e23-b674-53d7-ada4-fb1657822f5e',\n",
       " 18: '7573ef10-2d63-5ec5-8190-b70bd3c452e5',\n",
       " 19: '807905d4-b3d4-532e-a544-9cdac0f377d5',\n",
       " 20: '71c4b22f-584c-581d-9508-099e859582d2',\n",
       " 21: '7e6993e0-fae2-5ce4-85ed-6e2d27445e4c',\n",
       " 22: '069c0cf6-35f1-5163-a369-d299bd194d88',\n",
       " 23: '897fb96d-7c34-503e-9972-72f385d8555a',\n",
       " 24: '7b46114e-0fbd-5f97-b425-4345eaaf22f6',\n",
       " 25: '826aab3c-3732-55ce-94f0-0821683cf11e',\n",
       " 26: 'f6fe2024-12a9-53b5-89c4-b2c6cd1d2b0c',\n",
       " 27: 'fc1dea77-d01b-53fa-a246-48c95d7478c5',\n",
       " 28: 'f3bec97f-cb86-53bd-b497-b00396a517b7',\n",
       " 29: '0a9412c5-f715-5c54-b612-23d668f591f5',\n",
       " 30: 'b69c571f-9f68-5c3d-bb69-0427bb96cd6f',\n",
       " 31: 'ee5dd2c5-dc96-5c4f-99d8-4939921f68f9',\n",
       " 32: 'ac61eabd-c11c-53c5-aea3-fa72ec80a8a9',\n",
       " 33: 'd8d6acff-2e6a-5617-a075-c16955082c65',\n",
       " 34: 'd063759c-a80d-5a20-bbfc-9405044bbeac',\n",
       " 35: '3e98fb17-b45f-5dd3-8fd4-eb6220688ae7',\n",
       " 36: '2e4f321e-f648-504a-8dbc-3086e6516daa',\n",
       " 37: '966a75f1-23eb-5e71-9ff5-53ce9f6c3ef9',\n",
       " 38: 'fc52c4eb-74e6-558f-b1de-4f114ae6d23f',\n",
       " 39: '8fedbbc2-4379-5327-8530-16261419d266',\n",
       " 40: '23054e82-f860-52ec-894c-319d4d3f25e5',\n",
       " 41: 'cb21d1e2-93ee-517a-9611-571636e7fb96',\n",
       " 42: '12c85268-df18-561e-86c2-163f26a08673',\n",
       " 43: '9045f2c8-8a7b-595b-ae09-3482d6f505b4',\n",
       " 44: '9a294c52-0b68-514e-97e7-34622953cf32',\n",
       " 45: '9e0252ef-1645-5f8b-9e7a-bde3f193757a',\n",
       " 46: '289b56df-7326-5158-83ee-7b1de41fea13',\n",
       " 47: '2023dca7-8cab-5a99-bb1c-926575f3a545',\n",
       " 48: '10d512b9-c021-5897-a5a0-b6e62be50737',\n",
       " 49: 'c824c057-fe59-57ee-a445-8437717f9e84',\n",
       " 50: '46f2292c-c9c4-59d4-9048-581d79489022',\n",
       " 51: 'fb87ec61-e87a-5861-88bf-d2d23f7213c7',\n",
       " 52: 'd2deff68-20a8-5d92-b689-a57381f506d5',\n",
       " 53: '4505ed8e-f087-5ee2-8c67-775daa1043ef',\n",
       " 54: '23bc00b6-0e27-5e6d-a02e-dda5e9039252',\n",
       " 55: 'b1d51456-8036-5737-accc-1103d215d98c',\n",
       " 56: '9bed56b6-83af-51ce-b629-9a787ce4f7ef',\n",
       " 57: 'e59041d7-eab1-5d24-9a64-86efa1a6232f'}"
      ]
     },
     "execution_count": 200,
     "metadata": {},
     "output_type": "execute_result"
    }
   ],
   "source": [
    "# Generate the node dict with uuid for each node\n",
    "connectivity_node: dict[float, str] = pl_to_dict(\n",
    "    df_topology.select(\n",
    "        c(\"node_number\"),\n",
    "        c(\"node_number\").pipe(generate_uuid_col, added_string=\"node_\").alias(\"uuid\"),\n",
    "    )\n",
    ")\n",
    "connectivity_node"
   ]
  },
  {
   "cell_type": "code",
   "execution_count": 201,
   "metadata": {},
   "outputs": [],
   "source": [
    "## Add the cn_fk to the topology dataframe\n",
    "df_topology = df_topology.with_columns(\n",
    "    c(\"node_number\").replace_strict(connectivity_node, default=None).alias(\"cn_fk\")\n",
    ")"
   ]
  },
  {
   "cell_type": "markdown",
   "metadata": {},
   "source": [
    "## Branch"
   ]
  },
  {
   "cell_type": "code",
   "execution_count": 202,
   "metadata": {},
   "outputs": [],
   "source": [
    "# branch :pl.DataFrame =\n",
    "\n",
    "default_install_date: datetime = datetime(*settings.DEFAULT_INSTALL_DATE, tzinfo=UTC)\n",
    "heartbeat = datetime.now(UTC)\n",
    "changes_schema = ChangesSchema()\n",
    "\n",
    "\n",
    "# Current and other line parameter in pu\n",
    "\n",
    "# Filter to take only branch, connection_type == 2\n",
    "branch = linedata_distflow.filter(c(\"connection_type\") == 2).select(\n",
    "    c(\"line_number\").alias(\"dso_code\"),\n",
    "    c(\"i_pu\").alias(\"current_limit\"),\n",
    "    c(\"r_pu\"),\n",
    "    c(\"x_pu\"),\n",
    "    c(\"b_pu\"),\n",
    "    # Need column name non null value for validation of the schema\n",
    "    pl.lit(base_length).alias(\"length\"),  # km\n",
    "    pl.lit(BRANCH).alias(\"concrete_class\"),\n",
    "    pl.lit(default_install_date).alias(\"start\"),\n",
    "    pl.lit(heartbeat).alias(\"start_heartbeat\"),\n",
    "    c(\"line_number\").pipe(generate_uuid_col, added_string=BRANCH).alias(\"uuid\"),\n",
    "    # Generate uuid for each terminal of branch with node uuid\n",
    "    c(\"node_from\").replace_strict(connectivity_node, default=None).alias(\"t1\"),\n",
    "    c(\"node_to\").replace_strict(connectivity_node, default=None).alias(\"t2\"),\n",
    "    # Need column name for validation of the schema\n",
    "    pl.lit(None).alias(\"t1_container_fk\"),\n",
    "    pl.lit(None).alias(\"t2_container_fk\"),\n",
    ")\n",
    "new_tables_pl: dict[str, pl.DataFrame] = {\n",
    "    \"Resource\": branch,\n",
    "    \"Equipment\": branch,\n",
    "    \"Branch\": branch,\n",
    "}\n",
    "changes_schema = add_table_to_changes_schema(\n",
    "    schema=changes_schema, new_tables_pl=new_tables_pl, raw_table_name=\"branch\"\n",
    ")\n",
    "changes_schema = generate_connectivity_table(\n",
    "    changes_schema=changes_schema, eq_table=branch, raw_data_table=\"branch\"\n",
    ")"
   ]
  },
  {
   "cell_type": "markdown",
   "metadata": {},
   "source": [
    "## Energy consumer"
   ]
  },
  {
   "cell_type": "code",
   "execution_count": null,
   "metadata": {},
   "outputs": [],
   "source": [
    "default_install_date: datetime = datetime(*settings.DEFAULT_INSTALL_DATE, tzinfo=UTC)\n",
    "heartbeat = datetime.now(UTC)\n",
    "changes_schema = ChangesSchema()\n",
    "\n",
    "\n",
    "# Power in PU ???????????????????????????????????????????????????\n",
    "df_topology => utiliser tous les nodes\n",
    "powerdata_distflow => si pas 0\n",
    "energy_consumer = linedata_distflow.filter(c(\"connection_type\") == 2).select(\n",
    "    # c(\"line_number\").alias(\"dso_code\"),\n",
    "    # c(\"i_pu\").alias(\"current_limit\"),\n",
    "    # c(\"r_pu\"),\n",
    "    # c(\"x_pu\"),\n",
    "    # c(\"b_pu\"),\n",
    "    # # Need column name non null value for validation of the schema\n",
    "    # pl.lit(base_length).alias(\"length\"),  # km\n",
    "    # pl.lit(BRANCH).alias(\"concrete_class\"),\n",
    "    # pl.lit(default_install_date).alias(\"start\"),\n",
    "    # pl.lit(heartbeat).alias(\"start_heartbeat\"),\n",
    "    # c(\"line_number\").pipe(generate_uuid_col, added_string=BRANCH).alias(\"uuid\"),\n",
    "    # # Generate uuid for each terminal of branch with node uuid\n",
    "    # c(\"node_from\").replace_strict(connectivity_node, default=None).alias(\"t1\"),\n",
    "    # c(\"node_to\").replace_strict(connectivity_node, default=None).alias(\"t2\"),\n",
    "    # # Need column name for validation of the schema\n",
    "    # pl.lit(None).alias(\"t1_container_fk\"),\n",
    "    # pl.lit(None).alias(\"t2_container_fk\"),\n",
    ")\n",
    "new_tables_pl: dict[str, pl.DataFrame] = {\n",
    "    \"Resource\": energy_consumer,\n",
    "    \"Equipment\": energy_consumer,\n",
    "    \"EnergyConsumer\": energy_consumer,\n",
    "}\n",
    "changes_schema = add_table_to_changes_schema(\n",
    "    schema=changes_schema, new_tables_pl=new_tables_pl, raw_table_name=\"energy_consumer\"\n",
    ")\n",
    "changes_schema = generate_connectivity_table(\n",
    "    changes_schema=changes_schema, eq_table=branch, raw_data_table=\"energy_consumer\"\n",
    ")"
   ]
  },
  {
   "cell_type": "markdown",
   "metadata": {},
   "source": [
    "## Measurement"
   ]
  },
  {
   "cell_type": "markdown",
   "metadata": {},
   "source": [
    "Active power"
   ]
  },
  {
   "cell_type": "code",
   "execution_count": 203,
   "metadata": {},
   "outputs": [
    {
     "data": {
      "text/html": [
       "<div><style>\n",
       ".dataframe > thead > tr,\n",
       ".dataframe > tbody > tr {\n",
       "  text-align: right;\n",
       "  white-space: pre-wrap;\n",
       "}\n",
       "</style>\n",
       "<small>shape: (58, 6)</small><table border=\"1\" class=\"dataframe\"><thead><tr><th>node_number</th><th>Vnom</th><th>Pload</th><th>Qload</th><th>cn_fk</th><th>uuid</th></tr><tr><td>i64</td><td>i64</td><td>f64</td><td>f64</td><td>str</td><td>str</td></tr></thead><tbody><tr><td>0</td><td>400</td><td>null</td><td>null</td><td>&quot;df941fce-ceda-5874-ab63-5c8af9…</td><td>&quot;2dbaccda-4541-4734-97bc-3813c6…</td></tr><tr><td>1</td><td>400</td><td>0.0</td><td>0.0</td><td>&quot;ba84d70a-80d7-590e-b112-f9c4b5…</td><td>&quot;8f6b1bc5-7f78-4963-a519-0e7815…</td></tr><tr><td>2</td><td>400</td><td>0.0</td><td>0.0</td><td>&quot;078656ed-79f8-53a1-a67a-bb8f53…</td><td>&quot;760d2a68-2316-40ab-a6fd-417b83…</td></tr><tr><td>3</td><td>400</td><td>0.0</td><td>0.0</td><td>&quot;c2247320-9fc2-538a-ba64-3ac70e…</td><td>&quot;7183648a-4f60-4c76-a59d-3bb16d…</td></tr><tr><td>4</td><td>400</td><td>0.0</td><td>0.0</td><td>&quot;af72457f-f983-5eeb-a635-0609f4…</td><td>&quot;afc38542-0d1a-4024-8cea-e7f659…</td></tr><tr><td>&hellip;</td><td>&hellip;</td><td>&hellip;</td><td>&hellip;</td><td>&hellip;</td><td>&hellip;</td></tr><tr><td>53</td><td>400</td><td>0.0</td><td>0.0</td><td>&quot;4505ed8e-f087-5ee2-8c67-775daa…</td><td>&quot;a143808a-28e2-4ba9-ac85-2e99a1…</td></tr><tr><td>54</td><td>400</td><td>0.000035</td><td>-0.000012</td><td>&quot;23bc00b6-0e27-5e6d-a02e-dda5e9…</td><td>&quot;241f2942-537d-41ff-af4a-ef20c3…</td></tr><tr><td>55</td><td>400</td><td>0.0</td><td>0.0</td><td>&quot;b1d51456-8036-5737-accc-1103d2…</td><td>&quot;6dc4dd4b-eeee-4c7b-a396-08a8b3…</td></tr><tr><td>56</td><td>400</td><td>0.0</td><td>0.0</td><td>&quot;9bed56b6-83af-51ce-b629-9a787c…</td><td>&quot;9c912acb-60de-4ed2-9d7e-0270f3…</td></tr><tr><td>57</td><td>400</td><td>0.00004</td><td>-0.000013</td><td>&quot;e59041d7-eab1-5d24-9a64-86efa1…</td><td>&quot;536f8f50-6743-400d-91f0-57885a…</td></tr></tbody></table></div>"
      ],
      "text/plain": [
       "shape: (58, 6)\n",
       "┌─────────────┬──────┬──────────┬───────────┬───────────────────────────┬──────────────────────────┐\n",
       "│ node_number ┆ Vnom ┆ Pload    ┆ Qload     ┆ cn_fk                     ┆ uuid                     │\n",
       "│ ---         ┆ ---  ┆ ---      ┆ ---       ┆ ---                       ┆ ---                      │\n",
       "│ i64         ┆ i64  ┆ f64      ┆ f64       ┆ str                       ┆ str                      │\n",
       "╞═════════════╪══════╪══════════╪═══════════╪═══════════════════════════╪══════════════════════════╡\n",
       "│ 0           ┆ 400  ┆ null     ┆ null      ┆ df941fce-ceda-5874-ab63-5 ┆ 2dbaccda-4541-4734-97bc- │\n",
       "│             ┆      ┆          ┆           ┆ c8af9…                    ┆ 3813c6…                  │\n",
       "│ 1           ┆ 400  ┆ 0.0      ┆ 0.0       ┆ ba84d70a-80d7-590e-b112-f ┆ 8f6b1bc5-7f78-4963-a519- │\n",
       "│             ┆      ┆          ┆           ┆ 9c4b5…                    ┆ 0e7815…                  │\n",
       "│ 2           ┆ 400  ┆ 0.0      ┆ 0.0       ┆ 078656ed-79f8-53a1-a67a-b ┆ 760d2a68-2316-40ab-a6fd- │\n",
       "│             ┆      ┆          ┆           ┆ b8f53…                    ┆ 417b83…                  │\n",
       "│ 3           ┆ 400  ┆ 0.0      ┆ 0.0       ┆ c2247320-9fc2-538a-ba64-3 ┆ 7183648a-4f60-4c76-a59d- │\n",
       "│             ┆      ┆          ┆           ┆ ac70e…                    ┆ 3bb16d…                  │\n",
       "│ 4           ┆ 400  ┆ 0.0      ┆ 0.0       ┆ af72457f-f983-5eeb-a635-0 ┆ afc38542-0d1a-4024-8cea- │\n",
       "│             ┆      ┆          ┆           ┆ 609f4…                    ┆ e7f659…                  │\n",
       "│ …           ┆ …    ┆ …        ┆ …         ┆ …                         ┆ …                        │\n",
       "│ 53          ┆ 400  ┆ 0.0      ┆ 0.0       ┆ 4505ed8e-f087-5ee2-8c67-7 ┆ a143808a-28e2-4ba9-ac85- │\n",
       "│             ┆      ┆          ┆           ┆ 75daa…                    ┆ 2e99a1…                  │\n",
       "│ 54          ┆ 400  ┆ 0.000035 ┆ -0.000012 ┆ 23bc00b6-0e27-5e6d-a02e-d ┆ 241f2942-537d-41ff-af4a- │\n",
       "│             ┆      ┆          ┆           ┆ da5e9…                    ┆ ef20c3…                  │\n",
       "│ 55          ┆ 400  ┆ 0.0      ┆ 0.0       ┆ b1d51456-8036-5737-accc-1 ┆ 6dc4dd4b-eeee-4c7b-a396- │\n",
       "│             ┆      ┆          ┆           ┆ 103d2…                    ┆ 08a8b3…                  │\n",
       "│ 56          ┆ 400  ┆ 0.0      ┆ 0.0       ┆ 9bed56b6-83af-51ce-b629-9 ┆ 9c912acb-60de-4ed2-9d7e- │\n",
       "│             ┆      ┆          ┆           ┆ a787c…                    ┆ 0270f3…                  │\n",
       "│ 57          ┆ 400  ┆ 0.00004  ┆ -0.000013 ┆ e59041d7-eab1-5d24-9a64-8 ┆ 536f8f50-6743-400d-91f0- │\n",
       "│             ┆      ┆          ┆           ┆ 6efa1…                    ┆ 57885a…                  │\n",
       "└─────────────┴──────┴──────────┴───────────┴───────────────────────────┴──────────────────────────┘"
      ]
     },
     "execution_count": 203,
     "metadata": {},
     "output_type": "execute_result"
    }
   ],
   "source": [
    "df_topology.with_columns(c(\"Vnom\").pipe(generate_random_uuid).alias(\"uuid\"))"
   ]
  },
  {
   "cell_type": "code",
   "execution_count": 204,
   "metadata": {},
   "outputs": [],
   "source": [
    "## Add the uuid of the node to the power data\n",
    "measurement = df_topology.select(\n",
    "    c(\"cn_fk\").pipe(generate_random_uuid).alias(\"uuid\"),\n",
    "    c(\"cn_fk\").alias(\"resource_fk\"),\n",
    "    pl.lit(heartbeat).alias(\"start_heartbeat\"),\n",
    "    pl.lit(MeasurementClass.SPAN.value).alias(\"concrete_type\"),\n",
    "    pl.lit(MeasurementPhase.ABC.value).alias(\"phase\"),\n",
    "    pl.lit(MeasurementColumn.DOUBLE.value).alias(\"column_type\"),\n",
    "    pl.lit(CONVENTIONAL_METER).alias(\"source_fk\"),\n",
    "    # pl.lit(60*60*24*365).alias(\"default_period\"),\n",
    "    pl.lit(ACTIVE_POWER).alias(\"measurement_type\"),\n",
    "    pl.lit(\"pu\").alias(\"unit_symbol\"),\n",
    "    pl.lit(1).alias(\"unit_multiplier\"),\n",
    "    c(\"Pload\").alias(\"double_value\"),\n",
    ")"
   ]
  },
  {
   "cell_type": "code",
   "execution_count": 205,
   "metadata": {},
   "outputs": [],
   "source": [
    "measurement_span = measurement.with_columns(\n",
    "    c(\"uuid\").alias(\"measurement_fk\"),\n",
    "    c(\"uuid\").pipe(generate_random_uuid).alias(\"uuid\"),\n",
    "    pl.lit(datetime(2022, 1, 1))\n",
    "    .dt.replace_time_zone(time_zone=\"Europe/Zurich\")\n",
    "    .dt.convert_time_zone(time_zone=\"UTC\")\n",
    "    .alias(\"start\"),\n",
    "    pl.lit(datetime(2023, 1, 1))\n",
    "    .dt.replace_time_zone(time_zone=\"Europe/Zurich\")\n",
    "    .dt.convert_time_zone(time_zone=\"UTC\")\n",
    "    .alias(\"end\"),\n",
    ")\n",
    "\n",
    "new_tables_pl: dict[str, pl.DataFrame] = {\n",
    "    \"Measurement\": measurement,\n",
    "    \"MeasurementSpan\": measurement_span,\n",
    "}\n",
    "changes_schema = add_table_to_changes_schema(\n",
    "    schema=changes_schema, new_tables_pl=new_tables_pl, raw_table_name=\"meter_id\"\n",
    ")"
   ]
  },
  {
   "cell_type": "code",
   "execution_count": 206,
   "metadata": {},
   "outputs": [
    {
     "data": {
      "text/html": [
       "<div><style>\n",
       ".dataframe > thead > tr,\n",
       ".dataframe > tbody > tr {\n",
       "  text-align: right;\n",
       "  white-space: pre-wrap;\n",
       "}\n",
       "</style>\n",
       "<small>shape: (58, 11)</small><table border=\"1\" class=\"dataframe\"><thead><tr><th>uuid</th><th>resource_fk</th><th>start_heartbeat</th><th>concrete_type</th><th>phase</th><th>column_type</th><th>source_fk</th><th>measurement_type</th><th>unit_symbol</th><th>unit_multiplier</th><th>double_value</th></tr><tr><td>str</td><td>str</td><td>datetime[μs, UTC]</td><td>str</td><td>str</td><td>str</td><td>str</td><td>str</td><td>str</td><td>i32</td><td>f64</td></tr></thead><tbody><tr><td>&quot;6eb00740-0338-4fde-9bae-fbe289…</td><td>&quot;df941fce-ceda-5874-ab63-5c8af9…</td><td>2025-01-06 12:23:06.741277 UTC</td><td>&quot;measurement_span&quot;</td><td>&quot;ABC&quot;</td><td>&quot;double_value&quot;</td><td>&quot;conventional_meter&quot;</td><td>&quot;active power&quot;</td><td>&quot;pu&quot;</td><td>1</td><td>null</td></tr><tr><td>&quot;ff20b736-46ce-474a-9954-01b9f1…</td><td>&quot;ba84d70a-80d7-590e-b112-f9c4b5…</td><td>2025-01-06 12:23:06.741277 UTC</td><td>&quot;measurement_span&quot;</td><td>&quot;ABC&quot;</td><td>&quot;double_value&quot;</td><td>&quot;conventional_meter&quot;</td><td>&quot;active power&quot;</td><td>&quot;pu&quot;</td><td>1</td><td>0.0</td></tr><tr><td>&quot;a6c1e66b-f371-4a23-ba5d-8e147b…</td><td>&quot;078656ed-79f8-53a1-a67a-bb8f53…</td><td>2025-01-06 12:23:06.741277 UTC</td><td>&quot;measurement_span&quot;</td><td>&quot;ABC&quot;</td><td>&quot;double_value&quot;</td><td>&quot;conventional_meter&quot;</td><td>&quot;active power&quot;</td><td>&quot;pu&quot;</td><td>1</td><td>0.0</td></tr><tr><td>&quot;0db0d29c-d681-44f8-8004-537790…</td><td>&quot;c2247320-9fc2-538a-ba64-3ac70e…</td><td>2025-01-06 12:23:06.741277 UTC</td><td>&quot;measurement_span&quot;</td><td>&quot;ABC&quot;</td><td>&quot;double_value&quot;</td><td>&quot;conventional_meter&quot;</td><td>&quot;active power&quot;</td><td>&quot;pu&quot;</td><td>1</td><td>0.0</td></tr><tr><td>&quot;fc43ef46-11d6-494f-8245-51688e…</td><td>&quot;af72457f-f983-5eeb-a635-0609f4…</td><td>2025-01-06 12:23:06.741277 UTC</td><td>&quot;measurement_span&quot;</td><td>&quot;ABC&quot;</td><td>&quot;double_value&quot;</td><td>&quot;conventional_meter&quot;</td><td>&quot;active power&quot;</td><td>&quot;pu&quot;</td><td>1</td><td>0.0</td></tr><tr><td>&hellip;</td><td>&hellip;</td><td>&hellip;</td><td>&hellip;</td><td>&hellip;</td><td>&hellip;</td><td>&hellip;</td><td>&hellip;</td><td>&hellip;</td><td>&hellip;</td><td>&hellip;</td></tr><tr><td>&quot;032a8c73-a507-4a50-b23f-f6b702…</td><td>&quot;4505ed8e-f087-5ee2-8c67-775daa…</td><td>2025-01-06 12:23:06.741277 UTC</td><td>&quot;measurement_span&quot;</td><td>&quot;ABC&quot;</td><td>&quot;double_value&quot;</td><td>&quot;conventional_meter&quot;</td><td>&quot;active power&quot;</td><td>&quot;pu&quot;</td><td>1</td><td>0.0</td></tr><tr><td>&quot;c32dd385-b0a0-40c9-b7b9-5aef26…</td><td>&quot;23bc00b6-0e27-5e6d-a02e-dda5e9…</td><td>2025-01-06 12:23:06.741277 UTC</td><td>&quot;measurement_span&quot;</td><td>&quot;ABC&quot;</td><td>&quot;double_value&quot;</td><td>&quot;conventional_meter&quot;</td><td>&quot;active power&quot;</td><td>&quot;pu&quot;</td><td>1</td><td>0.000035</td></tr><tr><td>&quot;fb904e18-4e5b-49e4-bf60-9d3181…</td><td>&quot;b1d51456-8036-5737-accc-1103d2…</td><td>2025-01-06 12:23:06.741277 UTC</td><td>&quot;measurement_span&quot;</td><td>&quot;ABC&quot;</td><td>&quot;double_value&quot;</td><td>&quot;conventional_meter&quot;</td><td>&quot;active power&quot;</td><td>&quot;pu&quot;</td><td>1</td><td>0.0</td></tr><tr><td>&quot;9a6a85ae-2fb1-47ac-be19-828e9d…</td><td>&quot;9bed56b6-83af-51ce-b629-9a787c…</td><td>2025-01-06 12:23:06.741277 UTC</td><td>&quot;measurement_span&quot;</td><td>&quot;ABC&quot;</td><td>&quot;double_value&quot;</td><td>&quot;conventional_meter&quot;</td><td>&quot;active power&quot;</td><td>&quot;pu&quot;</td><td>1</td><td>0.0</td></tr><tr><td>&quot;67a45848-d53f-415c-bd81-48b4d6…</td><td>&quot;e59041d7-eab1-5d24-9a64-86efa1…</td><td>2025-01-06 12:23:06.741277 UTC</td><td>&quot;measurement_span&quot;</td><td>&quot;ABC&quot;</td><td>&quot;double_value&quot;</td><td>&quot;conventional_meter&quot;</td><td>&quot;active power&quot;</td><td>&quot;pu&quot;</td><td>1</td><td>0.00004</td></tr></tbody></table></div>"
      ],
      "text/plain": [
       "shape: (58, 11)\n",
       "┌───────────┬───────────┬───────────┬───────────┬───┬───────────┬───────────┬───────────┬──────────┐\n",
       "│ uuid      ┆ resource_ ┆ start_hea ┆ concrete_ ┆ … ┆ measureme ┆ unit_symb ┆ unit_mult ┆ double_v │\n",
       "│ ---       ┆ fk        ┆ rtbeat    ┆ type      ┆   ┆ nt_type   ┆ ol        ┆ iplier    ┆ alue     │\n",
       "│ str       ┆ ---       ┆ ---       ┆ ---       ┆   ┆ ---       ┆ ---       ┆ ---       ┆ ---      │\n",
       "│           ┆ str       ┆ datetime[ ┆ str       ┆   ┆ str       ┆ str       ┆ i32       ┆ f64      │\n",
       "│           ┆           ┆ μs, UTC]  ┆           ┆   ┆           ┆           ┆           ┆          │\n",
       "╞═══════════╪═══════════╪═══════════╪═══════════╪═══╪═══════════╪═══════════╪═══════════╪══════════╡\n",
       "│ 6eb00740- ┆ df941fce- ┆ 2025-01-0 ┆ measureme ┆ … ┆ active    ┆ pu        ┆ 1         ┆ null     │\n",
       "│ 0338-4fde ┆ ceda-5874 ┆ 6 12:23:0 ┆ nt_span   ┆   ┆ power     ┆           ┆           ┆          │\n",
       "│ -9bae-fbe ┆ -ab63-5c8 ┆ 6.741277  ┆           ┆   ┆           ┆           ┆           ┆          │\n",
       "│ 289…      ┆ af9…      ┆ UTC       ┆           ┆   ┆           ┆           ┆           ┆          │\n",
       "│ ff20b736- ┆ ba84d70a- ┆ 2025-01-0 ┆ measureme ┆ … ┆ active    ┆ pu        ┆ 1         ┆ 0.0      │\n",
       "│ 46ce-474a ┆ 80d7-590e ┆ 6 12:23:0 ┆ nt_span   ┆   ┆ power     ┆           ┆           ┆          │\n",
       "│ -9954-01b ┆ -b112-f9c ┆ 6.741277  ┆           ┆   ┆           ┆           ┆           ┆          │\n",
       "│ 9f1…      ┆ 4b5…      ┆ UTC       ┆           ┆   ┆           ┆           ┆           ┆          │\n",
       "│ a6c1e66b- ┆ 078656ed- ┆ 2025-01-0 ┆ measureme ┆ … ┆ active    ┆ pu        ┆ 1         ┆ 0.0      │\n",
       "│ f371-4a23 ┆ 79f8-53a1 ┆ 6 12:23:0 ┆ nt_span   ┆   ┆ power     ┆           ┆           ┆          │\n",
       "│ -ba5d-8e1 ┆ -a67a-bb8 ┆ 6.741277  ┆           ┆   ┆           ┆           ┆           ┆          │\n",
       "│ 47b…      ┆ f53…      ┆ UTC       ┆           ┆   ┆           ┆           ┆           ┆          │\n",
       "│ 0db0d29c- ┆ c2247320- ┆ 2025-01-0 ┆ measureme ┆ … ┆ active    ┆ pu        ┆ 1         ┆ 0.0      │\n",
       "│ d681-44f8 ┆ 9fc2-538a ┆ 6 12:23:0 ┆ nt_span   ┆   ┆ power     ┆           ┆           ┆          │\n",
       "│ -8004-537 ┆ -ba64-3ac ┆ 6.741277  ┆           ┆   ┆           ┆           ┆           ┆          │\n",
       "│ 790…      ┆ 70e…      ┆ UTC       ┆           ┆   ┆           ┆           ┆           ┆          │\n",
       "│ fc43ef46- ┆ af72457f- ┆ 2025-01-0 ┆ measureme ┆ … ┆ active    ┆ pu        ┆ 1         ┆ 0.0      │\n",
       "│ 11d6-494f ┆ f983-5eeb ┆ 6 12:23:0 ┆ nt_span   ┆   ┆ power     ┆           ┆           ┆          │\n",
       "│ -8245-516 ┆ -a635-060 ┆ 6.741277  ┆           ┆   ┆           ┆           ┆           ┆          │\n",
       "│ 88e…      ┆ 9f4…      ┆ UTC       ┆           ┆   ┆           ┆           ┆           ┆          │\n",
       "│ …         ┆ …         ┆ …         ┆ …         ┆ … ┆ …         ┆ …         ┆ …         ┆ …        │\n",
       "│ 032a8c73- ┆ 4505ed8e- ┆ 2025-01-0 ┆ measureme ┆ … ┆ active    ┆ pu        ┆ 1         ┆ 0.0      │\n",
       "│ a507-4a50 ┆ f087-5ee2 ┆ 6 12:23:0 ┆ nt_span   ┆   ┆ power     ┆           ┆           ┆          │\n",
       "│ -b23f-f6b ┆ -8c67-775 ┆ 6.741277  ┆           ┆   ┆           ┆           ┆           ┆          │\n",
       "│ 702…      ┆ daa…      ┆ UTC       ┆           ┆   ┆           ┆           ┆           ┆          │\n",
       "│ c32dd385- ┆ 23bc00b6- ┆ 2025-01-0 ┆ measureme ┆ … ┆ active    ┆ pu        ┆ 1         ┆ 0.000035 │\n",
       "│ b0a0-40c9 ┆ 0e27-5e6d ┆ 6 12:23:0 ┆ nt_span   ┆   ┆ power     ┆           ┆           ┆          │\n",
       "│ -b7b9-5ae ┆ -a02e-dda ┆ 6.741277  ┆           ┆   ┆           ┆           ┆           ┆          │\n",
       "│ f26…      ┆ 5e9…      ┆ UTC       ┆           ┆   ┆           ┆           ┆           ┆          │\n",
       "│ fb904e18- ┆ b1d51456- ┆ 2025-01-0 ┆ measureme ┆ … ┆ active    ┆ pu        ┆ 1         ┆ 0.0      │\n",
       "│ 4e5b-49e4 ┆ 8036-5737 ┆ 6 12:23:0 ┆ nt_span   ┆   ┆ power     ┆           ┆           ┆          │\n",
       "│ -bf60-9d3 ┆ -accc-110 ┆ 6.741277  ┆           ┆   ┆           ┆           ┆           ┆          │\n",
       "│ 181…      ┆ 3d2…      ┆ UTC       ┆           ┆   ┆           ┆           ┆           ┆          │\n",
       "│ 9a6a85ae- ┆ 9bed56b6- ┆ 2025-01-0 ┆ measureme ┆ … ┆ active    ┆ pu        ┆ 1         ┆ 0.0      │\n",
       "│ 2fb1-47ac ┆ 83af-51ce ┆ 6 12:23:0 ┆ nt_span   ┆   ┆ power     ┆           ┆           ┆          │\n",
       "│ -be19-828 ┆ -b629-9a7 ┆ 6.741277  ┆           ┆   ┆           ┆           ┆           ┆          │\n",
       "│ e9d…      ┆ 87c…      ┆ UTC       ┆           ┆   ┆           ┆           ┆           ┆          │\n",
       "│ 67a45848- ┆ e59041d7- ┆ 2025-01-0 ┆ measureme ┆ … ┆ active    ┆ pu        ┆ 1         ┆ 0.00004  │\n",
       "│ d53f-415c ┆ eab1-5d24 ┆ 6 12:23:0 ┆ nt_span   ┆   ┆ power     ┆           ┆           ┆          │\n",
       "│ -bd81-48b ┆ -9a64-86e ┆ 6.741277  ┆           ┆   ┆           ┆           ┆           ┆          │\n",
       "│ 4d6…      ┆ fa1…      ┆ UTC       ┆           ┆   ┆           ┆           ┆           ┆          │\n",
       "└───────────┴───────────┴───────────┴───────────┴───┴───────────┴───────────┴───────────┴──────────┘"
      ]
     },
     "execution_count": 206,
     "metadata": {},
     "output_type": "execute_result"
    }
   ],
   "source": [
    "measurement"
   ]
  },
  {
   "cell_type": "markdown",
   "metadata": {},
   "source": [
    "Reactive power"
   ]
  },
  {
   "cell_type": "code",
   "execution_count": 209,
   "metadata": {},
   "outputs": [
    {
     "data": {
      "text/html": [
       "<div><style>\n",
       ".dataframe > thead > tr,\n",
       ".dataframe > tbody > tr {\n",
       "  text-align: right;\n",
       "  white-space: pre-wrap;\n",
       "}\n",
       "</style>\n",
       "<small>shape: (58, 20)</small><table border=\"1\" class=\"dataframe\"><thead><tr><th>diff</th><th>uuid</th><th>start_heartbeat</th><th>end_heartbeat</th><th>concrete_type</th><th>resource_fk</th><th>terminal_side</th><th>phase</th><th>measurement_type</th><th>unit_multiplier</th><th>unit_symbol</th><th>column_type</th><th>source_fk</th><th>sensor_accuracy</th><th>name</th><th>description</th><th>metadata</th><th>op_type</th><th>over_measurement_fk</th><th>default_period</th></tr><tr><td>str</td><td>str</td><td>datetime[μs, UTC]</td><td>datetime[μs, UTC]</td><td>str</td><td>str</td><td>str</td><td>str</td><td>str</td><td>i32</td><td>str</td><td>str</td><td>str</td><td>f64</td><td>str</td><td>str</td><td>str</td><td>str</td><td>str</td><td>i32</td></tr></thead><tbody><tr><td>&quot;+&quot;</td><td>&quot;6eb00740-0338-4fde-9bae-fbe289…</td><td>2025-01-06 12:23:06.741277 UTC</td><td>null</td><td>&quot;measurement_span&quot;</td><td>&quot;df941fce-ceda-5874-ab63-5c8af9…</td><td>null</td><td>&quot;ABC&quot;</td><td>&quot;active power&quot;</td><td>1</td><td>&quot;pu&quot;</td><td>&quot;double_value&quot;</td><td>&quot;conventional_meter&quot;</td><td>null</td><td>null</td><td>null</td><td>null</td><td>null</td><td>null</td><td>null</td></tr><tr><td>&quot;+&quot;</td><td>&quot;ff20b736-46ce-474a-9954-01b9f1…</td><td>2025-01-06 12:23:06.741277 UTC</td><td>null</td><td>&quot;measurement_span&quot;</td><td>&quot;ba84d70a-80d7-590e-b112-f9c4b5…</td><td>null</td><td>&quot;ABC&quot;</td><td>&quot;active power&quot;</td><td>1</td><td>&quot;pu&quot;</td><td>&quot;double_value&quot;</td><td>&quot;conventional_meter&quot;</td><td>null</td><td>null</td><td>null</td><td>null</td><td>null</td><td>null</td><td>null</td></tr><tr><td>&quot;+&quot;</td><td>&quot;a6c1e66b-f371-4a23-ba5d-8e147b…</td><td>2025-01-06 12:23:06.741277 UTC</td><td>null</td><td>&quot;measurement_span&quot;</td><td>&quot;078656ed-79f8-53a1-a67a-bb8f53…</td><td>null</td><td>&quot;ABC&quot;</td><td>&quot;active power&quot;</td><td>1</td><td>&quot;pu&quot;</td><td>&quot;double_value&quot;</td><td>&quot;conventional_meter&quot;</td><td>null</td><td>null</td><td>null</td><td>null</td><td>null</td><td>null</td><td>null</td></tr><tr><td>&quot;+&quot;</td><td>&quot;0db0d29c-d681-44f8-8004-537790…</td><td>2025-01-06 12:23:06.741277 UTC</td><td>null</td><td>&quot;measurement_span&quot;</td><td>&quot;c2247320-9fc2-538a-ba64-3ac70e…</td><td>null</td><td>&quot;ABC&quot;</td><td>&quot;active power&quot;</td><td>1</td><td>&quot;pu&quot;</td><td>&quot;double_value&quot;</td><td>&quot;conventional_meter&quot;</td><td>null</td><td>null</td><td>null</td><td>null</td><td>null</td><td>null</td><td>null</td></tr><tr><td>&quot;+&quot;</td><td>&quot;fc43ef46-11d6-494f-8245-51688e…</td><td>2025-01-06 12:23:06.741277 UTC</td><td>null</td><td>&quot;measurement_span&quot;</td><td>&quot;af72457f-f983-5eeb-a635-0609f4…</td><td>null</td><td>&quot;ABC&quot;</td><td>&quot;active power&quot;</td><td>1</td><td>&quot;pu&quot;</td><td>&quot;double_value&quot;</td><td>&quot;conventional_meter&quot;</td><td>null</td><td>null</td><td>null</td><td>null</td><td>null</td><td>null</td><td>null</td></tr><tr><td>&hellip;</td><td>&hellip;</td><td>&hellip;</td><td>&hellip;</td><td>&hellip;</td><td>&hellip;</td><td>&hellip;</td><td>&hellip;</td><td>&hellip;</td><td>&hellip;</td><td>&hellip;</td><td>&hellip;</td><td>&hellip;</td><td>&hellip;</td><td>&hellip;</td><td>&hellip;</td><td>&hellip;</td><td>&hellip;</td><td>&hellip;</td><td>&hellip;</td></tr><tr><td>&quot;+&quot;</td><td>&quot;032a8c73-a507-4a50-b23f-f6b702…</td><td>2025-01-06 12:23:06.741277 UTC</td><td>null</td><td>&quot;measurement_span&quot;</td><td>&quot;4505ed8e-f087-5ee2-8c67-775daa…</td><td>null</td><td>&quot;ABC&quot;</td><td>&quot;active power&quot;</td><td>1</td><td>&quot;pu&quot;</td><td>&quot;double_value&quot;</td><td>&quot;conventional_meter&quot;</td><td>null</td><td>null</td><td>null</td><td>null</td><td>null</td><td>null</td><td>null</td></tr><tr><td>&quot;+&quot;</td><td>&quot;c32dd385-b0a0-40c9-b7b9-5aef26…</td><td>2025-01-06 12:23:06.741277 UTC</td><td>null</td><td>&quot;measurement_span&quot;</td><td>&quot;23bc00b6-0e27-5e6d-a02e-dda5e9…</td><td>null</td><td>&quot;ABC&quot;</td><td>&quot;active power&quot;</td><td>1</td><td>&quot;pu&quot;</td><td>&quot;double_value&quot;</td><td>&quot;conventional_meter&quot;</td><td>null</td><td>null</td><td>null</td><td>null</td><td>null</td><td>null</td><td>null</td></tr><tr><td>&quot;+&quot;</td><td>&quot;fb904e18-4e5b-49e4-bf60-9d3181…</td><td>2025-01-06 12:23:06.741277 UTC</td><td>null</td><td>&quot;measurement_span&quot;</td><td>&quot;b1d51456-8036-5737-accc-1103d2…</td><td>null</td><td>&quot;ABC&quot;</td><td>&quot;active power&quot;</td><td>1</td><td>&quot;pu&quot;</td><td>&quot;double_value&quot;</td><td>&quot;conventional_meter&quot;</td><td>null</td><td>null</td><td>null</td><td>null</td><td>null</td><td>null</td><td>null</td></tr><tr><td>&quot;+&quot;</td><td>&quot;9a6a85ae-2fb1-47ac-be19-828e9d…</td><td>2025-01-06 12:23:06.741277 UTC</td><td>null</td><td>&quot;measurement_span&quot;</td><td>&quot;9bed56b6-83af-51ce-b629-9a787c…</td><td>null</td><td>&quot;ABC&quot;</td><td>&quot;active power&quot;</td><td>1</td><td>&quot;pu&quot;</td><td>&quot;double_value&quot;</td><td>&quot;conventional_meter&quot;</td><td>null</td><td>null</td><td>null</td><td>null</td><td>null</td><td>null</td><td>null</td></tr><tr><td>&quot;+&quot;</td><td>&quot;67a45848-d53f-415c-bd81-48b4d6…</td><td>2025-01-06 12:23:06.741277 UTC</td><td>null</td><td>&quot;measurement_span&quot;</td><td>&quot;e59041d7-eab1-5d24-9a64-86efa1…</td><td>null</td><td>&quot;ABC&quot;</td><td>&quot;active power&quot;</td><td>1</td><td>&quot;pu&quot;</td><td>&quot;double_value&quot;</td><td>&quot;conventional_meter&quot;</td><td>null</td><td>null</td><td>null</td><td>null</td><td>null</td><td>null</td><td>null</td></tr></tbody></table></div>"
      ],
      "text/plain": [
       "shape: (58, 20)\n",
       "┌──────┬─────────────┬─────────────┬────────────┬───┬──────────┬─────────┬────────────┬────────────┐\n",
       "│ diff ┆ uuid        ┆ start_heart ┆ end_heartb ┆ … ┆ metadata ┆ op_type ┆ over_measu ┆ default_pe │\n",
       "│ ---  ┆ ---         ┆ beat        ┆ eat        ┆   ┆ ---      ┆ ---     ┆ rement_fk  ┆ riod       │\n",
       "│ str  ┆ str         ┆ ---         ┆ ---        ┆   ┆ str      ┆ str     ┆ ---        ┆ ---        │\n",
       "│      ┆             ┆ datetime[μs ┆ datetime[μ ┆   ┆          ┆         ┆ str        ┆ i32        │\n",
       "│      ┆             ┆ , UTC]      ┆ s, UTC]    ┆   ┆          ┆         ┆            ┆            │\n",
       "╞══════╪═════════════╪═════════════╪════════════╪═══╪══════════╪═════════╪════════════╪════════════╡\n",
       "│ +    ┆ 6eb00740-03 ┆ 2025-01-06  ┆ null       ┆ … ┆ null     ┆ null    ┆ null       ┆ null       │\n",
       "│      ┆ 38-4fde-9ba ┆ 12:23:06.74 ┆            ┆   ┆          ┆         ┆            ┆            │\n",
       "│      ┆ e-fbe289…   ┆ 1277 UTC    ┆            ┆   ┆          ┆         ┆            ┆            │\n",
       "│ +    ┆ ff20b736-46 ┆ 2025-01-06  ┆ null       ┆ … ┆ null     ┆ null    ┆ null       ┆ null       │\n",
       "│      ┆ ce-474a-995 ┆ 12:23:06.74 ┆            ┆   ┆          ┆         ┆            ┆            │\n",
       "│      ┆ 4-01b9f1…   ┆ 1277 UTC    ┆            ┆   ┆          ┆         ┆            ┆            │\n",
       "│ +    ┆ a6c1e66b-f3 ┆ 2025-01-06  ┆ null       ┆ … ┆ null     ┆ null    ┆ null       ┆ null       │\n",
       "│      ┆ 71-4a23-ba5 ┆ 12:23:06.74 ┆            ┆   ┆          ┆         ┆            ┆            │\n",
       "│      ┆ d-8e147b…   ┆ 1277 UTC    ┆            ┆   ┆          ┆         ┆            ┆            │\n",
       "│ +    ┆ 0db0d29c-d6 ┆ 2025-01-06  ┆ null       ┆ … ┆ null     ┆ null    ┆ null       ┆ null       │\n",
       "│      ┆ 81-44f8-800 ┆ 12:23:06.74 ┆            ┆   ┆          ┆         ┆            ┆            │\n",
       "│      ┆ 4-537790…   ┆ 1277 UTC    ┆            ┆   ┆          ┆         ┆            ┆            │\n",
       "│ +    ┆ fc43ef46-11 ┆ 2025-01-06  ┆ null       ┆ … ┆ null     ┆ null    ┆ null       ┆ null       │\n",
       "│      ┆ d6-494f-824 ┆ 12:23:06.74 ┆            ┆   ┆          ┆         ┆            ┆            │\n",
       "│      ┆ 5-51688e…   ┆ 1277 UTC    ┆            ┆   ┆          ┆         ┆            ┆            │\n",
       "│ …    ┆ …           ┆ …           ┆ …          ┆ … ┆ …        ┆ …       ┆ …          ┆ …          │\n",
       "│ +    ┆ 032a8c73-a5 ┆ 2025-01-06  ┆ null       ┆ … ┆ null     ┆ null    ┆ null       ┆ null       │\n",
       "│      ┆ 07-4a50-b23 ┆ 12:23:06.74 ┆            ┆   ┆          ┆         ┆            ┆            │\n",
       "│      ┆ f-f6b702…   ┆ 1277 UTC    ┆            ┆   ┆          ┆         ┆            ┆            │\n",
       "│ +    ┆ c32dd385-b0 ┆ 2025-01-06  ┆ null       ┆ … ┆ null     ┆ null    ┆ null       ┆ null       │\n",
       "│      ┆ a0-40c9-b7b ┆ 12:23:06.74 ┆            ┆   ┆          ┆         ┆            ┆            │\n",
       "│      ┆ 9-5aef26…   ┆ 1277 UTC    ┆            ┆   ┆          ┆         ┆            ┆            │\n",
       "│ +    ┆ fb904e18-4e ┆ 2025-01-06  ┆ null       ┆ … ┆ null     ┆ null    ┆ null       ┆ null       │\n",
       "│      ┆ 5b-49e4-bf6 ┆ 12:23:06.74 ┆            ┆   ┆          ┆         ┆            ┆            │\n",
       "│      ┆ 0-9d3181…   ┆ 1277 UTC    ┆            ┆   ┆          ┆         ┆            ┆            │\n",
       "│ +    ┆ 9a6a85ae-2f ┆ 2025-01-06  ┆ null       ┆ … ┆ null     ┆ null    ┆ null       ┆ null       │\n",
       "│      ┆ b1-47ac-be1 ┆ 12:23:06.74 ┆            ┆   ┆          ┆         ┆            ┆            │\n",
       "│      ┆ 9-828e9d…   ┆ 1277 UTC    ┆            ┆   ┆          ┆         ┆            ┆            │\n",
       "│ +    ┆ 67a45848-d5 ┆ 2025-01-06  ┆ null       ┆ … ┆ null     ┆ null    ┆ null       ┆ null       │\n",
       "│      ┆ 3f-415c-bd8 ┆ 12:23:06.74 ┆            ┆   ┆          ┆         ┆            ┆            │\n",
       "│      ┆ 1-48b4d6…   ┆ 1277 UTC    ┆            ┆   ┆          ┆         ┆            ┆            │\n",
       "└──────┴─────────────┴─────────────┴────────────┴───┴──────────┴─────────┴────────────┴────────────┘"
      ]
     },
     "execution_count": 209,
     "metadata": {},
     "output_type": "execute_result"
    }
   ],
   "source": [
    "# changes_schema.connectivity\n",
    "# changes_schema.measurement[\"resource_fk\"][0]\n",
    "# changes_schema.branch.filter(c(\"uuid\") == \"df941fce-ceda-5874-ab63-5c8af9bec38b\")\n",
    "# changes_schema.connectivity.filter(\n",
    "#     c(\"cn_fk\").is_in(changes_schema.measurement[\"resource_fk\"])\n",
    "# )\n",
    "changes_schema.measurement"
   ]
  },
  {
   "cell_type": "code",
   "execution_count": 210,
   "metadata": {},
   "outputs": [
    {
     "data": {
      "text/plain": [
       "['heartbeat',\n",
       " 'resource',\n",
       " 'equipment',\n",
       " 'terminal',\n",
       " 'busbar_section',\n",
       " 'branch',\n",
       " 'branch_parameter_event',\n",
       " 'geo_event',\n",
       " 'switch',\n",
       " 'switch_event',\n",
       " 'transformer',\n",
       " 'transformer_end',\n",
       " 'transformer_parameter_event',\n",
       " 'tap',\n",
       " 'tap_event',\n",
       " 'bess',\n",
       " 'energy_consumer',\n",
       " 'external_network',\n",
       " 'generating_unit',\n",
       " 'container',\n",
       " 'client',\n",
       " 'substation',\n",
       " 'base_voltage',\n",
       " 'connectivity_node',\n",
       " 'connectivity',\n",
       " 'measurement',\n",
       " 'measurement_point',\n",
       " 'measurement_span']"
      ]
     },
     "execution_count": 210,
     "metadata": {},
     "output_type": "execute_result"
    }
   ],
   "source": [
    "list(changes_schema.__dict__.keys())"
   ]
  },
  {
   "cell_type": "markdown",
   "metadata": {},
   "source": [
    "## Switch"
   ]
  },
  {
   "cell_type": "code",
   "execution_count": 211,
   "metadata": {},
   "outputs": [],
   "source": [
    "# Filter to take only switch, connection_type == 3\n",
    "switch = linedata_distflow.filter(c(\"connection_type\") == 3).select(\n",
    "    c(\"line_number\").alias(\"dso_code\"),\n",
    "    pl.lit(SWITCH).alias(\"concrete_class\"),\n",
    "    pl.lit(default_install_date).alias(\"start\"),\n",
    "    pl.lit(heartbeat).alias(\"start_heartbeat\"),\n",
    "    pl.lit(switch_state).alias(\"normal_open\"),\n",
    "    pl.lit(switch_type).alias(\"type\"),\n",
    "    pl.lit(switch_command).alias(\"command\"),\n",
    "    # Generate uuid for each terminal of branch with node uuid\n",
    "    c(\"node_from\").replace_strict(connectivity_node, default=None).alias(\"t1\"),\n",
    "    c(\"node_to\").replace_strict(connectivity_node, default=None).alias(\"t2\"),\n",
    "    # Need column name for validation of the schema\n",
    "    pl.lit(None).alias(\"t1_container_fk\"),\n",
    "    pl.lit(None).alias(\"t2_container_fk\"),\n",
    "    c(\"line_number\").pipe(generate_uuid_col, added_string=SWITCH).alias(\"uuid\"),\n",
    ")\n",
    "new_tables_pl: dict[str, pl.DataFrame] = {\n",
    "    \"Resource\": switch,\n",
    "    \"Equipment\": switch,\n",
    "    \"Switch\": switch,\n",
    "}\n",
    "changes_schema = add_table_to_changes_schema(\n",
    "    schema=changes_schema, new_tables_pl=new_tables_pl, raw_table_name=\"switch\"\n",
    ")\n",
    "changes_schema = generate_connectivity_table(\n",
    "    changes_schema=changes_schema, eq_table=switch, raw_data_table=\"switch\"\n",
    ")"
   ]
  },
  {
   "cell_type": "code",
   "execution_count": 212,
   "metadata": {},
   "outputs": [
    {
     "data": {
      "text/plain": [
       "'2020-03-27 23:00:00+00:00'"
      ]
     },
     "execution_count": 212,
     "metadata": {},
     "output_type": "execute_result"
    }
   ],
   "source": [
    "# Begin time of the data from matlab (from main_FC.ipynb before)\n",
    "str(datetime(2020, 4, 4, 23, 00, 0, 0, UTC) - dt.timedelta(hours=192))"
   ]
  },
  {
   "cell_type": "markdown",
   "metadata": {},
   "source": [
    "## Parser"
   ]
  },
  {
   "cell_type": "code",
   "execution_count": 213,
   "metadata": {},
   "outputs": [
    {
     "data": {
      "text/html": [
       "<div><style>\n",
       ".dataframe > thead > tr,\n",
       ".dataframe > tbody > tr {\n",
       "  text-align: right;\n",
       "  white-space: pre-wrap;\n",
       "}\n",
       "</style>\n",
       "<small>shape: (58, 5)</small><table border=\"1\" class=\"dataframe\"><thead><tr><th>node_number</th><th>Vnom</th><th>Pload</th><th>Qload</th><th>cn_fk</th></tr><tr><td>i64</td><td>i64</td><td>f64</td><td>f64</td><td>str</td></tr></thead><tbody><tr><td>0</td><td>400</td><td>null</td><td>null</td><td>&quot;df941fce-ceda-5874-ab63-5c8af9…</td></tr><tr><td>1</td><td>400</td><td>0.0</td><td>0.0</td><td>&quot;ba84d70a-80d7-590e-b112-f9c4b5…</td></tr><tr><td>2</td><td>400</td><td>0.0</td><td>0.0</td><td>&quot;078656ed-79f8-53a1-a67a-bb8f53…</td></tr><tr><td>3</td><td>400</td><td>0.0</td><td>0.0</td><td>&quot;c2247320-9fc2-538a-ba64-3ac70e…</td></tr><tr><td>4</td><td>400</td><td>0.0</td><td>0.0</td><td>&quot;af72457f-f983-5eeb-a635-0609f4…</td></tr><tr><td>&hellip;</td><td>&hellip;</td><td>&hellip;</td><td>&hellip;</td><td>&hellip;</td></tr><tr><td>53</td><td>400</td><td>0.0</td><td>0.0</td><td>&quot;4505ed8e-f087-5ee2-8c67-775daa…</td></tr><tr><td>54</td><td>400</td><td>0.000035</td><td>-0.000012</td><td>&quot;23bc00b6-0e27-5e6d-a02e-dda5e9…</td></tr><tr><td>55</td><td>400</td><td>0.0</td><td>0.0</td><td>&quot;b1d51456-8036-5737-accc-1103d2…</td></tr><tr><td>56</td><td>400</td><td>0.0</td><td>0.0</td><td>&quot;9bed56b6-83af-51ce-b629-9a787c…</td></tr><tr><td>57</td><td>400</td><td>0.00004</td><td>-0.000013</td><td>&quot;e59041d7-eab1-5d24-9a64-86efa1…</td></tr></tbody></table></div>"
      ],
      "text/plain": [
       "shape: (58, 5)\n",
       "┌─────────────┬──────┬──────────┬───────────┬─────────────────────────────────┐\n",
       "│ node_number ┆ Vnom ┆ Pload    ┆ Qload     ┆ cn_fk                           │\n",
       "│ ---         ┆ ---  ┆ ---      ┆ ---       ┆ ---                             │\n",
       "│ i64         ┆ i64  ┆ f64      ┆ f64       ┆ str                             │\n",
       "╞═════════════╪══════╪══════════╪═══════════╪═════════════════════════════════╡\n",
       "│ 0           ┆ 400  ┆ null     ┆ null      ┆ df941fce-ceda-5874-ab63-5c8af9… │\n",
       "│ 1           ┆ 400  ┆ 0.0      ┆ 0.0       ┆ ba84d70a-80d7-590e-b112-f9c4b5… │\n",
       "│ 2           ┆ 400  ┆ 0.0      ┆ 0.0       ┆ 078656ed-79f8-53a1-a67a-bb8f53… │\n",
       "│ 3           ┆ 400  ┆ 0.0      ┆ 0.0       ┆ c2247320-9fc2-538a-ba64-3ac70e… │\n",
       "│ 4           ┆ 400  ┆ 0.0      ┆ 0.0       ┆ af72457f-f983-5eeb-a635-0609f4… │\n",
       "│ …           ┆ …    ┆ …        ┆ …         ┆ …                               │\n",
       "│ 53          ┆ 400  ┆ 0.0      ┆ 0.0       ┆ 4505ed8e-f087-5ee2-8c67-775daa… │\n",
       "│ 54          ┆ 400  ┆ 0.000035 ┆ -0.000012 ┆ 23bc00b6-0e27-5e6d-a02e-dda5e9… │\n",
       "│ 55          ┆ 400  ┆ 0.0      ┆ 0.0       ┆ b1d51456-8036-5737-accc-1103d2… │\n",
       "│ 56          ┆ 400  ┆ 0.0      ┆ 0.0       ┆ 9bed56b6-83af-51ce-b629-9a787c… │\n",
       "│ 57          ┆ 400  ┆ 0.00004  ┆ -0.000013 ┆ e59041d7-eab1-5d24-9a64-86efa1… │\n",
       "└─────────────┴──────┴──────────┴───────────┴─────────────────────────────────┘"
      ]
     },
     "execution_count": 213,
     "metadata": {},
     "output_type": "execute_result"
    }
   ],
   "source": [
    "# Parse connectivity node\n",
    "df_topology"
   ]
  },
  {
   "cell_type": "code",
   "execution_count": 214,
   "metadata": {},
   "outputs": [],
   "source": [
    "def parse_connectivity_node(\n",
    "    topology_df: pl.DataFrame, changes_schema: ChangesSchema, **kwargs\n",
    ") -> ChangesSchema:\n",
    "\n",
    "    cn_voltage_mapping: dict[str, float] = pl_to_dict(\n",
    "        topology_df.filter(c(\"KEYWORD\") != \"TR2\")\n",
    "        .unpivot(\n",
    "            index=[\"UN\"], on=[\"t1\", \"t2\"], value_name=\"cn_fk\", variable_name=\"side\"\n",
    "        )\n",
    "        .drop_nulls(\"cn_fk\")\n",
    "        .group_by(\"cn_fk\")\n",
    "        .agg(c(\"UN\").drop_nulls().first())\n",
    "        .drop_nulls(\"UN\")[[\"cn_fk\", \"UN\"]]\n",
    "    )\n",
    "    node = topology_df.filter(c(\"KEYWORD\") == \"NODE\").with_columns(\n",
    "        (1e3 * c(\"uuid\").replace_strict(cn_voltage_mapping, default=c(\"UN\")))\n",
    "        .cast(pl.Int32)\n",
    "        .alias(\"base_voltage_fk\"),  # kV to V\n",
    "    )\n",
    "\n",
    "    changes_schema = add_table_to_changes_schema(\n",
    "        schema=changes_schema,\n",
    "        new_tables_pl={\"ConnectivityNode\": node},\n",
    "        raw_table_name=\"ConnectivityNode\",\n",
    "    )\n",
    "    return changes_schema"
   ]
  },
  {
   "cell_type": "markdown",
   "metadata": {},
   "source": [
    "## Distflow"
   ]
  },
  {
   "cell_type": "code",
   "execution_count": 215,
   "metadata": {},
   "outputs": [
    {
     "data": {
      "text/plain": [
       "['heartbeat',\n",
       " 'resource',\n",
       " 'equipment',\n",
       " 'terminal',\n",
       " 'busbar_section',\n",
       " 'branch',\n",
       " 'branch_parameter_event',\n",
       " 'geo_event',\n",
       " 'switch',\n",
       " 'switch_event',\n",
       " 'transformer',\n",
       " 'transformer_end',\n",
       " 'transformer_parameter_event',\n",
       " 'tap',\n",
       " 'tap_event',\n",
       " 'bess',\n",
       " 'energy_consumer',\n",
       " 'external_network',\n",
       " 'generating_unit',\n",
       " 'container',\n",
       " 'client',\n",
       " 'substation',\n",
       " 'base_voltage',\n",
       " 'connectivity_node',\n",
       " 'connectivity',\n",
       " 'measurement',\n",
       " 'measurement_point',\n",
       " 'measurement_span']"
      ]
     },
     "execution_count": 215,
     "metadata": {},
     "output_type": "execute_result"
    }
   ],
   "source": [
    "list(changes_schema.__dict__.keys())"
   ]
  },
  {
   "cell_type": "code",
   "execution_count": 216,
   "metadata": {},
   "outputs": [
    {
     "data": {
      "text/html": [
       "<div><style>\n",
       ".dataframe > thead > tr,\n",
       ".dataframe > tbody > tr {\n",
       "  text-align: right;\n",
       "  white-space: pre-wrap;\n",
       "}\n",
       "</style>\n",
       "<small>shape: (58, 20)</small><table border=\"1\" class=\"dataframe\"><thead><tr><th>diff</th><th>uuid</th><th>start_heartbeat</th><th>end_heartbeat</th><th>concrete_type</th><th>resource_fk</th><th>terminal_side</th><th>phase</th><th>measurement_type</th><th>unit_multiplier</th><th>unit_symbol</th><th>column_type</th><th>source_fk</th><th>sensor_accuracy</th><th>name</th><th>description</th><th>metadata</th><th>op_type</th><th>over_measurement_fk</th><th>default_period</th></tr><tr><td>str</td><td>str</td><td>datetime[μs, UTC]</td><td>datetime[μs, UTC]</td><td>str</td><td>str</td><td>str</td><td>str</td><td>str</td><td>i32</td><td>str</td><td>str</td><td>str</td><td>f64</td><td>str</td><td>str</td><td>str</td><td>str</td><td>str</td><td>i32</td></tr></thead><tbody><tr><td>&quot;+&quot;</td><td>&quot;6eb00740-0338-4fde-9bae-fbe289…</td><td>2025-01-06 12:23:06.741277 UTC</td><td>null</td><td>&quot;measurement_span&quot;</td><td>&quot;df941fce-ceda-5874-ab63-5c8af9…</td><td>null</td><td>&quot;ABC&quot;</td><td>&quot;active power&quot;</td><td>1</td><td>&quot;pu&quot;</td><td>&quot;double_value&quot;</td><td>&quot;conventional_meter&quot;</td><td>null</td><td>null</td><td>null</td><td>null</td><td>null</td><td>null</td><td>null</td></tr><tr><td>&quot;+&quot;</td><td>&quot;ff20b736-46ce-474a-9954-01b9f1…</td><td>2025-01-06 12:23:06.741277 UTC</td><td>null</td><td>&quot;measurement_span&quot;</td><td>&quot;ba84d70a-80d7-590e-b112-f9c4b5…</td><td>null</td><td>&quot;ABC&quot;</td><td>&quot;active power&quot;</td><td>1</td><td>&quot;pu&quot;</td><td>&quot;double_value&quot;</td><td>&quot;conventional_meter&quot;</td><td>null</td><td>null</td><td>null</td><td>null</td><td>null</td><td>null</td><td>null</td></tr><tr><td>&quot;+&quot;</td><td>&quot;a6c1e66b-f371-4a23-ba5d-8e147b…</td><td>2025-01-06 12:23:06.741277 UTC</td><td>null</td><td>&quot;measurement_span&quot;</td><td>&quot;078656ed-79f8-53a1-a67a-bb8f53…</td><td>null</td><td>&quot;ABC&quot;</td><td>&quot;active power&quot;</td><td>1</td><td>&quot;pu&quot;</td><td>&quot;double_value&quot;</td><td>&quot;conventional_meter&quot;</td><td>null</td><td>null</td><td>null</td><td>null</td><td>null</td><td>null</td><td>null</td></tr><tr><td>&quot;+&quot;</td><td>&quot;0db0d29c-d681-44f8-8004-537790…</td><td>2025-01-06 12:23:06.741277 UTC</td><td>null</td><td>&quot;measurement_span&quot;</td><td>&quot;c2247320-9fc2-538a-ba64-3ac70e…</td><td>null</td><td>&quot;ABC&quot;</td><td>&quot;active power&quot;</td><td>1</td><td>&quot;pu&quot;</td><td>&quot;double_value&quot;</td><td>&quot;conventional_meter&quot;</td><td>null</td><td>null</td><td>null</td><td>null</td><td>null</td><td>null</td><td>null</td></tr><tr><td>&quot;+&quot;</td><td>&quot;fc43ef46-11d6-494f-8245-51688e…</td><td>2025-01-06 12:23:06.741277 UTC</td><td>null</td><td>&quot;measurement_span&quot;</td><td>&quot;af72457f-f983-5eeb-a635-0609f4…</td><td>null</td><td>&quot;ABC&quot;</td><td>&quot;active power&quot;</td><td>1</td><td>&quot;pu&quot;</td><td>&quot;double_value&quot;</td><td>&quot;conventional_meter&quot;</td><td>null</td><td>null</td><td>null</td><td>null</td><td>null</td><td>null</td><td>null</td></tr><tr><td>&hellip;</td><td>&hellip;</td><td>&hellip;</td><td>&hellip;</td><td>&hellip;</td><td>&hellip;</td><td>&hellip;</td><td>&hellip;</td><td>&hellip;</td><td>&hellip;</td><td>&hellip;</td><td>&hellip;</td><td>&hellip;</td><td>&hellip;</td><td>&hellip;</td><td>&hellip;</td><td>&hellip;</td><td>&hellip;</td><td>&hellip;</td><td>&hellip;</td></tr><tr><td>&quot;+&quot;</td><td>&quot;032a8c73-a507-4a50-b23f-f6b702…</td><td>2025-01-06 12:23:06.741277 UTC</td><td>null</td><td>&quot;measurement_span&quot;</td><td>&quot;4505ed8e-f087-5ee2-8c67-775daa…</td><td>null</td><td>&quot;ABC&quot;</td><td>&quot;active power&quot;</td><td>1</td><td>&quot;pu&quot;</td><td>&quot;double_value&quot;</td><td>&quot;conventional_meter&quot;</td><td>null</td><td>null</td><td>null</td><td>null</td><td>null</td><td>null</td><td>null</td></tr><tr><td>&quot;+&quot;</td><td>&quot;c32dd385-b0a0-40c9-b7b9-5aef26…</td><td>2025-01-06 12:23:06.741277 UTC</td><td>null</td><td>&quot;measurement_span&quot;</td><td>&quot;23bc00b6-0e27-5e6d-a02e-dda5e9…</td><td>null</td><td>&quot;ABC&quot;</td><td>&quot;active power&quot;</td><td>1</td><td>&quot;pu&quot;</td><td>&quot;double_value&quot;</td><td>&quot;conventional_meter&quot;</td><td>null</td><td>null</td><td>null</td><td>null</td><td>null</td><td>null</td><td>null</td></tr><tr><td>&quot;+&quot;</td><td>&quot;fb904e18-4e5b-49e4-bf60-9d3181…</td><td>2025-01-06 12:23:06.741277 UTC</td><td>null</td><td>&quot;measurement_span&quot;</td><td>&quot;b1d51456-8036-5737-accc-1103d2…</td><td>null</td><td>&quot;ABC&quot;</td><td>&quot;active power&quot;</td><td>1</td><td>&quot;pu&quot;</td><td>&quot;double_value&quot;</td><td>&quot;conventional_meter&quot;</td><td>null</td><td>null</td><td>null</td><td>null</td><td>null</td><td>null</td><td>null</td></tr><tr><td>&quot;+&quot;</td><td>&quot;9a6a85ae-2fb1-47ac-be19-828e9d…</td><td>2025-01-06 12:23:06.741277 UTC</td><td>null</td><td>&quot;measurement_span&quot;</td><td>&quot;9bed56b6-83af-51ce-b629-9a787c…</td><td>null</td><td>&quot;ABC&quot;</td><td>&quot;active power&quot;</td><td>1</td><td>&quot;pu&quot;</td><td>&quot;double_value&quot;</td><td>&quot;conventional_meter&quot;</td><td>null</td><td>null</td><td>null</td><td>null</td><td>null</td><td>null</td><td>null</td></tr><tr><td>&quot;+&quot;</td><td>&quot;67a45848-d53f-415c-bd81-48b4d6…</td><td>2025-01-06 12:23:06.741277 UTC</td><td>null</td><td>&quot;measurement_span&quot;</td><td>&quot;e59041d7-eab1-5d24-9a64-86efa1…</td><td>null</td><td>&quot;ABC&quot;</td><td>&quot;active power&quot;</td><td>1</td><td>&quot;pu&quot;</td><td>&quot;double_value&quot;</td><td>&quot;conventional_meter&quot;</td><td>null</td><td>null</td><td>null</td><td>null</td><td>null</td><td>null</td><td>null</td></tr></tbody></table></div>"
      ],
      "text/plain": [
       "shape: (58, 20)\n",
       "┌──────┬─────────────┬─────────────┬────────────┬───┬──────────┬─────────┬────────────┬────────────┐\n",
       "│ diff ┆ uuid        ┆ start_heart ┆ end_heartb ┆ … ┆ metadata ┆ op_type ┆ over_measu ┆ default_pe │\n",
       "│ ---  ┆ ---         ┆ beat        ┆ eat        ┆   ┆ ---      ┆ ---     ┆ rement_fk  ┆ riod       │\n",
       "│ str  ┆ str         ┆ ---         ┆ ---        ┆   ┆ str      ┆ str     ┆ ---        ┆ ---        │\n",
       "│      ┆             ┆ datetime[μs ┆ datetime[μ ┆   ┆          ┆         ┆ str        ┆ i32        │\n",
       "│      ┆             ┆ , UTC]      ┆ s, UTC]    ┆   ┆          ┆         ┆            ┆            │\n",
       "╞══════╪═════════════╪═════════════╪════════════╪═══╪══════════╪═════════╪════════════╪════════════╡\n",
       "│ +    ┆ 6eb00740-03 ┆ 2025-01-06  ┆ null       ┆ … ┆ null     ┆ null    ┆ null       ┆ null       │\n",
       "│      ┆ 38-4fde-9ba ┆ 12:23:06.74 ┆            ┆   ┆          ┆         ┆            ┆            │\n",
       "│      ┆ e-fbe289…   ┆ 1277 UTC    ┆            ┆   ┆          ┆         ┆            ┆            │\n",
       "│ +    ┆ ff20b736-46 ┆ 2025-01-06  ┆ null       ┆ … ┆ null     ┆ null    ┆ null       ┆ null       │\n",
       "│      ┆ ce-474a-995 ┆ 12:23:06.74 ┆            ┆   ┆          ┆         ┆            ┆            │\n",
       "│      ┆ 4-01b9f1…   ┆ 1277 UTC    ┆            ┆   ┆          ┆         ┆            ┆            │\n",
       "│ +    ┆ a6c1e66b-f3 ┆ 2025-01-06  ┆ null       ┆ … ┆ null     ┆ null    ┆ null       ┆ null       │\n",
       "│      ┆ 71-4a23-ba5 ┆ 12:23:06.74 ┆            ┆   ┆          ┆         ┆            ┆            │\n",
       "│      ┆ d-8e147b…   ┆ 1277 UTC    ┆            ┆   ┆          ┆         ┆            ┆            │\n",
       "│ +    ┆ 0db0d29c-d6 ┆ 2025-01-06  ┆ null       ┆ … ┆ null     ┆ null    ┆ null       ┆ null       │\n",
       "│      ┆ 81-44f8-800 ┆ 12:23:06.74 ┆            ┆   ┆          ┆         ┆            ┆            │\n",
       "│      ┆ 4-537790…   ┆ 1277 UTC    ┆            ┆   ┆          ┆         ┆            ┆            │\n",
       "│ +    ┆ fc43ef46-11 ┆ 2025-01-06  ┆ null       ┆ … ┆ null     ┆ null    ┆ null       ┆ null       │\n",
       "│      ┆ d6-494f-824 ┆ 12:23:06.74 ┆            ┆   ┆          ┆         ┆            ┆            │\n",
       "│      ┆ 5-51688e…   ┆ 1277 UTC    ┆            ┆   ┆          ┆         ┆            ┆            │\n",
       "│ …    ┆ …           ┆ …           ┆ …          ┆ … ┆ …        ┆ …       ┆ …          ┆ …          │\n",
       "│ +    ┆ 032a8c73-a5 ┆ 2025-01-06  ┆ null       ┆ … ┆ null     ┆ null    ┆ null       ┆ null       │\n",
       "│      ┆ 07-4a50-b23 ┆ 12:23:06.74 ┆            ┆   ┆          ┆         ┆            ┆            │\n",
       "│      ┆ f-f6b702…   ┆ 1277 UTC    ┆            ┆   ┆          ┆         ┆            ┆            │\n",
       "│ +    ┆ c32dd385-b0 ┆ 2025-01-06  ┆ null       ┆ … ┆ null     ┆ null    ┆ null       ┆ null       │\n",
       "│      ┆ a0-40c9-b7b ┆ 12:23:06.74 ┆            ┆   ┆          ┆         ┆            ┆            │\n",
       "│      ┆ 9-5aef26…   ┆ 1277 UTC    ┆            ┆   ┆          ┆         ┆            ┆            │\n",
       "│ +    ┆ fb904e18-4e ┆ 2025-01-06  ┆ null       ┆ … ┆ null     ┆ null    ┆ null       ┆ null       │\n",
       "│      ┆ 5b-49e4-bf6 ┆ 12:23:06.74 ┆            ┆   ┆          ┆         ┆            ┆            │\n",
       "│      ┆ 0-9d3181…   ┆ 1277 UTC    ┆            ┆   ┆          ┆         ┆            ┆            │\n",
       "│ +    ┆ 9a6a85ae-2f ┆ 2025-01-06  ┆ null       ┆ … ┆ null     ┆ null    ┆ null       ┆ null       │\n",
       "│      ┆ b1-47ac-be1 ┆ 12:23:06.74 ┆            ┆   ┆          ┆         ┆            ┆            │\n",
       "│      ┆ 9-828e9d…   ┆ 1277 UTC    ┆            ┆   ┆          ┆         ┆            ┆            │\n",
       "│ +    ┆ 67a45848-d5 ┆ 2025-01-06  ┆ null       ┆ … ┆ null     ┆ null    ┆ null       ┆ null       │\n",
       "│      ┆ 3f-415c-bd8 ┆ 12:23:06.74 ┆            ┆   ┆          ┆         ┆            ┆            │\n",
       "│      ┆ 1-48b4d6…   ┆ 1277 UTC    ┆            ┆   ┆          ┆         ┆            ┆            │\n",
       "└──────┴─────────────┴─────────────┴────────────┴───┴──────────┴─────────┴────────────┴────────────┘"
      ]
     },
     "execution_count": 216,
     "metadata": {},
     "output_type": "execute_result"
    }
   ],
   "source": [
    "## Update Qload due to line capacity\n",
    "changes_schema.measurement"
   ]
  },
  {
   "cell_type": "markdown",
   "metadata": {},
   "source": [
    "## Import data to changes schema"
   ]
  },
  {
   "cell_type": "code",
   "execution_count": 217,
   "metadata": {},
   "outputs": [
    {
     "name": "stdout",
     "output_type": "stream",
     "text": [
      "shape: (8, 6)\n",
      "┌────────────┬──────────┬─────┬─────┬────────┬─────┐\n",
      "│ downstream ┆ upstream ┆ P   ┆ F   ┆ p_line ┆ lv  │\n",
      "│ ---        ┆ ---      ┆ --- ┆ --- ┆ ---    ┆ --- │\n",
      "│ i64        ┆ i64      ┆ i64 ┆ f64 ┆ f64    ┆ i64 │\n",
      "╞════════════╪══════════╪═════╪═════╪════════╪═════╡\n",
      "│ 3          ┆ 2        ┆ 2   ┆ 0.1 ┆ 2.2    ┆ 0   │\n",
      "│ 5          ┆ 4        ┆ 4   ┆ 0.1 ┆ 4.4    ┆ 0   │\n",
      "│ 7          ┆ 4        ┆ 6   ┆ 0.1 ┆ 6.6    ┆ 0   │\n",
      "│ 8          ┆ 6        ┆ 5   ┆ 0.1 ┆ 5.5    ┆ 0   │\n",
      "│ 2          ┆ 1        ┆ 1   ┆ 0.1 ┆ 3.52   ┆ 1   │\n",
      "│ 6          ┆ 4        ┆ 3   ┆ 0.1 ┆ 9.35   ┆ 1   │\n",
      "│ 4          ┆ 1        ┆ 1   ┆ 0.1 ┆ 23.485 ┆ 2   │\n",
      "│ 1          ┆ null     ┆ 0   ┆ 0.0 ┆ 27.005 ┆ 3   │\n",
      "└────────────┴──────────┴─────┴─────┴────────┴─────┘\n"
     ]
    }
   ],
   "source": [
    "def sum_downstream_power(col: pl.Expr, df: pl.DataFrame):\n",
    "    return col.map_elements(\n",
    "        lambda x: df.filter(c(\"upstream\") == x)[\"p_line\"].sum(), return_dtype=pl.Float64\n",
    "    )\n",
    "\n",
    "\n",
    "def calculate_line_power(df: pl.DataFrame):\n",
    "    return (c(\"downstream\").pipe(sum_downstream_power, df=df) + c(\"P\")) * (1 + c(\"F\"))\n",
    "\n",
    "\n",
    "def sum_power(df: pl.DataFrame, lv: int):\n",
    "\n",
    "    return df.with_columns(\n",
    "        pl.when(c(\"lv\") == lv)\n",
    "        .then(calculate_line_power(df=df))\n",
    "        .otherwise(c(\"p_line\"))\n",
    "        .alias(\"p_line\")\n",
    "    )\n",
    "\n",
    "\n",
    "# UP Use for each powerflow\n",
    "# Down Use only one time\n",
    "def get_node_level(G: nx.DiGraph) -> dict:\n",
    "    level_mapping: dict = {}\n",
    "    for node in reversed(list(nx.topological_sort(G))):\n",
    "        if not len(list(G.successors(node))):\n",
    "            level_mapping[node] = 0\n",
    "        else:\n",
    "            level_mapping[node] = max(level_mapping[n] for n in G.successors(node)) + 1\n",
    "    return level_mapping\n",
    "\n",
    "\n",
    "line_data: pl.DataFrame = pl.DataFrame(\n",
    "    {\n",
    "        \"downstream\": [1, 2, 3, 4, 5, 6, 7, 8],\n",
    "        \"upstream\": [None, 1, 2, 1, 4, 4, 4, 6],\n",
    "        \"P\": [0, 1, 2, 1, 4, 3, 6, 5],\n",
    "        \"F\": [0.0, 0.1, 0.1, 0.1, 0.1, 0.1, 0.1, 0.1],\n",
    "        \"p_line\": [0] * 8,\n",
    "    }\n",
    ")\n",
    "\n",
    "grid = nx.DiGraph()\n",
    "\n",
    "_ = line_data.drop_nulls(subset=\"upstream\").with_columns(\n",
    "    pl.struct(c(\"upstream\"), c(\"downstream\")).map_elements(\n",
    "        lambda x: grid.add_edge(x[\"upstream\"], x[\"downstream\"]), return_dtype=pl.Struct\n",
    "    )\n",
    ")\n",
    "level_mapping: dict = get_node_level(G=grid)\n",
    "line_data = line_data.with_columns(\n",
    "    c(\"downstream\").replace_strict(level_mapping, default=None).alias(\"lv\")\n",
    ")\n",
    "\n",
    "for i in range(line_data[\"lv\"].max() + 1):\n",
    "    line_data = sum_power(df=line_data, lv=i)\n",
    "\n",
    "print(line_data.sort(\"lv\"))"
   ]
  }
 ],
 "metadata": {
  "kernelspec": {
   "display_name": ".venv",
   "language": "python",
   "name": "python3"
  },
  "language_info": {
   "codemirror_mode": {
    "name": "ipython",
    "version": 3
   },
   "file_extension": ".py",
   "mimetype": "text/x-python",
   "name": "python",
   "nbconvert_exporter": "python",
   "pygments_lexer": "ipython3",
   "version": "3.12.7"
  }
 },
 "nbformat": 4,
 "nbformat_minor": 2
}
