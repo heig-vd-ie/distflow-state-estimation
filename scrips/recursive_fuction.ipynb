{
 "cells": [
  {
   "cell_type": "code",
   "execution_count": 112,
   "metadata": {},
   "outputs": [],
   "source": [
    "import polars as pl\n",
    "from polars import col as c\n",
    "import networkx as nx\n",
    "\n",
    "from config import settings\n",
    "import json\n",
    "import os\n",
    "from datetime import datetime, UTC\n",
    "import datetime as dt\n",
    "\n",
    "from utility.polars_operation import generate_uuid_col\n",
    "from utility.parser_utility import (\n",
    "    add_table_to_changes_schema,\n",
    "    generate_connectivity_table,\n",
    ")\n",
    "\n",
    "from twindigrid_changes.schema import ChangesSchema\n",
    "from twindigrid_sql.schema.enum import TerminalSide\n",
    "from twindigrid_sql.entries.source import SCADA\n",
    "\n",
    "from twindigrid_sql.entries.equipment_class import (\n",
    "    TRANSFORMER,\n",
    "    BRANCH,\n",
    "    SWITCH,\n",
    "    INDIRECT_FEEDER,\n",
    "    BUSBAR_SECTION,\n",
    "    ENERGY_CONSUMER,\n",
    ")\n",
    "\n",
    "# Useless outside jupiternotebook because in settings.py a line that changes the directory to src for ipynb\n",
    "os.chdir(os.getcwd().replace(\"/src\", \"\"))\n",
    "# os.getcwd()"
   ]
  },
  {
   "cell_type": "markdown",
   "metadata": {},
   "source": [
    "# Import data from matlab"
   ]
  },
  {
   "cell_type": "code",
   "execution_count": 113,
   "metadata": {},
   "outputs": [],
   "source": [
    "file_names: dict[str, str] = json.load(open(settings.INPUT_FILE_NAMES))"
   ]
  },
  {
   "cell_type": "code",
   "execution_count": 114,
   "metadata": {},
   "outputs": [
    {
     "data": {
      "text/html": [
       "<div><style>\n",
       ".dataframe > thead > tr,\n",
       ".dataframe > tbody > tr {\n",
       "  text-align: right;\n",
       "  white-space: pre-wrap;\n",
       "}\n",
       "</style>\n",
       "<small>shape: (2, 8)</small><table border=\"1\" class=\"dataframe\"><thead><tr><th>node_from</th><th>node_to</th><th>line_number</th><th>r_pu</th><th>x_pu</th><th>b_pu</th><th>i_pu</th><th>connection_type</th></tr><tr><td>i64</td><td>i64</td><td>i64</td><td>f64</td><td>f64</td><td>f64</td><td>f64</td><td>i64</td></tr></thead><tbody><tr><td>1</td><td>0</td><td>1</td><td>0.19375</td><td>0.112969</td><td>7.9168e-8</td><td>0.024942</td><td>2</td></tr><tr><td>2</td><td>0</td><td>2</td><td>2.046875</td><td>1.14625</td><td>8.9632e-7</td><td>0.026327</td><td>2</td></tr></tbody></table></div>"
      ],
      "text/plain": [
       "shape: (2, 8)\n",
       "┌───────────┬─────────┬─────────────┬──────────┬──────────┬───────────┬──────────┬─────────────────┐\n",
       "│ node_from ┆ node_to ┆ line_number ┆ r_pu     ┆ x_pu     ┆ b_pu      ┆ i_pu     ┆ connection_type │\n",
       "│ ---       ┆ ---     ┆ ---         ┆ ---      ┆ ---      ┆ ---       ┆ ---      ┆ ---             │\n",
       "│ i64       ┆ i64     ┆ i64         ┆ f64      ┆ f64      ┆ f64       ┆ f64      ┆ i64             │\n",
       "╞═══════════╪═════════╪═════════════╪══════════╪══════════╪═══════════╪══════════╪═════════════════╡\n",
       "│ 1         ┆ 0       ┆ 1           ┆ 0.19375  ┆ 0.112969 ┆ 7.9168e-8 ┆ 0.024942 ┆ 2               │\n",
       "│ 2         ┆ 0       ┆ 2           ┆ 2.046875 ┆ 1.14625  ┆ 8.9632e-7 ┆ 0.026327 ┆ 2               │\n",
       "└───────────┴─────────┴─────────────┴──────────┴──────────┴───────────┴──────────┴─────────────────┘"
      ]
     },
     "execution_count": 114,
     "metadata": {},
     "output_type": "execute_result"
    }
   ],
   "source": [
    "parameter_distflow: pl.DataFrame = pl.read_csv(file_names[\"Distflow_parameter\"])\n",
    "nodedata_distflow: pl.DataFrame = pl.read_csv(file_names[\"Distflow_node_data\"])\n",
    "powerdata_distflow: pl.DataFrame = pl.read_csv(file_names[\"Distflow_Power_data\"])\n",
    "linedata_distflow: pl.DataFrame = pl.read_csv(file_names[\"Distflow_Line_data\"])\n",
    "result_distflow: pl.DataFrame = pl.read_csv(file_names[\"Distflow_result\"])\n",
    "# nodedata_distflow = nodedata_distflow.with_columns(c(\"Snom\").cast(pl.Int8))\n",
    "# # To have base value (need lenght of line), not from matlab !\n",
    "# line_data_from_input_file: pl.DataFrame = pl.read_excel(\n",
    "#     file_names[\"Line_Data_From_Input_File\"]\n",
    "# )\n",
    "\n",
    "# Add node number to power data\n",
    "powerdata_distflow = powerdata_distflow.with_row_index(\n",
    "    \"node_number\", offset=1\n",
    ")  # offset=1 because slack bus is 0 and no power on it\n",
    "powerdata_distflow = powerdata_distflow.with_columns(c(\"node_number\").cast(pl.Int64))\n",
    "# Create a topology dataframe with basic topology information\n",
    "\n",
    "df_topology = nodedata_distflow.select(\n",
    "    c(\"index\").alias(\"node_number\"),\n",
    "    c(\"indexLines_1\").alias(\"index_branch_1\"),\n",
    "    c(\"indexLines_2\").alias(\"index_branch_2\"),\n",
    "    c(\"indexLines_3\").alias(\"index_branch_3\"),\n",
    "    c(\"Vnom\"),\n",
    ")\n",
    "\n",
    "# Add the power data to the topology dataframe with node as key\n",
    "df_topology = df_topology.join(\n",
    "    powerdata_distflow, on=\"node_number\", how=\"full\", coalesce=True\n",
    ")\n",
    "linedata_distflow.head(2)"
   ]
  },
  {
   "cell_type": "markdown",
   "metadata": {},
   "source": [
    "# Set missing value for equipment"
   ]
  },
  {
   "cell_type": "code",
   "execution_count": 115,
   "metadata": {},
   "outputs": [],
   "source": [
    "### Set missing value for equipment\n",
    "# Fake value for the length of the branch\n",
    "base_length = 1\n",
    "# Fake value for the switch state\n",
    "switch_state = False\n",
    "switch_type = \"locked_switch\"\n",
    "switch_command = \"unknown\""
   ]
  },
  {
   "cell_type": "markdown",
   "metadata": {},
   "source": [
    "## Branch"
   ]
  },
  {
   "cell_type": "code",
   "execution_count": 116,
   "metadata": {},
   "outputs": [],
   "source": [
    "# branch :pl.DataFrame =\n",
    "from polars import Null\n",
    "\n",
    "\n",
    "default_install_date: datetime = datetime(*settings.DEFAULT_INSTALL_DATE, tzinfo=UTC)\n",
    "heartbeat = datetime.now(UTC)\n",
    "changes_schema = ChangesSchema()\n",
    "\n",
    "\n",
    "# Current in pu\n",
    "\n",
    "# Filter to take only branch, connection_type == 2\n",
    "branch = linedata_distflow.filter(c(\"connection_type\") == 2).select(\n",
    "    c(\"line_number\").alias(\"dso_code\"),\n",
    "    c(\"i_pu\").alias(\"current_limit\"),\n",
    "    c(\"r_pu\"),\n",
    "    c(\"x_pu\"),\n",
    "    c(\"b_pu\"),\n",
    "    pl.lit(base_length).alias(\"length\"),\n",
    "    pl.lit(BRANCH).alias(\"concrete_class\"),\n",
    "    pl.lit(default_install_date).alias(\"start\"),\n",
    "    pl.lit(heartbeat).alias(\"start_heartbeat\"),\n",
    "    c(\"line_number\").pipe(generate_uuid_col, added_string=BRANCH).alias(\"uuid\"),\n",
    "    pl.lit(TerminalSide.T1).alias(\"t1\"),\n",
    "    pl.lit(TerminalSide.T2).alias(\"t2\"),\n",
    "    (\"node_number\" + c(\"node_from\").cast(pl.String)).alias(\"t1_container_fk\"),\n",
    "    (\"node_number\" + c(\"node_to\").cast(pl.String)).alias(\"t2_container_fk\"),\n",
    ")\n",
    "new_tables_pl: dict[str, pl.DataFrame] = {\n",
    "    \"Resource\": branch,\n",
    "    \"Equipment\": branch,\n",
    "    \"Branch\": branch,\n",
    "}\n",
    "changes_schema = add_table_to_changes_schema(\n",
    "    schema=changes_schema, new_tables_pl=new_tables_pl, raw_table_name=\"branch\"\n",
    ")\n",
    "changes_schema = generate_connectivity_table(\n",
    "    changes_schema=changes_schema, eq_table=branch, raw_data_table=\"branch\"\n",
    ")"
   ]
  },
  {
   "cell_type": "markdown",
   "metadata": {},
   "source": [
    "## Switch"
   ]
  },
  {
   "cell_type": "code",
   "execution_count": 117,
   "metadata": {},
   "outputs": [],
   "source": [
    "switch = linedata_distflow.filter(c(\"connection_type\") == 3).select(\n",
    "    c(\"line_number\").alias(\"dso_code\"),\n",
    "    pl.lit(SWITCH).alias(\"concrete_class\"),\n",
    "    pl.lit(default_install_date).alias(\"start\"),\n",
    "    pl.lit(heartbeat).alias(\"start_heartbeat\"),\n",
    "    pl.lit(switch_state).alias(\"normal_open\"),\n",
    "    pl.lit(switch_type).alias(\"type\"),\n",
    "    pl.lit(switch_command).alias(\"command\"),\n",
    "    pl.lit(TerminalSide.T1).alias(\"t1\"),\n",
    "    pl.lit(TerminalSide.T2).alias(\"t2\"),\n",
    "    (\"node_number\" + c(\"node_from\").cast(pl.String)).alias(\"t1_container_fk\"),\n",
    "    (\"node_number\" + c(\"node_to\").cast(pl.String)).alias(\"t2_container_fk\"),\n",
    "    c(\"line_number\").pipe(generate_uuid_col, added_string=SWITCH).alias(\"uuid\"),\n",
    ")\n",
    "new_tables_pl: dict[str, pl.DataFrame] = {\n",
    "    \"Resource\": switch,\n",
    "    \"Equipment\": switch,\n",
    "    \"Switch\": switch,\n",
    "}\n",
    "changes_schema = add_table_to_changes_schema(\n",
    "    schema=changes_schema, new_tables_pl=new_tables_pl, raw_table_name=\"switch\"\n",
    ")\n",
    "changes_schema = generate_connectivity_table(\n",
    "    changes_schema=changes_schema, eq_table=switch, raw_data_table=\"switch\"\n",
    ")"
   ]
  },
  {
   "cell_type": "code",
   "execution_count": 118,
   "metadata": {},
   "outputs": [
    {
     "data": {
      "text/html": [
       "<div><style>\n",
       ".dataframe > thead > tr,\n",
       ".dataframe > tbody > tr {\n",
       "  text-align: right;\n",
       "  white-space: pre-wrap;\n",
       "}\n",
       "</style>\n",
       "<small>shape: (114, 13)</small><table border=\"1\" class=\"dataframe\"><thead><tr><th>diff</th><th>uuid</th><th>start_heartbeat</th><th>end_heartbeat</th><th>start</th><th>end</th><th>eq_fk</th><th>side</th><th>eq_class</th><th>abstraction_fk</th><th>cn_fk</th><th>container_fk</th><th>indirect</th></tr><tr><td>str</td><td>str</td><td>datetime[μs, UTC]</td><td>datetime[μs, UTC]</td><td>datetime[μs, UTC]</td><td>datetime[μs, UTC]</td><td>str</td><td>str</td><td>str</td><td>str</td><td>str</td><td>str</td><td>bool</td></tr></thead><tbody><tr><td>&quot;+&quot;</td><td>&quot;97947fa3-7d23-4093-b824-2cf59c…</td><td>2024-12-19 10:36:20.582982 UTC</td><td>null</td><td>1960-01-01 00:00:00 UTC</td><td>null</td><td>&quot;b4fdf239-cfe2-5453-91c3-84c1b2…</td><td>&quot;t1&quot;</td><td>&quot;branch&quot;</td><td>&quot;physical&quot;</td><td>&quot;t1&quot;</td><td>&quot;node_number1&quot;</td><td>false</td></tr><tr><td>&quot;+&quot;</td><td>&quot;19371d8b-466f-47c9-baf7-343a1d…</td><td>2024-12-19 10:36:20.582982 UTC</td><td>null</td><td>1960-01-01 00:00:00 UTC</td><td>null</td><td>&quot;3edce6fc-e164-5b3e-9b0d-8a1c86…</td><td>&quot;t1&quot;</td><td>&quot;branch&quot;</td><td>&quot;physical&quot;</td><td>&quot;t1&quot;</td><td>&quot;node_number2&quot;</td><td>false</td></tr><tr><td>&quot;+&quot;</td><td>&quot;4675243b-885f-4d28-8612-cee24b…</td><td>2024-12-19 10:36:20.582982 UTC</td><td>null</td><td>1960-01-01 00:00:00 UTC</td><td>null</td><td>&quot;c173d7f3-f7ca-5f44-98d8-63c1aa…</td><td>&quot;t1&quot;</td><td>&quot;branch&quot;</td><td>&quot;physical&quot;</td><td>&quot;t1&quot;</td><td>&quot;node_number4&quot;</td><td>false</td></tr><tr><td>&quot;+&quot;</td><td>&quot;afa0278c-e22e-40e3-9c4e-041f66…</td><td>2024-12-19 10:36:20.582982 UTC</td><td>null</td><td>1960-01-01 00:00:00 UTC</td><td>null</td><td>&quot;c33afba9-0379-5d6a-9ca1-743cf7…</td><td>&quot;t1&quot;</td><td>&quot;branch&quot;</td><td>&quot;physical&quot;</td><td>&quot;t1&quot;</td><td>&quot;node_number5&quot;</td><td>false</td></tr><tr><td>&quot;+&quot;</td><td>&quot;3da8ba4c-c32e-45b5-b528-c2033f…</td><td>2024-12-19 10:36:20.582982 UTC</td><td>null</td><td>1960-01-01 00:00:00 UTC</td><td>null</td><td>&quot;020bd95c-9320-5560-9627-4bbe19…</td><td>&quot;t1&quot;</td><td>&quot;branch&quot;</td><td>&quot;physical&quot;</td><td>&quot;t1&quot;</td><td>&quot;node_number6&quot;</td><td>false</td></tr><tr><td>&hellip;</td><td>&hellip;</td><td>&hellip;</td><td>&hellip;</td><td>&hellip;</td><td>&hellip;</td><td>&hellip;</td><td>&hellip;</td><td>&hellip;</td><td>&hellip;</td><td>&hellip;</td><td>&hellip;</td><td>&hellip;</td></tr><tr><td>&quot;+&quot;</td><td>&quot;3ae17f98-51d4-40ee-8993-ffc65a…</td><td>2024-12-19 10:36:20.582982 UTC</td><td>null</td><td>1960-01-01 00:00:00 UTC</td><td>null</td><td>&quot;ec28307e-8860-52db-9611-713cad…</td><td>&quot;t2&quot;</td><td>&quot;branch&quot;</td><td>&quot;physical&quot;</td><td>&quot;t2&quot;</td><td>&quot;node_number55&quot;</td><td>false</td></tr><tr><td>&quot;+&quot;</td><td>&quot;7d520d9a-5b75-4529-acb0-7a0369…</td><td>2024-12-19 10:36:20.582982 UTC</td><td>null</td><td>1960-01-01 00:00:00 UTC</td><td>null</td><td>&quot;c8a03e72-a228-5007-ad70-3cc3ab…</td><td>&quot;t1&quot;</td><td>&quot;switch&quot;</td><td>&quot;physical&quot;</td><td>&quot;t1&quot;</td><td>null</td><td>false</td></tr><tr><td>&quot;+&quot;</td><td>&quot;59f5cc77-e0fc-414f-a8ae-5487cb…</td><td>2024-12-19 10:36:20.582982 UTC</td><td>null</td><td>1960-01-01 00:00:00 UTC</td><td>null</td><td>&quot;4f44a759-906d-568d-95b7-a57f77…</td><td>&quot;t1&quot;</td><td>&quot;switch&quot;</td><td>&quot;physical&quot;</td><td>&quot;t1&quot;</td><td>null</td><td>false</td></tr><tr><td>&quot;+&quot;</td><td>&quot;e897d353-ee27-4484-b321-abf107…</td><td>2024-12-19 10:36:20.582982 UTC</td><td>null</td><td>1960-01-01 00:00:00 UTC</td><td>null</td><td>&quot;c8a03e72-a228-5007-ad70-3cc3ab…</td><td>&quot;t2&quot;</td><td>&quot;switch&quot;</td><td>&quot;physical&quot;</td><td>&quot;t2&quot;</td><td>null</td><td>false</td></tr><tr><td>&quot;+&quot;</td><td>&quot;7ebec482-842b-4b8c-a325-e9416b…</td><td>2024-12-19 10:36:20.582982 UTC</td><td>null</td><td>1960-01-01 00:00:00 UTC</td><td>null</td><td>&quot;4f44a759-906d-568d-95b7-a57f77…</td><td>&quot;t2&quot;</td><td>&quot;switch&quot;</td><td>&quot;physical&quot;</td><td>&quot;t2&quot;</td><td>null</td><td>false</td></tr></tbody></table></div>"
      ],
      "text/plain": [
       "shape: (114, 13)\n",
       "┌──────┬─────────────┬─────────────┬─────────────┬───┬─────────────┬───────┬────────────┬──────────┐\n",
       "│ diff ┆ uuid        ┆ start_heart ┆ end_heartbe ┆ … ┆ abstraction ┆ cn_fk ┆ container_ ┆ indirect │\n",
       "│ ---  ┆ ---         ┆ beat        ┆ at          ┆   ┆ _fk         ┆ ---   ┆ fk         ┆ ---      │\n",
       "│ str  ┆ str         ┆ ---         ┆ ---         ┆   ┆ ---         ┆ str   ┆ ---        ┆ bool     │\n",
       "│      ┆             ┆ datetime[μs ┆ datetime[μs ┆   ┆ str         ┆       ┆ str        ┆          │\n",
       "│      ┆             ┆ , UTC]      ┆ , UTC]      ┆   ┆             ┆       ┆            ┆          │\n",
       "╞══════╪═════════════╪═════════════╪═════════════╪═══╪═════════════╪═══════╪════════════╪══════════╡\n",
       "│ +    ┆ 97947fa3-7d ┆ 2024-12-19  ┆ null        ┆ … ┆ physical    ┆ t1    ┆ node_numbe ┆ false    │\n",
       "│      ┆ 23-4093-b82 ┆ 10:36:20.58 ┆             ┆   ┆             ┆       ┆ r1         ┆          │\n",
       "│      ┆ 4-2cf59c…   ┆ 2982 UTC    ┆             ┆   ┆             ┆       ┆            ┆          │\n",
       "│ +    ┆ 19371d8b-46 ┆ 2024-12-19  ┆ null        ┆ … ┆ physical    ┆ t1    ┆ node_numbe ┆ false    │\n",
       "│      ┆ 6f-47c9-baf ┆ 10:36:20.58 ┆             ┆   ┆             ┆       ┆ r2         ┆          │\n",
       "│      ┆ 7-343a1d…   ┆ 2982 UTC    ┆             ┆   ┆             ┆       ┆            ┆          │\n",
       "│ +    ┆ 4675243b-88 ┆ 2024-12-19  ┆ null        ┆ … ┆ physical    ┆ t1    ┆ node_numbe ┆ false    │\n",
       "│      ┆ 5f-4d28-861 ┆ 10:36:20.58 ┆             ┆   ┆             ┆       ┆ r4         ┆          │\n",
       "│      ┆ 2-cee24b…   ┆ 2982 UTC    ┆             ┆   ┆             ┆       ┆            ┆          │\n",
       "│ +    ┆ afa0278c-e2 ┆ 2024-12-19  ┆ null        ┆ … ┆ physical    ┆ t1    ┆ node_numbe ┆ false    │\n",
       "│      ┆ 2e-40e3-9c4 ┆ 10:36:20.58 ┆             ┆   ┆             ┆       ┆ r5         ┆          │\n",
       "│      ┆ e-041f66…   ┆ 2982 UTC    ┆             ┆   ┆             ┆       ┆            ┆          │\n",
       "│ +    ┆ 3da8ba4c-c3 ┆ 2024-12-19  ┆ null        ┆ … ┆ physical    ┆ t1    ┆ node_numbe ┆ false    │\n",
       "│      ┆ 2e-45b5-b52 ┆ 10:36:20.58 ┆             ┆   ┆             ┆       ┆ r6         ┆          │\n",
       "│      ┆ 8-c2033f…   ┆ 2982 UTC    ┆             ┆   ┆             ┆       ┆            ┆          │\n",
       "│ …    ┆ …           ┆ …           ┆ …           ┆ … ┆ …           ┆ …     ┆ …          ┆ …        │\n",
       "│ +    ┆ 3ae17f98-51 ┆ 2024-12-19  ┆ null        ┆ … ┆ physical    ┆ t2    ┆ node_numbe ┆ false    │\n",
       "│      ┆ d4-40ee-899 ┆ 10:36:20.58 ┆             ┆   ┆             ┆       ┆ r55        ┆          │\n",
       "│      ┆ 3-ffc65a…   ┆ 2982 UTC    ┆             ┆   ┆             ┆       ┆            ┆          │\n",
       "│ +    ┆ 7d520d9a-5b ┆ 2024-12-19  ┆ null        ┆ … ┆ physical    ┆ t1    ┆ null       ┆ false    │\n",
       "│      ┆ 75-4529-acb ┆ 10:36:20.58 ┆             ┆   ┆             ┆       ┆            ┆          │\n",
       "│      ┆ 0-7a0369…   ┆ 2982 UTC    ┆             ┆   ┆             ┆       ┆            ┆          │\n",
       "│ +    ┆ 59f5cc77-e0 ┆ 2024-12-19  ┆ null        ┆ … ┆ physical    ┆ t1    ┆ null       ┆ false    │\n",
       "│      ┆ fc-414f-a8a ┆ 10:36:20.58 ┆             ┆   ┆             ┆       ┆            ┆          │\n",
       "│      ┆ e-5487cb…   ┆ 2982 UTC    ┆             ┆   ┆             ┆       ┆            ┆          │\n",
       "│ +    ┆ e897d353-ee ┆ 2024-12-19  ┆ null        ┆ … ┆ physical    ┆ t2    ┆ null       ┆ false    │\n",
       "│      ┆ 27-4484-b32 ┆ 10:36:20.58 ┆             ┆   ┆             ┆       ┆            ┆          │\n",
       "│      ┆ 1-abf107…   ┆ 2982 UTC    ┆             ┆   ┆             ┆       ┆            ┆          │\n",
       "│ +    ┆ 7ebec482-84 ┆ 2024-12-19  ┆ null        ┆ … ┆ physical    ┆ t2    ┆ null       ┆ false    │\n",
       "│      ┆ 2b-4b8c-a32 ┆ 10:36:20.58 ┆             ┆   ┆             ┆       ┆            ┆          │\n",
       "│      ┆ 5-e9416b…   ┆ 2982 UTC    ┆             ┆   ┆             ┆       ┆            ┆          │\n",
       "└──────┴─────────────┴─────────────┴─────────────┴───┴─────────────┴───────┴────────────┴──────────┘"
      ]
     },
     "execution_count": 118,
     "metadata": {},
     "output_type": "execute_result"
    }
   ],
   "source": [
    "changes_schema.connectivity"
   ]
  },
  {
   "cell_type": "code",
   "execution_count": 119,
   "metadata": {},
   "outputs": [
    {
     "data": {
      "text/plain": [
       "'2020-03-27 23:00:00+00:00'"
      ]
     },
     "execution_count": 119,
     "metadata": {},
     "output_type": "execute_result"
    }
   ],
   "source": [
    "# Begin time of the data from matlab (from main_FC.ipynb before)\n",
    "str(datetime(2020, 4, 4, 23, 00, 0, 0, UTC) - dt.timedelta(hours=192))"
   ]
  },
  {
   "cell_type": "markdown",
   "metadata": {},
   "source": [
    "## Parser"
   ]
  },
  {
   "cell_type": "code",
   "execution_count": 120,
   "metadata": {},
   "outputs": [
    {
     "data": {
      "text/html": [
       "<div><style>\n",
       ".dataframe > thead > tr,\n",
       ".dataframe > tbody > tr {\n",
       "  text-align: right;\n",
       "  white-space: pre-wrap;\n",
       "}\n",
       "</style>\n",
       "<small>shape: (58, 7)</small><table border=\"1\" class=\"dataframe\"><thead><tr><th>node_number</th><th>index_branch_1</th><th>index_branch_2</th><th>index_branch_3</th><th>Vnom</th><th>Pload</th><th>Qload</th></tr><tr><td>i64</td><td>i64</td><td>i64</td><td>i64</td><td>i64</td><td>f64</td><td>f64</td></tr></thead><tbody><tr><td>0</td><td>1</td><td>2</td><td>3</td><td>400</td><td>null</td><td>null</td></tr><tr><td>1</td><td>4</td><td>5</td><td>null</td><td>400</td><td>0.0</td><td>0.0</td></tr><tr><td>2</td><td>6</td><td>7</td><td>8</td><td>400</td><td>0.0</td><td>0.0</td></tr><tr><td>3</td><td>9</td><td>null</td><td>null</td><td>400</td><td>0.0</td><td>0.0</td></tr><tr><td>4</td><td>null</td><td>null</td><td>null</td><td>400</td><td>0.0</td><td>0.0</td></tr><tr><td>&hellip;</td><td>&hellip;</td><td>&hellip;</td><td>&hellip;</td><td>&hellip;</td><td>&hellip;</td><td>&hellip;</td></tr><tr><td>53</td><td>null</td><td>null</td><td>null</td><td>400</td><td>0.0</td><td>0.0</td></tr><tr><td>54</td><td>55</td><td>56</td><td>null</td><td>400</td><td>0.000035</td><td>-0.000012</td></tr><tr><td>55</td><td>57</td><td>null</td><td>null</td><td>400</td><td>0.0</td><td>0.0</td></tr><tr><td>56</td><td>null</td><td>null</td><td>null</td><td>400</td><td>0.0</td><td>0.0</td></tr><tr><td>57</td><td>null</td><td>null</td><td>null</td><td>400</td><td>0.00004</td><td>-0.000013</td></tr></tbody></table></div>"
      ],
      "text/plain": [
       "shape: (58, 7)\n",
       "┌─────────────┬────────────────┬────────────────┬────────────────┬──────┬──────────┬───────────┐\n",
       "│ node_number ┆ index_branch_1 ┆ index_branch_2 ┆ index_branch_3 ┆ Vnom ┆ Pload    ┆ Qload     │\n",
       "│ ---         ┆ ---            ┆ ---            ┆ ---            ┆ ---  ┆ ---      ┆ ---       │\n",
       "│ i64         ┆ i64            ┆ i64            ┆ i64            ┆ i64  ┆ f64      ┆ f64       │\n",
       "╞═════════════╪════════════════╪════════════════╪════════════════╪══════╪══════════╪═══════════╡\n",
       "│ 0           ┆ 1              ┆ 2              ┆ 3              ┆ 400  ┆ null     ┆ null      │\n",
       "│ 1           ┆ 4              ┆ 5              ┆ null           ┆ 400  ┆ 0.0      ┆ 0.0       │\n",
       "│ 2           ┆ 6              ┆ 7              ┆ 8              ┆ 400  ┆ 0.0      ┆ 0.0       │\n",
       "│ 3           ┆ 9              ┆ null           ┆ null           ┆ 400  ┆ 0.0      ┆ 0.0       │\n",
       "│ 4           ┆ null           ┆ null           ┆ null           ┆ 400  ┆ 0.0      ┆ 0.0       │\n",
       "│ …           ┆ …              ┆ …              ┆ …              ┆ …    ┆ …        ┆ …         │\n",
       "│ 53          ┆ null           ┆ null           ┆ null           ┆ 400  ┆ 0.0      ┆ 0.0       │\n",
       "│ 54          ┆ 55             ┆ 56             ┆ null           ┆ 400  ┆ 0.000035 ┆ -0.000012 │\n",
       "│ 55          ┆ 57             ┆ null           ┆ null           ┆ 400  ┆ 0.0      ┆ 0.0       │\n",
       "│ 56          ┆ null           ┆ null           ┆ null           ┆ 400  ┆ 0.0      ┆ 0.0       │\n",
       "│ 57          ┆ null           ┆ null           ┆ null           ┆ 400  ┆ 0.00004  ┆ -0.000013 │\n",
       "└─────────────┴────────────────┴────────────────┴────────────────┴──────┴──────────┴───────────┘"
      ]
     },
     "execution_count": 120,
     "metadata": {},
     "output_type": "execute_result"
    }
   ],
   "source": [
    "# Parse connectivity node\n",
    "df_topology"
   ]
  },
  {
   "cell_type": "code",
   "execution_count": 121,
   "metadata": {},
   "outputs": [],
   "source": [
    "def parse_connectivity_node(\n",
    "    topology_df: pl.DataFrame, changes_schema: ChangesSchema, **kwargs\n",
    ") -> ChangesSchema:\n",
    "\n",
    "    cn_voltage_mapping: dict[str, float] = pl_to_dict(\n",
    "        topology_df.filter(c(\"KEYWORD\") != \"TR2\")\n",
    "        .unpivot(\n",
    "            index=[\"UN\"], on=[\"t1\", \"t2\"], value_name=\"cn_fk\", variable_name=\"side\"\n",
    "        )\n",
    "        .drop_nulls(\"cn_fk\")\n",
    "        .group_by(\"cn_fk\")\n",
    "        .agg(c(\"UN\").drop_nulls().first())\n",
    "        .drop_nulls(\"UN\")[[\"cn_fk\", \"UN\"]]\n",
    "    )\n",
    "    node = topology_df.filter(c(\"KEYWORD\") == \"NODE\").with_columns(\n",
    "        (1e3 * c(\"uuid\").replace_strict(cn_voltage_mapping, default=c(\"UN\")))\n",
    "        .cast(pl.Int32)\n",
    "        .alias(\"base_voltage_fk\"),  # kV to V\n",
    "    )\n",
    "\n",
    "    changes_schema = add_table_to_changes_schema(\n",
    "        schema=changes_schema,\n",
    "        new_tables_pl={\"ConnectivityNode\": node},\n",
    "        raw_table_name=\"ConnectivityNode\",\n",
    "    )\n",
    "    return changes_schema"
   ]
  },
  {
   "cell_type": "markdown",
   "metadata": {},
   "source": [
    "## Import data to changes schema"
   ]
  },
  {
   "cell_type": "markdown",
   "metadata": {},
   "source": [
    "### Read grid topology\n",
    "Put all parts of the network topology (node and equipment) from csv file and put them in dictionary (with equipment names as keys)."
   ]
  },
  {
   "cell_type": "code",
   "execution_count": 122,
   "metadata": {},
   "outputs": [
    {
     "ename": "NameError",
     "evalue": "name 'topology' is not defined",
     "output_type": "error",
     "traceback": [
      "\u001b[0;31m---------------------------------------------------------------------------\u001b[0m",
      "\u001b[0;31mNameError\u001b[0m                                 Traceback (most recent call last)",
      "Cell \u001b[0;32mIn[122], line 3\u001b[0m\n\u001b[1;32m      1\u001b[0m \u001b[38;5;66;03m# topology : pl.DataFrame = readgridtopology\u001b[39;00m\n\u001b[1;32m      2\u001b[0m heartbeat \u001b[38;5;241m=\u001b[39m datetime\u001b[38;5;241m.\u001b[39mnow(UTC)\n\u001b[0;32m----> 3\u001b[0m \u001b[43mtopology\u001b[49m\n",
      "\u001b[0;31mNameError\u001b[0m: name 'topology' is not defined"
     ]
    }
   ],
   "source": [
    "# topology : pl.DataFrame = readgridtopology\n",
    "heartbeat = datetime.now(UTC)\n",
    "topology"
   ]
  },
  {
   "cell_type": "code",
   "execution_count": null,
   "metadata": {},
   "outputs": [
    {
     "name": "stdout",
     "output_type": "stream",
     "text": [
      "shape: (8, 6)\n",
      "┌────────────┬──────────┬─────┬─────┬────────┬─────┐\n",
      "│ downstream ┆ upstream ┆ P   ┆ F   ┆ p_line ┆ lv  │\n",
      "│ ---        ┆ ---      ┆ --- ┆ --- ┆ ---    ┆ --- │\n",
      "│ i64        ┆ i64      ┆ i64 ┆ f64 ┆ f64    ┆ i64 │\n",
      "╞════════════╪══════════╪═════╪═════╪════════╪═════╡\n",
      "│ 3          ┆ 2        ┆ 2   ┆ 0.1 ┆ 2.2    ┆ 0   │\n",
      "│ 5          ┆ 4        ┆ 4   ┆ 0.1 ┆ 4.4    ┆ 0   │\n",
      "│ 7          ┆ 4        ┆ 6   ┆ 0.1 ┆ 6.6    ┆ 0   │\n",
      "│ 8          ┆ 6        ┆ 5   ┆ 0.1 ┆ 5.5    ┆ 0   │\n",
      "│ 2          ┆ 1        ┆ 1   ┆ 0.1 ┆ 3.52   ┆ 1   │\n",
      "│ 6          ┆ 4        ┆ 3   ┆ 0.1 ┆ 9.35   ┆ 1   │\n",
      "│ 4          ┆ 1        ┆ 1   ┆ 0.1 ┆ 23.485 ┆ 2   │\n",
      "│ 1          ┆ null     ┆ 0   ┆ 0.0 ┆ 27.005 ┆ 3   │\n",
      "└────────────┴──────────┴─────┴─────┴────────┴─────┘\n"
     ]
    }
   ],
   "source": [
    "def sum_downstream_power(col: pl.Expr, df: pl.DataFrame):\n",
    "    return col.map_elements(\n",
    "        lambda x: df.filter(c(\"upstream\") == x)[\"p_line\"].sum(), return_dtype=pl.Float64\n",
    "    )\n",
    "\n",
    "\n",
    "def calculate_line_power(df: pl.DataFrame):\n",
    "    return (c(\"downstream\").pipe(sum_downstream_power, df=df) + c(\"P\")) * (1 + c(\"F\"))\n",
    "\n",
    "\n",
    "def sum_power(df: pl.DataFrame, lv: int):\n",
    "\n",
    "    return df.with_columns(\n",
    "        pl.when(c(\"lv\") == lv)\n",
    "        .then(calculate_line_power(df=df))\n",
    "        .otherwise(c(\"p_line\"))\n",
    "        .alias(\"p_line\")\n",
    "    )\n",
    "\n",
    "\n",
    "# UP Use for each powerflow\n",
    "# Down Use only one time\n",
    "def get_node_level(G: nx.DiGraph) -> dict:\n",
    "    level_mapping: dict = {}\n",
    "    for node in reversed(list(nx.topological_sort(G))):\n",
    "        if not len(list(G.successors(node))):\n",
    "            level_mapping[node] = 0\n",
    "        else:\n",
    "            level_mapping[node] = max(level_mapping[n] for n in G.successors(node)) + 1\n",
    "    return level_mapping\n",
    "\n",
    "\n",
    "line_data: pl.DataFrame = pl.DataFrame(\n",
    "    {\n",
    "        \"downstream\": [1, 2, 3, 4, 5, 6, 7, 8],\n",
    "        \"upstream\": [None, 1, 2, 1, 4, 4, 4, 6],\n",
    "        \"P\": [0, 1, 2, 1, 4, 3, 6, 5],\n",
    "        \"F\": [0.0, 0.1, 0.1, 0.1, 0.1, 0.1, 0.1, 0.1],\n",
    "        \"p_line\": [0] * 8,\n",
    "    }\n",
    ")\n",
    "\n",
    "grid = nx.DiGraph()\n",
    "\n",
    "_ = line_data.drop_nulls(subset=\"upstream\").with_columns(\n",
    "    pl.struct(c(\"upstream\"), c(\"downstream\")).map_elements(\n",
    "        lambda x: grid.add_edge(x[\"upstream\"], x[\"downstream\"]), return_dtype=pl.Struct\n",
    "    )\n",
    ")\n",
    "level_mapping: dict = get_node_level(G=grid)\n",
    "line_data = line_data.with_columns(\n",
    "    c(\"downstream\").replace_strict(level_mapping, default=None).alias(\"lv\")\n",
    ")\n",
    "\n",
    "for i in range(line_data[\"lv\"].max() + 1):\n",
    "    line_data = sum_power(df=line_data, lv=i)\n",
    "\n",
    "print(line_data.sort(\"lv\"))"
   ]
  }
 ],
 "metadata": {
  "kernelspec": {
   "display_name": ".venv",
   "language": "python",
   "name": "python3"
  },
  "language_info": {
   "codemirror_mode": {
    "name": "ipython",
    "version": 3
   },
   "file_extension": ".py",
   "mimetype": "text/x-python",
   "name": "python",
   "nbconvert_exporter": "python",
   "pygments_lexer": "ipython3",
   "version": "3.12.7"
  }
 },
 "nbformat": 4,
 "nbformat_minor": 2
}
