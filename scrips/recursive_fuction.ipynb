{
 "cells": [
  {
   "cell_type": "code",
   "execution_count": 101,
   "metadata": {},
   "outputs": [],
   "source": [
    "import polars as pl\n",
    "from polars import col as c\n",
    "import networkx as nx\n",
    "\n",
    "from config import settings\n",
    "import json\n",
    "import os\n",
    "from datetime import datetime, UTC\n",
    "import datetime as dt\n",
    "\n",
    "from utility.polars_operation import generate_uuid_col\n",
    "from utility.parser_utility import (\n",
    "    add_table_to_changes_schema,\n",
    "    generate_connectivity_table,\n",
    ")\n",
    "from utility.general_function import pl_to_dict\n",
    "\n",
    "from twindigrid_changes.schema import ChangesSchema\n",
    "from twindigrid_sql.schema.enum import TerminalSide\n",
    "from twindigrid_sql.entries.source import SCADA\n",
    "\n",
    "from twindigrid_sql.entries.equipment_class import (\n",
    "    TRANSFORMER,\n",
    "    BRANCH,\n",
    "    SWITCH,\n",
    "    INDIRECT_FEEDER,\n",
    "    BUSBAR_SECTION,\n",
    "    ENERGY_CONSUMER,\n",
    ")\n",
    "\n",
    "# Useless outside jupiternotebook because in settings.py a line that changes the directory to src for ipynb\n",
    "os.chdir(os.getcwd().replace(\"/src\", \"\"))\n",
    "# os.getcwd()"
   ]
  },
  {
   "cell_type": "markdown",
   "metadata": {},
   "source": [
    "# Import data from matlab"
   ]
  },
  {
   "cell_type": "code",
   "execution_count": 102,
   "metadata": {},
   "outputs": [],
   "source": [
    "file_names: dict[str, str] = json.load(open(settings.INPUT_FILE_NAMES))"
   ]
  },
  {
   "cell_type": "code",
   "execution_count": 103,
   "metadata": {},
   "outputs": [
    {
     "data": {
      "text/html": [
       "<div><style>\n",
       ".dataframe > thead > tr,\n",
       ".dataframe > tbody > tr {\n",
       "  text-align: right;\n",
       "  white-space: pre-wrap;\n",
       "}\n",
       "</style>\n",
       "<small>shape: (58, 11)</small><table border=\"1\" class=\"dataframe\"><thead><tr><th>index</th><th>indexLines_1</th><th>indexLines_2</th><th>indexLines_3</th><th>Vnom</th><th>Snom</th><th>powerFactor_1</th><th>powerFactor_2</th><th>Bnode</th><th>SM</th><th>Annual</th></tr><tr><td>i64</td><td>i64</td><td>i64</td><td>i64</td><td>i64</td><td>str</td><td>f64</td><td>i64</td><td>i64</td><td>f64</td><td>f64</td></tr></thead><tbody><tr><td>0</td><td>1</td><td>2</td><td>3</td><td>400</td><td>null</td><td>0.8</td><td>1</td><td>0</td><td>NaN</td><td>0.0</td></tr><tr><td>1</td><td>4</td><td>5</td><td>null</td><td>400</td><td>null</td><td>0.8</td><td>1</td><td>0</td><td>NaN</td><td>0.0</td></tr><tr><td>2</td><td>6</td><td>7</td><td>8</td><td>400</td><td>null</td><td>0.8</td><td>1</td><td>0</td><td>NaN</td><td>0.0</td></tr><tr><td>3</td><td>9</td><td>null</td><td>null</td><td>400</td><td>null</td><td>0.8</td><td>1</td><td>0</td><td>NaN</td><td>0.0</td></tr><tr><td>4</td><td>null</td><td>null</td><td>null</td><td>400</td><td>null</td><td>0.8</td><td>1</td><td>0</td><td>12.0</td><td>0.0</td></tr><tr><td>&hellip;</td><td>&hellip;</td><td>&hellip;</td><td>&hellip;</td><td>&hellip;</td><td>&hellip;</td><td>&hellip;</td><td>&hellip;</td><td>&hellip;</td><td>&hellip;</td><td>&hellip;</td></tr><tr><td>53</td><td>null</td><td>null</td><td>null</td><td>400</td><td>null</td><td>0.8</td><td>1</td><td>0</td><td>NaN</td><td>3095.956989</td></tr><tr><td>54</td><td>55</td><td>56</td><td>null</td><td>400</td><td>null</td><td>0.8</td><td>1</td><td>0</td><td>NaN</td><td>0.0</td></tr><tr><td>55</td><td>57</td><td>null</td><td>null</td><td>400</td><td>null</td><td>0.8</td><td>1</td><td>0</td><td>NaN</td><td>0.0</td></tr><tr><td>56</td><td>null</td><td>null</td><td>null</td><td>400</td><td>null</td><td>0.8</td><td>1</td><td>0</td><td>NaN</td><td>3452.129032</td></tr><tr><td>57</td><td>null</td><td>null</td><td>null</td><td>400</td><td>null</td><td>0.8</td><td>1</td><td>0</td><td>NaN</td><td>7921.285319</td></tr></tbody></table></div>"
      ],
      "text/plain": [
       "shape: (58, 11)\n",
       "┌───────┬──────────────┬──────────────┬─────────────┬───┬─────────────┬───────┬──────┬─────────────┐\n",
       "│ index ┆ indexLines_1 ┆ indexLines_2 ┆ indexLines_ ┆ … ┆ powerFactor ┆ Bnode ┆ SM   ┆ Annual      │\n",
       "│ ---   ┆ ---          ┆ ---          ┆ 3           ┆   ┆ _2          ┆ ---   ┆ ---  ┆ ---         │\n",
       "│ i64   ┆ i64          ┆ i64          ┆ ---         ┆   ┆ ---         ┆ i64   ┆ f64  ┆ f64         │\n",
       "│       ┆              ┆              ┆ i64         ┆   ┆ i64         ┆       ┆      ┆             │\n",
       "╞═══════╪══════════════╪══════════════╪═════════════╪═══╪═════════════╪═══════╪══════╪═════════════╡\n",
       "│ 0     ┆ 1            ┆ 2            ┆ 3           ┆ … ┆ 1           ┆ 0     ┆ NaN  ┆ 0.0         │\n",
       "│ 1     ┆ 4            ┆ 5            ┆ null        ┆ … ┆ 1           ┆ 0     ┆ NaN  ┆ 0.0         │\n",
       "│ 2     ┆ 6            ┆ 7            ┆ 8           ┆ … ┆ 1           ┆ 0     ┆ NaN  ┆ 0.0         │\n",
       "│ 3     ┆ 9            ┆ null         ┆ null        ┆ … ┆ 1           ┆ 0     ┆ NaN  ┆ 0.0         │\n",
       "│ 4     ┆ null         ┆ null         ┆ null        ┆ … ┆ 1           ┆ 0     ┆ 12.0 ┆ 0.0         │\n",
       "│ …     ┆ …            ┆ …            ┆ …           ┆ … ┆ …           ┆ …     ┆ …    ┆ …           │\n",
       "│ 53    ┆ null         ┆ null         ┆ null        ┆ … ┆ 1           ┆ 0     ┆ NaN  ┆ 3095.956989 │\n",
       "│ 54    ┆ 55           ┆ 56           ┆ null        ┆ … ┆ 1           ┆ 0     ┆ NaN  ┆ 0.0         │\n",
       "│ 55    ┆ 57           ┆ null         ┆ null        ┆ … ┆ 1           ┆ 0     ┆ NaN  ┆ 0.0         │\n",
       "│ 56    ┆ null         ┆ null         ┆ null        ┆ … ┆ 1           ┆ 0     ┆ NaN  ┆ 3452.129032 │\n",
       "│ 57    ┆ null         ┆ null         ┆ null        ┆ … ┆ 1           ┆ 0     ┆ NaN  ┆ 7921.285319 │\n",
       "└───────┴──────────────┴──────────────┴─────────────┴───┴─────────────┴───────┴──────┴─────────────┘"
      ]
     },
     "execution_count": 103,
     "metadata": {},
     "output_type": "execute_result"
    }
   ],
   "source": [
    "parameter_distflow: pl.DataFrame = pl.read_csv(file_names[\"Distflow_parameter\"])\n",
    "nodedata_distflow: pl.DataFrame = pl.read_csv(file_names[\"Distflow_node_data\"])\n",
    "powerdata_distflow: pl.DataFrame = pl.read_csv(file_names[\"Distflow_Power_data\"])\n",
    "linedata_distflow: pl.DataFrame = pl.read_csv(file_names[\"Distflow_Line_data\"])\n",
    "result_distflow: pl.DataFrame = pl.read_csv(file_names[\"Distflow_result\"])\n",
    "# nodedata_distflow = nodedata_distflow.with_columns(c(\"Snom\").cast(pl.Int8))\n",
    "# # To have base value (need lenght of line), not from matlab !\n",
    "# line_data_from_input_file: pl.DataFrame = pl.read_excel(\n",
    "#     file_names[\"Line_Data_From_Input_File\"]\n",
    "# )\n",
    "\n",
    "# Add node number to power data\n",
    "powerdata_distflow = powerdata_distflow.with_row_index(\n",
    "    \"node_number\", offset=1\n",
    ")  # offset=1 because slack bus is 0 and no power on it\n",
    "powerdata_distflow = powerdata_distflow.with_columns(c(\"node_number\").cast(pl.Int64))\n",
    "# Create a topology dataframe with basic topology information\n",
    "\n",
    "df_topology = nodedata_distflow.select(\n",
    "    c(\"index\").alias(\"node_number\"),\n",
    "    c(\"indexLines_1\").alias(\"index_branch_1\"),\n",
    "    c(\"indexLines_2\").alias(\"index_branch_2\"),\n",
    "    c(\"indexLines_3\").alias(\"index_branch_3\"),\n",
    "    c(\"Vnom\"),\n",
    ")\n",
    "\n",
    "# Add the power data to the topology dataframe with node as key\n",
    "df_topology = df_topology.join(\n",
    "    powerdata_distflow, on=\"node_number\", how=\"full\", coalesce=True\n",
    ")\n",
    "nodedata_distflow"
   ]
  },
  {
   "cell_type": "markdown",
   "metadata": {},
   "source": [
    "# Set missing value for equipment"
   ]
  },
  {
   "cell_type": "code",
   "execution_count": 104,
   "metadata": {},
   "outputs": [],
   "source": [
    "### Set missing value for equipment\n",
    "# Fake value for the length of the branch\n",
    "base_length = 1\n",
    "# Fake value for the switch state\n",
    "switch_state = False\n",
    "switch_type = \"locked_switch\"\n",
    "switch_command = \"unknown\""
   ]
  },
  {
   "cell_type": "markdown",
   "metadata": {},
   "source": [
    "## Connectivity node table"
   ]
  },
  {
   "cell_type": "code",
   "execution_count": 105,
   "metadata": {},
   "outputs": [],
   "source": [
    "# Generate the node dict with uuid for each node\n",
    "connectivity_node: dict[float, str] = pl_to_dict(\n",
    "    df_topology.select(\n",
    "        c(\"node_number\"),\n",
    "        c(\"node_number\").pipe(generate_uuid_col, added_string=\"node_\").alias(\"uuid\"),\n",
    "    )\n",
    ")"
   ]
  },
  {
   "cell_type": "markdown",
   "metadata": {},
   "source": [
    "## Branch"
   ]
  },
  {
   "cell_type": "code",
   "execution_count": 106,
   "metadata": {},
   "outputs": [
    {
     "data": {
      "text/html": [
       "<div><style>\n",
       ".dataframe > thead > tr,\n",
       ".dataframe > tbody > tr {\n",
       "  text-align: right;\n",
       "  white-space: pre-wrap;\n",
       "}\n",
       "</style>\n",
       "<small>shape: (110, 13)</small><table border=\"1\" class=\"dataframe\"><thead><tr><th>diff</th><th>uuid</th><th>start_heartbeat</th><th>end_heartbeat</th><th>start</th><th>end</th><th>eq_fk</th><th>side</th><th>eq_class</th><th>abstraction_fk</th><th>cn_fk</th><th>container_fk</th><th>indirect</th></tr><tr><td>str</td><td>str</td><td>datetime[μs, UTC]</td><td>datetime[μs, UTC]</td><td>datetime[μs, UTC]</td><td>datetime[μs, UTC]</td><td>str</td><td>str</td><td>str</td><td>str</td><td>str</td><td>str</td><td>bool</td></tr></thead><tbody><tr><td>&quot;+&quot;</td><td>&quot;b0a75605-9867-48dc-ae18-75b163…</td><td>2024-12-19 16:12:18.432982 UTC</td><td>null</td><td>1960-01-01 00:00:00 UTC</td><td>null</td><td>&quot;b4fdf239-cfe2-5453-91c3-84c1b2…</td><td>&quot;t1&quot;</td><td>&quot;branch&quot;</td><td>&quot;physical&quot;</td><td>&quot;ba84d70a-80d7-590e-b112-f9c4b5…</td><td>null</td><td>false</td></tr><tr><td>&quot;+&quot;</td><td>&quot;786c096b-6bca-4f18-9d90-e80ab5…</td><td>2024-12-19 16:12:18.432982 UTC</td><td>null</td><td>1960-01-01 00:00:00 UTC</td><td>null</td><td>&quot;3edce6fc-e164-5b3e-9b0d-8a1c86…</td><td>&quot;t1&quot;</td><td>&quot;branch&quot;</td><td>&quot;physical&quot;</td><td>&quot;078656ed-79f8-53a1-a67a-bb8f53…</td><td>null</td><td>false</td></tr><tr><td>&quot;+&quot;</td><td>&quot;637b1f87-f81a-4331-99f1-a64ce9…</td><td>2024-12-19 16:12:18.432982 UTC</td><td>null</td><td>1960-01-01 00:00:00 UTC</td><td>null</td><td>&quot;c173d7f3-f7ca-5f44-98d8-63c1aa…</td><td>&quot;t1&quot;</td><td>&quot;branch&quot;</td><td>&quot;physical&quot;</td><td>&quot;af72457f-f983-5eeb-a635-0609f4…</td><td>null</td><td>false</td></tr><tr><td>&quot;+&quot;</td><td>&quot;90b078c2-1e40-4c28-99b6-d91bea…</td><td>2024-12-19 16:12:18.432982 UTC</td><td>null</td><td>1960-01-01 00:00:00 UTC</td><td>null</td><td>&quot;c33afba9-0379-5d6a-9ca1-743cf7…</td><td>&quot;t1&quot;</td><td>&quot;branch&quot;</td><td>&quot;physical&quot;</td><td>&quot;dbd2411e-1e87-5956-86d9-d69ee7…</td><td>null</td><td>false</td></tr><tr><td>&quot;+&quot;</td><td>&quot;3677b7da-1773-4d3e-a914-5aea17…</td><td>2024-12-19 16:12:18.432982 UTC</td><td>null</td><td>1960-01-01 00:00:00 UTC</td><td>null</td><td>&quot;020bd95c-9320-5560-9627-4bbe19…</td><td>&quot;t1&quot;</td><td>&quot;branch&quot;</td><td>&quot;physical&quot;</td><td>&quot;2db84a3d-aa74-5b4f-866a-331318…</td><td>null</td><td>false</td></tr><tr><td>&hellip;</td><td>&hellip;</td><td>&hellip;</td><td>&hellip;</td><td>&hellip;</td><td>&hellip;</td><td>&hellip;</td><td>&hellip;</td><td>&hellip;</td><td>&hellip;</td><td>&hellip;</td><td>&hellip;</td><td>&hellip;</td></tr><tr><td>&quot;+&quot;</td><td>&quot;4ce0c4f0-9fa7-4c61-bb03-1ee738…</td><td>2024-12-19 16:12:18.432982 UTC</td><td>null</td><td>1960-01-01 00:00:00 UTC</td><td>null</td><td>&quot;d9975d35-54c3-5993-b044-835e1b…</td><td>&quot;t2&quot;</td><td>&quot;branch&quot;</td><td>&quot;physical&quot;</td><td>&quot;d2deff68-20a8-5d92-b689-a57381…</td><td>null</td><td>false</td></tr><tr><td>&quot;+&quot;</td><td>&quot;2e59914b-f015-4035-9f29-6ebe91…</td><td>2024-12-19 16:12:18.432982 UTC</td><td>null</td><td>1960-01-01 00:00:00 UTC</td><td>null</td><td>&quot;e46fa9df-d633-5149-96b4-c9cccc…</td><td>&quot;t2&quot;</td><td>&quot;branch&quot;</td><td>&quot;physical&quot;</td><td>&quot;d2deff68-20a8-5d92-b689-a57381…</td><td>null</td><td>false</td></tr><tr><td>&quot;+&quot;</td><td>&quot;5d67705f-2e75-4a00-a7c9-79df74…</td><td>2024-12-19 16:12:18.432982 UTC</td><td>null</td><td>1960-01-01 00:00:00 UTC</td><td>null</td><td>&quot;34edd04e-a827-5cf8-b233-43d285…</td><td>&quot;t2&quot;</td><td>&quot;branch&quot;</td><td>&quot;physical&quot;</td><td>&quot;23bc00b6-0e27-5e6d-a02e-dda5e9…</td><td>null</td><td>false</td></tr><tr><td>&quot;+&quot;</td><td>&quot;2cc55f26-80fb-4251-bdde-76a88b…</td><td>2024-12-19 16:12:18.432982 UTC</td><td>null</td><td>1960-01-01 00:00:00 UTC</td><td>null</td><td>&quot;9b34c19a-8b3e-54c6-9cd9-834bb5…</td><td>&quot;t2&quot;</td><td>&quot;branch&quot;</td><td>&quot;physical&quot;</td><td>&quot;23bc00b6-0e27-5e6d-a02e-dda5e9…</td><td>null</td><td>false</td></tr><tr><td>&quot;+&quot;</td><td>&quot;77c164b0-b511-43a4-a46c-a511b8…</td><td>2024-12-19 16:12:18.432982 UTC</td><td>null</td><td>1960-01-01 00:00:00 UTC</td><td>null</td><td>&quot;ec28307e-8860-52db-9611-713cad…</td><td>&quot;t2&quot;</td><td>&quot;branch&quot;</td><td>&quot;physical&quot;</td><td>&quot;b1d51456-8036-5737-accc-1103d2…</td><td>null</td><td>false</td></tr></tbody></table></div>"
      ],
      "text/plain": [
       "shape: (110, 13)\n",
       "┌──────┬────────────┬────────────┬────────────┬───┬────────────┬────────────┬───────────┬──────────┐\n",
       "│ diff ┆ uuid       ┆ start_hear ┆ end_heartb ┆ … ┆ abstractio ┆ cn_fk      ┆ container ┆ indirect │\n",
       "│ ---  ┆ ---        ┆ tbeat      ┆ eat        ┆   ┆ n_fk       ┆ ---        ┆ _fk       ┆ ---      │\n",
       "│ str  ┆ str        ┆ ---        ┆ ---        ┆   ┆ ---        ┆ str        ┆ ---       ┆ bool     │\n",
       "│      ┆            ┆ datetime[μ ┆ datetime[μ ┆   ┆ str        ┆            ┆ str       ┆          │\n",
       "│      ┆            ┆ s, UTC]    ┆ s, UTC]    ┆   ┆            ┆            ┆           ┆          │\n",
       "╞══════╪════════════╪════════════╪════════════╪═══╪════════════╪════════════╪═══════════╪══════════╡\n",
       "│ +    ┆ b0a75605-9 ┆ 2024-12-19 ┆ null       ┆ … ┆ physical   ┆ ba84d70a-8 ┆ null      ┆ false    │\n",
       "│      ┆ 867-48dc-a ┆ 16:12:18.4 ┆            ┆   ┆            ┆ 0d7-590e-b ┆           ┆          │\n",
       "│      ┆ e18-75b163 ┆ 32982 UTC  ┆            ┆   ┆            ┆ 112-f9c4b5 ┆           ┆          │\n",
       "│      ┆ …          ┆            ┆            ┆   ┆            ┆ …          ┆           ┆          │\n",
       "│ +    ┆ 786c096b-6 ┆ 2024-12-19 ┆ null       ┆ … ┆ physical   ┆ 078656ed-7 ┆ null      ┆ false    │\n",
       "│      ┆ bca-4f18-9 ┆ 16:12:18.4 ┆            ┆   ┆            ┆ 9f8-53a1-a ┆           ┆          │\n",
       "│      ┆ d90-e80ab5 ┆ 32982 UTC  ┆            ┆   ┆            ┆ 67a-bb8f53 ┆           ┆          │\n",
       "│      ┆ …          ┆            ┆            ┆   ┆            ┆ …          ┆           ┆          │\n",
       "│ +    ┆ 637b1f87-f ┆ 2024-12-19 ┆ null       ┆ … ┆ physical   ┆ af72457f-f ┆ null      ┆ false    │\n",
       "│      ┆ 81a-4331-9 ┆ 16:12:18.4 ┆            ┆   ┆            ┆ 983-5eeb-a ┆           ┆          │\n",
       "│      ┆ 9f1-a64ce9 ┆ 32982 UTC  ┆            ┆   ┆            ┆ 635-0609f4 ┆           ┆          │\n",
       "│      ┆ …          ┆            ┆            ┆   ┆            ┆ …          ┆           ┆          │\n",
       "│ +    ┆ 90b078c2-1 ┆ 2024-12-19 ┆ null       ┆ … ┆ physical   ┆ dbd2411e-1 ┆ null      ┆ false    │\n",
       "│      ┆ e40-4c28-9 ┆ 16:12:18.4 ┆            ┆   ┆            ┆ e87-5956-8 ┆           ┆          │\n",
       "│      ┆ 9b6-d91bea ┆ 32982 UTC  ┆            ┆   ┆            ┆ 6d9-d69ee7 ┆           ┆          │\n",
       "│      ┆ …          ┆            ┆            ┆   ┆            ┆ …          ┆           ┆          │\n",
       "│ +    ┆ 3677b7da-1 ┆ 2024-12-19 ┆ null       ┆ … ┆ physical   ┆ 2db84a3d-a ┆ null      ┆ false    │\n",
       "│      ┆ 773-4d3e-a ┆ 16:12:18.4 ┆            ┆   ┆            ┆ a74-5b4f-8 ┆           ┆          │\n",
       "│      ┆ 914-5aea17 ┆ 32982 UTC  ┆            ┆   ┆            ┆ 66a-331318 ┆           ┆          │\n",
       "│      ┆ …          ┆            ┆            ┆   ┆            ┆ …          ┆           ┆          │\n",
       "│ …    ┆ …          ┆ …          ┆ …          ┆ … ┆ …          ┆ …          ┆ …         ┆ …        │\n",
       "│ +    ┆ 4ce0c4f0-9 ┆ 2024-12-19 ┆ null       ┆ … ┆ physical   ┆ d2deff68-2 ┆ null      ┆ false    │\n",
       "│      ┆ fa7-4c61-b ┆ 16:12:18.4 ┆            ┆   ┆            ┆ 0a8-5d92-b ┆           ┆          │\n",
       "│      ┆ b03-1ee738 ┆ 32982 UTC  ┆            ┆   ┆            ┆ 689-a57381 ┆           ┆          │\n",
       "│      ┆ …          ┆            ┆            ┆   ┆            ┆ …          ┆           ┆          │\n",
       "│ +    ┆ 2e59914b-f ┆ 2024-12-19 ┆ null       ┆ … ┆ physical   ┆ d2deff68-2 ┆ null      ┆ false    │\n",
       "│      ┆ 015-4035-9 ┆ 16:12:18.4 ┆            ┆   ┆            ┆ 0a8-5d92-b ┆           ┆          │\n",
       "│      ┆ f29-6ebe91 ┆ 32982 UTC  ┆            ┆   ┆            ┆ 689-a57381 ┆           ┆          │\n",
       "│      ┆ …          ┆            ┆            ┆   ┆            ┆ …          ┆           ┆          │\n",
       "│ +    ┆ 5d67705f-2 ┆ 2024-12-19 ┆ null       ┆ … ┆ physical   ┆ 23bc00b6-0 ┆ null      ┆ false    │\n",
       "│      ┆ e75-4a00-a ┆ 16:12:18.4 ┆            ┆   ┆            ┆ e27-5e6d-a ┆           ┆          │\n",
       "│      ┆ 7c9-79df74 ┆ 32982 UTC  ┆            ┆   ┆            ┆ 02e-dda5e9 ┆           ┆          │\n",
       "│      ┆ …          ┆            ┆            ┆   ┆            ┆ …          ┆           ┆          │\n",
       "│ +    ┆ 2cc55f26-8 ┆ 2024-12-19 ┆ null       ┆ … ┆ physical   ┆ 23bc00b6-0 ┆ null      ┆ false    │\n",
       "│      ┆ 0fb-4251-b ┆ 16:12:18.4 ┆            ┆   ┆            ┆ e27-5e6d-a ┆           ┆          │\n",
       "│      ┆ dde-76a88b ┆ 32982 UTC  ┆            ┆   ┆            ┆ 02e-dda5e9 ┆           ┆          │\n",
       "│      ┆ …          ┆            ┆            ┆   ┆            ┆ …          ┆           ┆          │\n",
       "│ +    ┆ 77c164b0-b ┆ 2024-12-19 ┆ null       ┆ … ┆ physical   ┆ b1d51456-8 ┆ null      ┆ false    │\n",
       "│      ┆ 511-43a4-a ┆ 16:12:18.4 ┆            ┆   ┆            ┆ 036-5737-a ┆           ┆          │\n",
       "│      ┆ 46c-a511b8 ┆ 32982 UTC  ┆            ┆   ┆            ┆ ccc-1103d2 ┆           ┆          │\n",
       "│      ┆ …          ┆            ┆            ┆   ┆            ┆ …          ┆           ┆          │\n",
       "└──────┴────────────┴────────────┴────────────┴───┴────────────┴────────────┴───────────┴──────────┘"
      ]
     },
     "execution_count": 106,
     "metadata": {},
     "output_type": "execute_result"
    }
   ],
   "source": [
    "# branch :pl.DataFrame =\n",
    "from polars import Null\n",
    "\n",
    "\n",
    "default_install_date: datetime = datetime(*settings.DEFAULT_INSTALL_DATE, tzinfo=UTC)\n",
    "heartbeat = datetime.now(UTC)\n",
    "changes_schema = ChangesSchema()\n",
    "\n",
    "\n",
    "# Current and other line parameter in pu\n",
    "\n",
    "# Filter to take only branch, connection_type == 2\n",
    "branch = linedata_distflow.filter(c(\"connection_type\") == 2).select(\n",
    "    c(\"line_number\").alias(\"dso_code\"),\n",
    "    c(\"i_pu\").alias(\"current_limit\"),\n",
    "    c(\"r_pu\"),\n",
    "    c(\"x_pu\"),\n",
    "    c(\"b_pu\"),\n",
    "    pl.lit(base_length).alias(\"length\"),  # km\n",
    "    pl.lit(BRANCH).alias(\"concrete_class\"),\n",
    "    pl.lit(default_install_date).alias(\"start\"),\n",
    "    pl.lit(heartbeat).alias(\"start_heartbeat\"),\n",
    "    c(\"line_number\").pipe(generate_uuid_col, added_string=BRANCH).alias(\"uuid\"),\n",
    "    # Generate uuid for each terminal of branch with node uuid\n",
    "    c(\"node_from\").replace_strict(connectivity_node, default=None).alias(\"t1\"),\n",
    "    c(\"node_to\").replace_strict(connectivity_node, default=None).alias(\"t2\"),\n",
    "    # Need column name for validation of the schema\n",
    "    pl.lit(None).alias(\"t1_container_fk\"),\n",
    "    pl.lit(None).alias(\"t2_container_fk\"),\n",
    ")\n",
    "new_tables_pl: dict[str, pl.DataFrame] = {\n",
    "    \"Resource\": branch,\n",
    "    \"Equipment\": branch,\n",
    "    \"Branch\": branch,\n",
    "}\n",
    "changes_schema = add_table_to_changes_schema(\n",
    "    schema=changes_schema, new_tables_pl=new_tables_pl, raw_table_name=\"branch\"\n",
    ")\n",
    "changes_schema = generate_connectivity_table(\n",
    "    changes_schema=changes_schema, eq_table=branch, raw_data_table=\"branch\"\n",
    ")\n",
    "changes_schema.connectivity"
   ]
  },
  {
   "cell_type": "markdown",
   "metadata": {},
   "source": [
    "## Switch"
   ]
  },
  {
   "cell_type": "code",
   "execution_count": 107,
   "metadata": {},
   "outputs": [],
   "source": [
    "# Filter to take only switch, connection_type == 3\n",
    "switch = linedata_distflow.filter(c(\"connection_type\") == 3).select(\n",
    "    c(\"line_number\").alias(\"dso_code\"),\n",
    "    pl.lit(SWITCH).alias(\"concrete_class\"),\n",
    "    pl.lit(default_install_date).alias(\"start\"),\n",
    "    pl.lit(heartbeat).alias(\"start_heartbeat\"),\n",
    "    pl.lit(switch_state).alias(\"normal_open\"),\n",
    "    pl.lit(switch_type).alias(\"type\"),\n",
    "    pl.lit(switch_command).alias(\"command\"),\n",
    "    # Generate uuid for each terminal of branch with node uuid\n",
    "    c(\"node_from\").replace_strict(connectivity_node, default=None).alias(\"t1\"),\n",
    "    c(\"node_to\").replace_strict(connectivity_node, default=None).alias(\"t2\"),\n",
    "    # Need column name for validation of the schema\n",
    "    pl.lit(None).alias(\"t1_container_fk\"),\n",
    "    pl.lit(None).alias(\"t2_container_fk\"),\n",
    "    c(\"line_number\").pipe(generate_uuid_col, added_string=SWITCH).alias(\"uuid\"),\n",
    ")\n",
    "new_tables_pl: dict[str, pl.DataFrame] = {\n",
    "    \"Resource\": switch,\n",
    "    \"Equipment\": switch,\n",
    "    \"Switch\": switch,\n",
    "}\n",
    "changes_schema = add_table_to_changes_schema(\n",
    "    schema=changes_schema, new_tables_pl=new_tables_pl, raw_table_name=\"switch\"\n",
    ")\n",
    "changes_schema = generate_connectivity_table(\n",
    "    changes_schema=changes_schema, eq_table=switch, raw_data_table=\"switch\"\n",
    ")"
   ]
  },
  {
   "cell_type": "code",
   "execution_count": 108,
   "metadata": {},
   "outputs": [
    {
     "data": {
      "text/html": [
       "<div><style>\n",
       ".dataframe > thead > tr,\n",
       ".dataframe > tbody > tr {\n",
       "  text-align: right;\n",
       "  white-space: pre-wrap;\n",
       "}\n",
       "</style>\n",
       "<small>shape: (114, 13)</small><table border=\"1\" class=\"dataframe\"><thead><tr><th>diff</th><th>uuid</th><th>start_heartbeat</th><th>end_heartbeat</th><th>start</th><th>end</th><th>eq_fk</th><th>side</th><th>eq_class</th><th>abstraction_fk</th><th>cn_fk</th><th>container_fk</th><th>indirect</th></tr><tr><td>str</td><td>str</td><td>datetime[μs, UTC]</td><td>datetime[μs, UTC]</td><td>datetime[μs, UTC]</td><td>datetime[μs, UTC]</td><td>str</td><td>str</td><td>str</td><td>str</td><td>str</td><td>str</td><td>bool</td></tr></thead><tbody><tr><td>&quot;+&quot;</td><td>&quot;b0a75605-9867-48dc-ae18-75b163…</td><td>2024-12-19 16:12:18.432982 UTC</td><td>null</td><td>1960-01-01 00:00:00 UTC</td><td>null</td><td>&quot;b4fdf239-cfe2-5453-91c3-84c1b2…</td><td>&quot;t1&quot;</td><td>&quot;branch&quot;</td><td>&quot;physical&quot;</td><td>&quot;ba84d70a-80d7-590e-b112-f9c4b5…</td><td>null</td><td>false</td></tr><tr><td>&quot;+&quot;</td><td>&quot;786c096b-6bca-4f18-9d90-e80ab5…</td><td>2024-12-19 16:12:18.432982 UTC</td><td>null</td><td>1960-01-01 00:00:00 UTC</td><td>null</td><td>&quot;3edce6fc-e164-5b3e-9b0d-8a1c86…</td><td>&quot;t1&quot;</td><td>&quot;branch&quot;</td><td>&quot;physical&quot;</td><td>&quot;078656ed-79f8-53a1-a67a-bb8f53…</td><td>null</td><td>false</td></tr><tr><td>&quot;+&quot;</td><td>&quot;637b1f87-f81a-4331-99f1-a64ce9…</td><td>2024-12-19 16:12:18.432982 UTC</td><td>null</td><td>1960-01-01 00:00:00 UTC</td><td>null</td><td>&quot;c173d7f3-f7ca-5f44-98d8-63c1aa…</td><td>&quot;t1&quot;</td><td>&quot;branch&quot;</td><td>&quot;physical&quot;</td><td>&quot;af72457f-f983-5eeb-a635-0609f4…</td><td>null</td><td>false</td></tr><tr><td>&quot;+&quot;</td><td>&quot;90b078c2-1e40-4c28-99b6-d91bea…</td><td>2024-12-19 16:12:18.432982 UTC</td><td>null</td><td>1960-01-01 00:00:00 UTC</td><td>null</td><td>&quot;c33afba9-0379-5d6a-9ca1-743cf7…</td><td>&quot;t1&quot;</td><td>&quot;branch&quot;</td><td>&quot;physical&quot;</td><td>&quot;dbd2411e-1e87-5956-86d9-d69ee7…</td><td>null</td><td>false</td></tr><tr><td>&quot;+&quot;</td><td>&quot;3677b7da-1773-4d3e-a914-5aea17…</td><td>2024-12-19 16:12:18.432982 UTC</td><td>null</td><td>1960-01-01 00:00:00 UTC</td><td>null</td><td>&quot;020bd95c-9320-5560-9627-4bbe19…</td><td>&quot;t1&quot;</td><td>&quot;branch&quot;</td><td>&quot;physical&quot;</td><td>&quot;2db84a3d-aa74-5b4f-866a-331318…</td><td>null</td><td>false</td></tr><tr><td>&hellip;</td><td>&hellip;</td><td>&hellip;</td><td>&hellip;</td><td>&hellip;</td><td>&hellip;</td><td>&hellip;</td><td>&hellip;</td><td>&hellip;</td><td>&hellip;</td><td>&hellip;</td><td>&hellip;</td><td>&hellip;</td></tr><tr><td>&quot;+&quot;</td><td>&quot;77c164b0-b511-43a4-a46c-a511b8…</td><td>2024-12-19 16:12:18.432982 UTC</td><td>null</td><td>1960-01-01 00:00:00 UTC</td><td>null</td><td>&quot;ec28307e-8860-52db-9611-713cad…</td><td>&quot;t2&quot;</td><td>&quot;branch&quot;</td><td>&quot;physical&quot;</td><td>&quot;b1d51456-8036-5737-accc-1103d2…</td><td>null</td><td>false</td></tr><tr><td>&quot;+&quot;</td><td>&quot;bcd36b3e-9d9b-4948-af9c-a69fe7…</td><td>2024-12-19 16:12:18.432982 UTC</td><td>null</td><td>1960-01-01 00:00:00 UTC</td><td>null</td><td>&quot;c8a03e72-a228-5007-ad70-3cc3ab…</td><td>&quot;t1&quot;</td><td>&quot;switch&quot;</td><td>&quot;physical&quot;</td><td>&quot;c2247320-9fc2-538a-ba64-3ac70e…</td><td>null</td><td>false</td></tr><tr><td>&quot;+&quot;</td><td>&quot;9defcd12-c686-47eb-86c2-7523d3…</td><td>2024-12-19 16:12:18.432982 UTC</td><td>null</td><td>1960-01-01 00:00:00 UTC</td><td>null</td><td>&quot;4f44a759-906d-568d-95b7-a57f77…</td><td>&quot;t1&quot;</td><td>&quot;switch&quot;</td><td>&quot;physical&quot;</td><td>&quot;8a7f105e-71f3-5101-8b4f-1a9007…</td><td>null</td><td>false</td></tr><tr><td>&quot;+&quot;</td><td>&quot;7a6a919c-4747-4266-b912-2b58d1…</td><td>2024-12-19 16:12:18.432982 UTC</td><td>null</td><td>1960-01-01 00:00:00 UTC</td><td>null</td><td>&quot;c8a03e72-a228-5007-ad70-3cc3ab…</td><td>&quot;t2&quot;</td><td>&quot;switch&quot;</td><td>&quot;physical&quot;</td><td>&quot;df941fce-ceda-5874-ab63-5c8af9…</td><td>null</td><td>false</td></tr><tr><td>&quot;+&quot;</td><td>&quot;8e05818e-e679-4b41-ba20-86dd50…</td><td>2024-12-19 16:12:18.432982 UTC</td><td>null</td><td>1960-01-01 00:00:00 UTC</td><td>null</td><td>&quot;4f44a759-906d-568d-95b7-a57f77…</td><td>&quot;t2&quot;</td><td>&quot;switch&quot;</td><td>&quot;physical&quot;</td><td>&quot;c2247320-9fc2-538a-ba64-3ac70e…</td><td>null</td><td>false</td></tr></tbody></table></div>"
      ],
      "text/plain": [
       "shape: (114, 13)\n",
       "┌──────┬────────────┬────────────┬────────────┬───┬────────────┬────────────┬───────────┬──────────┐\n",
       "│ diff ┆ uuid       ┆ start_hear ┆ end_heartb ┆ … ┆ abstractio ┆ cn_fk      ┆ container ┆ indirect │\n",
       "│ ---  ┆ ---        ┆ tbeat      ┆ eat        ┆   ┆ n_fk       ┆ ---        ┆ _fk       ┆ ---      │\n",
       "│ str  ┆ str        ┆ ---        ┆ ---        ┆   ┆ ---        ┆ str        ┆ ---       ┆ bool     │\n",
       "│      ┆            ┆ datetime[μ ┆ datetime[μ ┆   ┆ str        ┆            ┆ str       ┆          │\n",
       "│      ┆            ┆ s, UTC]    ┆ s, UTC]    ┆   ┆            ┆            ┆           ┆          │\n",
       "╞══════╪════════════╪════════════╪════════════╪═══╪════════════╪════════════╪═══════════╪══════════╡\n",
       "│ +    ┆ b0a75605-9 ┆ 2024-12-19 ┆ null       ┆ … ┆ physical   ┆ ba84d70a-8 ┆ null      ┆ false    │\n",
       "│      ┆ 867-48dc-a ┆ 16:12:18.4 ┆            ┆   ┆            ┆ 0d7-590e-b ┆           ┆          │\n",
       "│      ┆ e18-75b163 ┆ 32982 UTC  ┆            ┆   ┆            ┆ 112-f9c4b5 ┆           ┆          │\n",
       "│      ┆ …          ┆            ┆            ┆   ┆            ┆ …          ┆           ┆          │\n",
       "│ +    ┆ 786c096b-6 ┆ 2024-12-19 ┆ null       ┆ … ┆ physical   ┆ 078656ed-7 ┆ null      ┆ false    │\n",
       "│      ┆ bca-4f18-9 ┆ 16:12:18.4 ┆            ┆   ┆            ┆ 9f8-53a1-a ┆           ┆          │\n",
       "│      ┆ d90-e80ab5 ┆ 32982 UTC  ┆            ┆   ┆            ┆ 67a-bb8f53 ┆           ┆          │\n",
       "│      ┆ …          ┆            ┆            ┆   ┆            ┆ …          ┆           ┆          │\n",
       "│ +    ┆ 637b1f87-f ┆ 2024-12-19 ┆ null       ┆ … ┆ physical   ┆ af72457f-f ┆ null      ┆ false    │\n",
       "│      ┆ 81a-4331-9 ┆ 16:12:18.4 ┆            ┆   ┆            ┆ 983-5eeb-a ┆           ┆          │\n",
       "│      ┆ 9f1-a64ce9 ┆ 32982 UTC  ┆            ┆   ┆            ┆ 635-0609f4 ┆           ┆          │\n",
       "│      ┆ …          ┆            ┆            ┆   ┆            ┆ …          ┆           ┆          │\n",
       "│ +    ┆ 90b078c2-1 ┆ 2024-12-19 ┆ null       ┆ … ┆ physical   ┆ dbd2411e-1 ┆ null      ┆ false    │\n",
       "│      ┆ e40-4c28-9 ┆ 16:12:18.4 ┆            ┆   ┆            ┆ e87-5956-8 ┆           ┆          │\n",
       "│      ┆ 9b6-d91bea ┆ 32982 UTC  ┆            ┆   ┆            ┆ 6d9-d69ee7 ┆           ┆          │\n",
       "│      ┆ …          ┆            ┆            ┆   ┆            ┆ …          ┆           ┆          │\n",
       "│ +    ┆ 3677b7da-1 ┆ 2024-12-19 ┆ null       ┆ … ┆ physical   ┆ 2db84a3d-a ┆ null      ┆ false    │\n",
       "│      ┆ 773-4d3e-a ┆ 16:12:18.4 ┆            ┆   ┆            ┆ a74-5b4f-8 ┆           ┆          │\n",
       "│      ┆ 914-5aea17 ┆ 32982 UTC  ┆            ┆   ┆            ┆ 66a-331318 ┆           ┆          │\n",
       "│      ┆ …          ┆            ┆            ┆   ┆            ┆ …          ┆           ┆          │\n",
       "│ …    ┆ …          ┆ …          ┆ …          ┆ … ┆ …          ┆ …          ┆ …         ┆ …        │\n",
       "│ +    ┆ 77c164b0-b ┆ 2024-12-19 ┆ null       ┆ … ┆ physical   ┆ b1d51456-8 ┆ null      ┆ false    │\n",
       "│      ┆ 511-43a4-a ┆ 16:12:18.4 ┆            ┆   ┆            ┆ 036-5737-a ┆           ┆          │\n",
       "│      ┆ 46c-a511b8 ┆ 32982 UTC  ┆            ┆   ┆            ┆ ccc-1103d2 ┆           ┆          │\n",
       "│      ┆ …          ┆            ┆            ┆   ┆            ┆ …          ┆           ┆          │\n",
       "│ +    ┆ bcd36b3e-9 ┆ 2024-12-19 ┆ null       ┆ … ┆ physical   ┆ c2247320-9 ┆ null      ┆ false    │\n",
       "│      ┆ d9b-4948-a ┆ 16:12:18.4 ┆            ┆   ┆            ┆ fc2-538a-b ┆           ┆          │\n",
       "│      ┆ f9c-a69fe7 ┆ 32982 UTC  ┆            ┆   ┆            ┆ a64-3ac70e ┆           ┆          │\n",
       "│      ┆ …          ┆            ┆            ┆   ┆            ┆ …          ┆           ┆          │\n",
       "│ +    ┆ 9defcd12-c ┆ 2024-12-19 ┆ null       ┆ … ┆ physical   ┆ 8a7f105e-7 ┆ null      ┆ false    │\n",
       "│      ┆ 686-47eb-8 ┆ 16:12:18.4 ┆            ┆   ┆            ┆ 1f3-5101-8 ┆           ┆          │\n",
       "│      ┆ 6c2-7523d3 ┆ 32982 UTC  ┆            ┆   ┆            ┆ b4f-1a9007 ┆           ┆          │\n",
       "│      ┆ …          ┆            ┆            ┆   ┆            ┆ …          ┆           ┆          │\n",
       "│ +    ┆ 7a6a919c-4 ┆ 2024-12-19 ┆ null       ┆ … ┆ physical   ┆ df941fce-c ┆ null      ┆ false    │\n",
       "│      ┆ 747-4266-b ┆ 16:12:18.4 ┆            ┆   ┆            ┆ eda-5874-a ┆           ┆          │\n",
       "│      ┆ 912-2b58d1 ┆ 32982 UTC  ┆            ┆   ┆            ┆ b63-5c8af9 ┆           ┆          │\n",
       "│      ┆ …          ┆            ┆            ┆   ┆            ┆ …          ┆           ┆          │\n",
       "│ +    ┆ 8e05818e-e ┆ 2024-12-19 ┆ null       ┆ … ┆ physical   ┆ c2247320-9 ┆ null      ┆ false    │\n",
       "│      ┆ 679-4b41-b ┆ 16:12:18.4 ┆            ┆   ┆            ┆ fc2-538a-b ┆           ┆          │\n",
       "│      ┆ a20-86dd50 ┆ 32982 UTC  ┆            ┆   ┆            ┆ a64-3ac70e ┆           ┆          │\n",
       "│      ┆ …          ┆            ┆            ┆   ┆            ┆ …          ┆           ┆          │\n",
       "└──────┴────────────┴────────────┴────────────┴───┴────────────┴────────────┴───────────┴──────────┘"
      ]
     },
     "execution_count": 108,
     "metadata": {},
     "output_type": "execute_result"
    }
   ],
   "source": [
    "changes_schema.connectivity"
   ]
  },
  {
   "cell_type": "code",
   "execution_count": 109,
   "metadata": {},
   "outputs": [
    {
     "data": {
      "text/plain": [
       "'2020-03-27 23:00:00+00:00'"
      ]
     },
     "execution_count": 109,
     "metadata": {},
     "output_type": "execute_result"
    }
   ],
   "source": [
    "# Begin time of the data from matlab (from main_FC.ipynb before)\n",
    "str(datetime(2020, 4, 4, 23, 00, 0, 0, UTC) - dt.timedelta(hours=192))"
   ]
  },
  {
   "cell_type": "markdown",
   "metadata": {},
   "source": [
    "## Parser"
   ]
  },
  {
   "cell_type": "code",
   "execution_count": 110,
   "metadata": {},
   "outputs": [
    {
     "data": {
      "text/html": [
       "<div><style>\n",
       ".dataframe > thead > tr,\n",
       ".dataframe > tbody > tr {\n",
       "  text-align: right;\n",
       "  white-space: pre-wrap;\n",
       "}\n",
       "</style>\n",
       "<small>shape: (58, 7)</small><table border=\"1\" class=\"dataframe\"><thead><tr><th>node_number</th><th>index_branch_1</th><th>index_branch_2</th><th>index_branch_3</th><th>Vnom</th><th>Pload</th><th>Qload</th></tr><tr><td>i64</td><td>i64</td><td>i64</td><td>i64</td><td>i64</td><td>f64</td><td>f64</td></tr></thead><tbody><tr><td>0</td><td>1</td><td>2</td><td>3</td><td>400</td><td>null</td><td>null</td></tr><tr><td>1</td><td>4</td><td>5</td><td>null</td><td>400</td><td>0.0</td><td>0.0</td></tr><tr><td>2</td><td>6</td><td>7</td><td>8</td><td>400</td><td>0.0</td><td>0.0</td></tr><tr><td>3</td><td>9</td><td>null</td><td>null</td><td>400</td><td>0.0</td><td>0.0</td></tr><tr><td>4</td><td>null</td><td>null</td><td>null</td><td>400</td><td>0.0</td><td>0.0</td></tr><tr><td>&hellip;</td><td>&hellip;</td><td>&hellip;</td><td>&hellip;</td><td>&hellip;</td><td>&hellip;</td><td>&hellip;</td></tr><tr><td>53</td><td>null</td><td>null</td><td>null</td><td>400</td><td>0.0</td><td>0.0</td></tr><tr><td>54</td><td>55</td><td>56</td><td>null</td><td>400</td><td>0.000035</td><td>-0.000012</td></tr><tr><td>55</td><td>57</td><td>null</td><td>null</td><td>400</td><td>0.0</td><td>0.0</td></tr><tr><td>56</td><td>null</td><td>null</td><td>null</td><td>400</td><td>0.0</td><td>0.0</td></tr><tr><td>57</td><td>null</td><td>null</td><td>null</td><td>400</td><td>0.00004</td><td>-0.000013</td></tr></tbody></table></div>"
      ],
      "text/plain": [
       "shape: (58, 7)\n",
       "┌─────────────┬────────────────┬────────────────┬────────────────┬──────┬──────────┬───────────┐\n",
       "│ node_number ┆ index_branch_1 ┆ index_branch_2 ┆ index_branch_3 ┆ Vnom ┆ Pload    ┆ Qload     │\n",
       "│ ---         ┆ ---            ┆ ---            ┆ ---            ┆ ---  ┆ ---      ┆ ---       │\n",
       "│ i64         ┆ i64            ┆ i64            ┆ i64            ┆ i64  ┆ f64      ┆ f64       │\n",
       "╞═════════════╪════════════════╪════════════════╪════════════════╪══════╪══════════╪═══════════╡\n",
       "│ 0           ┆ 1              ┆ 2              ┆ 3              ┆ 400  ┆ null     ┆ null      │\n",
       "│ 1           ┆ 4              ┆ 5              ┆ null           ┆ 400  ┆ 0.0      ┆ 0.0       │\n",
       "│ 2           ┆ 6              ┆ 7              ┆ 8              ┆ 400  ┆ 0.0      ┆ 0.0       │\n",
       "│ 3           ┆ 9              ┆ null           ┆ null           ┆ 400  ┆ 0.0      ┆ 0.0       │\n",
       "│ 4           ┆ null           ┆ null           ┆ null           ┆ 400  ┆ 0.0      ┆ 0.0       │\n",
       "│ …           ┆ …              ┆ …              ┆ …              ┆ …    ┆ …        ┆ …         │\n",
       "│ 53          ┆ null           ┆ null           ┆ null           ┆ 400  ┆ 0.0      ┆ 0.0       │\n",
       "│ 54          ┆ 55             ┆ 56             ┆ null           ┆ 400  ┆ 0.000035 ┆ -0.000012 │\n",
       "│ 55          ┆ 57             ┆ null           ┆ null           ┆ 400  ┆ 0.0      ┆ 0.0       │\n",
       "│ 56          ┆ null           ┆ null           ┆ null           ┆ 400  ┆ 0.0      ┆ 0.0       │\n",
       "│ 57          ┆ null           ┆ null           ┆ null           ┆ 400  ┆ 0.00004  ┆ -0.000013 │\n",
       "└─────────────┴────────────────┴────────────────┴────────────────┴──────┴──────────┴───────────┘"
      ]
     },
     "execution_count": 110,
     "metadata": {},
     "output_type": "execute_result"
    }
   ],
   "source": [
    "# Parse connectivity node\n",
    "df_topology"
   ]
  },
  {
   "cell_type": "code",
   "execution_count": 111,
   "metadata": {},
   "outputs": [],
   "source": [
    "def parse_connectivity_node(\n",
    "    topology_df: pl.DataFrame, changes_schema: ChangesSchema, **kwargs\n",
    ") -> ChangesSchema:\n",
    "\n",
    "    cn_voltage_mapping: dict[str, float] = pl_to_dict(\n",
    "        topology_df.filter(c(\"KEYWORD\") != \"TR2\")\n",
    "        .unpivot(\n",
    "            index=[\"UN\"], on=[\"t1\", \"t2\"], value_name=\"cn_fk\", variable_name=\"side\"\n",
    "        )\n",
    "        .drop_nulls(\"cn_fk\")\n",
    "        .group_by(\"cn_fk\")\n",
    "        .agg(c(\"UN\").drop_nulls().first())\n",
    "        .drop_nulls(\"UN\")[[\"cn_fk\", \"UN\"]]\n",
    "    )\n",
    "    node = topology_df.filter(c(\"KEYWORD\") == \"NODE\").with_columns(\n",
    "        (1e3 * c(\"uuid\").replace_strict(cn_voltage_mapping, default=c(\"UN\")))\n",
    "        .cast(pl.Int32)\n",
    "        .alias(\"base_voltage_fk\"),  # kV to V\n",
    "    )\n",
    "\n",
    "    changes_schema = add_table_to_changes_schema(\n",
    "        schema=changes_schema,\n",
    "        new_tables_pl={\"ConnectivityNode\": node},\n",
    "        raw_table_name=\"ConnectivityNode\",\n",
    "    )\n",
    "    return changes_schema"
   ]
  },
  {
   "cell_type": "markdown",
   "metadata": {},
   "source": [
    "## Import data to changes schema"
   ]
  },
  {
   "cell_type": "markdown",
   "metadata": {},
   "source": [
    "### Read grid topology\n",
    "Put all parts of the network topology (node and equipment) from csv file and put them in dictionary (with equipment names as keys)."
   ]
  },
  {
   "cell_type": "code",
   "execution_count": 112,
   "metadata": {},
   "outputs": [
    {
     "ename": "NameError",
     "evalue": "name 'topology' is not defined",
     "output_type": "error",
     "traceback": [
      "\u001b[0;31m---------------------------------------------------------------------------\u001b[0m",
      "\u001b[0;31mNameError\u001b[0m                                 Traceback (most recent call last)",
      "Cell \u001b[0;32mIn[112], line 3\u001b[0m\n\u001b[1;32m      1\u001b[0m \u001b[38;5;66;03m# topology : pl.DataFrame = readgridtopology\u001b[39;00m\n\u001b[1;32m      2\u001b[0m heartbeat \u001b[38;5;241m=\u001b[39m datetime\u001b[38;5;241m.\u001b[39mnow(UTC)\n\u001b[0;32m----> 3\u001b[0m \u001b[43mtopology\u001b[49m\n",
      "\u001b[0;31mNameError\u001b[0m: name 'topology' is not defined"
     ]
    }
   ],
   "source": [
    "# topology : pl.DataFrame = readgridtopology\n",
    "heartbeat = datetime.now(UTC)\n",
    "topology"
   ]
  },
  {
   "cell_type": "code",
   "execution_count": null,
   "metadata": {},
   "outputs": [
    {
     "name": "stdout",
     "output_type": "stream",
     "text": [
      "shape: (8, 6)\n",
      "┌────────────┬──────────┬─────┬─────┬────────┬─────┐\n",
      "│ downstream ┆ upstream ┆ P   ┆ F   ┆ p_line ┆ lv  │\n",
      "│ ---        ┆ ---      ┆ --- ┆ --- ┆ ---    ┆ --- │\n",
      "│ i64        ┆ i64      ┆ i64 ┆ f64 ┆ f64    ┆ i64 │\n",
      "╞════════════╪══════════╪═════╪═════╪════════╪═════╡\n",
      "│ 3          ┆ 2        ┆ 2   ┆ 0.1 ┆ 2.2    ┆ 0   │\n",
      "│ 5          ┆ 4        ┆ 4   ┆ 0.1 ┆ 4.4    ┆ 0   │\n",
      "│ 7          ┆ 4        ┆ 6   ┆ 0.1 ┆ 6.6    ┆ 0   │\n",
      "│ 8          ┆ 6        ┆ 5   ┆ 0.1 ┆ 5.5    ┆ 0   │\n",
      "│ 2          ┆ 1        ┆ 1   ┆ 0.1 ┆ 3.52   ┆ 1   │\n",
      "│ 6          ┆ 4        ┆ 3   ┆ 0.1 ┆ 9.35   ┆ 1   │\n",
      "│ 4          ┆ 1        ┆ 1   ┆ 0.1 ┆ 23.485 ┆ 2   │\n",
      "│ 1          ┆ null     ┆ 0   ┆ 0.0 ┆ 27.005 ┆ 3   │\n",
      "└────────────┴──────────┴─────┴─────┴────────┴─────┘\n"
     ]
    }
   ],
   "source": [
    "def sum_downstream_power(col: pl.Expr, df: pl.DataFrame):\n",
    "    return col.map_elements(\n",
    "        lambda x: df.filter(c(\"upstream\") == x)[\"p_line\"].sum(), return_dtype=pl.Float64\n",
    "    )\n",
    "\n",
    "\n",
    "def calculate_line_power(df: pl.DataFrame):\n",
    "    return (c(\"downstream\").pipe(sum_downstream_power, df=df) + c(\"P\")) * (1 + c(\"F\"))\n",
    "\n",
    "\n",
    "def sum_power(df: pl.DataFrame, lv: int):\n",
    "\n",
    "    return df.with_columns(\n",
    "        pl.when(c(\"lv\") == lv)\n",
    "        .then(calculate_line_power(df=df))\n",
    "        .otherwise(c(\"p_line\"))\n",
    "        .alias(\"p_line\")\n",
    "    )\n",
    "\n",
    "\n",
    "# UP Use for each powerflow\n",
    "# Down Use only one time\n",
    "def get_node_level(G: nx.DiGraph) -> dict:\n",
    "    level_mapping: dict = {}\n",
    "    for node in reversed(list(nx.topological_sort(G))):\n",
    "        if not len(list(G.successors(node))):\n",
    "            level_mapping[node] = 0\n",
    "        else:\n",
    "            level_mapping[node] = max(level_mapping[n] for n in G.successors(node)) + 1\n",
    "    return level_mapping\n",
    "\n",
    "\n",
    "line_data: pl.DataFrame = pl.DataFrame(\n",
    "    {\n",
    "        \"downstream\": [1, 2, 3, 4, 5, 6, 7, 8],\n",
    "        \"upstream\": [None, 1, 2, 1, 4, 4, 4, 6],\n",
    "        \"P\": [0, 1, 2, 1, 4, 3, 6, 5],\n",
    "        \"F\": [0.0, 0.1, 0.1, 0.1, 0.1, 0.1, 0.1, 0.1],\n",
    "        \"p_line\": [0] * 8,\n",
    "    }\n",
    ")\n",
    "\n",
    "grid = nx.DiGraph()\n",
    "\n",
    "_ = line_data.drop_nulls(subset=\"upstream\").with_columns(\n",
    "    pl.struct(c(\"upstream\"), c(\"downstream\")).map_elements(\n",
    "        lambda x: grid.add_edge(x[\"upstream\"], x[\"downstream\"]), return_dtype=pl.Struct\n",
    "    )\n",
    ")\n",
    "level_mapping: dict = get_node_level(G=grid)\n",
    "line_data = line_data.with_columns(\n",
    "    c(\"downstream\").replace_strict(level_mapping, default=None).alias(\"lv\")\n",
    ")\n",
    "\n",
    "for i in range(line_data[\"lv\"].max() + 1):\n",
    "    line_data = sum_power(df=line_data, lv=i)\n",
    "\n",
    "print(line_data.sort(\"lv\"))"
   ]
  }
 ],
 "metadata": {
  "kernelspec": {
   "display_name": ".venv",
   "language": "python",
   "name": "python3"
  },
  "language_info": {
   "codemirror_mode": {
    "name": "ipython",
    "version": 3
   },
   "file_extension": ".py",
   "mimetype": "text/x-python",
   "name": "python",
   "nbconvert_exporter": "python",
   "pygments_lexer": "ipython3",
   "version": "3.12.7"
  }
 },
 "nbformat": 4,
 "nbformat_minor": 2
}
